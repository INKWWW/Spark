{
 "cells": [
  {
   "cell_type": "markdown",
   "metadata": {},
   "source": [
    "# spark sharing\n"
   ]
  },
  {
   "cell_type": "code",
   "execution_count": 1,
   "metadata": {},
   "outputs": [],
   "source": [
    "from pyspark.ml.classification import LogisticRegression\n",
    "from pyspark.ml.classification import LogisticRegressionModel\n",
    "\n",
    "from pyspark.sql import SparkSession\n",
    "from pyspark.sql import Row\n",
    "from pyspark.ml.feature import StringIndexer\n",
    "from pyspark.ml.classification import LogisticRegression\n",
    "from pyspark.ml import Pipeline\n",
    "from pyspark.ml.feature import VectorAssembler\n",
    "from pyspark.ml.evaluation import BinaryClassificationEvaluator\n",
    "from pyspark import SparkContext, SparkConf\n",
    "from pyspark.sql.functions import lit\n",
    "from pyspark.ml.evaluation import MulticlassClassificationEvaluator\n",
    "from pyspark.ml.feature import VectorSlicer\n",
    "from pyspark.sql.functions import regexp_replace\n",
    "\n",
    "from pyspark.ml.classification import GBTClassifier\n",
    "from pyspark.ml.feature import StringIndexer, VectorIndexer\n",
    "\n",
    "import numpy as np\n",
    "import pandas as pd"
   ]
  },
  {
   "cell_type": "code",
   "execution_count": null,
   "metadata": {},
   "outputs": [],
   "source": [
    "1.basis\n",
    "    1.1 SparkSession--DataFrame&SQL的入口\n",
    "    1.2 DataFrame操作\n",
    "    1.3 SQL的操作\n",
    "    1.4 Estimator, Transformer, and Param\n",
    "2.LR\n",
    "\n",
    "3.GBDT"
   ]
  },
  {
   "cell_type": "markdown",
   "metadata": {},
   "source": [
    "## 1、basis"
   ]
  },
  {
   "cell_type": "markdown",
   "metadata": {},
   "source": [
    "### 1.1 SparkSession是DataFrame和SQL功能的主入口"
   ]
  },
  {
   "cell_type": "code",
   "execution_count": 2,
   "metadata": {},
   "outputs": [],
   "source": [
    "# spark = SparkSession.builder.master(\"spark://10.0.120.106:7077\").appName(\"spark_app\").config(\"\", \"\").getOrCreate()\n",
    "\n",
    "spark = SparkSession.builder.master(\"local\").appName(\"spark_app\").config(\"\", \"\").getOrCreate()"
   ]
  },
  {
   "cell_type": "code",
   "execution_count": 3,
   "metadata": {},
   "outputs": [
    {
     "data": {
      "text/html": [
       "\n",
       "            <div>\n",
       "                <p><b>SparkSession - in-memory</b></p>\n",
       "                \n",
       "        <div>\n",
       "            <p><b>SparkContext</b></p>\n",
       "\n",
       "            <p><a href=\"http://BR-IT-A00803:4040\">Spark UI</a></p>\n",
       "\n",
       "            <dl>\n",
       "              <dt>Version</dt>\n",
       "                <dd><code>v2.3.1</code></dd>\n",
       "              <dt>Master</dt>\n",
       "                <dd><code>local</code></dd>\n",
       "              <dt>AppName</dt>\n",
       "                <dd><code>spark_app</code></dd>\n",
       "            </dl>\n",
       "        </div>\n",
       "        \n",
       "            </div>\n",
       "        "
      ],
      "text/plain": [
       "<pyspark.sql.session.SparkSession at 0x23db0ecaa90>"
      ]
     },
     "execution_count": 3,
     "metadata": {},
     "output_type": "execute_result"
    }
   ],
   "source": [
    "spark"
   ]
  },
  {
   "cell_type": "markdown",
   "metadata": {},
   "source": [
    "### 1.2 读取数据文件"
   ]
  },
  {
   "cell_type": "code",
   "execution_count": 4,
   "metadata": {},
   "outputs": [
    {
     "data": {
      "text/plain": [
       "[Row(_c0='5.1', _c1='3.5', _c2='1.4', _c3='0.2', _c4='Iris-setosa'),\n",
       " Row(_c0='4.9', _c1='3.0', _c2='1.4', _c3='0.2', _c4='Iris-setosa'),\n",
       " Row(_c0='4.7', _c1='3.2', _c2='1.3', _c3='0.2', _c4='Iris-setosa'),\n",
       " Row(_c0='4.6', _c1='3.1', _c2='1.5', _c3='0.2', _c4='Iris-setosa'),\n",
       " Row(_c0='5.0', _c1='3.6', _c2='1.4', _c3='0.2', _c4='Iris-setosa')]"
      ]
     },
     "execution_count": 4,
     "metadata": {},
     "output_type": "execute_result"
    }
   ],
   "source": [
    "# 虽然是txt格式，但是按照csv来读取可以设置seperator\n",
    "read_data = spark.read.csv('C:\\spark\\data\\my_data\\iris_data.txt', sep=',')\n",
    "read_data.head(5)"
   ]
  },
  {
   "cell_type": "markdown",
   "metadata": {},
   "source": [
    "### 1.3 拆分数据集"
   ]
  },
  {
   "cell_type": "code",
   "execution_count": 5,
   "metadata": {},
   "outputs": [],
   "source": [
    "train_data, test_data = read_data.randomSplit([0.7, 0.3], 1)"
   ]
  },
  {
   "cell_type": "code",
   "execution_count": 6,
   "metadata": {},
   "outputs": [
    {
     "data": {
      "text/plain": [
       "DataFrame[_c0: string, _c1: string, _c2: string, _c3: string, _c4: string]"
      ]
     },
     "execution_count": 6,
     "metadata": {},
     "output_type": "execute_result"
    }
   ],
   "source": [
    "train_data"
   ]
  },
  {
   "cell_type": "markdown",
   "metadata": {},
   "source": [
    "### 1.4 操作dataframe"
   ]
  },
  {
   "cell_type": "code",
   "execution_count": 7,
   "metadata": {
    "scrolled": true
   },
   "outputs": [
    {
     "name": "stdout",
     "output_type": "stream",
     "text": [
      "+---+---+---+---+---------------+\n",
      "|_c0|_c1|_c2|_c3|            _c4|\n",
      "+---+---+---+---+---------------+\n",
      "|4.3|3.0|1.1|0.1|    Iris-setosa|\n",
      "|4.4|2.9|1.4|0.2|    Iris-setosa|\n",
      "|4.4|3.0|1.3|0.2|    Iris-setosa|\n",
      "|4.4|3.2|1.3|0.2|    Iris-setosa|\n",
      "|4.6|3.1|1.5|0.2|    Iris-setosa|\n",
      "|4.6|3.2|1.4|0.2|    Iris-setosa|\n",
      "|4.6|3.4|1.4|0.3|    Iris-setosa|\n",
      "|4.6|3.6|1.0|0.2|    Iris-setosa|\n",
      "|4.7|3.2|1.3|0.2|    Iris-setosa|\n",
      "|4.8|3.0|1.4|0.1|    Iris-setosa|\n",
      "|4.8|3.0|1.4|0.3|    Iris-setosa|\n",
      "|4.8|3.1|1.6|0.2|    Iris-setosa|\n",
      "|4.8|3.4|1.6|0.2|    Iris-setosa|\n",
      "|4.8|3.4|1.9|0.2|    Iris-setosa|\n",
      "|4.9|2.5|4.5|1.7| Iris-virginica|\n",
      "|4.9|3.1|1.5|0.1|    Iris-setosa|\n",
      "|4.9|3.1|1.5|0.1|    Iris-setosa|\n",
      "|5.0|2.0|3.5|1.0|Iris-versicolor|\n",
      "|5.0|2.3|3.3|1.0|Iris-versicolor|\n",
      "|5.0|3.2|1.2|0.2|    Iris-setosa|\n",
      "|5.0|3.3|1.4|0.2|    Iris-setosa|\n",
      "|5.0|3.4|1.5|0.2|    Iris-setosa|\n",
      "|5.0|3.5|1.3|0.3|    Iris-setosa|\n",
      "|5.0|3.5|1.6|0.6|    Iris-setosa|\n",
      "|5.0|3.6|1.4|0.2|    Iris-setosa|\n",
      "|5.1|3.3|1.7|0.5|    Iris-setosa|\n",
      "|5.1|3.4|1.5|0.2|    Iris-setosa|\n",
      "|5.1|3.5|1.4|0.2|    Iris-setosa|\n",
      "|5.1|3.7|1.5|0.4|    Iris-setosa|\n",
      "|5.2|2.7|3.9|1.4|Iris-versicolor|\n",
      "|5.2|4.1|1.5|0.1|    Iris-setosa|\n",
      "|5.3|3.7|1.5|0.2|    Iris-setosa|\n",
      "|5.4|3.0|4.5|1.5|Iris-versicolor|\n",
      "|5.4|3.4|1.5|0.4|    Iris-setosa|\n",
      "|5.4|3.7|1.5|0.2|    Iris-setosa|\n",
      "|5.4|3.9|1.3|0.4|    Iris-setosa|\n",
      "|5.4|3.9|1.7|0.4|    Iris-setosa|\n",
      "|5.5|2.4|3.7|1.0|Iris-versicolor|\n",
      "|5.5|2.4|3.8|1.1|Iris-versicolor|\n",
      "|5.5|2.5|4.0|1.3|Iris-versicolor|\n",
      "|5.5|3.5|1.3|0.2|    Iris-setosa|\n",
      "|5.5|4.2|1.4|0.2|    Iris-setosa|\n",
      "|5.6|2.5|3.9|1.1|Iris-versicolor|\n",
      "|5.6|2.8|4.9|2.0| Iris-virginica|\n",
      "|5.6|2.9|3.6|1.3|Iris-versicolor|\n",
      "|5.6|3.0|4.1|1.3|Iris-versicolor|\n",
      "|5.6|3.0|4.5|1.5|Iris-versicolor|\n",
      "|5.7|2.5|5.0|2.0| Iris-virginica|\n",
      "|5.7|2.6|3.5|1.0|Iris-versicolor|\n",
      "|5.7|2.8|4.1|1.3|Iris-versicolor|\n",
      "+---+---+---+---+---------------+\n",
      "only showing top 50 rows\n",
      "\n"
     ]
    }
   ],
   "source": [
    "train_data.show(50)"
   ]
  },
  {
   "cell_type": "code",
   "execution_count": 8,
   "metadata": {},
   "outputs": [
    {
     "data": {
      "text/plain": [
       "DataFrame[_c0: string, _c1: string, _c2: string, _c3: string, _c4: string]"
      ]
     },
     "execution_count": 8,
     "metadata": {},
     "output_type": "execute_result"
    }
   ],
   "source": [
    "train_data"
   ]
  },
  {
   "cell_type": "code",
   "execution_count": 9,
   "metadata": {},
   "outputs": [
    {
     "data": {
      "text/plain": [
       "DataFrame[_c0: string]"
      ]
     },
     "execution_count": 9,
     "metadata": {},
     "output_type": "execute_result"
    }
   ],
   "source": [
    "train_data.select('_c0')"
   ]
  },
  {
   "cell_type": "code",
   "execution_count": 10,
   "metadata": {},
   "outputs": [
    {
     "name": "stdout",
     "output_type": "stream",
     "text": [
      "+---+\n",
      "|_c0|\n",
      "+---+\n",
      "|4.3|\n",
      "|4.4|\n",
      "|4.4|\n",
      "|4.4|\n",
      "|4.6|\n",
      "|4.6|\n",
      "|4.6|\n",
      "|4.6|\n",
      "|4.7|\n",
      "|4.8|\n",
      "+---+\n",
      "only showing top 10 rows\n",
      "\n"
     ]
    }
   ],
   "source": [
    "train_data.select('_c0').show(10)"
   ]
  },
  {
   "cell_type": "code",
   "execution_count": 29,
   "metadata": {
    "scrolled": true
   },
   "outputs": [
    {
     "data": {
      "text/plain": [
       "[Row(_c0='4.3'),\n",
       " Row(_c0='4.4'),\n",
       " Row(_c0='4.4'),\n",
       " Row(_c0='4.4'),\n",
       " Row(_c0='4.6'),\n",
       " Row(_c0='4.6'),\n",
       " Row(_c0='4.6'),\n",
       " Row(_c0='4.6'),\n",
       " Row(_c0='4.7'),\n",
       " Row(_c0='4.8'),\n",
       " Row(_c0='4.8'),\n",
       " Row(_c0='4.8'),\n",
       " Row(_c0='4.8'),\n",
       " Row(_c0='4.8'),\n",
       " Row(_c0='4.9'),\n",
       " Row(_c0='4.9'),\n",
       " Row(_c0='4.9'),\n",
       " Row(_c0='5.0'),\n",
       " Row(_c0='5.0'),\n",
       " Row(_c0='5.0'),\n",
       " Row(_c0='5.0'),\n",
       " Row(_c0='5.0'),\n",
       " Row(_c0='5.0'),\n",
       " Row(_c0='5.0'),\n",
       " Row(_c0='5.0'),\n",
       " Row(_c0='5.1'),\n",
       " Row(_c0='5.1'),\n",
       " Row(_c0='5.1'),\n",
       " Row(_c0='5.1'),\n",
       " Row(_c0='5.2'),\n",
       " Row(_c0='5.2'),\n",
       " Row(_c0='5.3'),\n",
       " Row(_c0='5.4'),\n",
       " Row(_c0='5.4'),\n",
       " Row(_c0='5.4'),\n",
       " Row(_c0='5.4'),\n",
       " Row(_c0='5.4'),\n",
       " Row(_c0='5.5'),\n",
       " Row(_c0='5.5'),\n",
       " Row(_c0='5.5'),\n",
       " Row(_c0='5.5'),\n",
       " Row(_c0='5.5'),\n",
       " Row(_c0='5.6'),\n",
       " Row(_c0='5.6'),\n",
       " Row(_c0='5.6'),\n",
       " Row(_c0='5.6'),\n",
       " Row(_c0='5.6'),\n",
       " Row(_c0='5.7'),\n",
       " Row(_c0='5.7'),\n",
       " Row(_c0='5.7'),\n",
       " Row(_c0='5.7'),\n",
       " Row(_c0='5.7'),\n",
       " Row(_c0='5.7'),\n",
       " Row(_c0='5.7'),\n",
       " Row(_c0='5.7'),\n",
       " Row(_c0='5.8'),\n",
       " Row(_c0='5.8'),\n",
       " Row(_c0='5.8'),\n",
       " Row(_c0='5.8'),\n",
       " Row(_c0='5.8'),\n",
       " Row(_c0='5.8'),\n",
       " Row(_c0='5.8'),\n",
       " Row(_c0='5.9'),\n",
       " Row(_c0='5.9'),\n",
       " Row(_c0='6.0'),\n",
       " Row(_c0='6.0'),\n",
       " Row(_c0='6.0'),\n",
       " Row(_c0='6.0'),\n",
       " Row(_c0='6.0'),\n",
       " Row(_c0='6.0'),\n",
       " Row(_c0='6.1'),\n",
       " Row(_c0='6.1'),\n",
       " Row(_c0='6.1'),\n",
       " Row(_c0='6.1'),\n",
       " Row(_c0='6.2'),\n",
       " Row(_c0='6.2'),\n",
       " Row(_c0='6.3'),\n",
       " Row(_c0='6.3'),\n",
       " Row(_c0='6.3'),\n",
       " Row(_c0='6.3'),\n",
       " Row(_c0='6.3'),\n",
       " Row(_c0='6.4'),\n",
       " Row(_c0='6.4'),\n",
       " Row(_c0='6.4'),\n",
       " Row(_c0='6.4'),\n",
       " Row(_c0='6.5'),\n",
       " Row(_c0='6.5'),\n",
       " Row(_c0='6.5'),\n",
       " Row(_c0='6.6'),\n",
       " Row(_c0='6.7'),\n",
       " Row(_c0='6.7'),\n",
       " Row(_c0='6.7'),\n",
       " Row(_c0='6.7'),\n",
       " Row(_c0='6.7'),\n",
       " Row(_c0='6.7'),\n",
       " Row(_c0='6.8'),\n",
       " Row(_c0='6.8'),\n",
       " Row(_c0='6.8'),\n",
       " Row(_c0='6.9'),\n",
       " Row(_c0='7.0'),\n",
       " Row(_c0='7.1'),\n",
       " Row(_c0='7.2'),\n",
       " Row(_c0='7.7'),\n",
       " Row(_c0='7.7'),\n",
       " Row(_c0='7.7'),\n",
       " Row(_c0='7.9')]"
      ]
     },
     "execution_count": 29,
     "metadata": {},
     "output_type": "execute_result"
    }
   ],
   "source": [
    "train_data.select('_c0').collect()"
   ]
  },
  {
   "cell_type": "code",
   "execution_count": 30,
   "metadata": {},
   "outputs": [
    {
     "data": {
      "text/plain": [
       "[Row(_c0='4.3'),\n",
       " Row(_c0='4.4'),\n",
       " Row(_c0='4.4'),\n",
       " Row(_c0='4.4'),\n",
       " Row(_c0='4.6')]"
      ]
     },
     "execution_count": 30,
     "metadata": {},
     "output_type": "execute_result"
    }
   ],
   "source": [
    "train_data.select('_c0').head(5)"
   ]
  },
  {
   "cell_type": "code",
   "execution_count": 31,
   "metadata": {},
   "outputs": [
    {
     "data": {
      "text/plain": [
       "list"
      ]
     },
     "execution_count": 31,
     "metadata": {},
     "output_type": "execute_result"
    }
   ],
   "source": [
    "type(train_data.select('_c0').head(5))"
   ]
  },
  {
   "cell_type": "code",
   "execution_count": 32,
   "metadata": {},
   "outputs": [
    {
     "data": {
      "text/plain": [
       "[Row(_c0='4.3'),\n",
       " Row(_c0='4.4'),\n",
       " Row(_c0='4.4'),\n",
       " Row(_c0='4.4'),\n",
       " Row(_c0='4.6')]"
      ]
     },
     "execution_count": 32,
     "metadata": {},
     "output_type": "execute_result"
    }
   ],
   "source": [
    "train_data.select('_c0').take(5)"
   ]
  },
  {
   "cell_type": "code",
   "execution_count": null,
   "metadata": {},
   "outputs": [],
   "source": []
  },
  {
   "cell_type": "code",
   "execution_count": null,
   "metadata": {},
   "outputs": [],
   "source": []
  },
  {
   "cell_type": "code",
   "execution_count": null,
   "metadata": {},
   "outputs": [],
   "source": []
  },
  {
   "cell_type": "code",
   "execution_count": null,
   "metadata": {},
   "outputs": [],
   "source": []
  },
  {
   "cell_type": "code",
   "execution_count": null,
   "metadata": {},
   "outputs": [],
   "source": []
  },
  {
   "cell_type": "code",
   "execution_count": null,
   "metadata": {},
   "outputs": [],
   "source": []
  },
  {
   "cell_type": "code",
   "execution_count": null,
   "metadata": {},
   "outputs": [],
   "source": []
  },
  {
   "cell_type": "code",
   "execution_count": 16,
   "metadata": {},
   "outputs": [],
   "source": [
    "row = Row(value='5.1,3.5,1.4,0.2,Iris-setosa')"
   ]
  },
  {
   "cell_type": "code",
   "execution_count": 17,
   "metadata": {},
   "outputs": [
    {
     "data": {
      "text/plain": [
       "Row(value='5.1,3.5,1.4,0.2,Iris-setosa')"
      ]
     },
     "execution_count": 17,
     "metadata": {},
     "output_type": "execute_result"
    }
   ],
   "source": [
    "row"
   ]
  },
  {
   "cell_type": "code",
   "execution_count": null,
   "metadata": {},
   "outputs": [],
   "source": []
  },
  {
   "cell_type": "markdown",
   "metadata": {},
   "source": [
    "## 1、LR"
   ]
  },
  {
   "cell_type": "code",
   "execution_count": null,
   "metadata": {},
   "outputs": [],
   "source": []
  },
  {
   "cell_type": "code",
   "execution_count": null,
   "metadata": {},
   "outputs": [],
   "source": []
  },
  {
   "cell_type": "code",
   "execution_count": null,
   "metadata": {},
   "outputs": [],
   "source": []
  },
  {
   "cell_type": "markdown",
   "metadata": {},
   "source": [
    "## 2、GBDT"
   ]
  },
  {
   "cell_type": "code",
   "execution_count": 20,
   "metadata": {},
   "outputs": [
    {
     "name": "stdout",
     "output_type": "stream",
     "text": [
      "+---+---+---+---+-----------+\n",
      "|_c0|_c1|_c2|_c3|        _c4|\n",
      "+---+---+---+---+-----------+\n",
      "|5.1|3.5|1.4|0.2|Iris-setosa|\n",
      "|4.9|3.0|1.4|0.2|Iris-setosa|\n",
      "|4.7|3.2|1.3|0.2|Iris-setosa|\n",
      "|4.6|3.1|1.5|0.2|Iris-setosa|\n",
      "|5.0|3.6|1.4|0.2|Iris-setosa|\n",
      "|5.4|3.9|1.7|0.4|Iris-setosa|\n",
      "|4.6|3.4|1.4|0.3|Iris-setosa|\n",
      "|5.0|3.4|1.5|0.2|Iris-setosa|\n",
      "|4.4|2.9|1.4|0.2|Iris-setosa|\n",
      "|4.9|3.1|1.5|0.1|Iris-setosa|\n",
      "+---+---+---+---+-----------+\n",
      "only showing top 10 rows\n",
      "\n"
     ]
    }
   ],
   "source": [
    "train_data.show(10)"
   ]
  },
  {
   "cell_type": "code",
   "execution_count": 21,
   "metadata": {},
   "outputs": [
    {
     "data": {
      "text/plain": [
       "DataFrame[_c0: string, _c1: string, _c2: string, _c3: string, _c4: string]"
      ]
     },
     "execution_count": 21,
     "metadata": {},
     "output_type": "execute_result"
    }
   ],
   "source": [
    "train_data"
   ]
  },
  {
   "cell_type": "code",
   "execution_count": null,
   "metadata": {},
   "outputs": [],
   "source": []
  }
 ],
 "metadata": {
  "kernelspec": {
   "display_name": "Python 3",
   "language": "python",
   "name": "python3"
  },
  "language_info": {
   "codemirror_mode": {
    "name": "ipython",
    "version": 3
   },
   "file_extension": ".py",
   "mimetype": "text/x-python",
   "name": "python",
   "nbconvert_exporter": "python",
   "pygments_lexer": "ipython3",
   "version": "3.6.4"
  }
 },
 "nbformat": 4,
 "nbformat_minor": 2
}
