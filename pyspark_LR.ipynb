{
 "cells": [
  {
   "cell_type": "markdown",
   "metadata": {},
   "source": [
    "# LR"
   ]
  },
  {
   "cell_type": "code",
   "execution_count": 75,
   "metadata": {},
   "outputs": [],
   "source": [
    "from pyspark.ml.classification import LogisticRegression\n",
    "\n",
    "from pyspark.sql import SparkSession\n",
    "from pyspark.ml.feature import StringIndexer\n",
    "from pyspark.ml.classification import LogisticRegression\n",
    "from pyspark.ml import Pipeline\n",
    "from pyspark.ml.feature import VectorAssembler\n",
    "from pyspark.ml.evaluation import BinaryClassificationEvaluator\n",
    "from pyspark import SparkContext, SparkConf\n",
    "from pyspark.sql.functions import lit\n",
    "from pyspark.ml.evaluation import MulticlassClassificationEvaluator\n",
    "\n",
    "import numpy as np\n",
    "import pandas as pd\n"
   ]
  },
  {
   "cell_type": "code",
   "execution_count": 2,
   "metadata": {},
   "outputs": [
    {
     "data": {
      "text/plain": [
       "[Row(value='5.1,3.5,1.4,0.2,Iris-setosa'),\n",
       " Row(value='4.9,3.0,1.4,0.2,Iris-setosa'),\n",
       " Row(value='4.7,3.2,1.3,0.2,Iris-setosa'),\n",
       " Row(value='4.6,3.1,1.5,0.2,Iris-setosa'),\n",
       " Row(value='5.0,3.6,1.4,0.2,Iris-setosa')]"
      ]
     },
     "execution_count": 2,
     "metadata": {},
     "output_type": "execute_result"
    }
   ],
   "source": [
    "train_data = spark.read.text('C:\\spark\\data\\my_data\\iris_data.txt')\n",
    "train_data.head(5)\n",
    "# type(train_data)\n"
   ]
  },
  {
   "cell_type": "code",
   "execution_count": 3,
   "metadata": {},
   "outputs": [
    {
     "data": {
      "text/plain": [
       "[Row(value='5.1,3.5,1.4,0.2,Iris-setosa'),\n",
       " Row(value='4.9,3.0,1.4,0.2,Iris-setosa'),\n",
       " Row(value='4.7,3.2,1.3,0.2,Iris-setosa'),\n",
       " Row(value='4.6,3.1,1.5,0.2,Iris-setosa'),\n",
       " Row(value='5.0,3.6,1.4,0.2,Iris-setosa'),\n",
       " Row(value='5.4,3.9,1.7,0.4,Iris-setosa'),\n",
       " Row(value='4.6,3.4,1.4,0.3,Iris-setosa'),\n",
       " Row(value='5.0,3.4,1.5,0.2,Iris-setosa'),\n",
       " Row(value='4.4,2.9,1.4,0.2,Iris-setosa'),\n",
       " Row(value='4.9,3.1,1.5,0.1,Iris-setosa'),\n",
       " Row(value='5.4,3.7,1.5,0.2,Iris-setosa'),\n",
       " Row(value='4.8,3.4,1.6,0.2,Iris-setosa'),\n",
       " Row(value='4.8,3.0,1.4,0.1,Iris-setosa'),\n",
       " Row(value='4.3,3.0,1.1,0.1,Iris-setosa'),\n",
       " Row(value='5.8,4.0,1.2,0.2,Iris-setosa'),\n",
       " Row(value='5.7,4.4,1.5,0.4,Iris-setosa'),\n",
       " Row(value='5.4,3.9,1.3,0.4,Iris-setosa'),\n",
       " Row(value='5.1,3.5,1.4,0.3,Iris-setosa'),\n",
       " Row(value='5.7,3.8,1.7,0.3,Iris-setosa'),\n",
       " Row(value='5.1,3.8,1.5,0.3,Iris-setosa'),\n",
       " Row(value='5.4,3.4,1.7,0.2,Iris-setosa'),\n",
       " Row(value='5.1,3.7,1.5,0.4,Iris-setosa'),\n",
       " Row(value='4.6,3.6,1.0,0.2,Iris-setosa'),\n",
       " Row(value='5.1,3.3,1.7,0.5,Iris-setosa'),\n",
       " Row(value='4.8,3.4,1.9,0.2,Iris-setosa'),\n",
       " Row(value='5.0,3.0,1.6,0.2,Iris-setosa'),\n",
       " Row(value='5.0,3.4,1.6,0.4,Iris-setosa'),\n",
       " Row(value='5.2,3.5,1.5,0.2,Iris-setosa'),\n",
       " Row(value='5.2,3.4,1.4,0.2,Iris-setosa'),\n",
       " Row(value='4.7,3.2,1.6,0.2,Iris-setosa'),\n",
       " Row(value='4.8,3.1,1.6,0.2,Iris-setosa'),\n",
       " Row(value='5.4,3.4,1.5,0.4,Iris-setosa'),\n",
       " Row(value='5.2,4.1,1.5,0.1,Iris-setosa'),\n",
       " Row(value='5.5,4.2,1.4,0.2,Iris-setosa'),\n",
       " Row(value='4.9,3.1,1.5,0.1,Iris-setosa'),\n",
       " Row(value='5.0,3.2,1.2,0.2,Iris-setosa'),\n",
       " Row(value='5.5,3.5,1.3,0.2,Iris-setosa'),\n",
       " Row(value='4.9,3.1,1.5,0.1,Iris-setosa'),\n",
       " Row(value='4.4,3.0,1.3,0.2,Iris-setosa'),\n",
       " Row(value='5.1,3.4,1.5,0.2,Iris-setosa'),\n",
       " Row(value='5.0,3.5,1.3,0.3,Iris-setosa'),\n",
       " Row(value='4.5,2.3,1.3,0.3,Iris-setosa'),\n",
       " Row(value='4.4,3.2,1.3,0.2,Iris-setosa'),\n",
       " Row(value='5.0,3.5,1.6,0.6,Iris-setosa'),\n",
       " Row(value='5.1,3.8,1.9,0.4,Iris-setosa'),\n",
       " Row(value='4.8,3.0,1.4,0.3,Iris-setosa'),\n",
       " Row(value='5.1,3.8,1.6,0.2,Iris-setosa'),\n",
       " Row(value='4.6,3.2,1.4,0.2,Iris-setosa'),\n",
       " Row(value='5.3,3.7,1.5,0.2,Iris-setosa'),\n",
       " Row(value='5.0,3.3,1.4,0.2,Iris-setosa'),\n",
       " Row(value='7.0,3.2,4.7,1.4,Iris-versicolor'),\n",
       " Row(value='6.4,3.2,4.5,1.5,Iris-versicolor'),\n",
       " Row(value='6.9,3.1,4.9,1.5,Iris-versicolor'),\n",
       " Row(value='5.5,2.3,4.0,1.3,Iris-versicolor'),\n",
       " Row(value='6.5,2.8,4.6,1.5,Iris-versicolor'),\n",
       " Row(value='5.7,2.8,4.5,1.3,Iris-versicolor'),\n",
       " Row(value='6.3,3.3,4.7,1.6,Iris-versicolor'),\n",
       " Row(value='4.9,2.4,3.3,1.0,Iris-versicolor'),\n",
       " Row(value='6.6,2.9,4.6,1.3,Iris-versicolor'),\n",
       " Row(value='5.2,2.7,3.9,1.4,Iris-versicolor'),\n",
       " Row(value='5.0,2.0,3.5,1.0,Iris-versicolor'),\n",
       " Row(value='5.9,3.0,4.2,1.5,Iris-versicolor'),\n",
       " Row(value='6.0,2.2,4.0,1.0,Iris-versicolor'),\n",
       " Row(value='6.1,2.9,4.7,1.4,Iris-versicolor'),\n",
       " Row(value='5.6,2.9,3.6,1.3,Iris-versicolor'),\n",
       " Row(value='6.7,3.1,4.4,1.4,Iris-versicolor'),\n",
       " Row(value='5.6,3.0,4.5,1.5,Iris-versicolor'),\n",
       " Row(value='5.8,2.7,4.1,1.0,Iris-versicolor'),\n",
       " Row(value='6.2,2.2,4.5,1.5,Iris-versicolor'),\n",
       " Row(value='5.6,2.5,3.9,1.1,Iris-versicolor'),\n",
       " Row(value='5.9,3.2,4.8,1.8,Iris-versicolor'),\n",
       " Row(value='6.1,2.8,4.0,1.3,Iris-versicolor'),\n",
       " Row(value='6.3,2.5,4.9,1.5,Iris-versicolor'),\n",
       " Row(value='6.1,2.8,4.7,1.2,Iris-versicolor'),\n",
       " Row(value='6.4,2.9,4.3,1.3,Iris-versicolor'),\n",
       " Row(value='6.6,3.0,4.4,1.4,Iris-versicolor'),\n",
       " Row(value='6.8,2.8,4.8,1.4,Iris-versicolor'),\n",
       " Row(value='6.7,3.0,5.0,1.7,Iris-versicolor'),\n",
       " Row(value='6.0,2.9,4.5,1.5,Iris-versicolor'),\n",
       " Row(value='5.7,2.6,3.5,1.0,Iris-versicolor'),\n",
       " Row(value='5.5,2.4,3.8,1.1,Iris-versicolor'),\n",
       " Row(value='5.5,2.4,3.7,1.0,Iris-versicolor'),\n",
       " Row(value='5.8,2.7,3.9,1.2,Iris-versicolor'),\n",
       " Row(value='6.0,2.7,5.1,1.6,Iris-versicolor'),\n",
       " Row(value='5.4,3.0,4.5,1.5,Iris-versicolor'),\n",
       " Row(value='6.0,3.4,4.5,1.6,Iris-versicolor'),\n",
       " Row(value='6.7,3.1,4.7,1.5,Iris-versicolor'),\n",
       " Row(value='6.3,2.3,4.4,1.3,Iris-versicolor'),\n",
       " Row(value='5.6,3.0,4.1,1.3,Iris-versicolor'),\n",
       " Row(value='5.5,2.5,4.0,1.3,Iris-versicolor'),\n",
       " Row(value='5.5,2.6,4.4,1.2,Iris-versicolor'),\n",
       " Row(value='6.1,3.0,4.6,1.4,Iris-versicolor'),\n",
       " Row(value='5.8,2.6,4.0,1.2,Iris-versicolor'),\n",
       " Row(value='5.0,2.3,3.3,1.0,Iris-versicolor'),\n",
       " Row(value='5.6,2.7,4.2,1.3,Iris-versicolor'),\n",
       " Row(value='5.7,3.0,4.2,1.2,Iris-versicolor'),\n",
       " Row(value='5.7,2.9,4.2,1.3,Iris-versicolor'),\n",
       " Row(value='6.2,2.9,4.3,1.3,Iris-versicolor'),\n",
       " Row(value='5.1,2.5,3.0,1.1,Iris-versicolor'),\n",
       " Row(value='5.7,2.8,4.1,1.3,Iris-versicolor'),\n",
       " Row(value='6.3,3.3,6.0,2.5,Iris-virginica'),\n",
       " Row(value='5.8,2.7,5.1,1.9,Iris-virginica'),\n",
       " Row(value='7.1,3.0,5.9,2.1,Iris-virginica'),\n",
       " Row(value='6.3,2.9,5.6,1.8,Iris-virginica'),\n",
       " Row(value='6.5,3.0,5.8,2.2,Iris-virginica'),\n",
       " Row(value='7.6,3.0,6.6,2.1,Iris-virginica'),\n",
       " Row(value='4.9,2.5,4.5,1.7,Iris-virginica'),\n",
       " Row(value='7.3,2.9,6.3,1.8,Iris-virginica'),\n",
       " Row(value='6.7,2.5,5.8,1.8,Iris-virginica'),\n",
       " Row(value='7.2,3.6,6.1,2.5,Iris-virginica'),\n",
       " Row(value='6.5,3.2,5.1,2.0,Iris-virginica'),\n",
       " Row(value='6.4,2.7,5.3,1.9,Iris-virginica'),\n",
       " Row(value='6.8,3.0,5.5,2.1,Iris-virginica'),\n",
       " Row(value='5.7,2.5,5.0,2.0,Iris-virginica'),\n",
       " Row(value='5.8,2.8,5.1,2.4,Iris-virginica'),\n",
       " Row(value='6.4,3.2,5.3,2.3,Iris-virginica'),\n",
       " Row(value='6.5,3.0,5.5,1.8,Iris-virginica'),\n",
       " Row(value='7.7,3.8,6.7,2.2,Iris-virginica'),\n",
       " Row(value='7.7,2.6,6.9,2.3,Iris-virginica'),\n",
       " Row(value='6.0,2.2,5.0,1.5,Iris-virginica'),\n",
       " Row(value='6.9,3.2,5.7,2.3,Iris-virginica'),\n",
       " Row(value='5.6,2.8,4.9,2.0,Iris-virginica'),\n",
       " Row(value='7.7,2.8,6.7,2.0,Iris-virginica'),\n",
       " Row(value='6.3,2.7,4.9,1.8,Iris-virginica'),\n",
       " Row(value='6.7,3.3,5.7,2.1,Iris-virginica'),\n",
       " Row(value='7.2,3.2,6.0,1.8,Iris-virginica'),\n",
       " Row(value='6.2,2.8,4.8,1.8,Iris-virginica'),\n",
       " Row(value='6.1,3.0,4.9,1.8,Iris-virginica'),\n",
       " Row(value='6.4,2.8,5.6,2.1,Iris-virginica'),\n",
       " Row(value='7.2,3.0,5.8,1.6,Iris-virginica'),\n",
       " Row(value='7.4,2.8,6.1,1.9,Iris-virginica'),\n",
       " Row(value='7.9,3.8,6.4,2.0,Iris-virginica'),\n",
       " Row(value='6.4,2.8,5.6,2.2,Iris-virginica'),\n",
       " Row(value='6.3,2.8,5.1,1.5,Iris-virginica'),\n",
       " Row(value='6.1,2.6,5.6,1.4,Iris-virginica'),\n",
       " Row(value='7.7,3.0,6.1,2.3,Iris-virginica'),\n",
       " Row(value='6.3,3.4,5.6,2.4,Iris-virginica'),\n",
       " Row(value='6.4,3.1,5.5,1.8,Iris-virginica'),\n",
       " Row(value='6.0,3.0,4.8,1.8,Iris-virginica'),\n",
       " Row(value='6.9,3.1,5.4,2.1,Iris-virginica'),\n",
       " Row(value='6.7,3.1,5.6,2.4,Iris-virginica'),\n",
       " Row(value='6.9,3.1,5.1,2.3,Iris-virginica'),\n",
       " Row(value='5.8,2.7,5.1,1.9,Iris-virginica'),\n",
       " Row(value='6.8,3.2,5.9,2.3,Iris-virginica'),\n",
       " Row(value='6.7,3.3,5.7,2.5,Iris-virginica'),\n",
       " Row(value='6.7,3.0,5.2,2.3,Iris-virginica'),\n",
       " Row(value='6.3,2.5,5.0,1.9,Iris-virginica'),\n",
       " Row(value='6.5,3.0,5.2,2.0,Iris-virginica'),\n",
       " Row(value='6.2,3.4,5.4,2.3,Iris-virginica'),\n",
       " Row(value='5.9,3.0,5.1,1.8,Iris-virginica')]"
      ]
     },
     "execution_count": 3,
     "metadata": {},
     "output_type": "execute_result"
    }
   ],
   "source": [
    "train_data.collect()"
   ]
  },
  {
   "cell_type": "code",
   "execution_count": 4,
   "metadata": {},
   "outputs": [
    {
     "data": {
      "text/plain": [
       "[Row(_c0='5.1', _c1='3.5', _c2='1.4', _c3='0.2', _c4='1.0'),\n",
       " Row(_c0='4.9', _c1='3.0', _c2='1.4', _c3='0.2', _c4='1.0'),\n",
       " Row(_c0='4.7', _c1='3.2', _c2='1.3', _c3='0.2', _c4='1.0'),\n",
       " Row(_c0='4.6', _c1='3.1', _c2='1.5', _c3='0.2', _c4='1.0'),\n",
       " Row(_c0='5.0', _c1='3.6', _c2='1.4', _c3='0.2', _c4='1.0')]"
      ]
     },
     "execution_count": 4,
     "metadata": {},
     "output_type": "execute_result"
    }
   ],
   "source": [
    "train_data = spark.read.csv('C:\\spark\\data\\my_data\\iris_data.csv', header=False)\n",
    "train_data.head(5)"
   ]
  },
  {
   "cell_type": "code",
   "execution_count": 5,
   "metadata": {},
   "outputs": [
    {
     "name": "stdout",
     "output_type": "stream",
     "text": [
      "+---+---+---+---+---+\n",
      "|_c0|_c1|_c2|_c3|_c4|\n",
      "+---+---+---+---+---+\n",
      "|5.1|3.5|1.4|0.2|1.0|\n",
      "|4.9|3.0|1.4|0.2|1.0|\n",
      "|4.7|3.2|1.3|0.2|1.0|\n",
      "|4.6|3.1|1.5|0.2|1.0|\n",
      "|5.0|3.6|1.4|0.2|1.0|\n",
      "+---+---+---+---+---+\n",
      "only showing top 5 rows\n",
      "\n"
     ]
    }
   ],
   "source": [
    "train_data.show(5)"
   ]
  },
  {
   "cell_type": "code",
   "execution_count": 6,
   "metadata": {},
   "outputs": [
    {
     "data": {
      "text/plain": [
       "['_c0', '_c1', '_c2', '_c3', '_c4']"
      ]
     },
     "execution_count": 6,
     "metadata": {},
     "output_type": "execute_result"
    }
   ],
   "source": [
    "train_data.columns"
   ]
  },
  {
   "cell_type": "code",
   "execution_count": 7,
   "metadata": {},
   "outputs": [
    {
     "name": "stdout",
     "output_type": "stream",
     "text": [
      "+---+\n",
      "|_c0|\n",
      "+---+\n",
      "|5.1|\n",
      "|4.9|\n",
      "|4.7|\n",
      "|4.6|\n",
      "|5.0|\n",
      "|5.4|\n",
      "|4.6|\n",
      "|5.0|\n",
      "|4.4|\n",
      "|4.9|\n",
      "+---+\n",
      "only showing top 10 rows\n",
      "\n"
     ]
    }
   ],
   "source": [
    "train_data.select('_c0').show(10)"
   ]
  },
  {
   "cell_type": "code",
   "execution_count": 36,
   "metadata": {},
   "outputs": [],
   "source": [
    "\n",
    "train_data = train_data.withColumn('_c0', train_data['_c0'].cast('double'))\\\n",
    "       .withColumn('_c1', train_data['_c1'].cast('double'))\\\n",
    "       .withColumn('_c2', train_data['_c2'].cast('double'))\\\n",
    "       .withColumn('_c3', train_data['_c3'].cast('double'))\n",
    "input_col = ['_c0', '_c1', '_c2', '_c3']\n",
    "vecAssembler = VectorAssembler(inputCols=input_col, outputCol=\"features\")\n",
    "new_train_data = vecAssembler.transform(train_data)\n",
    "stringIndexer = StringIndexer(inputCol=\"_c4\", outputCol=\"label\")\n",
    "pipeline = Pipeline(stages=[vecAssembler, stringIndexer])\n",
    "pipelineFit = pipeline.fit(train_data)\n",
    "dataset = pipelineFit.transform(train_data)"
   ]
  },
  {
   "cell_type": "code",
   "execution_count": 37,
   "metadata": {},
   "outputs": [
    {
     "data": {
      "text/plain": [
       "DataFrame[_c0: double, _c1: double, _c2: double, _c3: double, _c4: string, features: vector]"
      ]
     },
     "execution_count": 37,
     "metadata": {},
     "output_type": "execute_result"
    }
   ],
   "source": [
    "new_train_data"
   ]
  },
  {
   "cell_type": "code",
   "execution_count": 38,
   "metadata": {},
   "outputs": [
    {
     "name": "stdout",
     "output_type": "stream",
     "text": [
      "+---+---+---+---+---+-----------------+\n",
      "|_c0|_c1|_c2|_c3|_c4|         features|\n",
      "+---+---+---+---+---+-----------------+\n",
      "|5.1|3.5|1.4|0.2|1.0|[5.1,3.5,1.4,0.2]|\n",
      "|4.9|3.0|1.4|0.2|1.0|[4.9,3.0,1.4,0.2]|\n",
      "|4.7|3.2|1.3|0.2|1.0|[4.7,3.2,1.3,0.2]|\n",
      "|4.6|3.1|1.5|0.2|1.0|[4.6,3.1,1.5,0.2]|\n",
      "|5.0|3.6|1.4|0.2|1.0|[5.0,3.6,1.4,0.2]|\n",
      "+---+---+---+---+---+-----------------+\n",
      "only showing top 5 rows\n",
      "\n"
     ]
    }
   ],
   "source": [
    "new_train_data.show(5)"
   ]
  },
  {
   "cell_type": "code",
   "execution_count": null,
   "metadata": {},
   "outputs": [],
   "source": []
  },
  {
   "cell_type": "code",
   "execution_count": 34,
   "metadata": {},
   "outputs": [
    {
     "name": "stdout",
     "output_type": "stream",
     "text": [
      "+---+---+---+---+---+\n",
      "|_c0|_c1|_c2|_c3|_c4|\n",
      "+---+---+---+---+---+\n",
      "|5.1|3.5|1.4|0.2|1.0|\n",
      "|4.9|3.0|1.4|0.2|1.0|\n",
      "|4.7|3.2|1.3|0.2|1.0|\n",
      "|4.6|3.1|1.5|0.2|1.0|\n",
      "|5.0|3.6|1.4|0.2|1.0|\n",
      "+---+---+---+---+---+\n",
      "only showing top 5 rows\n",
      "\n"
     ]
    }
   ],
   "source": [
    "train_data.show(5)"
   ]
  },
  {
   "cell_type": "code",
   "execution_count": 33,
   "metadata": {},
   "outputs": [
    {
     "data": {
      "text/plain": [
       "DataFrame[_c0: double, _c1: double]"
      ]
     },
     "execution_count": 33,
     "metadata": {},
     "output_type": "execute_result"
    }
   ],
   "source": [
    "tra_df = train_data.select(['_c0', '_c1'])\n",
    "tra_df"
   ]
  },
  {
   "cell_type": "code",
   "execution_count": 28,
   "metadata": {},
   "outputs": [
    {
     "name": "stdout",
     "output_type": "stream",
     "text": [
      "+---+---+---+---+---+-----------------+-----+\n",
      "|_c0|_c1|_c2|_c3|_c4|         features|label|\n",
      "+---+---+---+---+---+-----------------+-----+\n",
      "|5.1|3.5|1.4|0.2|1.0|[5.1,3.5,1.4,0.2]|  0.0|\n",
      "|4.9|3.0|1.4|0.2|1.0|[4.9,3.0,1.4,0.2]|  0.0|\n",
      "|4.7|3.2|1.3|0.2|1.0|[4.7,3.2,1.3,0.2]|  0.0|\n",
      "|4.6|3.1|1.5|0.2|1.0|[4.6,3.1,1.5,0.2]|  0.0|\n",
      "|5.0|3.6|1.4|0.2|1.0|[5.0,3.6,1.4,0.2]|  0.0|\n",
      "|5.4|3.9|1.7|0.4|1.0|[5.4,3.9,1.7,0.4]|  0.0|\n",
      "|4.6|3.4|1.4|0.3|1.0|[4.6,3.4,1.4,0.3]|  0.0|\n",
      "|5.0|3.4|1.5|0.2|1.0|[5.0,3.4,1.5,0.2]|  0.0|\n",
      "|4.4|2.9|1.4|0.2|1.0|[4.4,2.9,1.4,0.2]|  0.0|\n",
      "|4.9|3.1|1.5|0.1|1.0|[4.9,3.1,1.5,0.1]|  0.0|\n",
      "+---+---+---+---+---+-----------------+-----+\n",
      "only showing top 10 rows\n",
      "\n"
     ]
    }
   ],
   "source": [
    "dataset.show(10)"
   ]
  },
  {
   "cell_type": "code",
   "execution_count": 29,
   "metadata": {},
   "outputs": [
    {
     "data": {
      "text/plain": [
       "DataFrame[_c0: double]"
      ]
     },
     "execution_count": 29,
     "metadata": {},
     "output_type": "execute_result"
    }
   ],
   "source": [
    "dataset.select('_c0')"
   ]
  },
  {
   "cell_type": "code",
   "execution_count": 30,
   "metadata": {},
   "outputs": [
    {
     "data": {
      "text/plain": [
       "DataFrame[_c0: double, _c1: double, _c2: double, _c3: double, _c4: string, features: vector, label: double]"
      ]
     },
     "execution_count": 30,
     "metadata": {},
     "output_type": "execute_result"
    }
   ],
   "source": [
    "dataset"
   ]
  },
  {
   "cell_type": "code",
   "execution_count": null,
   "metadata": {},
   "outputs": [],
   "source": []
  },
  {
   "cell_type": "code",
   "execution_count": null,
   "metadata": {},
   "outputs": [],
   "source": []
  },
  {
   "cell_type": "code",
   "execution_count": 27,
   "metadata": {},
   "outputs": [
    {
     "data": {
      "text/plain": [
       "Column<b'_c0'>"
      ]
     },
     "execution_count": 27,
     "metadata": {},
     "output_type": "execute_result"
    }
   ],
   "source": [
    "c_1 = dataset['_c0']\n",
    "c_1"
   ]
  },
  {
   "cell_type": "code",
   "execution_count": 19,
   "metadata": {},
   "outputs": [
    {
     "data": {
      "text/plain": [
       "Column<b'_c0'>"
      ]
     },
     "execution_count": 19,
     "metadata": {},
     "output_type": "execute_result"
    }
   ],
   "source": [
    "col_v1 = dataset._c0\n",
    "col_v1"
   ]
  },
  {
   "cell_type": "code",
   "execution_count": 20,
   "metadata": {},
   "outputs": [
    {
     "data": {
      "text/plain": [
       "Column<b'_c1'>"
      ]
     },
     "execution_count": 20,
     "metadata": {},
     "output_type": "execute_result"
    }
   ],
   "source": [
    "col_v2 = dataset._c1\n",
    "col_v2"
   ]
  },
  {
   "cell_type": "code",
   "execution_count": 22,
   "metadata": {},
   "outputs": [
    {
     "data": {
      "text/plain": [
       "Column<b'(_c0 * _c1)'>"
      ]
     },
     "execution_count": 22,
     "metadata": {},
     "output_type": "execute_result"
    }
   ],
   "source": [
    "col_v12 = col_v1 * col_v2\n",
    "col_v12"
   ]
  },
  {
   "cell_type": "code",
   "execution_count": 23,
   "metadata": {},
   "outputs": [],
   "source": [
    "new_dataset = dataset.withColumn('col_v12', col_v12)"
   ]
  },
  {
   "cell_type": "code",
   "execution_count": 24,
   "metadata": {},
   "outputs": [
    {
     "name": "stdout",
     "output_type": "stream",
     "text": [
      "+---+---+---+---+---+-----------------+-----+------------------+\n",
      "|_c0|_c1|_c2|_c3|_c4|         features|label|           col_v12|\n",
      "+---+---+---+---+---+-----------------+-----+------------------+\n",
      "|5.1|3.5|1.4|0.2|1.0|[5.1,3.5,1.4,0.2]|  0.0|17.849999999999998|\n",
      "|4.9|3.0|1.4|0.2|1.0|[4.9,3.0,1.4,0.2]|  0.0|14.700000000000001|\n",
      "|4.7|3.2|1.3|0.2|1.0|[4.7,3.2,1.3,0.2]|  0.0|15.040000000000001|\n",
      "|4.6|3.1|1.5|0.2|1.0|[4.6,3.1,1.5,0.2]|  0.0|             14.26|\n",
      "|5.0|3.6|1.4|0.2|1.0|[5.0,3.6,1.4,0.2]|  0.0|              18.0|\n",
      "|5.4|3.9|1.7|0.4|1.0|[5.4,3.9,1.7,0.4]|  0.0|21.060000000000002|\n",
      "|4.6|3.4|1.4|0.3|1.0|[4.6,3.4,1.4,0.3]|  0.0|15.639999999999999|\n",
      "|5.0|3.4|1.5|0.2|1.0|[5.0,3.4,1.5,0.2]|  0.0|              17.0|\n",
      "|4.4|2.9|1.4|0.2|1.0|[4.4,2.9,1.4,0.2]|  0.0|             12.76|\n",
      "|4.9|3.1|1.5|0.1|1.0|[4.9,3.1,1.5,0.1]|  0.0|15.190000000000001|\n",
      "+---+---+---+---+---+-----------------+-----+------------------+\n",
      "only showing top 10 rows\n",
      "\n"
     ]
    }
   ],
   "source": [
    "new_dataset.show(10)"
   ]
  },
  {
   "cell_type": "code",
   "execution_count": null,
   "metadata": {},
   "outputs": [],
   "source": []
  },
  {
   "cell_type": "code",
   "execution_count": 10,
   "metadata": {
    "scrolled": true
   },
   "outputs": [
    {
     "data": {
      "text/plain": [
       "array([[5.1],\n",
       "       [4.9],\n",
       "       [4.7],\n",
       "       [4.6],\n",
       "       [5. ],\n",
       "       [5.4],\n",
       "       [4.6],\n",
       "       [5. ],\n",
       "       [4.4],\n",
       "       [4.9],\n",
       "       [5.4],\n",
       "       [4.8],\n",
       "       [4.8],\n",
       "       [4.3],\n",
       "       [5.8],\n",
       "       [5.7],\n",
       "       [5.4],\n",
       "       [5.1],\n",
       "       [5.7],\n",
       "       [5.1],\n",
       "       [5.4],\n",
       "       [5.1],\n",
       "       [4.6],\n",
       "       [5.1],\n",
       "       [4.8],\n",
       "       [5. ],\n",
       "       [5. ],\n",
       "       [5.2],\n",
       "       [5.2],\n",
       "       [4.7],\n",
       "       [4.8],\n",
       "       [5.4],\n",
       "       [5.2],\n",
       "       [5.5],\n",
       "       [4.9],\n",
       "       [5. ],\n",
       "       [5.5],\n",
       "       [4.9],\n",
       "       [4.4],\n",
       "       [5.1],\n",
       "       [5. ],\n",
       "       [4.5],\n",
       "       [4.4],\n",
       "       [5. ],\n",
       "       [5.1],\n",
       "       [4.8],\n",
       "       [5.1],\n",
       "       [4.6],\n",
       "       [5.3],\n",
       "       [5. ],\n",
       "       [7. ],\n",
       "       [6.4],\n",
       "       [6.9],\n",
       "       [5.5],\n",
       "       [6.5],\n",
       "       [5.7],\n",
       "       [6.3],\n",
       "       [4.9],\n",
       "       [6.6],\n",
       "       [5.2],\n",
       "       [5. ],\n",
       "       [5.9],\n",
       "       [6. ],\n",
       "       [6.1],\n",
       "       [5.6],\n",
       "       [6.7],\n",
       "       [5.6],\n",
       "       [5.8],\n",
       "       [6.2],\n",
       "       [5.6],\n",
       "       [5.9],\n",
       "       [6.1],\n",
       "       [6.3],\n",
       "       [6.1],\n",
       "       [6.4],\n",
       "       [6.6],\n",
       "       [6.8],\n",
       "       [6.7],\n",
       "       [6. ],\n",
       "       [5.7],\n",
       "       [5.5],\n",
       "       [5.5],\n",
       "       [5.8],\n",
       "       [6. ],\n",
       "       [5.4],\n",
       "       [6. ],\n",
       "       [6.7],\n",
       "       [6.3],\n",
       "       [5.6],\n",
       "       [5.5],\n",
       "       [5.5],\n",
       "       [6.1],\n",
       "       [5.8],\n",
       "       [5. ],\n",
       "       [5.6],\n",
       "       [5.7],\n",
       "       [5.7],\n",
       "       [6.2],\n",
       "       [5.1],\n",
       "       [5.7],\n",
       "       [6.3],\n",
       "       [5.8],\n",
       "       [7.1],\n",
       "       [6.3],\n",
       "       [6.5],\n",
       "       [7.6],\n",
       "       [4.9],\n",
       "       [7.3],\n",
       "       [6.7],\n",
       "       [7.2],\n",
       "       [6.5],\n",
       "       [6.4],\n",
       "       [6.8],\n",
       "       [5.7],\n",
       "       [5.8],\n",
       "       [6.4],\n",
       "       [6.5],\n",
       "       [7.7],\n",
       "       [7.7],\n",
       "       [6. ],\n",
       "       [6.9],\n",
       "       [5.6],\n",
       "       [7.7],\n",
       "       [6.3],\n",
       "       [6.7],\n",
       "       [7.2],\n",
       "       [6.2],\n",
       "       [6.1],\n",
       "       [6.4],\n",
       "       [7.2],\n",
       "       [7.4],\n",
       "       [7.9],\n",
       "       [6.4],\n",
       "       [6.3],\n",
       "       [6.1],\n",
       "       [7.7],\n",
       "       [6.3],\n",
       "       [6.4],\n",
       "       [6. ],\n",
       "       [6.9],\n",
       "       [6.7],\n",
       "       [6.9],\n",
       "       [5.8],\n",
       "       [6.8],\n",
       "       [6.7],\n",
       "       [6.7],\n",
       "       [6.3],\n",
       "       [6.5],\n",
       "       [6.2],\n",
       "       [5.9]])"
      ]
     },
     "execution_count": 10,
     "metadata": {},
     "output_type": "execute_result"
    }
   ],
   "source": [
    "col1 = dataset.select('_c0')\n",
    "col1_pd = col1.toPandas()\n",
    "col1_ar = col1_pd.values\n",
    "col1_ar"
   ]
  },
  {
   "cell_type": "code",
   "execution_count": 11,
   "metadata": {
    "scrolled": true
   },
   "outputs": [
    {
     "data": {
      "text/plain": [
       "array([[3.5],\n",
       "       [3. ],\n",
       "       [3.2],\n",
       "       [3.1],\n",
       "       [3.6],\n",
       "       [3.9],\n",
       "       [3.4],\n",
       "       [3.4],\n",
       "       [2.9],\n",
       "       [3.1],\n",
       "       [3.7],\n",
       "       [3.4],\n",
       "       [3. ],\n",
       "       [3. ],\n",
       "       [4. ],\n",
       "       [4.4],\n",
       "       [3.9],\n",
       "       [3.5],\n",
       "       [3.8],\n",
       "       [3.8],\n",
       "       [3.4],\n",
       "       [3.7],\n",
       "       [3.6],\n",
       "       [3.3],\n",
       "       [3.4],\n",
       "       [3. ],\n",
       "       [3.4],\n",
       "       [3.5],\n",
       "       [3.4],\n",
       "       [3.2],\n",
       "       [3.1],\n",
       "       [3.4],\n",
       "       [4.1],\n",
       "       [4.2],\n",
       "       [3.1],\n",
       "       [3.2],\n",
       "       [3.5],\n",
       "       [3.1],\n",
       "       [3. ],\n",
       "       [3.4],\n",
       "       [3.5],\n",
       "       [2.3],\n",
       "       [3.2],\n",
       "       [3.5],\n",
       "       [3.8],\n",
       "       [3. ],\n",
       "       [3.8],\n",
       "       [3.2],\n",
       "       [3.7],\n",
       "       [3.3],\n",
       "       [3.2],\n",
       "       [3.2],\n",
       "       [3.1],\n",
       "       [2.3],\n",
       "       [2.8],\n",
       "       [2.8],\n",
       "       [3.3],\n",
       "       [2.4],\n",
       "       [2.9],\n",
       "       [2.7],\n",
       "       [2. ],\n",
       "       [3. ],\n",
       "       [2.2],\n",
       "       [2.9],\n",
       "       [2.9],\n",
       "       [3.1],\n",
       "       [3. ],\n",
       "       [2.7],\n",
       "       [2.2],\n",
       "       [2.5],\n",
       "       [3.2],\n",
       "       [2.8],\n",
       "       [2.5],\n",
       "       [2.8],\n",
       "       [2.9],\n",
       "       [3. ],\n",
       "       [2.8],\n",
       "       [3. ],\n",
       "       [2.9],\n",
       "       [2.6],\n",
       "       [2.4],\n",
       "       [2.4],\n",
       "       [2.7],\n",
       "       [2.7],\n",
       "       [3. ],\n",
       "       [3.4],\n",
       "       [3.1],\n",
       "       [2.3],\n",
       "       [3. ],\n",
       "       [2.5],\n",
       "       [2.6],\n",
       "       [3. ],\n",
       "       [2.6],\n",
       "       [2.3],\n",
       "       [2.7],\n",
       "       [3. ],\n",
       "       [2.9],\n",
       "       [2.9],\n",
       "       [2.5],\n",
       "       [2.8],\n",
       "       [3.3],\n",
       "       [2.7],\n",
       "       [3. ],\n",
       "       [2.9],\n",
       "       [3. ],\n",
       "       [3. ],\n",
       "       [2.5],\n",
       "       [2.9],\n",
       "       [2.5],\n",
       "       [3.6],\n",
       "       [3.2],\n",
       "       [2.7],\n",
       "       [3. ],\n",
       "       [2.5],\n",
       "       [2.8],\n",
       "       [3.2],\n",
       "       [3. ],\n",
       "       [3.8],\n",
       "       [2.6],\n",
       "       [2.2],\n",
       "       [3.2],\n",
       "       [2.8],\n",
       "       [2.8],\n",
       "       [2.7],\n",
       "       [3.3],\n",
       "       [3.2],\n",
       "       [2.8],\n",
       "       [3. ],\n",
       "       [2.8],\n",
       "       [3. ],\n",
       "       [2.8],\n",
       "       [3.8],\n",
       "       [2.8],\n",
       "       [2.8],\n",
       "       [2.6],\n",
       "       [3. ],\n",
       "       [3.4],\n",
       "       [3.1],\n",
       "       [3. ],\n",
       "       [3.1],\n",
       "       [3.1],\n",
       "       [3.1],\n",
       "       [2.7],\n",
       "       [3.2],\n",
       "       [3.3],\n",
       "       [3. ],\n",
       "       [2.5],\n",
       "       [3. ],\n",
       "       [3.4],\n",
       "       [3. ]])"
      ]
     },
     "execution_count": 11,
     "metadata": {},
     "output_type": "execute_result"
    }
   ],
   "source": [
    "col2 = dataset.select('_c1')\n",
    "col2_pd = col2.toPandas()\n",
    "col2_ar = col2_pd.values\n",
    "col2_ar"
   ]
  },
  {
   "cell_type": "code",
   "execution_count": null,
   "metadata": {},
   "outputs": [],
   "source": []
  },
  {
   "cell_type": "code",
   "execution_count": null,
   "metadata": {},
   "outputs": [],
   "source": []
  },
  {
   "cell_type": "code",
   "execution_count": 12,
   "metadata": {
    "scrolled": true
   },
   "outputs": [
    {
     "data": {
      "text/plain": [
       "array([[17.85],\n",
       "       [14.7 ],\n",
       "       [15.04],\n",
       "       [14.26],\n",
       "       [18.  ],\n",
       "       [21.06],\n",
       "       [15.64],\n",
       "       [17.  ],\n",
       "       [12.76],\n",
       "       [15.19],\n",
       "       [19.98],\n",
       "       [16.32],\n",
       "       [14.4 ],\n",
       "       [12.9 ],\n",
       "       [23.2 ],\n",
       "       [25.08],\n",
       "       [21.06],\n",
       "       [17.85],\n",
       "       [21.66],\n",
       "       [19.38],\n",
       "       [18.36],\n",
       "       [18.87],\n",
       "       [16.56],\n",
       "       [16.83],\n",
       "       [16.32],\n",
       "       [15.  ],\n",
       "       [17.  ],\n",
       "       [18.2 ],\n",
       "       [17.68],\n",
       "       [15.04],\n",
       "       [14.88],\n",
       "       [18.36],\n",
       "       [21.32],\n",
       "       [23.1 ],\n",
       "       [15.19],\n",
       "       [16.  ],\n",
       "       [19.25],\n",
       "       [15.19],\n",
       "       [13.2 ],\n",
       "       [17.34],\n",
       "       [17.5 ],\n",
       "       [10.35],\n",
       "       [14.08],\n",
       "       [17.5 ],\n",
       "       [19.38],\n",
       "       [14.4 ],\n",
       "       [19.38],\n",
       "       [14.72],\n",
       "       [19.61],\n",
       "       [16.5 ],\n",
       "       [22.4 ],\n",
       "       [20.48],\n",
       "       [21.39],\n",
       "       [12.65],\n",
       "       [18.2 ],\n",
       "       [15.96],\n",
       "       [20.79],\n",
       "       [11.76],\n",
       "       [19.14],\n",
       "       [14.04],\n",
       "       [10.  ],\n",
       "       [17.7 ],\n",
       "       [13.2 ],\n",
       "       [17.69],\n",
       "       [16.24],\n",
       "       [20.77],\n",
       "       [16.8 ],\n",
       "       [15.66],\n",
       "       [13.64],\n",
       "       [14.  ],\n",
       "       [18.88],\n",
       "       [17.08],\n",
       "       [15.75],\n",
       "       [17.08],\n",
       "       [18.56],\n",
       "       [19.8 ],\n",
       "       [19.04],\n",
       "       [20.1 ],\n",
       "       [17.4 ],\n",
       "       [14.82],\n",
       "       [13.2 ],\n",
       "       [13.2 ],\n",
       "       [15.66],\n",
       "       [16.2 ],\n",
       "       [16.2 ],\n",
       "       [20.4 ],\n",
       "       [20.77],\n",
       "       [14.49],\n",
       "       [16.8 ],\n",
       "       [13.75],\n",
       "       [14.3 ],\n",
       "       [18.3 ],\n",
       "       [15.08],\n",
       "       [11.5 ],\n",
       "       [15.12],\n",
       "       [17.1 ],\n",
       "       [16.53],\n",
       "       [17.98],\n",
       "       [12.75],\n",
       "       [15.96],\n",
       "       [20.79],\n",
       "       [15.66],\n",
       "       [21.3 ],\n",
       "       [18.27],\n",
       "       [19.5 ],\n",
       "       [22.8 ],\n",
       "       [12.25],\n",
       "       [21.17],\n",
       "       [16.75],\n",
       "       [25.92],\n",
       "       [20.8 ],\n",
       "       [17.28],\n",
       "       [20.4 ],\n",
       "       [14.25],\n",
       "       [16.24],\n",
       "       [20.48],\n",
       "       [19.5 ],\n",
       "       [29.26],\n",
       "       [20.02],\n",
       "       [13.2 ],\n",
       "       [22.08],\n",
       "       [15.68],\n",
       "       [21.56],\n",
       "       [17.01],\n",
       "       [22.11],\n",
       "       [23.04],\n",
       "       [17.36],\n",
       "       [18.3 ],\n",
       "       [17.92],\n",
       "       [21.6 ],\n",
       "       [20.72],\n",
       "       [30.02],\n",
       "       [17.92],\n",
       "       [17.64],\n",
       "       [15.86],\n",
       "       [23.1 ],\n",
       "       [21.42],\n",
       "       [19.84],\n",
       "       [18.  ],\n",
       "       [21.39],\n",
       "       [20.77],\n",
       "       [21.39],\n",
       "       [15.66],\n",
       "       [21.76],\n",
       "       [22.11],\n",
       "       [20.1 ],\n",
       "       [15.75],\n",
       "       [19.5 ],\n",
       "       [21.08],\n",
       "       [17.7 ]])"
      ]
     },
     "execution_count": 12,
     "metadata": {},
     "output_type": "execute_result"
    }
   ],
   "source": [
    "coll = col1_ar * col2_ar\n",
    "coll"
   ]
  },
  {
   "cell_type": "code",
   "execution_count": 13,
   "metadata": {},
   "outputs": [],
   "source": [
    "coll_df = pd.DataFrame(coll)"
   ]
  },
  {
   "cell_type": "code",
   "execution_count": 14,
   "metadata": {
    "scrolled": true
   },
   "outputs": [
    {
     "data": {
      "text/plain": [
       "pandas.core.frame.DataFrame"
      ]
     },
     "execution_count": 14,
     "metadata": {},
     "output_type": "execute_result"
    }
   ],
   "source": [
    "type(coll_df)"
   ]
  },
  {
   "cell_type": "code",
   "execution_count": 15,
   "metadata": {},
   "outputs": [],
   "source": [
    "coll_spark_df = spark.createDataFrame(coll_df)"
   ]
  },
  {
   "cell_type": "code",
   "execution_count": 16,
   "metadata": {},
   "outputs": [
    {
     "data": {
      "text/plain": [
       "DataFrame[0: double]"
      ]
     },
     "execution_count": 16,
     "metadata": {},
     "output_type": "execute_result"
    }
   ],
   "source": [
    "coll_spark_df"
   ]
  },
  {
   "cell_type": "code",
   "execution_count": 17,
   "metadata": {},
   "outputs": [
    {
     "data": {
      "text/plain": [
       "pyspark.sql.dataframe.DataFrame"
      ]
     },
     "execution_count": 17,
     "metadata": {},
     "output_type": "execute_result"
    }
   ],
   "source": [
    "type(coll_spark_df)"
   ]
  },
  {
   "cell_type": "code",
   "execution_count": 129,
   "metadata": {},
   "outputs": [],
   "source": [
    "coll_cl = coll_spark_df.collect()"
   ]
  },
  {
   "cell_type": "code",
   "execution_count": 132,
   "metadata": {},
   "outputs": [
    {
     "data": {
      "text/plain": [
       "[Row(0=17.849999999999998),\n",
       " Row(0=14.700000000000001),\n",
       " Row(0=15.040000000000001),\n",
       " Row(0=14.26),\n",
       " Row(0=18.0),\n",
       " Row(0=21.060000000000002),\n",
       " Row(0=15.639999999999999),\n",
       " Row(0=17.0),\n",
       " Row(0=12.76),\n",
       " Row(0=15.190000000000001),\n",
       " Row(0=19.980000000000004),\n",
       " Row(0=16.32),\n",
       " Row(0=14.399999999999999),\n",
       " Row(0=12.899999999999999),\n",
       " Row(0=23.2),\n",
       " Row(0=25.080000000000002),\n",
       " Row(0=21.060000000000002),\n",
       " Row(0=17.849999999999998),\n",
       " Row(0=21.66),\n",
       " Row(0=19.38),\n",
       " Row(0=18.36),\n",
       " Row(0=18.87),\n",
       " Row(0=16.56),\n",
       " Row(0=16.83),\n",
       " Row(0=16.32),\n",
       " Row(0=15.0),\n",
       " Row(0=17.0),\n",
       " Row(0=18.2),\n",
       " Row(0=17.68),\n",
       " Row(0=15.040000000000001),\n",
       " Row(0=14.879999999999999),\n",
       " Row(0=18.36),\n",
       " Row(0=21.32),\n",
       " Row(0=23.1),\n",
       " Row(0=15.190000000000001),\n",
       " Row(0=16.0),\n",
       " Row(0=19.25),\n",
       " Row(0=15.190000000000001),\n",
       " Row(0=13.200000000000001),\n",
       " Row(0=17.34),\n",
       " Row(0=17.5),\n",
       " Row(0=10.35),\n",
       " Row(0=14.080000000000002),\n",
       " Row(0=17.5),\n",
       " Row(0=19.38),\n",
       " Row(0=14.399999999999999),\n",
       " Row(0=19.38),\n",
       " Row(0=14.719999999999999),\n",
       " Row(0=19.61),\n",
       " Row(0=16.5),\n",
       " Row(0=22.400000000000002),\n",
       " Row(0=20.480000000000004),\n",
       " Row(0=21.39),\n",
       " Row(0=12.649999999999999),\n",
       " Row(0=18.2),\n",
       " Row(0=15.959999999999999),\n",
       " Row(0=20.79),\n",
       " Row(0=11.76),\n",
       " Row(0=19.139999999999997),\n",
       " Row(0=14.040000000000001),\n",
       " Row(0=10.0),\n",
       " Row(0=17.700000000000003),\n",
       " Row(0=13.200000000000001),\n",
       " Row(0=17.689999999999998),\n",
       " Row(0=16.24),\n",
       " Row(0=20.77),\n",
       " Row(0=16.799999999999997),\n",
       " Row(0=15.66),\n",
       " Row(0=13.640000000000002),\n",
       " Row(0=14.0),\n",
       " Row(0=18.880000000000003),\n",
       " Row(0=17.08),\n",
       " Row(0=15.75),\n",
       " Row(0=17.08),\n",
       " Row(0=18.56),\n",
       " Row(0=19.799999999999997),\n",
       " Row(0=19.04),\n",
       " Row(0=20.1),\n",
       " Row(0=17.4),\n",
       " Row(0=14.82),\n",
       " Row(0=13.2),\n",
       " Row(0=13.2),\n",
       " Row(0=15.66),\n",
       " Row(0=16.200000000000003),\n",
       " Row(0=16.200000000000003),\n",
       " Row(0=20.4),\n",
       " Row(0=20.77),\n",
       " Row(0=14.489999999999998),\n",
       " Row(0=16.799999999999997),\n",
       " Row(0=13.75),\n",
       " Row(0=14.3),\n",
       " Row(0=18.299999999999997),\n",
       " Row(0=15.08),\n",
       " Row(0=11.5),\n",
       " Row(0=15.12),\n",
       " Row(0=17.1),\n",
       " Row(0=16.53),\n",
       " Row(0=17.98),\n",
       " Row(0=12.75),\n",
       " Row(0=15.959999999999999),\n",
       " Row(0=20.79),\n",
       " Row(0=15.66),\n",
       " Row(0=21.299999999999997),\n",
       " Row(0=18.27),\n",
       " Row(0=19.5),\n",
       " Row(0=22.799999999999997),\n",
       " Row(0=12.25),\n",
       " Row(0=21.169999999999998),\n",
       " Row(0=16.75),\n",
       " Row(0=25.92),\n",
       " Row(0=20.8),\n",
       " Row(0=17.28),\n",
       " Row(0=20.4),\n",
       " Row(0=14.25),\n",
       " Row(0=16.24),\n",
       " Row(0=20.480000000000004),\n",
       " Row(0=19.5),\n",
       " Row(0=29.259999999999998),\n",
       " Row(0=20.02),\n",
       " Row(0=13.200000000000001),\n",
       " Row(0=22.080000000000002),\n",
       " Row(0=15.679999999999998),\n",
       " Row(0=21.56),\n",
       " Row(0=17.01),\n",
       " Row(0=22.11),\n",
       " Row(0=23.040000000000003),\n",
       " Row(0=17.36),\n",
       " Row(0=18.299999999999997),\n",
       " Row(0=17.919999999999998),\n",
       " Row(0=21.6),\n",
       " Row(0=20.72),\n",
       " Row(0=30.02),\n",
       " Row(0=17.919999999999998),\n",
       " Row(0=17.639999999999997),\n",
       " Row(0=15.86),\n",
       " Row(0=23.1),\n",
       " Row(0=21.419999999999998),\n",
       " Row(0=19.840000000000003),\n",
       " Row(0=18.0),\n",
       " Row(0=21.39),\n",
       " Row(0=20.77),\n",
       " Row(0=21.39),\n",
       " Row(0=15.66),\n",
       " Row(0=21.76),\n",
       " Row(0=22.11),\n",
       " Row(0=20.1),\n",
       " Row(0=15.75),\n",
       " Row(0=19.5),\n",
       " Row(0=21.08),\n",
       " Row(0=17.700000000000003)]"
      ]
     },
     "execution_count": 132,
     "metadata": {},
     "output_type": "execute_result"
    }
   ],
   "source": [
    "coll_cl"
   ]
  },
  {
   "cell_type": "code",
   "execution_count": 133,
   "metadata": {},
   "outputs": [],
   "source": [
    "coll_list = [i[0] for i in coll_cl]"
   ]
  },
  {
   "cell_type": "code",
   "execution_count": 134,
   "metadata": {},
   "outputs": [
    {
     "data": {
      "text/plain": [
       "[17.849999999999998,\n",
       " 14.700000000000001,\n",
       " 15.040000000000001,\n",
       " 14.26,\n",
       " 18.0,\n",
       " 21.060000000000002,\n",
       " 15.639999999999999,\n",
       " 17.0,\n",
       " 12.76,\n",
       " 15.190000000000001,\n",
       " 19.980000000000004,\n",
       " 16.32,\n",
       " 14.399999999999999,\n",
       " 12.899999999999999,\n",
       " 23.2,\n",
       " 25.080000000000002,\n",
       " 21.060000000000002,\n",
       " 17.849999999999998,\n",
       " 21.66,\n",
       " 19.38,\n",
       " 18.36,\n",
       " 18.87,\n",
       " 16.56,\n",
       " 16.83,\n",
       " 16.32,\n",
       " 15.0,\n",
       " 17.0,\n",
       " 18.2,\n",
       " 17.68,\n",
       " 15.040000000000001,\n",
       " 14.879999999999999,\n",
       " 18.36,\n",
       " 21.32,\n",
       " 23.1,\n",
       " 15.190000000000001,\n",
       " 16.0,\n",
       " 19.25,\n",
       " 15.190000000000001,\n",
       " 13.200000000000001,\n",
       " 17.34,\n",
       " 17.5,\n",
       " 10.35,\n",
       " 14.080000000000002,\n",
       " 17.5,\n",
       " 19.38,\n",
       " 14.399999999999999,\n",
       " 19.38,\n",
       " 14.719999999999999,\n",
       " 19.61,\n",
       " 16.5,\n",
       " 22.400000000000002,\n",
       " 20.480000000000004,\n",
       " 21.39,\n",
       " 12.649999999999999,\n",
       " 18.2,\n",
       " 15.959999999999999,\n",
       " 20.79,\n",
       " 11.76,\n",
       " 19.139999999999997,\n",
       " 14.040000000000001,\n",
       " 10.0,\n",
       " 17.700000000000003,\n",
       " 13.200000000000001,\n",
       " 17.689999999999998,\n",
       " 16.24,\n",
       " 20.77,\n",
       " 16.799999999999997,\n",
       " 15.66,\n",
       " 13.640000000000002,\n",
       " 14.0,\n",
       " 18.880000000000003,\n",
       " 17.08,\n",
       " 15.75,\n",
       " 17.08,\n",
       " 18.56,\n",
       " 19.799999999999997,\n",
       " 19.04,\n",
       " 20.1,\n",
       " 17.4,\n",
       " 14.82,\n",
       " 13.2,\n",
       " 13.2,\n",
       " 15.66,\n",
       " 16.200000000000003,\n",
       " 16.200000000000003,\n",
       " 20.4,\n",
       " 20.77,\n",
       " 14.489999999999998,\n",
       " 16.799999999999997,\n",
       " 13.75,\n",
       " 14.3,\n",
       " 18.299999999999997,\n",
       " 15.08,\n",
       " 11.5,\n",
       " 15.12,\n",
       " 17.1,\n",
       " 16.53,\n",
       " 17.98,\n",
       " 12.75,\n",
       " 15.959999999999999,\n",
       " 20.79,\n",
       " 15.66,\n",
       " 21.299999999999997,\n",
       " 18.27,\n",
       " 19.5,\n",
       " 22.799999999999997,\n",
       " 12.25,\n",
       " 21.169999999999998,\n",
       " 16.75,\n",
       " 25.92,\n",
       " 20.8,\n",
       " 17.28,\n",
       " 20.4,\n",
       " 14.25,\n",
       " 16.24,\n",
       " 20.480000000000004,\n",
       " 19.5,\n",
       " 29.259999999999998,\n",
       " 20.02,\n",
       " 13.200000000000001,\n",
       " 22.080000000000002,\n",
       " 15.679999999999998,\n",
       " 21.56,\n",
       " 17.01,\n",
       " 22.11,\n",
       " 23.040000000000003,\n",
       " 17.36,\n",
       " 18.299999999999997,\n",
       " 17.919999999999998,\n",
       " 21.6,\n",
       " 20.72,\n",
       " 30.02,\n",
       " 17.919999999999998,\n",
       " 17.639999999999997,\n",
       " 15.86,\n",
       " 23.1,\n",
       " 21.419999999999998,\n",
       " 19.840000000000003,\n",
       " 18.0,\n",
       " 21.39,\n",
       " 20.77,\n",
       " 21.39,\n",
       " 15.66,\n",
       " 21.76,\n",
       " 22.11,\n",
       " 20.1,\n",
       " 15.75,\n",
       " 19.5,\n",
       " 21.08,\n",
       " 17.700000000000003]"
      ]
     },
     "execution_count": 134,
     "metadata": {},
     "output_type": "execute_result"
    }
   ],
   "source": [
    "coll_list"
   ]
  },
  {
   "cell_type": "code",
   "execution_count": 135,
   "metadata": {},
   "outputs": [
    {
     "ename": "Py4JJavaError",
     "evalue": "An error occurred while calling z:org.apache.spark.sql.functions.lit.\n: java.lang.RuntimeException: Unsupported literal type class java.util.ArrayList [17.849999999999998, 14.700000000000001, 15.040000000000001, 14.26, 18.0, 21.060000000000002, 15.639999999999999, 17.0, 12.76, 15.190000000000001, 19.980000000000004, 16.32, 14.399999999999999, 12.899999999999999, 23.2, 25.080000000000002, 21.060000000000002, 17.849999999999998, 21.66, 19.38, 18.36, 18.87, 16.56, 16.83, 16.32, 15.0, 17.0, 18.2, 17.68, 15.040000000000001, 14.879999999999999, 18.36, 21.32, 23.1, 15.190000000000001, 16.0, 19.25, 15.190000000000001, 13.200000000000001, 17.34, 17.5, 10.35, 14.080000000000002, 17.5, 19.38, 14.399999999999999, 19.38, 14.719999999999999, 19.61, 16.5, 22.400000000000002, 20.480000000000004, 21.39, 12.649999999999999, 18.2, 15.959999999999999, 20.79, 11.76, 19.139999999999997, 14.040000000000001, 10.0, 17.700000000000003, 13.200000000000001, 17.689999999999998, 16.24, 20.77, 16.799999999999997, 15.66, 13.640000000000002, 14.0, 18.880000000000003, 17.08, 15.75, 17.08, 18.56, 19.799999999999997, 19.04, 20.1, 17.4, 14.82, 13.2, 13.2, 15.66, 16.200000000000003, 16.200000000000003, 20.4, 20.77, 14.489999999999998, 16.799999999999997, 13.75, 14.3, 18.299999999999997, 15.08, 11.5, 15.12, 17.1, 16.53, 17.98, 12.75, 15.959999999999999, 20.79, 15.66, 21.299999999999997, 18.27, 19.5, 22.799999999999997, 12.25, 21.169999999999998, 16.75, 25.92, 20.8, 17.28, 20.4, 14.25, 16.24, 20.480000000000004, 19.5, 29.259999999999998, 20.02, 13.200000000000001, 22.080000000000002, 15.679999999999998, 21.56, 17.01, 22.11, 23.040000000000003, 17.36, 18.299999999999997, 17.919999999999998, 21.6, 20.72, 30.02, 17.919999999999998, 17.639999999999997, 15.86, 23.1, 21.419999999999998, 19.840000000000003, 18.0, 21.39, 20.77, 21.39, 15.66, 21.76, 22.11, 20.1, 15.75, 19.5, 21.08, 17.700000000000003]\r\n\tat org.apache.spark.sql.catalyst.expressions.Literal$.apply(literals.scala:77)\r\n\tat org.apache.spark.sql.catalyst.expressions.Literal$$anonfun$create$2.apply(literals.scala:163)\r\n\tat org.apache.spark.sql.catalyst.expressions.Literal$$anonfun$create$2.apply(literals.scala:163)\r\n\tat scala.util.Try.getOrElse(Try.scala:79)\r\n\tat org.apache.spark.sql.catalyst.expressions.Literal$.create(literals.scala:162)\r\n\tat org.apache.spark.sql.functions$.typedLit(functions.scala:113)\r\n\tat org.apache.spark.sql.functions$.lit(functions.scala:96)\r\n\tat org.apache.spark.sql.functions.lit(functions.scala)\r\n\tat sun.reflect.NativeMethodAccessorImpl.invoke0(Native Method)\r\n\tat sun.reflect.NativeMethodAccessorImpl.invoke(NativeMethodAccessorImpl.java:62)\r\n\tat sun.reflect.DelegatingMethodAccessorImpl.invoke(DelegatingMethodAccessorImpl.java:43)\r\n\tat java.lang.reflect.Method.invoke(Method.java:498)\r\n\tat py4j.reflection.MethodInvoker.invoke(MethodInvoker.java:244)\r\n\tat py4j.reflection.ReflectionEngine.invoke(ReflectionEngine.java:357)\r\n\tat py4j.Gateway.invoke(Gateway.java:282)\r\n\tat py4j.commands.AbstractCommand.invokeMethod(AbstractCommand.java:132)\r\n\tat py4j.commands.CallCommand.execute(CallCommand.java:79)\r\n\tat py4j.GatewayConnection.run(GatewayConnection.java:238)\r\n\tat java.lang.Thread.run(Thread.java:748)\r\n",
     "output_type": "error",
     "traceback": [
      "\u001b[1;31m---------------------------------------------------------------------------\u001b[0m",
      "\u001b[1;31mPy4JJavaError\u001b[0m                             Traceback (most recent call last)",
      "\u001b[1;32m<ipython-input-135-dc1f0c1abbeb>\u001b[0m in \u001b[0;36m<module>\u001b[1;34m()\u001b[0m\n\u001b[1;32m----> 1\u001b[1;33m \u001b[0mlit\u001b[0m\u001b[1;33m(\u001b[0m\u001b[0mcoll_list\u001b[0m\u001b[1;33m)\u001b[0m\u001b[1;33m\u001b[0m\u001b[0m\n\u001b[0m",
      "\u001b[1;32mC:\\spark\\python\\pyspark\\sql\\functions.py\u001b[0m in \u001b[0;36m_\u001b[1;34m(col)\u001b[0m\n\u001b[0;32m     40\u001b[0m     \u001b[1;32mdef\u001b[0m \u001b[0m_\u001b[0m\u001b[1;33m(\u001b[0m\u001b[0mcol\u001b[0m\u001b[1;33m)\u001b[0m\u001b[1;33m:\u001b[0m\u001b[1;33m\u001b[0m\u001b[0m\n\u001b[0;32m     41\u001b[0m         \u001b[0msc\u001b[0m \u001b[1;33m=\u001b[0m \u001b[0mSparkContext\u001b[0m\u001b[1;33m.\u001b[0m\u001b[0m_active_spark_context\u001b[0m\u001b[1;33m\u001b[0m\u001b[0m\n\u001b[1;32m---> 42\u001b[1;33m         \u001b[0mjc\u001b[0m \u001b[1;33m=\u001b[0m \u001b[0mgetattr\u001b[0m\u001b[1;33m(\u001b[0m\u001b[0msc\u001b[0m\u001b[1;33m.\u001b[0m\u001b[0m_jvm\u001b[0m\u001b[1;33m.\u001b[0m\u001b[0mfunctions\u001b[0m\u001b[1;33m,\u001b[0m \u001b[0mname\u001b[0m\u001b[1;33m)\u001b[0m\u001b[1;33m(\u001b[0m\u001b[0mcol\u001b[0m\u001b[1;33m.\u001b[0m\u001b[0m_jc\u001b[0m \u001b[1;32mif\u001b[0m \u001b[0misinstance\u001b[0m\u001b[1;33m(\u001b[0m\u001b[0mcol\u001b[0m\u001b[1;33m,\u001b[0m \u001b[0mColumn\u001b[0m\u001b[1;33m)\u001b[0m \u001b[1;32melse\u001b[0m \u001b[0mcol\u001b[0m\u001b[1;33m)\u001b[0m\u001b[1;33m\u001b[0m\u001b[0m\n\u001b[0m\u001b[0;32m     43\u001b[0m         \u001b[1;32mreturn\u001b[0m \u001b[0mColumn\u001b[0m\u001b[1;33m(\u001b[0m\u001b[0mjc\u001b[0m\u001b[1;33m)\u001b[0m\u001b[1;33m\u001b[0m\u001b[0m\n\u001b[0;32m     44\u001b[0m     \u001b[0m_\u001b[0m\u001b[1;33m.\u001b[0m\u001b[0m__name__\u001b[0m \u001b[1;33m=\u001b[0m \u001b[0mname\u001b[0m\u001b[1;33m\u001b[0m\u001b[0m\n",
      "\u001b[1;32mC:\\spark\\python\\lib\\py4j-0.10.7-src.zip\\py4j\\java_gateway.py\u001b[0m in \u001b[0;36m__call__\u001b[1;34m(self, *args)\u001b[0m\n\u001b[0;32m   1255\u001b[0m         \u001b[0manswer\u001b[0m \u001b[1;33m=\u001b[0m \u001b[0mself\u001b[0m\u001b[1;33m.\u001b[0m\u001b[0mgateway_client\u001b[0m\u001b[1;33m.\u001b[0m\u001b[0msend_command\u001b[0m\u001b[1;33m(\u001b[0m\u001b[0mcommand\u001b[0m\u001b[1;33m)\u001b[0m\u001b[1;33m\u001b[0m\u001b[0m\n\u001b[0;32m   1256\u001b[0m         return_value = get_return_value(\n\u001b[1;32m-> 1257\u001b[1;33m             answer, self.gateway_client, self.target_id, self.name)\n\u001b[0m\u001b[0;32m   1258\u001b[0m \u001b[1;33m\u001b[0m\u001b[0m\n\u001b[0;32m   1259\u001b[0m         \u001b[1;32mfor\u001b[0m \u001b[0mtemp_arg\u001b[0m \u001b[1;32min\u001b[0m \u001b[0mtemp_args\u001b[0m\u001b[1;33m:\u001b[0m\u001b[1;33m\u001b[0m\u001b[0m\n",
      "\u001b[1;32mC:\\spark\\python\\pyspark\\sql\\utils.py\u001b[0m in \u001b[0;36mdeco\u001b[1;34m(*a, **kw)\u001b[0m\n\u001b[0;32m     61\u001b[0m     \u001b[1;32mdef\u001b[0m \u001b[0mdeco\u001b[0m\u001b[1;33m(\u001b[0m\u001b[1;33m*\u001b[0m\u001b[0ma\u001b[0m\u001b[1;33m,\u001b[0m \u001b[1;33m**\u001b[0m\u001b[0mkw\u001b[0m\u001b[1;33m)\u001b[0m\u001b[1;33m:\u001b[0m\u001b[1;33m\u001b[0m\u001b[0m\n\u001b[0;32m     62\u001b[0m         \u001b[1;32mtry\u001b[0m\u001b[1;33m:\u001b[0m\u001b[1;33m\u001b[0m\u001b[0m\n\u001b[1;32m---> 63\u001b[1;33m             \u001b[1;32mreturn\u001b[0m \u001b[0mf\u001b[0m\u001b[1;33m(\u001b[0m\u001b[1;33m*\u001b[0m\u001b[0ma\u001b[0m\u001b[1;33m,\u001b[0m \u001b[1;33m**\u001b[0m\u001b[0mkw\u001b[0m\u001b[1;33m)\u001b[0m\u001b[1;33m\u001b[0m\u001b[0m\n\u001b[0m\u001b[0;32m     64\u001b[0m         \u001b[1;32mexcept\u001b[0m \u001b[0mpy4j\u001b[0m\u001b[1;33m.\u001b[0m\u001b[0mprotocol\u001b[0m\u001b[1;33m.\u001b[0m\u001b[0mPy4JJavaError\u001b[0m \u001b[1;32mas\u001b[0m \u001b[0me\u001b[0m\u001b[1;33m:\u001b[0m\u001b[1;33m\u001b[0m\u001b[0m\n\u001b[0;32m     65\u001b[0m             \u001b[0ms\u001b[0m \u001b[1;33m=\u001b[0m \u001b[0me\u001b[0m\u001b[1;33m.\u001b[0m\u001b[0mjava_exception\u001b[0m\u001b[1;33m.\u001b[0m\u001b[0mtoString\u001b[0m\u001b[1;33m(\u001b[0m\u001b[1;33m)\u001b[0m\u001b[1;33m\u001b[0m\u001b[0m\n",
      "\u001b[1;32mC:\\spark\\python\\lib\\py4j-0.10.7-src.zip\\py4j\\protocol.py\u001b[0m in \u001b[0;36mget_return_value\u001b[1;34m(answer, gateway_client, target_id, name)\u001b[0m\n\u001b[0;32m    326\u001b[0m                 raise Py4JJavaError(\n\u001b[0;32m    327\u001b[0m                     \u001b[1;34m\"An error occurred while calling {0}{1}{2}.\\n\"\u001b[0m\u001b[1;33m.\u001b[0m\u001b[1;33m\u001b[0m\u001b[0m\n\u001b[1;32m--> 328\u001b[1;33m                     format(target_id, \".\", name), value)\n\u001b[0m\u001b[0;32m    329\u001b[0m             \u001b[1;32melse\u001b[0m\u001b[1;33m:\u001b[0m\u001b[1;33m\u001b[0m\u001b[0m\n\u001b[0;32m    330\u001b[0m                 raise Py4JError(\n",
      "\u001b[1;31mPy4JJavaError\u001b[0m: An error occurred while calling z:org.apache.spark.sql.functions.lit.\n: java.lang.RuntimeException: Unsupported literal type class java.util.ArrayList [17.849999999999998, 14.700000000000001, 15.040000000000001, 14.26, 18.0, 21.060000000000002, 15.639999999999999, 17.0, 12.76, 15.190000000000001, 19.980000000000004, 16.32, 14.399999999999999, 12.899999999999999, 23.2, 25.080000000000002, 21.060000000000002, 17.849999999999998, 21.66, 19.38, 18.36, 18.87, 16.56, 16.83, 16.32, 15.0, 17.0, 18.2, 17.68, 15.040000000000001, 14.879999999999999, 18.36, 21.32, 23.1, 15.190000000000001, 16.0, 19.25, 15.190000000000001, 13.200000000000001, 17.34, 17.5, 10.35, 14.080000000000002, 17.5, 19.38, 14.399999999999999, 19.38, 14.719999999999999, 19.61, 16.5, 22.400000000000002, 20.480000000000004, 21.39, 12.649999999999999, 18.2, 15.959999999999999, 20.79, 11.76, 19.139999999999997, 14.040000000000001, 10.0, 17.700000000000003, 13.200000000000001, 17.689999999999998, 16.24, 20.77, 16.799999999999997, 15.66, 13.640000000000002, 14.0, 18.880000000000003, 17.08, 15.75, 17.08, 18.56, 19.799999999999997, 19.04, 20.1, 17.4, 14.82, 13.2, 13.2, 15.66, 16.200000000000003, 16.200000000000003, 20.4, 20.77, 14.489999999999998, 16.799999999999997, 13.75, 14.3, 18.299999999999997, 15.08, 11.5, 15.12, 17.1, 16.53, 17.98, 12.75, 15.959999999999999, 20.79, 15.66, 21.299999999999997, 18.27, 19.5, 22.799999999999997, 12.25, 21.169999999999998, 16.75, 25.92, 20.8, 17.28, 20.4, 14.25, 16.24, 20.480000000000004, 19.5, 29.259999999999998, 20.02, 13.200000000000001, 22.080000000000002, 15.679999999999998, 21.56, 17.01, 22.11, 23.040000000000003, 17.36, 18.299999999999997, 17.919999999999998, 21.6, 20.72, 30.02, 17.919999999999998, 17.639999999999997, 15.86, 23.1, 21.419999999999998, 19.840000000000003, 18.0, 21.39, 20.77, 21.39, 15.66, 21.76, 22.11, 20.1, 15.75, 19.5, 21.08, 17.700000000000003]\r\n\tat org.apache.spark.sql.catalyst.expressions.Literal$.apply(literals.scala:77)\r\n\tat org.apache.spark.sql.catalyst.expressions.Literal$$anonfun$create$2.apply(literals.scala:163)\r\n\tat org.apache.spark.sql.catalyst.expressions.Literal$$anonfun$create$2.apply(literals.scala:163)\r\n\tat scala.util.Try.getOrElse(Try.scala:79)\r\n\tat org.apache.spark.sql.catalyst.expressions.Literal$.create(literals.scala:162)\r\n\tat org.apache.spark.sql.functions$.typedLit(functions.scala:113)\r\n\tat org.apache.spark.sql.functions$.lit(functions.scala:96)\r\n\tat org.apache.spark.sql.functions.lit(functions.scala)\r\n\tat sun.reflect.NativeMethodAccessorImpl.invoke0(Native Method)\r\n\tat sun.reflect.NativeMethodAccessorImpl.invoke(NativeMethodAccessorImpl.java:62)\r\n\tat sun.reflect.DelegatingMethodAccessorImpl.invoke(DelegatingMethodAccessorImpl.java:43)\r\n\tat java.lang.reflect.Method.invoke(Method.java:498)\r\n\tat py4j.reflection.MethodInvoker.invoke(MethodInvoker.java:244)\r\n\tat py4j.reflection.ReflectionEngine.invoke(ReflectionEngine.java:357)\r\n\tat py4j.Gateway.invoke(Gateway.java:282)\r\n\tat py4j.commands.AbstractCommand.invokeMethod(AbstractCommand.java:132)\r\n\tat py4j.commands.CallCommand.execute(CallCommand.java:79)\r\n\tat py4j.GatewayConnection.run(GatewayConnection.java:238)\r\n\tat java.lang.Thread.run(Thread.java:748)\r\n"
     ]
    }
   ],
   "source": [
    "lit(coll_list)"
   ]
  },
  {
   "cell_type": "code",
   "execution_count": 136,
   "metadata": {},
   "outputs": [
    {
     "data": {
      "text/plain": [
       "Column<b'0'>"
      ]
     },
     "execution_count": 136,
     "metadata": {},
     "output_type": "execute_result"
    }
   ],
   "source": [
    "lit(0)"
   ]
  },
  {
   "cell_type": "code",
   "execution_count": 127,
   "metadata": {},
   "outputs": [
    {
     "ename": "AttributeError",
     "evalue": "'DataFrame' object has no attribute '_get_object_id'",
     "output_type": "error",
     "traceback": [
      "\u001b[1;31m---------------------------------------------------------------------------\u001b[0m",
      "\u001b[1;31mAttributeError\u001b[0m                            Traceback (most recent call last)",
      "\u001b[1;32m<ipython-input-127-954f5efcb0ef>\u001b[0m in \u001b[0;36m<module>\u001b[1;34m()\u001b[0m\n\u001b[1;32m----> 1\u001b[1;33m \u001b[0mcoll_spark_col\u001b[0m \u001b[1;33m=\u001b[0m \u001b[0mlit\u001b[0m\u001b[1;33m(\u001b[0m\u001b[0mcoll_spark_df\u001b[0m\u001b[1;33m)\u001b[0m\u001b[1;33m\u001b[0m\u001b[0m\n\u001b[0m",
      "\u001b[1;32mC:\\spark\\python\\pyspark\\sql\\functions.py\u001b[0m in \u001b[0;36m_\u001b[1;34m(col)\u001b[0m\n\u001b[0;32m     40\u001b[0m     \u001b[1;32mdef\u001b[0m \u001b[0m_\u001b[0m\u001b[1;33m(\u001b[0m\u001b[0mcol\u001b[0m\u001b[1;33m)\u001b[0m\u001b[1;33m:\u001b[0m\u001b[1;33m\u001b[0m\u001b[0m\n\u001b[0;32m     41\u001b[0m         \u001b[0msc\u001b[0m \u001b[1;33m=\u001b[0m \u001b[0mSparkContext\u001b[0m\u001b[1;33m.\u001b[0m\u001b[0m_active_spark_context\u001b[0m\u001b[1;33m\u001b[0m\u001b[0m\n\u001b[1;32m---> 42\u001b[1;33m         \u001b[0mjc\u001b[0m \u001b[1;33m=\u001b[0m \u001b[0mgetattr\u001b[0m\u001b[1;33m(\u001b[0m\u001b[0msc\u001b[0m\u001b[1;33m.\u001b[0m\u001b[0m_jvm\u001b[0m\u001b[1;33m.\u001b[0m\u001b[0mfunctions\u001b[0m\u001b[1;33m,\u001b[0m \u001b[0mname\u001b[0m\u001b[1;33m)\u001b[0m\u001b[1;33m(\u001b[0m\u001b[0mcol\u001b[0m\u001b[1;33m.\u001b[0m\u001b[0m_jc\u001b[0m \u001b[1;32mif\u001b[0m \u001b[0misinstance\u001b[0m\u001b[1;33m(\u001b[0m\u001b[0mcol\u001b[0m\u001b[1;33m,\u001b[0m \u001b[0mColumn\u001b[0m\u001b[1;33m)\u001b[0m \u001b[1;32melse\u001b[0m \u001b[0mcol\u001b[0m\u001b[1;33m)\u001b[0m\u001b[1;33m\u001b[0m\u001b[0m\n\u001b[0m\u001b[0;32m     43\u001b[0m         \u001b[1;32mreturn\u001b[0m \u001b[0mColumn\u001b[0m\u001b[1;33m(\u001b[0m\u001b[0mjc\u001b[0m\u001b[1;33m)\u001b[0m\u001b[1;33m\u001b[0m\u001b[0m\n\u001b[0;32m     44\u001b[0m     \u001b[0m_\u001b[0m\u001b[1;33m.\u001b[0m\u001b[0m__name__\u001b[0m \u001b[1;33m=\u001b[0m \u001b[0mname\u001b[0m\u001b[1;33m\u001b[0m\u001b[0m\n",
      "\u001b[1;32mC:\\spark\\python\\lib\\py4j-0.10.7-src.zip\\py4j\\java_gateway.py\u001b[0m in \u001b[0;36m__call__\u001b[1;34m(self, *args)\u001b[0m\n\u001b[0;32m   1246\u001b[0m \u001b[1;33m\u001b[0m\u001b[0m\n\u001b[0;32m   1247\u001b[0m     \u001b[1;32mdef\u001b[0m \u001b[0m__call__\u001b[0m\u001b[1;33m(\u001b[0m\u001b[0mself\u001b[0m\u001b[1;33m,\u001b[0m \u001b[1;33m*\u001b[0m\u001b[0margs\u001b[0m\u001b[1;33m)\u001b[0m\u001b[1;33m:\u001b[0m\u001b[1;33m\u001b[0m\u001b[0m\n\u001b[1;32m-> 1248\u001b[1;33m         \u001b[0margs_command\u001b[0m\u001b[1;33m,\u001b[0m \u001b[0mtemp_args\u001b[0m \u001b[1;33m=\u001b[0m \u001b[0mself\u001b[0m\u001b[1;33m.\u001b[0m\u001b[0m_build_args\u001b[0m\u001b[1;33m(\u001b[0m\u001b[1;33m*\u001b[0m\u001b[0margs\u001b[0m\u001b[1;33m)\u001b[0m\u001b[1;33m\u001b[0m\u001b[0m\n\u001b[0m\u001b[0;32m   1249\u001b[0m \u001b[1;33m\u001b[0m\u001b[0m\n\u001b[0;32m   1250\u001b[0m         \u001b[0mcommand\u001b[0m \u001b[1;33m=\u001b[0m \u001b[0mproto\u001b[0m\u001b[1;33m.\u001b[0m\u001b[0mCALL_COMMAND_NAME\u001b[0m \u001b[1;33m+\u001b[0m\u001b[0;31m\\\u001b[0m\u001b[1;33m\u001b[0m\u001b[0m\n",
      "\u001b[1;32mC:\\spark\\python\\lib\\py4j-0.10.7-src.zip\\py4j\\java_gateway.py\u001b[0m in \u001b[0;36m_build_args\u001b[1;34m(self, *args)\u001b[0m\n\u001b[0;32m   1216\u001b[0m \u001b[1;33m\u001b[0m\u001b[0m\n\u001b[0;32m   1217\u001b[0m         args_command = \"\".join(\n\u001b[1;32m-> 1218\u001b[1;33m             [get_command_part(arg, self.pool) for arg in new_args])\n\u001b[0m\u001b[0;32m   1219\u001b[0m \u001b[1;33m\u001b[0m\u001b[0m\n\u001b[0;32m   1220\u001b[0m         \u001b[1;32mreturn\u001b[0m \u001b[0margs_command\u001b[0m\u001b[1;33m,\u001b[0m \u001b[0mtemp_args\u001b[0m\u001b[1;33m\u001b[0m\u001b[0m\n",
      "\u001b[1;32mC:\\spark\\python\\lib\\py4j-0.10.7-src.zip\\py4j\\java_gateway.py\u001b[0m in \u001b[0;36m<listcomp>\u001b[1;34m(.0)\u001b[0m\n\u001b[0;32m   1216\u001b[0m \u001b[1;33m\u001b[0m\u001b[0m\n\u001b[0;32m   1217\u001b[0m         args_command = \"\".join(\n\u001b[1;32m-> 1218\u001b[1;33m             [get_command_part(arg, self.pool) for arg in new_args])\n\u001b[0m\u001b[0;32m   1219\u001b[0m \u001b[1;33m\u001b[0m\u001b[0m\n\u001b[0;32m   1220\u001b[0m         \u001b[1;32mreturn\u001b[0m \u001b[0margs_command\u001b[0m\u001b[1;33m,\u001b[0m \u001b[0mtemp_args\u001b[0m\u001b[1;33m\u001b[0m\u001b[0m\n",
      "\u001b[1;32mC:\\spark\\python\\lib\\py4j-0.10.7-src.zip\\py4j\\protocol.py\u001b[0m in \u001b[0;36mget_command_part\u001b[1;34m(parameter, python_proxy_pool)\u001b[0m\n\u001b[0;32m    296\u001b[0m             \u001b[0mcommand_part\u001b[0m \u001b[1;33m+=\u001b[0m \u001b[1;34m\";\"\u001b[0m \u001b[1;33m+\u001b[0m \u001b[0minterface\u001b[0m\u001b[1;33m\u001b[0m\u001b[0m\n\u001b[0;32m    297\u001b[0m     \u001b[1;32melse\u001b[0m\u001b[1;33m:\u001b[0m\u001b[1;33m\u001b[0m\u001b[0m\n\u001b[1;32m--> 298\u001b[1;33m         \u001b[0mcommand_part\u001b[0m \u001b[1;33m=\u001b[0m \u001b[0mREFERENCE_TYPE\u001b[0m \u001b[1;33m+\u001b[0m \u001b[0mparameter\u001b[0m\u001b[1;33m.\u001b[0m\u001b[0m_get_object_id\u001b[0m\u001b[1;33m(\u001b[0m\u001b[1;33m)\u001b[0m\u001b[1;33m\u001b[0m\u001b[0m\n\u001b[0m\u001b[0;32m    299\u001b[0m \u001b[1;33m\u001b[0m\u001b[0m\n\u001b[0;32m    300\u001b[0m     \u001b[0mcommand_part\u001b[0m \u001b[1;33m+=\u001b[0m \u001b[1;34m\"\\n\"\u001b[0m\u001b[1;33m\u001b[0m\u001b[0m\n",
      "\u001b[1;32mC:\\spark\\python\\pyspark\\sql\\dataframe.py\u001b[0m in \u001b[0;36m__getattr__\u001b[1;34m(self, name)\u001b[0m\n\u001b[0;32m   1180\u001b[0m         \u001b[1;32mif\u001b[0m \u001b[0mname\u001b[0m \u001b[1;32mnot\u001b[0m \u001b[1;32min\u001b[0m \u001b[0mself\u001b[0m\u001b[1;33m.\u001b[0m\u001b[0mcolumns\u001b[0m\u001b[1;33m:\u001b[0m\u001b[1;33m\u001b[0m\u001b[0m\n\u001b[0;32m   1181\u001b[0m             raise AttributeError(\n\u001b[1;32m-> 1182\u001b[1;33m                 \"'%s' object has no attribute '%s'\" % (self.__class__.__name__, name))\n\u001b[0m\u001b[0;32m   1183\u001b[0m         \u001b[0mjc\u001b[0m \u001b[1;33m=\u001b[0m \u001b[0mself\u001b[0m\u001b[1;33m.\u001b[0m\u001b[0m_jdf\u001b[0m\u001b[1;33m.\u001b[0m\u001b[0mapply\u001b[0m\u001b[1;33m(\u001b[0m\u001b[0mname\u001b[0m\u001b[1;33m)\u001b[0m\u001b[1;33m\u001b[0m\u001b[0m\n\u001b[0;32m   1184\u001b[0m         \u001b[1;32mreturn\u001b[0m \u001b[0mColumn\u001b[0m\u001b[1;33m(\u001b[0m\u001b[0mjc\u001b[0m\u001b[1;33m)\u001b[0m\u001b[1;33m\u001b[0m\u001b[0m\n",
      "\u001b[1;31mAttributeError\u001b[0m: 'DataFrame' object has no attribute '_get_object_id'"
     ]
    }
   ],
   "source": [
    "coll_spark_col = lit(coll_spark_df)"
   ]
  },
  {
   "cell_type": "code",
   "execution_count": null,
   "metadata": {},
   "outputs": [],
   "source": []
  },
  {
   "cell_type": "code",
   "execution_count": null,
   "metadata": {},
   "outputs": [],
   "source": []
  },
  {
   "cell_type": "code",
   "execution_count": 69,
   "metadata": {},
   "outputs": [
    {
     "data": {
      "text/plain": [
       "['_c0', '_c1', '_c2', '_c3', '_c4', 'features', 'label']"
      ]
     },
     "execution_count": 69,
     "metadata": {},
     "output_type": "execute_result"
    }
   ],
   "source": [
    "dataset.columns"
   ]
  },
  {
   "cell_type": "code",
   "execution_count": 71,
   "metadata": {},
   "outputs": [
    {
     "name": "stdout",
     "output_type": "stream",
     "text": [
      "+---+---+\n",
      "|_c0|_c1|\n",
      "+---+---+\n",
      "|5.1|3.5|\n",
      "|4.9|3.0|\n",
      "|4.7|3.2|\n",
      "|4.6|3.1|\n",
      "|5.0|3.6|\n",
      "+---+---+\n",
      "only showing top 5 rows\n",
      "\n"
     ]
    }
   ],
   "source": [
    "dataset.select(['_c0', '_c1']).show(5)"
   ]
  },
  {
   "cell_type": "code",
   "execution_count": 73,
   "metadata": {},
   "outputs": [],
   "source": [
    "dataset_delete = dataset.select([i for i in dataset.columns if i != 'label'])"
   ]
  },
  {
   "cell_type": "code",
   "execution_count": 75,
   "metadata": {},
   "outputs": [
    {
     "name": "stdout",
     "output_type": "stream",
     "text": [
      "+---+---+---+---+---+-----------------+\n",
      "|_c0|_c1|_c2|_c3|_c4|         features|\n",
      "+---+---+---+---+---+-----------------+\n",
      "|5.1|3.5|1.4|0.2|1.0|[5.1,3.5,1.4,0.2]|\n",
      "|4.9|3.0|1.4|0.2|1.0|[4.9,3.0,1.4,0.2]|\n",
      "|4.7|3.2|1.3|0.2|1.0|[4.7,3.2,1.3,0.2]|\n",
      "|4.6|3.1|1.5|0.2|1.0|[4.6,3.1,1.5,0.2]|\n",
      "|5.0|3.6|1.4|0.2|1.0|[5.0,3.6,1.4,0.2]|\n",
      "+---+---+---+---+---+-----------------+\n",
      "only showing top 5 rows\n",
      "\n"
     ]
    }
   ],
   "source": [
    "dataset_delete.show(5)"
   ]
  },
  {
   "cell_type": "code",
   "execution_count": null,
   "metadata": {},
   "outputs": [],
   "source": []
  },
  {
   "cell_type": "code",
   "execution_count": null,
   "metadata": {},
   "outputs": [],
   "source": []
  },
  {
   "cell_type": "code",
   "execution_count": 60,
   "metadata": {},
   "outputs": [
    {
     "name": "stdout",
     "output_type": "stream",
     "text": [
      "Column<b'_c0'>\n"
     ]
    }
   ],
   "source": [
    "dataset._c0"
   ]
  },
  {
   "cell_type": "code",
   "execution_count": 61,
   "metadata": {},
   "outputs": [],
   "source": [
    "new_dataset = dataset.withColumn('_c00', dataset['_c0'] + 2)"
   ]
  },
  {
   "cell_type": "code",
   "execution_count": 62,
   "metadata": {},
   "outputs": [
    {
     "data": {
      "text/plain": [
       "DataFrame[_c0: double, _c1: double, _c2: double, _c3: double, _c4: string, features: vector, label: double, _c00: double]"
      ]
     },
     "execution_count": 62,
     "metadata": {},
     "output_type": "execute_result"
    }
   ],
   "source": [
    "new_dataset"
   ]
  },
  {
   "cell_type": "code",
   "execution_count": 63,
   "metadata": {},
   "outputs": [
    {
     "name": "stdout",
     "output_type": "stream",
     "text": [
      "+---+---+---+---+---+-----------------+-----+----+\n",
      "|_c0|_c1|_c2|_c3|_c4|         features|label|_c00|\n",
      "+---+---+---+---+---+-----------------+-----+----+\n",
      "|5.1|3.5|1.4|0.2|1.0|[5.1,3.5,1.4,0.2]|  0.0| 7.1|\n",
      "|4.9|3.0|1.4|0.2|1.0|[4.9,3.0,1.4,0.2]|  0.0| 6.9|\n",
      "|4.7|3.2|1.3|0.2|1.0|[4.7,3.2,1.3,0.2]|  0.0| 6.7|\n",
      "|4.6|3.1|1.5|0.2|1.0|[4.6,3.1,1.5,0.2]|  0.0| 6.6|\n",
      "|5.0|3.6|1.4|0.2|1.0|[5.0,3.6,1.4,0.2]|  0.0| 7.0|\n",
      "|5.4|3.9|1.7|0.4|1.0|[5.4,3.9,1.7,0.4]|  0.0| 7.4|\n",
      "|4.6|3.4|1.4|0.3|1.0|[4.6,3.4,1.4,0.3]|  0.0| 6.6|\n",
      "|5.0|3.4|1.5|0.2|1.0|[5.0,3.4,1.5,0.2]|  0.0| 7.0|\n",
      "|4.4|2.9|1.4|0.2|1.0|[4.4,2.9,1.4,0.2]|  0.0| 6.4|\n",
      "|4.9|3.1|1.5|0.1|1.0|[4.9,3.1,1.5,0.1]|  0.0| 6.9|\n",
      "|5.4|3.7|1.5|0.2|1.0|[5.4,3.7,1.5,0.2]|  0.0| 7.4|\n",
      "|4.8|3.4|1.6|0.2|1.0|[4.8,3.4,1.6,0.2]|  0.0| 6.8|\n",
      "|4.8|3.0|1.4|0.1|1.0|[4.8,3.0,1.4,0.1]|  0.0| 6.8|\n",
      "|4.3|3.0|1.1|0.1|1.0|[4.3,3.0,1.1,0.1]|  0.0| 6.3|\n",
      "|5.8|4.0|1.2|0.2|1.0|[5.8,4.0,1.2,0.2]|  0.0| 7.8|\n",
      "|5.7|4.4|1.5|0.4|1.0|[5.7,4.4,1.5,0.4]|  0.0| 7.7|\n",
      "|5.4|3.9|1.3|0.4|1.0|[5.4,3.9,1.3,0.4]|  0.0| 7.4|\n",
      "|5.1|3.5|1.4|0.3|1.0|[5.1,3.5,1.4,0.3]|  0.0| 7.1|\n",
      "|5.7|3.8|1.7|0.3|1.0|[5.7,3.8,1.7,0.3]|  0.0| 7.7|\n",
      "|5.1|3.8|1.5|0.3|1.0|[5.1,3.8,1.5,0.3]|  0.0| 7.1|\n",
      "+---+---+---+---+---+-----------------+-----+----+\n",
      "only showing top 20 rows\n",
      "\n"
     ]
    }
   ],
   "source": [
    "new_dataset.show()"
   ]
  },
  {
   "cell_type": "code",
   "execution_count": 31,
   "metadata": {},
   "outputs": [
    {
     "data": {
      "text/plain": [
       "pyspark.sql.dataframe.DataFrame"
      ]
     },
     "execution_count": 31,
     "metadata": {},
     "output_type": "execute_result"
    }
   ],
   "source": [
    "type(dataset.select('_c0'))"
   ]
  },
  {
   "cell_type": "code",
   "execution_count": 33,
   "metadata": {
    "scrolled": true
   },
   "outputs": [],
   "source": [
    "dataset_cl= dataset.select('_c0').collect()"
   ]
  },
  {
   "cell_type": "code",
   "execution_count": 34,
   "metadata": {},
   "outputs": [
    {
     "data": {
      "text/plain": [
       "[Row(_c0=5.1),\n",
       " Row(_c0=4.9),\n",
       " Row(_c0=4.7),\n",
       " Row(_c0=4.6),\n",
       " Row(_c0=5.0),\n",
       " Row(_c0=5.4),\n",
       " Row(_c0=4.6),\n",
       " Row(_c0=5.0),\n",
       " Row(_c0=4.4),\n",
       " Row(_c0=4.9),\n",
       " Row(_c0=5.4),\n",
       " Row(_c0=4.8),\n",
       " Row(_c0=4.8),\n",
       " Row(_c0=4.3),\n",
       " Row(_c0=5.8),\n",
       " Row(_c0=5.7),\n",
       " Row(_c0=5.4),\n",
       " Row(_c0=5.1),\n",
       " Row(_c0=5.7),\n",
       " Row(_c0=5.1),\n",
       " Row(_c0=5.4),\n",
       " Row(_c0=5.1),\n",
       " Row(_c0=4.6),\n",
       " Row(_c0=5.1),\n",
       " Row(_c0=4.8),\n",
       " Row(_c0=5.0),\n",
       " Row(_c0=5.0),\n",
       " Row(_c0=5.2),\n",
       " Row(_c0=5.2),\n",
       " Row(_c0=4.7),\n",
       " Row(_c0=4.8),\n",
       " Row(_c0=5.4),\n",
       " Row(_c0=5.2),\n",
       " Row(_c0=5.5),\n",
       " Row(_c0=4.9),\n",
       " Row(_c0=5.0),\n",
       " Row(_c0=5.5),\n",
       " Row(_c0=4.9),\n",
       " Row(_c0=4.4),\n",
       " Row(_c0=5.1),\n",
       " Row(_c0=5.0),\n",
       " Row(_c0=4.5),\n",
       " Row(_c0=4.4),\n",
       " Row(_c0=5.0),\n",
       " Row(_c0=5.1),\n",
       " Row(_c0=4.8),\n",
       " Row(_c0=5.1),\n",
       " Row(_c0=4.6),\n",
       " Row(_c0=5.3),\n",
       " Row(_c0=5.0),\n",
       " Row(_c0=7.0),\n",
       " Row(_c0=6.4),\n",
       " Row(_c0=6.9),\n",
       " Row(_c0=5.5),\n",
       " Row(_c0=6.5),\n",
       " Row(_c0=5.7),\n",
       " Row(_c0=6.3),\n",
       " Row(_c0=4.9),\n",
       " Row(_c0=6.6),\n",
       " Row(_c0=5.2),\n",
       " Row(_c0=5.0),\n",
       " Row(_c0=5.9),\n",
       " Row(_c0=6.0),\n",
       " Row(_c0=6.1),\n",
       " Row(_c0=5.6),\n",
       " Row(_c0=6.7),\n",
       " Row(_c0=5.6),\n",
       " Row(_c0=5.8),\n",
       " Row(_c0=6.2),\n",
       " Row(_c0=5.6),\n",
       " Row(_c0=5.9),\n",
       " Row(_c0=6.1),\n",
       " Row(_c0=6.3),\n",
       " Row(_c0=6.1),\n",
       " Row(_c0=6.4),\n",
       " Row(_c0=6.6),\n",
       " Row(_c0=6.8),\n",
       " Row(_c0=6.7),\n",
       " Row(_c0=6.0),\n",
       " Row(_c0=5.7),\n",
       " Row(_c0=5.5),\n",
       " Row(_c0=5.5),\n",
       " Row(_c0=5.8),\n",
       " Row(_c0=6.0),\n",
       " Row(_c0=5.4),\n",
       " Row(_c0=6.0),\n",
       " Row(_c0=6.7),\n",
       " Row(_c0=6.3),\n",
       " Row(_c0=5.6),\n",
       " Row(_c0=5.5),\n",
       " Row(_c0=5.5),\n",
       " Row(_c0=6.1),\n",
       " Row(_c0=5.8),\n",
       " Row(_c0=5.0),\n",
       " Row(_c0=5.6),\n",
       " Row(_c0=5.7),\n",
       " Row(_c0=5.7),\n",
       " Row(_c0=6.2),\n",
       " Row(_c0=5.1),\n",
       " Row(_c0=5.7),\n",
       " Row(_c0=6.3),\n",
       " Row(_c0=5.8),\n",
       " Row(_c0=7.1),\n",
       " Row(_c0=6.3),\n",
       " Row(_c0=6.5),\n",
       " Row(_c0=7.6),\n",
       " Row(_c0=4.9),\n",
       " Row(_c0=7.3),\n",
       " Row(_c0=6.7),\n",
       " Row(_c0=7.2),\n",
       " Row(_c0=6.5),\n",
       " Row(_c0=6.4),\n",
       " Row(_c0=6.8),\n",
       " Row(_c0=5.7),\n",
       " Row(_c0=5.8),\n",
       " Row(_c0=6.4),\n",
       " Row(_c0=6.5),\n",
       " Row(_c0=7.7),\n",
       " Row(_c0=7.7),\n",
       " Row(_c0=6.0),\n",
       " Row(_c0=6.9),\n",
       " Row(_c0=5.6),\n",
       " Row(_c0=7.7),\n",
       " Row(_c0=6.3),\n",
       " Row(_c0=6.7),\n",
       " Row(_c0=7.2),\n",
       " Row(_c0=6.2),\n",
       " Row(_c0=6.1),\n",
       " Row(_c0=6.4),\n",
       " Row(_c0=7.2),\n",
       " Row(_c0=7.4),\n",
       " Row(_c0=7.9),\n",
       " Row(_c0=6.4),\n",
       " Row(_c0=6.3),\n",
       " Row(_c0=6.1),\n",
       " Row(_c0=7.7),\n",
       " Row(_c0=6.3),\n",
       " Row(_c0=6.4),\n",
       " Row(_c0=6.0),\n",
       " Row(_c0=6.9),\n",
       " Row(_c0=6.7),\n",
       " Row(_c0=6.9),\n",
       " Row(_c0=5.8),\n",
       " Row(_c0=6.8),\n",
       " Row(_c0=6.7),\n",
       " Row(_c0=6.7),\n",
       " Row(_c0=6.3),\n",
       " Row(_c0=6.5),\n",
       " Row(_c0=6.2),\n",
       " Row(_c0=5.9)]"
      ]
     },
     "execution_count": 34,
     "metadata": {},
     "output_type": "execute_result"
    }
   ],
   "source": [
    "dataset_cl"
   ]
  },
  {
   "cell_type": "code",
   "execution_count": 39,
   "metadata": {},
   "outputs": [],
   "source": [
    "# dataset_list = [i[0] for i in dataset_cl]  # OK\n",
    "dataset_list = [i['_c0'] for i in dataset_cl]  # OK"
   ]
  },
  {
   "cell_type": "code",
   "execution_count": 40,
   "metadata": {},
   "outputs": [
    {
     "data": {
      "text/plain": [
       "[5.1,\n",
       " 4.9,\n",
       " 4.7,\n",
       " 4.6,\n",
       " 5.0,\n",
       " 5.4,\n",
       " 4.6,\n",
       " 5.0,\n",
       " 4.4,\n",
       " 4.9,\n",
       " 5.4,\n",
       " 4.8,\n",
       " 4.8,\n",
       " 4.3,\n",
       " 5.8,\n",
       " 5.7,\n",
       " 5.4,\n",
       " 5.1,\n",
       " 5.7,\n",
       " 5.1,\n",
       " 5.4,\n",
       " 5.1,\n",
       " 4.6,\n",
       " 5.1,\n",
       " 4.8,\n",
       " 5.0,\n",
       " 5.0,\n",
       " 5.2,\n",
       " 5.2,\n",
       " 4.7,\n",
       " 4.8,\n",
       " 5.4,\n",
       " 5.2,\n",
       " 5.5,\n",
       " 4.9,\n",
       " 5.0,\n",
       " 5.5,\n",
       " 4.9,\n",
       " 4.4,\n",
       " 5.1,\n",
       " 5.0,\n",
       " 4.5,\n",
       " 4.4,\n",
       " 5.0,\n",
       " 5.1,\n",
       " 4.8,\n",
       " 5.1,\n",
       " 4.6,\n",
       " 5.3,\n",
       " 5.0,\n",
       " 7.0,\n",
       " 6.4,\n",
       " 6.9,\n",
       " 5.5,\n",
       " 6.5,\n",
       " 5.7,\n",
       " 6.3,\n",
       " 4.9,\n",
       " 6.6,\n",
       " 5.2,\n",
       " 5.0,\n",
       " 5.9,\n",
       " 6.0,\n",
       " 6.1,\n",
       " 5.6,\n",
       " 6.7,\n",
       " 5.6,\n",
       " 5.8,\n",
       " 6.2,\n",
       " 5.6,\n",
       " 5.9,\n",
       " 6.1,\n",
       " 6.3,\n",
       " 6.1,\n",
       " 6.4,\n",
       " 6.6,\n",
       " 6.8,\n",
       " 6.7,\n",
       " 6.0,\n",
       " 5.7,\n",
       " 5.5,\n",
       " 5.5,\n",
       " 5.8,\n",
       " 6.0,\n",
       " 5.4,\n",
       " 6.0,\n",
       " 6.7,\n",
       " 6.3,\n",
       " 5.6,\n",
       " 5.5,\n",
       " 5.5,\n",
       " 6.1,\n",
       " 5.8,\n",
       " 5.0,\n",
       " 5.6,\n",
       " 5.7,\n",
       " 5.7,\n",
       " 6.2,\n",
       " 5.1,\n",
       " 5.7,\n",
       " 6.3,\n",
       " 5.8,\n",
       " 7.1,\n",
       " 6.3,\n",
       " 6.5,\n",
       " 7.6,\n",
       " 4.9,\n",
       " 7.3,\n",
       " 6.7,\n",
       " 7.2,\n",
       " 6.5,\n",
       " 6.4,\n",
       " 6.8,\n",
       " 5.7,\n",
       " 5.8,\n",
       " 6.4,\n",
       " 6.5,\n",
       " 7.7,\n",
       " 7.7,\n",
       " 6.0,\n",
       " 6.9,\n",
       " 5.6,\n",
       " 7.7,\n",
       " 6.3,\n",
       " 6.7,\n",
       " 7.2,\n",
       " 6.2,\n",
       " 6.1,\n",
       " 6.4,\n",
       " 7.2,\n",
       " 7.4,\n",
       " 7.9,\n",
       " 6.4,\n",
       " 6.3,\n",
       " 6.1,\n",
       " 7.7,\n",
       " 6.3,\n",
       " 6.4,\n",
       " 6.0,\n",
       " 6.9,\n",
       " 6.7,\n",
       " 6.9,\n",
       " 5.8,\n",
       " 6.8,\n",
       " 6.7,\n",
       " 6.7,\n",
       " 6.3,\n",
       " 6.5,\n",
       " 6.2,\n",
       " 5.9]"
      ]
     },
     "execution_count": 40,
     "metadata": {},
     "output_type": "execute_result"
    }
   ],
   "source": [
    "dataset_list"
   ]
  },
  {
   "cell_type": "code",
   "execution_count": 41,
   "metadata": {},
   "outputs": [
    {
     "data": {
      "text/plain": [
       "float"
      ]
     },
     "execution_count": 41,
     "metadata": {},
     "output_type": "execute_result"
    }
   ],
   "source": [
    "type(dataset_list[0])"
   ]
  },
  {
   "cell_type": "code",
   "execution_count": null,
   "metadata": {},
   "outputs": [],
   "source": []
  },
  {
   "cell_type": "code",
   "execution_count": null,
   "metadata": {},
   "outputs": [],
   "source": []
  },
  {
   "cell_type": "code",
   "execution_count": null,
   "metadata": {},
   "outputs": [],
   "source": []
  },
  {
   "cell_type": "code",
   "execution_count": 49,
   "metadata": {},
   "outputs": [],
   "source": [
    "# 删除某些无用列\n",
    "new_dataset = dataset.drop('_c0', '_c1', '_c2', '_c3', '_c4')"
   ]
  },
  {
   "cell_type": "code",
   "execution_count": 50,
   "metadata": {},
   "outputs": [
    {
     "name": "stdout",
     "output_type": "stream",
     "text": [
      "+-----------------+-----+\n",
      "|         features|label|\n",
      "+-----------------+-----+\n",
      "|[5.1,3.5,1.4,0.2]|  0.0|\n",
      "|[4.9,3.0,1.4,0.2]|  0.0|\n",
      "|[4.7,3.2,1.3,0.2]|  0.0|\n",
      "|[4.6,3.1,1.5,0.2]|  0.0|\n",
      "|[5.0,3.6,1.4,0.2]|  0.0|\n",
      "+-----------------+-----+\n",
      "only showing top 5 rows\n",
      "\n"
     ]
    }
   ],
   "source": [
    "new_dataset.show(5)"
   ]
  },
  {
   "cell_type": "code",
   "execution_count": 51,
   "metadata": {},
   "outputs": [],
   "source": [
    "# 新_模型训练\n",
    "lr_2 = LogisticRegression(maxIter=20, regParam=0.3, elasticNetParam=0)\n",
    "lrModel_2 = lr_2.fit(new_dataset)"
   ]
  },
  {
   "cell_type": "code",
   "execution_count": 52,
   "metadata": {},
   "outputs": [],
   "source": [
    "prediction_2 = lrModel_2.transform(new_dataset)"
   ]
  },
  {
   "cell_type": "code",
   "execution_count": 53,
   "metadata": {
    "scrolled": true
   },
   "outputs": [
    {
     "name": "stdout",
     "output_type": "stream",
     "text": [
      "+-----------------+-----+--------------------+--------------------+----------+\n",
      "|         features|label|       rawPrediction|         probability|prediction|\n",
      "+-----------------+-----+--------------------+--------------------+----------+\n",
      "|[5.1,3.5,1.4,0.2]|  0.0|[1.50553010141029...|[0.80168217364268...|       0.0|\n",
      "|[4.9,3.0,1.4,0.2]|  0.0|[1.20141808462763...|[0.69508498886403...|       0.0|\n",
      "|[4.7,3.2,1.3,0.2]|  0.0|[1.43534662127354...|[0.76732997443658...|       0.0|\n",
      "|[4.6,3.1,1.5,0.2]|  0.0|[1.34214957417624...|[0.73710671332729...|       0.0|\n",
      "|[5.0,3.6,1.4,0.2]|  0.0|[1.60975088260149...|[0.82670286305514...|       0.0|\n",
      "|[5.4,3.9,1.7,0.4]|  0.0|[1.52181555631473...|[0.82246378795528...|       0.0|\n",
      "|[4.6,3.4,1.4,0.3]|  0.0|[1.53372993913371...|[0.80131748475294...|       0.0|\n",
      "|[5.0,3.4,1.5,0.2]|  0.0|[1.43782002857652...|[0.78118697494117...|       0.0|\n",
      "|[4.4,2.9,1.4,0.2]|  0.0|[1.28319035129927...|[0.70504407252594...|       0.0|\n",
      "|[4.9,3.1,1.5,0.1]|  0.0|[1.30272547919305...|[0.72757103130925...|       0.0|\n",
      "|[5.4,3.7,1.5,0.2]|  0.0|[1.53349048297679...|[0.81710060154532...|       0.0|\n",
      "|[4.8,3.4,1.6,0.2]|  0.0|[1.47433073693393...|[0.78814553005028...|       0.0|\n",
      "|[4.8,3.0,1.4,0.1]|  0.0|[1.28598935488632...|[0.71514240464876...|       0.0|\n",
      "|[4.3,3.0,1.1,0.1]|  0.0|[1.51744448422927...|[0.76835479192800...|       0.0|\n",
      "|[5.8,4.0,1.2,0.2]|  0.0|[1.70562186016765...|[0.85922433078574...|       0.0|\n",
      "|[5.7,4.4,1.5,0.4]|  0.0|[1.84590268031398...|[0.88750881043155...|       0.0|\n",
      "|[5.4,3.9,1.3,0.4]|  0.0|[1.62376345336884...|[0.84248345736381...|       0.0|\n",
      "|[5.1,3.5,1.4,0.3]|  0.0|[1.45195767246207...|[0.79119729821658...|       0.0|\n",
      "|[5.7,3.8,1.7,0.3]|  0.0|[1.40916952145082...|[0.79551826206730...|       0.0|\n",
      "|[5.1,3.8,1.5,0.3]|  0.0|[1.64613651784071...|[0.84200120748797...|       0.0|\n",
      "|[5.4,3.4,1.7,0.2]|  0.0|[1.26285071480757...|[0.74083371155570...|       0.0|\n",
      "|[5.1,3.7,1.5,0.4]|  0.0|[1.51934214901176...|[0.81483665815034...|       0.0|\n",
      "|[4.6,3.6,1.0,0.2]|  0.0|[1.83569414489749...|[0.86441663995448...|       0.0|\n",
      "|[5.1,3.3,1.7,0.5]|  0.0|[1.12190801201359...|[0.69941376389204...|       0.0|\n",
      "|[4.8,3.4,1.9,0.2]|  0.0|[1.39786981414335...|[0.77043847554054...|       0.0|\n",
      "|[5.0,3.0,1.6,0.2]|  0.0|[1.11944529479010...|[0.67257479870408...|       0.0|\n",
      "|[5.0,3.4,1.6,0.4]|  0.0|[1.30518819641654...|[0.75206458154122...|       0.0|\n",
      "|[5.2,3.5,1.5,0.2]|  0.0|[1.44904428583629...|[0.78980475833068...|       0.0|\n",
      "|[5.2,3.4,1.4,0.2]|  0.0|[1.40130932021910...|[0.77399797728321...|       0.0|\n",
      "|[4.7,3.2,1.6,0.2]|  0.0|[1.35888569848296...|[0.74868518142508...|       0.0|\n",
      "|[4.8,3.1,1.6,0.2]|  0.0|[1.25466491729177...|[0.71588253453754...|       0.0|\n",
      "|[5.4,3.4,1.5,0.4]|  0.0|[1.20667980543817...|[0.7288584357658,...|       0.0|\n",
      "|[5.2,4.1,1.5,0.1]|  0.0|[1.94194835406886...|[0.89463218634897...|       0.0|\n",
      "|[5.5,4.2,1.4,0.2]|  0.0|[1.89408831533346...|[0.89109480265897...|       0.0|\n",
      "|[4.9,3.1,1.5,0.1]|  0.0|[1.30272547919305...|[0.72757103130925...|       0.0|\n",
      "|[5.0,3.2,1.2,0.2]|  0.0|[1.36783707160565...|[0.75337197851920...|       0.0|\n",
      "|[5.5,3.5,1.3,0.2]|  0.0|[1.40702171043193...|[0.78194745153597...|       0.0|\n",
      "|[4.9,3.1,1.5,0.1]|  0.0|[1.30272547919305...|[0.72757103130925...|       0.0|\n",
      "|[4.4,3.0,1.3,0.2]|  0.0|[1.38189926544352...|[0.73845835656118...|       0.0|\n",
      "|[5.1,3.4,1.5,0.2]|  0.0|[1.40682118726604...|[0.77462811321158...|       0.0|\n",
      "|[5.0,3.5,1.3,0.3]|  0.0|[1.50844348803607...|[0.80303550606892...|       0.0|\n",
      "|[4.5,2.3,1.3,0.3]|  0.0|[0.78477441601976...|[0.50113644033621...|       0.0|\n",
      "|[4.4,3.2,1.3,0.2]|  0.0|[1.52834314520496...|[0.78629023720106...|       0.0|\n",
      "|[5.0,3.5,1.6,0.6]|  0.0|[1.27126527840081...|[0.75088975346302...|       0.0|\n",
      "|[5.1,3.8,1.9,0.4]|  0.0|[1.49061619183837...|[0.81202321627955...|       0.0|\n",
      "|[4.8,3.0,1.4,0.3]|  0.0|[1.17884449698987...|[0.68991642474207...|       0.0|\n",
      "|[5.1,3.8,1.6,0.2]|  0.0|[1.67422197252541...|[0.84620466855872...|       0.0|\n",
      "|[4.6,3.2,1.4,0.2]|  0.0|[1.44085848832049...|[0.76782909806598...|       0.0|\n",
      "|[5.3,3.7,1.5,0.2]|  0.0|[1.56448932428727...|[0.82294530171189...|       0.0|\n",
      "|[5.0,3.3,1.4,0.2]|  0.0|[1.39008506295932...|[0.76461242479160...|       0.0|\n",
      "|[7.0,3.2,4.7,1.4]|  2.0|[-0.7870530012059...|[0.13127979126422...|       1.0|\n",
      "|[6.4,3.2,4.5,1.5]|  2.0|[-0.6036584337643...|[0.16742227704028...|       1.0|\n",
      "|[6.9,3.1,4.9,1.5]|  2.0|[-0.9338224772515...|[0.10822077755760...|       1.0|\n",
      "|[5.5,2.3,4.0,1.3]|  2.0|[-0.7490865916824...|[0.12968570686714...|       2.0|\n",
      "|[6.5,2.8,4.6,1.5]|  2.0|[-0.9530320088612...|[0.10690904353112...|       2.0|\n",
      "|[5.7,2.8,4.5,1.3]|  2.0|[-0.5724094462174...|[0.17213991109377...|       2.0|\n",
      "|[6.3,3.3,4.7,1.6]|  2.0|[-0.6039840300483...|[0.16622147319710...|       1.0|\n",
      "|[4.9,2.4,3.3,1.0]|  2.0|[-0.1507454972495...|[0.24974451028974...|       2.0|\n",
      "|[6.6,2.9,4.6,1.3]|  2.0|[-0.8036640523944...|[0.13024537886387...|       2.0|\n",
      "|[5.2,2.7,3.9,1.4]|  2.0|[-0.3912877629128...|[0.20936461446765...|       2.0|\n",
      "|[5.0,2.0,3.5,1.0]|  2.0|[-0.5256060466099...|[0.15159199190892...|       2.0|\n",
      "|[5.9,3.0,4.2,1.5]|  2.0|[-0.5186471841828...|[0.18651092939940...|       2.0|\n",
      "|[6.0,2.2,4.0,1.0]|  2.0|[-0.8165854512708...|[0.11667303239943...|       2.0|\n",
      "|[6.1,2.9,4.7,1.4]|  2.0|[-0.7277292490538...|[0.14351984552186...|       2.0|\n",
      "|[5.6,2.9,3.6,1.3]|  2.0|[-0.2388058966544...|[0.25361105669765...|       2.0|\n",
      "|[6.7,3.1,4.4,1.4]|  2.0|[-0.6908174943646...|[0.15025861728473...|       1.0|\n",
      "|[5.6,3.0,4.5,1.5]|  2.0|[-0.5021115830419...|[0.19002414049403...|       2.0|\n",
      "|[5.8,2.7,4.1,1.0]|  2.0|[-0.4139650435098...|[0.20306535368861...|       2.0|\n",
      "|[6.2,2.2,4.5,1.5]|  2.0|[-1.2738801499505...|[0.06684809997753...|       2.0|\n",
      "|[5.6,2.5,3.9,1.1]|  2.0|[-0.5010097210715...|[0.17857846663552...|       2.0|\n",
      "|[5.9,3.2,4.8,1.8]|  2.0|[-0.6858424368472...|[0.15041656531651...|       1.0|\n",
      "|[6.1,2.8,4.0,1.3]|  2.0|[-0.5689699401416...|[0.17357057936037...|       2.0|\n",
      "|[6.3,2.5,4.9,1.5]|  2.0|[-1.1871610686730...|[0.07724516734243...|       2.0|\n",
      "|[6.1,2.8,4.7,1.2]|  2.0|[-0.6938063310381...|[0.14867920945268...|       2.0|\n",
      "|[6.4,2.9,4.3,1.3]|  2.0|[-0.6652054469829...|[0.15534523063505...|       2.0|\n",
      "|[6.6,3.0,4.4,1.4]|  2.0|[-0.7330405929349...|[0.14267861926150...|       1.0|\n",
      "|[6.8,2.8,4.8,1.4]|  2.0|[-1.0434300523714...|[0.09461170100425...|       1.0|\n",
      "|[6.7,3.0,5.0,1.7]|  2.0|[-1.0776785666712...|[0.08904118300178...|       1.0|\n",
      "|[6.0,2.9,4.5,1.5]|  2.0|[-0.6993288881645...|[0.14884360130181...|       2.0|\n",
      "|[5.7,2.6,3.5,1.0]|  2.0|[-0.3032662964989...|[0.22566804490502...|       2.0|\n",
      "|[5.5,2.4,3.8,1.1]|  2.0|[-0.5177458453782...|[0.17169592175088...|       2.0|\n",
      "|[5.5,2.4,3.7,1.0]|  2.0|[-0.4386864421664...|[0.18671180440181...|       2.0|\n",
      "|[5.8,2.7,3.9,1.2]|  2.0|[-0.4701359528792...|[0.19188779751671...|       2.0|\n",
      "|[6.0,2.7,5.1,1.6]|  2.0|[-1.0522670424554...|[0.09339798952756...|       2.0|\n",
      "|[5.4,3.0,4.5,1.5]|  2.0|[-0.4401139004210...|[0.20425862647089...|       2.0|\n",
      "|[6.0,3.4,4.5,1.6]|  2.0|[-0.3867916177091...|[0.21706529297772...|       1.0|\n",
      "|[6.7,3.1,4.7,1.5]|  2.0|[-0.8208508461035...|[0.12642973072972...|       1.0|\n",
      "|[6.3,2.3,4.4,1.3]|  2.0|[-1.0990252192203...|[0.08481494149007...|       2.0|\n",
      "|[5.6,3.0,4.1,1.3]|  2.0|[-0.2930188280914...|[0.24098813629994...|       2.0|\n",
      "|[5.5,2.5,4.0,1.3]|  2.0|[-0.6026427119210...|[0.15980393550187...|       2.0|\n",
      "|[5.5,2.6,4.4,1.2]|  2.0|[-0.5777962401461...|[0.16624379422789...|       2.0|\n",
      "|[6.1,3.0,4.6,1.4]|  2.0|[-0.6290203349096...|[0.16285269595099...|       2.0|\n",
      "|[5.8,2.6,4.0,1.2]|  2.0|[-0.5688448670234...|[0.16891605811800...|       2.0|\n",
      "|[5.0,2.3,3.3,1.0]|  2.0|[-0.2549662784407...|[0.21993050330500...|       2.0|\n",
      "|[5.6,2.7,4.2,1.3]|  2.0|[-0.5381716219971...|[0.17732494021701...|       2.0|\n",
      "|[5.7,3.0,4.2,1.2]|  2.0|[-0.2959322147171...|[0.23994199543836...|       2.0|\n",
      "|[5.7,2.9,4.2,1.3]|  2.0|[-0.4227265835461...|[0.20690114649529...|       2.0|\n",
      "|[6.2,2.9,4.3,1.3]|  2.0|[-0.6032077643620...|[0.16758685327665...|       2.0|\n",
      "|[5.1,2.5,3.0,1.1]|  2.0|[-0.1166327461474...|[0.26686979337481...|       2.0|\n",
      "|[5.7,2.8,4.1,1.3]|  2.0|[-0.4704615491633...|[0.19416052514379...|       2.0|\n",
      "|[6.3,3.3,6.0,2.5]|  1.0|[-1.4174665560082...|[0.04973003923505...|       1.0|\n",
      "|[5.8,2.7,5.1,1.9]|  1.0|[-1.1509866466791...|[0.08168552552334...|       1.0|\n",
      "|[7.1,3.0,5.9,2.1]|  1.0|[-1.6453464160778...|[0.03743916094097...|       1.0|\n",
      "|[6.3,2.9,5.6,1.8]|  1.0|[-1.2333994158394...|[0.07208057693714...|       1.0|\n",
      "|[6.5,3.0,5.8,2.2]|  1.0|[-1.4874388228996...|[0.04811689292160...|       1.0|\n",
      "|[7.6,3.0,6.6,2.1]|  1.0|[-1.9787494424748...|[0.02182776979854...|       1.0|\n",
      "|[4.9,2.5,4.5,1.7]|  1.0|[-0.7583742511687...|[0.13311065298249...|       2.0|\n",
      "|[7.3,2.9,6.3,1.8]|  1.0|[-1.7217966487889...|[0.03430232194283...|       1.0|\n",
      "|[6.7,2.5,5.8,1.8]|  1.0|[-1.7012564891313...|[0.03733264344188...|       1.0|\n",
      "|[7.2,3.6,6.1,2.5]|  1.0|[-1.5022772824238...|[0.03861427908573...|       1.0|\n",
      "|[6.5,3.2,5.1,2.0]|  1.0|[-1.0554412653970...|[0.08919837772865...|       1.0|\n",
      "|[6.4,2.7,5.3,1.9]|  1.0|[-1.3879536430690...|[0.05832992263784...|       1.0|\n",
      "|[6.8,3.0,5.5,2.1]|  1.0|[-1.4504019950922...|[0.05079894108268...|       1.0|\n",
      "|[5.7,2.5,5.0,2.0]|  1.0|[-1.2945171398148...|[0.06684844690413...|       2.0|\n",
      "|[5.8,2.8,5.1,2.4]|  1.0|[-1.3456268515395...|[0.06124322177893...|       1.0|\n",
      "|[6.4,3.2,5.3,2.3]|  1.0|[-1.2361336594583...|[0.06758458105536...|       1.0|\n",
      "|[6.5,3.0,5.5,1.8]|  1.0|[-1.1966881843161...|[0.07513720005386...|       1.0|\n",
      "|[7.7,3.8,6.7,2.2]|  1.0|[-1.5030321679513...|[0.03632167497759...|       1.0|\n",
      "|[7.7,2.6,6.9,2.3]|  1.0|[-2.4862418239952...|[0.01049293988233...|       1.0|\n",
      "|[6.0,2.2,5.0,1.5]|  1.0|[-1.3393173386472...|[0.06102878223480...|       2.0|\n",
      "|[6.9,3.2,5.7,2.3]|  1.0|[-1.4930757630648...|[0.04506798249299...|       1.0|\n",
      "|[5.6,2.8,4.9,2.0]|  1.0|[-1.0183655045986...|[0.09787509750460...|       1.0|\n",
      "|[7.7,2.8,6.7,2.0]|  1.0|[-2.1281067088620...|[0.01812495192590...|       1.0|\n",
      "|[6.3,2.7,4.9,1.8]|  1.0|[-1.2014344757562...|[0.07612823652432...|       1.0|\n",
      "|[6.7,3.3,5.7,2.1]|  1.0|[-1.2507112826666...|[0.06509649361249...|       1.0|\n",
      "|[7.2,3.2,6.0,1.8]|  1.0|[-1.3946710650456...|[0.05365351985044...|       1.0|\n",
      "|[6.2,2.8,4.8,1.8]|  1.0|[-1.0717267203015...|[0.09094974172948...|       1.0|\n",
      "|[6.1,3.0,4.9,1.8]|  1.0|[-0.9197709734931...|[0.11117839011574...|       1.0|\n",
      "|[6.4,2.8,5.6,2.1]|  1.0|[-1.4983374838753...|[0.04897741289051...|       1.0|\n",
      "|[7.2,3.0,5.8,1.6]|  1.0|[-1.3829961383836...|[0.05699967018533...|       1.0|\n",
      "|[7.4,2.8,6.1,1.9]|  1.0|[-1.8286159104012...|[0.02938493970873...|       1.0|\n",
      "|[7.9,3.8,6.4,2.0]|  1.0|[-1.3814240698852...|[0.04470179089826...|       1.0|\n",
      "|[6.4,2.8,5.6,2.2]|  1.0|[-1.5519099128235...|[0.04506073217582...|       1.0|\n",
      "|[6.3,2.8,5.1,1.5]|  1.0|[-1.0184691975578...|[0.09789345687840...|       2.0|\n",
      "|[6.1,2.6,5.6,1.4]|  1.0|[-1.1767778370678...|[0.07851247644805...|       2.0|\n",
      "|[7.7,3.0,6.1,2.3]|  1.0|[-1.9894582703641...|[0.02105007322245...|       1.0|\n",
      "|[6.3,3.4,5.6,2.4]|  1.0|[-1.1887242901252...|[0.06942360921325...|       1.0|\n",
      "|[6.4,3.1,5.5,1.8]|  1.0|[-1.0924674031249...|[0.08644810682314...|       1.0|\n",
      "|[6.0,3.0,4.8,1.8]|  1.0|[-0.8632851579191...|[0.12005928104553...|       1.0|\n",
      "|[6.9,3.1,5.4,2.1]|  1.0|[-1.3826919222584...|[0.05516359495375...|       1.0|\n",
      "|[6.7,3.1,5.6,2.4]|  1.0|[-1.5323854750092...|[0.04333785069632...|       1.0|\n",
      "|[6.9,3.1,5.1,2.3]|  1.0|[-1.4133758573643...|[0.05205594317810...|       1.0|\n",
      "|[5.8,2.7,5.1,1.9]|  1.0|[-1.1509866466791...|[0.08168552552334...|       1.0|\n",
      "|[6.8,3.2,5.9,2.3]|  1.0|[-1.5130508702813...|[0.04382822366770...|       1.0|\n",
      "|[6.7,3.3,5.7,2.5]|  1.0|[-1.4650009984595...|[0.04558144913313...|       1.0|\n",
      "|[6.7,3.0,5.2,2.3]|  1.0|[-1.4500870888876...|[0.05042237172049...|       1.0|\n",
      "|[6.3,2.5,5.0,1.9]|  1.0|[-1.4269377587294...|[0.05553362920471...|       1.0|\n",
      "|[6.5,3.0,5.2,2.0]|  1.0|[-1.2273721194220...|[0.07140525400201...|       1.0|\n",
      "|[6.2,3.4,5.4,2.3]|  1.0|[-1.0531790713394...|[0.08576014186805...|       1.0|\n",
      "|[5.9,3.0,5.1,1.8]|  1.0|[-0.9087472393992...|[0.11299348421800...|       1.0|\n",
      "+-----------------+-----+--------------------+--------------------+----------+\n",
      "\n"
     ]
    }
   ],
   "source": [
    "prediction_2.show(150)"
   ]
  },
  {
   "cell_type": "code",
   "execution_count": 54,
   "metadata": {},
   "outputs": [
    {
     "data": {
      "text/plain": [
       "<pyspark.ml.classification.LogisticRegressionTrainingSummary at 0x14eba58ce80>"
      ]
     },
     "execution_count": 54,
     "metadata": {},
     "output_type": "execute_result"
    }
   ],
   "source": [
    "trainingSummary = lrModel_2.summary\n",
    "trainingSummary"
   ]
  },
  {
   "cell_type": "code",
   "execution_count": 55,
   "metadata": {},
   "outputs": [
    {
     "data": {
      "text/plain": [
       "[0.0, 0.11, 0.05]"
      ]
     },
     "execution_count": 55,
     "metadata": {},
     "output_type": "execute_result"
    }
   ],
   "source": [
    "trainingSummary.falsePositiveRateByLabel"
   ]
  },
  {
   "cell_type": "code",
   "execution_count": 56,
   "metadata": {},
   "outputs": [
    {
     "data": {
      "text/plain": [
       "0.8933333333333333"
      ]
     },
     "execution_count": 56,
     "metadata": {},
     "output_type": "execute_result"
    }
   ],
   "source": [
    "trainingSummary.accuracy"
   ]
  },
  {
   "cell_type": "code",
   "execution_count": null,
   "metadata": {},
   "outputs": [],
   "source": []
  },
  {
   "cell_type": "code",
   "execution_count": null,
   "metadata": {},
   "outputs": [],
   "source": []
  },
  {
   "cell_type": "code",
   "execution_count": 65,
   "metadata": {},
   "outputs": [
    {
     "name": "stdout",
     "output_type": "stream",
     "text": [
      "+---+---+---+---+---+-----------------+-----+\n",
      "|_c0|_c1|_c2|_c3|_c4|         features|label|\n",
      "+---+---+---+---+---+-----------------+-----+\n",
      "|4.4|2.9|1.4|0.2|1.0|[4.4,2.9,1.4,0.2]|  0.0|\n",
      "|4.4|3.0|1.3|0.2|1.0|[4.4,3.0,1.3,0.2]|  0.0|\n",
      "|4.4|3.2|1.3|0.2|1.0|[4.4,3.2,1.3,0.2]|  0.0|\n",
      "|4.6|3.6|1.0|0.2|1.0|[4.6,3.6,1.0,0.2]|  0.0|\n",
      "|4.7|3.2|1.6|0.2|1.0|[4.7,3.2,1.6,0.2]|  0.0|\n",
      "+---+---+---+---+---+-----------------+-----+\n",
      "only showing top 5 rows\n",
      "\n"
     ]
    }
   ],
   "source": [
    "(trainingData, testData) = dataset.randomSplit([0.8, 0.2], 123)\n",
    "# print(\"Training Dataset Count: \" + str(trainingData.count()))\n",
    "# print(\"Test Dataset Count: \" + str(testData.count()))\n",
    "# trainingData.show(10)\n",
    "testData.show(5)"
   ]
  },
  {
   "cell_type": "code",
   "execution_count": 66,
   "metadata": {},
   "outputs": [
    {
     "name": "stdout",
     "output_type": "stream",
     "text": [
      "+---+---+---+---+---+-----------------+-----+\n",
      "|_c0|_c1|_c2|_c3|_c4|         features|label|\n",
      "+---+---+---+---+---+-----------------+-----+\n",
      "|4.3|3.0|1.1|0.1|1.0|[4.3,3.0,1.1,0.1]|  0.0|\n",
      "|4.5|2.3|1.3|0.3|1.0|[4.5,2.3,1.3,0.3]|  0.0|\n",
      "|4.6|3.1|1.5|0.2|1.0|[4.6,3.1,1.5,0.2]|  0.0|\n",
      "|4.6|3.2|1.4|0.2|1.0|[4.6,3.2,1.4,0.2]|  0.0|\n",
      "|4.6|3.4|1.4|0.3|1.0|[4.6,3.4,1.4,0.3]|  0.0|\n",
      "+---+---+---+---+---+-----------------+-----+\n",
      "only showing top 5 rows\n",
      "\n"
     ]
    }
   ],
   "source": [
    "trainingData.show(5)"
   ]
  },
  {
   "cell_type": "code",
   "execution_count": 67,
   "metadata": {},
   "outputs": [],
   "source": [
    "# 模型训练\n",
    "lr = LogisticRegression(maxIter=20, regParam=0.3, elasticNetParam=0)\n",
    "lrModel = lr.fit(trainingData)"
   ]
  },
  {
   "cell_type": "code",
   "execution_count": 76,
   "metadata": {},
   "outputs": [
    {
     "name": "stdout",
     "output_type": "stream",
     "text": [
      "+---+---+---+---+---+-----------------+-----+--------------------+--------------------+----------+\n",
      "|_c0|_c1|_c2|_c3|_c4|         features|label|       rawPrediction|         probability|prediction|\n",
      "+---+---+---+---+---+-----------------+-----+--------------------+--------------------+----------+\n",
      "|4.4|2.9|1.4|0.2|1.0|[4.4,2.9,1.4,0.2]|  0.0|[0.97587696525420...|[0.66435501880071...|       0.0|\n",
      "|4.4|3.0|1.3|0.2|1.0|[4.4,3.0,1.3,0.2]|  0.0|[1.07468573243426...|[0.69738164615681...|       0.0|\n",
      "|4.4|3.2|1.3|0.2|1.0|[4.4,3.2,1.3,0.2]|  0.0|[1.22655912321016...|[0.74546466374773...|       0.0|\n",
      "|4.6|3.6|1.0|0.2|1.0|[4.6,3.6,1.0,0.2]|  0.0|[1.55117580808555...|[0.82793089816996...|       0.0|\n",
      "|4.7|3.2|1.6|0.2|1.0|[4.7,3.2,1.6,0.2]|  0.0|[1.08632343975477...|[0.70280652702730...|       0.0|\n",
      "|4.9|2.4|3.3|1.0|2.0|[4.9,2.4,3.3,1.0]|  2.0|[-0.3580763884417...|[0.22319947512485...|       2.0|\n",
      "|5.0|3.0|1.6|0.2|1.0|[5.0,3.0,1.6,0.2]|  0.0|[0.86283058089978...|[0.62295572416110...|       0.0|\n",
      "|5.0|3.4|1.5|0.2|1.0|[5.0,3.4,1.5,0.2]|  0.0|[1.18944943424369...|[0.73394827350204...|       0.0|\n",
      "|5.0|3.5|1.3|0.3|1.0|[5.0,3.5,1.3,0.3]|  0.0|[1.26108843164403...|[0.75676483825205...|       0.0|\n",
      "|5.1|2.5|3.0|1.1|2.0|[5.1,2.5,3.0,1.1]|  2.0|[-0.3113116313020...|[0.23596481996335...|       2.0|\n",
      "+---+---+---+---+---+-----------------+-----+--------------------+--------------------+----------+\n",
      "only showing top 10 rows\n",
      "\n"
     ]
    }
   ],
   "source": [
    "# 模型预测\n",
    "predictions = lrModel.transform(testData)\n",
    "# print(prediction)\n",
    "predictions.show(10)\n",
    "\n",
    "# ROC score\n",
    "# evaluator = BinaryClassificationEvaluator()\n",
    "# evaluator.evaluate(prediction)"
   ]
  },
  {
   "cell_type": "code",
   "execution_count": 77,
   "metadata": {},
   "outputs": [],
   "source": [
    "evaluator = MulticlassClassificationEvaluator(\n",
    "    labelCol=\"label\", predictionCol=\"prediction\", metricName=\"accuracy\")\n",
    "accuracy = evaluator.evaluate(predictions)"
   ]
  },
  {
   "cell_type": "code",
   "execution_count": 78,
   "metadata": {},
   "outputs": [
    {
     "data": {
      "text/plain": [
       "0.8857142857142857"
      ]
     },
     "execution_count": 78,
     "metadata": {},
     "output_type": "execute_result"
    }
   ],
   "source": [
    "accuracy"
   ]
  },
  {
   "cell_type": "code",
   "execution_count": null,
   "metadata": {},
   "outputs": [],
   "source": []
  },
  {
   "cell_type": "code",
   "execution_count": 72,
   "metadata": {},
   "outputs": [
    {
     "data": {
      "text/plain": [
       "<bound method DataFrame.summary of DataFrame[_c0: double, _c1: double, _c2: double, _c3: double, _c4: string, features: vector, label: double, rawPrediction: vector, probability: vector, prediction: double]>"
      ]
     },
     "execution_count": 72,
     "metadata": {},
     "output_type": "execute_result"
    }
   ],
   "source": [
    "preSummary = prediction.summary\n",
    "preSummary"
   ]
  },
  {
   "cell_type": "code",
   "execution_count": 73,
   "metadata": {},
   "outputs": [
    {
     "ename": "AttributeError",
     "evalue": "'function' object has no attribute 'accuracy'",
     "output_type": "error",
     "traceback": [
      "\u001b[1;31m---------------------------------------------------------------------------\u001b[0m",
      "\u001b[1;31mAttributeError\u001b[0m                            Traceback (most recent call last)",
      "\u001b[1;32m<ipython-input-73-3834fb809f81>\u001b[0m in \u001b[0;36m<module>\u001b[1;34m()\u001b[0m\n\u001b[1;32m----> 1\u001b[1;33m \u001b[0mpreSummary\u001b[0m\u001b[1;33m.\u001b[0m\u001b[0maccuracy\u001b[0m\u001b[1;33m\u001b[0m\u001b[0m\n\u001b[0m",
      "\u001b[1;31mAttributeError\u001b[0m: 'function' object has no attribute 'accuracy'"
     ]
    }
   ],
   "source": [
    "preSummary.accuracy"
   ]
  },
  {
   "cell_type": "code",
   "execution_count": 74,
   "metadata": {},
   "outputs": [
    {
     "ename": "AttributeError",
     "evalue": "'function' object has no attribute 'weightedRecall'",
     "output_type": "error",
     "traceback": [
      "\u001b[1;31m---------------------------------------------------------------------------\u001b[0m",
      "\u001b[1;31mAttributeError\u001b[0m                            Traceback (most recent call last)",
      "\u001b[1;32m<ipython-input-74-dd31cdb17352>\u001b[0m in \u001b[0;36m<module>\u001b[1;34m()\u001b[0m\n\u001b[1;32m----> 1\u001b[1;33m \u001b[0mpreSummary\u001b[0m\u001b[1;33m.\u001b[0m\u001b[0mweightedRecall\u001b[0m\u001b[1;33m\u001b[0m\u001b[0m\n\u001b[0m",
      "\u001b[1;31mAttributeError\u001b[0m: 'function' object has no attribute 'weightedRecall'"
     ]
    }
   ],
   "source": [
    "preSummary.weightedRecall"
   ]
  },
  {
   "cell_type": "code",
   "execution_count": null,
   "metadata": {},
   "outputs": [],
   "source": []
  },
  {
   "cell_type": "code",
   "execution_count": null,
   "metadata": {},
   "outputs": [],
   "source": []
  }
 ],
 "metadata": {
  "kernelspec": {
   "display_name": "Python 3",
   "language": "python",
   "name": "python3"
  },
  "language_info": {
   "codemirror_mode": {
    "name": "ipython",
    "version": 3
   },
   "file_extension": ".py",
   "mimetype": "text/x-python",
   "name": "python",
   "nbconvert_exporter": "python",
   "pygments_lexer": "ipython3",
   "version": "3.6.4"
  }
 },
 "nbformat": 4,
 "nbformat_minor": 2
}
