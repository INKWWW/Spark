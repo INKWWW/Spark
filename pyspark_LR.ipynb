{
 "cells": [
  {
   "cell_type": "markdown",
   "metadata": {},
   "source": [
    "# LR"
   ]
  },
  {
   "cell_type": "code",
   "execution_count": 1,
   "metadata": {},
   "outputs": [],
   "source": [
    "from pyspark.ml.classification import LogisticRegression\n",
    "from pyspark.ml.classification import LogisticRegressionModel\n",
    "\n",
    "from pyspark.sql import SparkSession\n",
    "from pyspark.ml.feature import StringIndexer\n",
    "from pyspark.ml.classification import LogisticRegression\n",
    "from pyspark.ml import Pipeline\n",
    "from pyspark.ml.feature import VectorAssembler\n",
    "from pyspark.ml.evaluation import BinaryClassificationEvaluator\n",
    "from pyspark import SparkContext, SparkConf\n",
    "from pyspark.sql.functions import lit\n",
    "from pyspark.ml.evaluation import MulticlassClassificationEvaluator\n",
    "\n",
    "import numpy as np\n",
    "import pandas as pd\n"
   ]
  },
  {
   "cell_type": "code",
   "execution_count": 2,
   "metadata": {},
   "outputs": [
    {
     "data": {
      "text/plain": [
       "[Row(value='5.1,3.5,1.4,0.2,Iris-setosa'),\n",
       " Row(value='4.9,3.0,1.4,0.2,Iris-setosa'),\n",
       " Row(value='4.7,3.2,1.3,0.2,Iris-setosa'),\n",
       " Row(value='4.6,3.1,1.5,0.2,Iris-setosa'),\n",
       " Row(value='5.0,3.6,1.4,0.2,Iris-setosa')]"
      ]
     },
     "execution_count": 2,
     "metadata": {},
     "output_type": "execute_result"
    }
   ],
   "source": [
    "train_data = spark.read.text('C:\\spark\\data\\my_data\\iris_data.txt')\n",
    "train_data.head(5)\n",
    "# type(train_data)\n"
   ]
  },
  {
   "cell_type": "code",
   "execution_count": 3,
   "metadata": {},
   "outputs": [
    {
     "data": {
      "text/plain": [
       "[Row(value='5.1,3.5,1.4,0.2,Iris-setosa'),\n",
       " Row(value='4.9,3.0,1.4,0.2,Iris-setosa'),\n",
       " Row(value='4.7,3.2,1.3,0.2,Iris-setosa'),\n",
       " Row(value='4.6,3.1,1.5,0.2,Iris-setosa'),\n",
       " Row(value='5.0,3.6,1.4,0.2,Iris-setosa'),\n",
       " Row(value='5.4,3.9,1.7,0.4,Iris-setosa'),\n",
       " Row(value='4.6,3.4,1.4,0.3,Iris-setosa'),\n",
       " Row(value='5.0,3.4,1.5,0.2,Iris-setosa'),\n",
       " Row(value='4.4,2.9,1.4,0.2,Iris-setosa'),\n",
       " Row(value='4.9,3.1,1.5,0.1,Iris-setosa'),\n",
       " Row(value='5.4,3.7,1.5,0.2,Iris-setosa'),\n",
       " Row(value='4.8,3.4,1.6,0.2,Iris-setosa'),\n",
       " Row(value='4.8,3.0,1.4,0.1,Iris-setosa'),\n",
       " Row(value='4.3,3.0,1.1,0.1,Iris-setosa'),\n",
       " Row(value='5.8,4.0,1.2,0.2,Iris-setosa'),\n",
       " Row(value='5.7,4.4,1.5,0.4,Iris-setosa'),\n",
       " Row(value='5.4,3.9,1.3,0.4,Iris-setosa'),\n",
       " Row(value='5.1,3.5,1.4,0.3,Iris-setosa'),\n",
       " Row(value='5.7,3.8,1.7,0.3,Iris-setosa'),\n",
       " Row(value='5.1,3.8,1.5,0.3,Iris-setosa'),\n",
       " Row(value='5.4,3.4,1.7,0.2,Iris-setosa'),\n",
       " Row(value='5.1,3.7,1.5,0.4,Iris-setosa'),\n",
       " Row(value='4.6,3.6,1.0,0.2,Iris-setosa'),\n",
       " Row(value='5.1,3.3,1.7,0.5,Iris-setosa'),\n",
       " Row(value='4.8,3.4,1.9,0.2,Iris-setosa'),\n",
       " Row(value='5.0,3.0,1.6,0.2,Iris-setosa'),\n",
       " Row(value='5.0,3.4,1.6,0.4,Iris-setosa'),\n",
       " Row(value='5.2,3.5,1.5,0.2,Iris-setosa'),\n",
       " Row(value='5.2,3.4,1.4,0.2,Iris-setosa'),\n",
       " Row(value='4.7,3.2,1.6,0.2,Iris-setosa'),\n",
       " Row(value='4.8,3.1,1.6,0.2,Iris-setosa'),\n",
       " Row(value='5.4,3.4,1.5,0.4,Iris-setosa'),\n",
       " Row(value='5.2,4.1,1.5,0.1,Iris-setosa'),\n",
       " Row(value='5.5,4.2,1.4,0.2,Iris-setosa'),\n",
       " Row(value='4.9,3.1,1.5,0.1,Iris-setosa'),\n",
       " Row(value='5.0,3.2,1.2,0.2,Iris-setosa'),\n",
       " Row(value='5.5,3.5,1.3,0.2,Iris-setosa'),\n",
       " Row(value='4.9,3.1,1.5,0.1,Iris-setosa'),\n",
       " Row(value='4.4,3.0,1.3,0.2,Iris-setosa'),\n",
       " Row(value='5.1,3.4,1.5,0.2,Iris-setosa'),\n",
       " Row(value='5.0,3.5,1.3,0.3,Iris-setosa'),\n",
       " Row(value='4.5,2.3,1.3,0.3,Iris-setosa'),\n",
       " Row(value='4.4,3.2,1.3,0.2,Iris-setosa'),\n",
       " Row(value='5.0,3.5,1.6,0.6,Iris-setosa'),\n",
       " Row(value='5.1,3.8,1.9,0.4,Iris-setosa'),\n",
       " Row(value='4.8,3.0,1.4,0.3,Iris-setosa'),\n",
       " Row(value='5.1,3.8,1.6,0.2,Iris-setosa'),\n",
       " Row(value='4.6,3.2,1.4,0.2,Iris-setosa'),\n",
       " Row(value='5.3,3.7,1.5,0.2,Iris-setosa'),\n",
       " Row(value='5.0,3.3,1.4,0.2,Iris-setosa'),\n",
       " Row(value='7.0,3.2,4.7,1.4,Iris-versicolor'),\n",
       " Row(value='6.4,3.2,4.5,1.5,Iris-versicolor'),\n",
       " Row(value='6.9,3.1,4.9,1.5,Iris-versicolor'),\n",
       " Row(value='5.5,2.3,4.0,1.3,Iris-versicolor'),\n",
       " Row(value='6.5,2.8,4.6,1.5,Iris-versicolor'),\n",
       " Row(value='5.7,2.8,4.5,1.3,Iris-versicolor'),\n",
       " Row(value='6.3,3.3,4.7,1.6,Iris-versicolor'),\n",
       " Row(value='4.9,2.4,3.3,1.0,Iris-versicolor'),\n",
       " Row(value='6.6,2.9,4.6,1.3,Iris-versicolor'),\n",
       " Row(value='5.2,2.7,3.9,1.4,Iris-versicolor'),\n",
       " Row(value='5.0,2.0,3.5,1.0,Iris-versicolor'),\n",
       " Row(value='5.9,3.0,4.2,1.5,Iris-versicolor'),\n",
       " Row(value='6.0,2.2,4.0,1.0,Iris-versicolor'),\n",
       " Row(value='6.1,2.9,4.7,1.4,Iris-versicolor'),\n",
       " Row(value='5.6,2.9,3.6,1.3,Iris-versicolor'),\n",
       " Row(value='6.7,3.1,4.4,1.4,Iris-versicolor'),\n",
       " Row(value='5.6,3.0,4.5,1.5,Iris-versicolor'),\n",
       " Row(value='5.8,2.7,4.1,1.0,Iris-versicolor'),\n",
       " Row(value='6.2,2.2,4.5,1.5,Iris-versicolor'),\n",
       " Row(value='5.6,2.5,3.9,1.1,Iris-versicolor'),\n",
       " Row(value='5.9,3.2,4.8,1.8,Iris-versicolor'),\n",
       " Row(value='6.1,2.8,4.0,1.3,Iris-versicolor'),\n",
       " Row(value='6.3,2.5,4.9,1.5,Iris-versicolor'),\n",
       " Row(value='6.1,2.8,4.7,1.2,Iris-versicolor'),\n",
       " Row(value='6.4,2.9,4.3,1.3,Iris-versicolor'),\n",
       " Row(value='6.6,3.0,4.4,1.4,Iris-versicolor'),\n",
       " Row(value='6.8,2.8,4.8,1.4,Iris-versicolor'),\n",
       " Row(value='6.7,3.0,5.0,1.7,Iris-versicolor'),\n",
       " Row(value='6.0,2.9,4.5,1.5,Iris-versicolor'),\n",
       " Row(value='5.7,2.6,3.5,1.0,Iris-versicolor'),\n",
       " Row(value='5.5,2.4,3.8,1.1,Iris-versicolor'),\n",
       " Row(value='5.5,2.4,3.7,1.0,Iris-versicolor'),\n",
       " Row(value='5.8,2.7,3.9,1.2,Iris-versicolor'),\n",
       " Row(value='6.0,2.7,5.1,1.6,Iris-versicolor'),\n",
       " Row(value='5.4,3.0,4.5,1.5,Iris-versicolor'),\n",
       " Row(value='6.0,3.4,4.5,1.6,Iris-versicolor'),\n",
       " Row(value='6.7,3.1,4.7,1.5,Iris-versicolor'),\n",
       " Row(value='6.3,2.3,4.4,1.3,Iris-versicolor'),\n",
       " Row(value='5.6,3.0,4.1,1.3,Iris-versicolor'),\n",
       " Row(value='5.5,2.5,4.0,1.3,Iris-versicolor'),\n",
       " Row(value='5.5,2.6,4.4,1.2,Iris-versicolor'),\n",
       " Row(value='6.1,3.0,4.6,1.4,Iris-versicolor'),\n",
       " Row(value='5.8,2.6,4.0,1.2,Iris-versicolor'),\n",
       " Row(value='5.0,2.3,3.3,1.0,Iris-versicolor'),\n",
       " Row(value='5.6,2.7,4.2,1.3,Iris-versicolor'),\n",
       " Row(value='5.7,3.0,4.2,1.2,Iris-versicolor'),\n",
       " Row(value='5.7,2.9,4.2,1.3,Iris-versicolor'),\n",
       " Row(value='6.2,2.9,4.3,1.3,Iris-versicolor'),\n",
       " Row(value='5.1,2.5,3.0,1.1,Iris-versicolor'),\n",
       " Row(value='5.7,2.8,4.1,1.3,Iris-versicolor'),\n",
       " Row(value='6.3,3.3,6.0,2.5,Iris-virginica'),\n",
       " Row(value='5.8,2.7,5.1,1.9,Iris-virginica'),\n",
       " Row(value='7.1,3.0,5.9,2.1,Iris-virginica'),\n",
       " Row(value='6.3,2.9,5.6,1.8,Iris-virginica'),\n",
       " Row(value='6.5,3.0,5.8,2.2,Iris-virginica'),\n",
       " Row(value='7.6,3.0,6.6,2.1,Iris-virginica'),\n",
       " Row(value='4.9,2.5,4.5,1.7,Iris-virginica'),\n",
       " Row(value='7.3,2.9,6.3,1.8,Iris-virginica'),\n",
       " Row(value='6.7,2.5,5.8,1.8,Iris-virginica'),\n",
       " Row(value='7.2,3.6,6.1,2.5,Iris-virginica'),\n",
       " Row(value='6.5,3.2,5.1,2.0,Iris-virginica'),\n",
       " Row(value='6.4,2.7,5.3,1.9,Iris-virginica'),\n",
       " Row(value='6.8,3.0,5.5,2.1,Iris-virginica'),\n",
       " Row(value='5.7,2.5,5.0,2.0,Iris-virginica'),\n",
       " Row(value='5.8,2.8,5.1,2.4,Iris-virginica'),\n",
       " Row(value='6.4,3.2,5.3,2.3,Iris-virginica'),\n",
       " Row(value='6.5,3.0,5.5,1.8,Iris-virginica'),\n",
       " Row(value='7.7,3.8,6.7,2.2,Iris-virginica'),\n",
       " Row(value='7.7,2.6,6.9,2.3,Iris-virginica'),\n",
       " Row(value='6.0,2.2,5.0,1.5,Iris-virginica'),\n",
       " Row(value='6.9,3.2,5.7,2.3,Iris-virginica'),\n",
       " Row(value='5.6,2.8,4.9,2.0,Iris-virginica'),\n",
       " Row(value='7.7,2.8,6.7,2.0,Iris-virginica'),\n",
       " Row(value='6.3,2.7,4.9,1.8,Iris-virginica'),\n",
       " Row(value='6.7,3.3,5.7,2.1,Iris-virginica'),\n",
       " Row(value='7.2,3.2,6.0,1.8,Iris-virginica'),\n",
       " Row(value='6.2,2.8,4.8,1.8,Iris-virginica'),\n",
       " Row(value='6.1,3.0,4.9,1.8,Iris-virginica'),\n",
       " Row(value='6.4,2.8,5.6,2.1,Iris-virginica'),\n",
       " Row(value='7.2,3.0,5.8,1.6,Iris-virginica'),\n",
       " Row(value='7.4,2.8,6.1,1.9,Iris-virginica'),\n",
       " Row(value='7.9,3.8,6.4,2.0,Iris-virginica'),\n",
       " Row(value='6.4,2.8,5.6,2.2,Iris-virginica'),\n",
       " Row(value='6.3,2.8,5.1,1.5,Iris-virginica'),\n",
       " Row(value='6.1,2.6,5.6,1.4,Iris-virginica'),\n",
       " Row(value='7.7,3.0,6.1,2.3,Iris-virginica'),\n",
       " Row(value='6.3,3.4,5.6,2.4,Iris-virginica'),\n",
       " Row(value='6.4,3.1,5.5,1.8,Iris-virginica'),\n",
       " Row(value='6.0,3.0,4.8,1.8,Iris-virginica'),\n",
       " Row(value='6.9,3.1,5.4,2.1,Iris-virginica'),\n",
       " Row(value='6.7,3.1,5.6,2.4,Iris-virginica'),\n",
       " Row(value='6.9,3.1,5.1,2.3,Iris-virginica'),\n",
       " Row(value='5.8,2.7,5.1,1.9,Iris-virginica'),\n",
       " Row(value='6.8,3.2,5.9,2.3,Iris-virginica'),\n",
       " Row(value='6.7,3.3,5.7,2.5,Iris-virginica'),\n",
       " Row(value='6.7,3.0,5.2,2.3,Iris-virginica'),\n",
       " Row(value='6.3,2.5,5.0,1.9,Iris-virginica'),\n",
       " Row(value='6.5,3.0,5.2,2.0,Iris-virginica'),\n",
       " Row(value='6.2,3.4,5.4,2.3,Iris-virginica'),\n",
       " Row(value='5.9,3.0,5.1,1.8,Iris-virginica')]"
      ]
     },
     "execution_count": 3,
     "metadata": {},
     "output_type": "execute_result"
    }
   ],
   "source": [
    "train_data.collect()"
   ]
  },
  {
   "cell_type": "code",
   "execution_count": 4,
   "metadata": {},
   "outputs": [
    {
     "data": {
      "text/plain": [
       "[Row(_c0='5.1', _c1='3.5', _c2='1.4', _c3='0.2', _c4='1.0'),\n",
       " Row(_c0='4.9', _c1='3.0', _c2='1.4', _c3='0.2', _c4='1.0'),\n",
       " Row(_c0='4.7', _c1='3.2', _c2='1.3', _c3='0.2', _c4='1.0'),\n",
       " Row(_c0='4.6', _c1='3.1', _c2='1.5', _c3='0.2', _c4='1.0'),\n",
       " Row(_c0='5.0', _c1='3.6', _c2='1.4', _c3='0.2', _c4='1.0')]"
      ]
     },
     "execution_count": 4,
     "metadata": {},
     "output_type": "execute_result"
    }
   ],
   "source": [
    "train_data = spark.read.csv('C:\\spark\\data\\my_data\\iris_data.csv', header=False)\n",
    "train_data.head(5)"
   ]
  },
  {
   "cell_type": "code",
   "execution_count": 5,
   "metadata": {},
   "outputs": [
    {
     "name": "stdout",
     "output_type": "stream",
     "text": [
      "+---+---+---+---+---+\n",
      "|_c0|_c1|_c2|_c3|_c4|\n",
      "+---+---+---+---+---+\n",
      "|5.1|3.5|1.4|0.2|1.0|\n",
      "|4.9|3.0|1.4|0.2|1.0|\n",
      "|4.7|3.2|1.3|0.2|1.0|\n",
      "|4.6|3.1|1.5|0.2|1.0|\n",
      "|5.0|3.6|1.4|0.2|1.0|\n",
      "+---+---+---+---+---+\n",
      "only showing top 5 rows\n",
      "\n"
     ]
    }
   ],
   "source": [
    "train_data.show(5)"
   ]
  },
  {
   "cell_type": "code",
   "execution_count": 6,
   "metadata": {},
   "outputs": [
    {
     "data": {
      "text/plain": [
       "['_c0', '_c1', '_c2', '_c3', '_c4']"
      ]
     },
     "execution_count": 6,
     "metadata": {},
     "output_type": "execute_result"
    }
   ],
   "source": [
    "train_data.columns"
   ]
  },
  {
   "cell_type": "code",
   "execution_count": 7,
   "metadata": {},
   "outputs": [
    {
     "name": "stdout",
     "output_type": "stream",
     "text": [
      "+---+\n",
      "|_c0|\n",
      "+---+\n",
      "|5.1|\n",
      "|4.9|\n",
      "|4.7|\n",
      "|4.6|\n",
      "|5.0|\n",
      "|5.4|\n",
      "|4.6|\n",
      "|5.0|\n",
      "|4.4|\n",
      "|4.9|\n",
      "+---+\n",
      "only showing top 10 rows\n",
      "\n"
     ]
    }
   ],
   "source": [
    "train_data.select('_c0').show(10)"
   ]
  },
  {
   "cell_type": "code",
   "execution_count": 8,
   "metadata": {},
   "outputs": [],
   "source": [
    "\n",
    "train_data = train_data.withColumn('_c0', train_data['_c0'].cast('double'))\\\n",
    "       .withColumn('_c1', train_data['_c1'].cast('double'))\\\n",
    "       .withColumn('_c2', train_data['_c2'].cast('double'))\\\n",
    "       .withColumn('_c3', train_data['_c3'].cast('double'))\n",
    "input_col = ['_c0', '_c1', '_c2', '_c3']\n",
    "vecAssembler = VectorAssembler(inputCols=input_col, outputCol=\"features\")\n",
    "new_train_data = vecAssembler.transform(train_data)\n",
    "# stringIndexer = StringIndexer(inputCol=\"_c4\", outputCol=\"label\")\n",
    "# pipeline = Pipeline(stages=[vecAssembler, stringIndexer])\n",
    "# pipelineFit = pipeline.fit(train_data)\n",
    "# dataset = pipelineFit.transform(train_data)"
   ]
  },
  {
   "cell_type": "code",
   "execution_count": 9,
   "metadata": {},
   "outputs": [
    {
     "data": {
      "text/plain": [
       "DataFrame[_c0: double, _c1: double, _c2: double, _c3: double, _c4: string, features: vector]"
      ]
     },
     "execution_count": 9,
     "metadata": {},
     "output_type": "execute_result"
    }
   ],
   "source": [
    "new_train_data"
   ]
  },
  {
   "cell_type": "code",
   "execution_count": 10,
   "metadata": {
    "scrolled": true
   },
   "outputs": [
    {
     "name": "stdout",
     "output_type": "stream",
     "text": [
      "+---+---+---+---+---+-----------------+\n",
      "|_c0|_c1|_c2|_c3|_c4|         features|\n",
      "+---+---+---+---+---+-----------------+\n",
      "|5.1|3.5|1.4|0.2|1.0|[5.1,3.5,1.4,0.2]|\n",
      "|4.9|3.0|1.4|0.2|1.0|[4.9,3.0,1.4,0.2]|\n",
      "|4.7|3.2|1.3|0.2|1.0|[4.7,3.2,1.3,0.2]|\n",
      "|4.6|3.1|1.5|0.2|1.0|[4.6,3.1,1.5,0.2]|\n",
      "|5.0|3.6|1.4|0.2|1.0|[5.0,3.6,1.4,0.2]|\n",
      "|5.4|3.9|1.7|0.4|1.0|[5.4,3.9,1.7,0.4]|\n",
      "|4.6|3.4|1.4|0.3|1.0|[4.6,3.4,1.4,0.3]|\n",
      "|5.0|3.4|1.5|0.2|1.0|[5.0,3.4,1.5,0.2]|\n",
      "|4.4|2.9|1.4|0.2|1.0|[4.4,2.9,1.4,0.2]|\n",
      "|4.9|3.1|1.5|0.1|1.0|[4.9,3.1,1.5,0.1]|\n",
      "|5.4|3.7|1.5|0.2|1.0|[5.4,3.7,1.5,0.2]|\n",
      "|4.8|3.4|1.6|0.2|1.0|[4.8,3.4,1.6,0.2]|\n",
      "|4.8|3.0|1.4|0.1|1.0|[4.8,3.0,1.4,0.1]|\n",
      "|4.3|3.0|1.1|0.1|1.0|[4.3,3.0,1.1,0.1]|\n",
      "|5.8|4.0|1.2|0.2|1.0|[5.8,4.0,1.2,0.2]|\n",
      "|5.7|4.4|1.5|0.4|1.0|[5.7,4.4,1.5,0.4]|\n",
      "|5.4|3.9|1.3|0.4|1.0|[5.4,3.9,1.3,0.4]|\n",
      "|5.1|3.5|1.4|0.3|1.0|[5.1,3.5,1.4,0.3]|\n",
      "|5.7|3.8|1.7|0.3|1.0|[5.7,3.8,1.7,0.3]|\n",
      "|5.1|3.8|1.5|0.3|1.0|[5.1,3.8,1.5,0.3]|\n",
      "|5.4|3.4|1.7|0.2|1.0|[5.4,3.4,1.7,0.2]|\n",
      "|5.1|3.7|1.5|0.4|1.0|[5.1,3.7,1.5,0.4]|\n",
      "|4.6|3.6|1.0|0.2|1.0|[4.6,3.6,1.0,0.2]|\n",
      "|5.1|3.3|1.7|0.5|1.0|[5.1,3.3,1.7,0.5]|\n",
      "|4.8|3.4|1.9|0.2|1.0|[4.8,3.4,1.9,0.2]|\n",
      "|5.0|3.0|1.6|0.2|1.0|[5.0,3.0,1.6,0.2]|\n",
      "|5.0|3.4|1.6|0.4|1.0|[5.0,3.4,1.6,0.4]|\n",
      "|5.2|3.5|1.5|0.2|1.0|[5.2,3.5,1.5,0.2]|\n",
      "|5.2|3.4|1.4|0.2|1.0|[5.2,3.4,1.4,0.2]|\n",
      "|4.7|3.2|1.6|0.2|1.0|[4.7,3.2,1.6,0.2]|\n",
      "|4.8|3.1|1.6|0.2|1.0|[4.8,3.1,1.6,0.2]|\n",
      "|5.4|3.4|1.5|0.4|1.0|[5.4,3.4,1.5,0.4]|\n",
      "|5.2|4.1|1.5|0.1|1.0|[5.2,4.1,1.5,0.1]|\n",
      "|5.5|4.2|1.4|0.2|1.0|[5.5,4.2,1.4,0.2]|\n",
      "|4.9|3.1|1.5|0.1|1.0|[4.9,3.1,1.5,0.1]|\n",
      "|5.0|3.2|1.2|0.2|1.0|[5.0,3.2,1.2,0.2]|\n",
      "|5.5|3.5|1.3|0.2|1.0|[5.5,3.5,1.3,0.2]|\n",
      "|4.9|3.1|1.5|0.1|1.0|[4.9,3.1,1.5,0.1]|\n",
      "|4.4|3.0|1.3|0.2|1.0|[4.4,3.0,1.3,0.2]|\n",
      "|5.1|3.4|1.5|0.2|1.0|[5.1,3.4,1.5,0.2]|\n",
      "|5.0|3.5|1.3|0.3|1.0|[5.0,3.5,1.3,0.3]|\n",
      "|4.5|2.3|1.3|0.3|1.0|[4.5,2.3,1.3,0.3]|\n",
      "|4.4|3.2|1.3|0.2|1.0|[4.4,3.2,1.3,0.2]|\n",
      "|5.0|3.5|1.6|0.6|1.0|[5.0,3.5,1.6,0.6]|\n",
      "|5.1|3.8|1.9|0.4|1.0|[5.1,3.8,1.9,0.4]|\n",
      "|4.8|3.0|1.4|0.3|1.0|[4.8,3.0,1.4,0.3]|\n",
      "|5.1|3.8|1.6|0.2|1.0|[5.1,3.8,1.6,0.2]|\n",
      "|4.6|3.2|1.4|0.2|1.0|[4.6,3.2,1.4,0.2]|\n",
      "|5.3|3.7|1.5|0.2|1.0|[5.3,3.7,1.5,0.2]|\n",
      "|5.0|3.3|1.4|0.2|1.0|[5.0,3.3,1.4,0.2]|\n",
      "|7.0|3.2|4.7|1.4|2.0|[7.0,3.2,4.7,1.4]|\n",
      "|6.4|3.2|4.5|1.5|2.0|[6.4,3.2,4.5,1.5]|\n",
      "|6.9|3.1|4.9|1.5|2.0|[6.9,3.1,4.9,1.5]|\n",
      "|5.5|2.3|4.0|1.3|2.0|[5.5,2.3,4.0,1.3]|\n",
      "|6.5|2.8|4.6|1.5|2.0|[6.5,2.8,4.6,1.5]|\n",
      "|5.7|2.8|4.5|1.3|2.0|[5.7,2.8,4.5,1.3]|\n",
      "|6.3|3.3|4.7|1.6|2.0|[6.3,3.3,4.7,1.6]|\n",
      "|4.9|2.4|3.3|1.0|2.0|[4.9,2.4,3.3,1.0]|\n",
      "|6.6|2.9|4.6|1.3|2.0|[6.6,2.9,4.6,1.3]|\n",
      "|5.2|2.7|3.9|1.4|2.0|[5.2,2.7,3.9,1.4]|\n",
      "|5.0|2.0|3.5|1.0|2.0|[5.0,2.0,3.5,1.0]|\n",
      "|5.9|3.0|4.2|1.5|2.0|[5.9,3.0,4.2,1.5]|\n",
      "|6.0|2.2|4.0|1.0|2.0|[6.0,2.2,4.0,1.0]|\n",
      "|6.1|2.9|4.7|1.4|2.0|[6.1,2.9,4.7,1.4]|\n",
      "|5.6|2.9|3.6|1.3|2.0|[5.6,2.9,3.6,1.3]|\n",
      "|6.7|3.1|4.4|1.4|2.0|[6.7,3.1,4.4,1.4]|\n",
      "|5.6|3.0|4.5|1.5|2.0|[5.6,3.0,4.5,1.5]|\n",
      "|5.8|2.7|4.1|1.0|2.0|[5.8,2.7,4.1,1.0]|\n",
      "|6.2|2.2|4.5|1.5|2.0|[6.2,2.2,4.5,1.5]|\n",
      "|5.6|2.5|3.9|1.1|2.0|[5.6,2.5,3.9,1.1]|\n",
      "|5.9|3.2|4.8|1.8|2.0|[5.9,3.2,4.8,1.8]|\n",
      "|6.1|2.8|4.0|1.3|2.0|[6.1,2.8,4.0,1.3]|\n",
      "|6.3|2.5|4.9|1.5|2.0|[6.3,2.5,4.9,1.5]|\n",
      "|6.1|2.8|4.7|1.2|2.0|[6.1,2.8,4.7,1.2]|\n",
      "|6.4|2.9|4.3|1.3|2.0|[6.4,2.9,4.3,1.3]|\n",
      "|6.6|3.0|4.4|1.4|2.0|[6.6,3.0,4.4,1.4]|\n",
      "|6.8|2.8|4.8|1.4|2.0|[6.8,2.8,4.8,1.4]|\n",
      "|6.7|3.0|5.0|1.7|2.0|[6.7,3.0,5.0,1.7]|\n",
      "|6.0|2.9|4.5|1.5|2.0|[6.0,2.9,4.5,1.5]|\n",
      "|5.7|2.6|3.5|1.0|2.0|[5.7,2.6,3.5,1.0]|\n",
      "|5.5|2.4|3.8|1.1|2.0|[5.5,2.4,3.8,1.1]|\n",
      "|5.5|2.4|3.7|1.0|2.0|[5.5,2.4,3.7,1.0]|\n",
      "|5.8|2.7|3.9|1.2|2.0|[5.8,2.7,3.9,1.2]|\n",
      "|6.0|2.7|5.1|1.6|2.0|[6.0,2.7,5.1,1.6]|\n",
      "|5.4|3.0|4.5|1.5|2.0|[5.4,3.0,4.5,1.5]|\n",
      "|6.0|3.4|4.5|1.6|2.0|[6.0,3.4,4.5,1.6]|\n",
      "|6.7|3.1|4.7|1.5|2.0|[6.7,3.1,4.7,1.5]|\n",
      "|6.3|2.3|4.4|1.3|2.0|[6.3,2.3,4.4,1.3]|\n",
      "|5.6|3.0|4.1|1.3|2.0|[5.6,3.0,4.1,1.3]|\n",
      "|5.5|2.5|4.0|1.3|2.0|[5.5,2.5,4.0,1.3]|\n",
      "|5.5|2.6|4.4|1.2|2.0|[5.5,2.6,4.4,1.2]|\n",
      "|6.1|3.0|4.6|1.4|2.0|[6.1,3.0,4.6,1.4]|\n",
      "|5.8|2.6|4.0|1.2|2.0|[5.8,2.6,4.0,1.2]|\n",
      "|5.0|2.3|3.3|1.0|2.0|[5.0,2.3,3.3,1.0]|\n",
      "|5.6|2.7|4.2|1.3|2.0|[5.6,2.7,4.2,1.3]|\n",
      "|5.7|3.0|4.2|1.2|2.0|[5.7,3.0,4.2,1.2]|\n",
      "|5.7|2.9|4.2|1.3|2.0|[5.7,2.9,4.2,1.3]|\n",
      "|6.2|2.9|4.3|1.3|2.0|[6.2,2.9,4.3,1.3]|\n",
      "|5.1|2.5|3.0|1.1|2.0|[5.1,2.5,3.0,1.1]|\n",
      "|5.7|2.8|4.1|1.3|2.0|[5.7,2.8,4.1,1.3]|\n",
      "+---+---+---+---+---+-----------------+\n",
      "only showing top 100 rows\n",
      "\n"
     ]
    }
   ],
   "source": [
    "new_train_data.show(100)"
   ]
  },
  {
   "cell_type": "code",
   "execution_count": 23,
   "metadata": {},
   "outputs": [],
   "source": [
    "new_new_train_data = new_train_data.withColumn('label', new_train_data['_c4'].cast('double'))"
   ]
  },
  {
   "cell_type": "code",
   "execution_count": 24,
   "metadata": {},
   "outputs": [
    {
     "data": {
      "text/plain": [
       "DataFrame[_c0: double, _c1: double, _c2: double, _c3: double, _c4: string, features: vector, label: double]"
      ]
     },
     "execution_count": 24,
     "metadata": {},
     "output_type": "execute_result"
    }
   ],
   "source": [
    "new_new_train_data"
   ]
  },
  {
   "cell_type": "code",
   "execution_count": 25,
   "metadata": {},
   "outputs": [
    {
     "name": "stdout",
     "output_type": "stream",
     "text": [
      "+---+---+---+---+---+-----------------+-----+\n",
      "|_c0|_c1|_c2|_c3|_c4|         features|label|\n",
      "+---+---+---+---+---+-----------------+-----+\n",
      "|5.1|3.5|1.4|0.2|1.0|[5.1,3.5,1.4,0.2]|  1.0|\n",
      "|4.9|3.0|1.4|0.2|1.0|[4.9,3.0,1.4,0.2]|  1.0|\n",
      "|4.7|3.2|1.3|0.2|1.0|[4.7,3.2,1.3,0.2]|  1.0|\n",
      "|4.6|3.1|1.5|0.2|1.0|[4.6,3.1,1.5,0.2]|  1.0|\n",
      "|5.0|3.6|1.4|0.2|1.0|[5.0,3.6,1.4,0.2]|  1.0|\n",
      "+---+---+---+---+---+-----------------+-----+\n",
      "only showing top 5 rows\n",
      "\n"
     ]
    }
   ],
   "source": [
    "new_new_train_data.show(5)"
   ]
  },
  {
   "cell_type": "code",
   "execution_count": 26,
   "metadata": {},
   "outputs": [
    {
     "name": "stdout",
     "output_type": "stream",
     "text": [
      "+---+---+---+---+---+\n",
      "|_c0|_c1|_c2|_c3|_c4|\n",
      "+---+---+---+---+---+\n",
      "|5.1|3.5|1.4|0.2|1.0|\n",
      "|4.9|3.0|1.4|0.2|1.0|\n",
      "|4.7|3.2|1.3|0.2|1.0|\n",
      "|4.6|3.1|1.5|0.2|1.0|\n",
      "|5.0|3.6|1.4|0.2|1.0|\n",
      "+---+---+---+---+---+\n",
      "only showing top 5 rows\n",
      "\n"
     ]
    }
   ],
   "source": [
    "train_data.show(5)"
   ]
  },
  {
   "cell_type": "code",
   "execution_count": 28,
   "metadata": {},
   "outputs": [],
   "source": [
    "# 新_模型训练\n",
    "lr_3 = LogisticRegression(maxIter=10, regParam=0.3, elasticNetParam=0)\n",
    "lrModel_3 = lr_3.fit(new_new_train_data)"
   ]
  },
  {
   "cell_type": "code",
   "execution_count": 30,
   "metadata": {},
   "outputs": [],
   "source": [
    "pre_3 = lrModel_3.transform(new_new_train_data)"
   ]
  },
  {
   "cell_type": "code",
   "execution_count": 32,
   "metadata": {},
   "outputs": [
    {
     "name": "stdout",
     "output_type": "stream",
     "text": [
      "+---+---+---+---+---+-----------------+-----+--------------------+--------------------+----------+\n",
      "|_c0|_c1|_c2|_c3|_c4|         features|label|       rawPrediction|         probability|prediction|\n",
      "+---+---+---+---+---+-----------------+-----+--------------------+--------------------+----------+\n",
      "|5.1|3.5|1.4|0.2|1.0|[5.1,3.5,1.4,0.2]|  1.0|[-3.5921473185105...|[0.00157155276833...|       1.0|\n",
      "|4.9|3.0|1.4|0.2|1.0|[4.9,3.0,1.4,0.2]|  1.0|[-3.5335755527481...|[0.00215601550463...|       1.0|\n",
      "|4.7|3.2|1.3|0.2|1.0|[4.7,3.2,1.3,0.2]|  1.0|[-3.5417261943304...|[0.00184854030564...|       1.0|\n",
      "|4.6|3.1|1.5|0.2|1.0|[4.6,3.1,1.5,0.2]|  1.0|[-3.5284115349670...|[0.00201701076712...|       1.0|\n",
      "|5.0|3.6|1.4|0.2|1.0|[5.0,3.6,1.4,0.2]|  1.0|[-3.5966005410309...|[0.00144326216378...|       1.0|\n",
      "+---+---+---+---+---+-----------------+-----+--------------------+--------------------+----------+\n",
      "only showing top 5 rows\n",
      "\n"
     ]
    }
   ],
   "source": [
    "pre_3.show(5)"
   ]
  },
  {
   "cell_type": "code",
   "execution_count": 43,
   "metadata": {},
   "outputs": [],
   "source": [
    "prob_3 = pre_3.select('probability')"
   ]
  },
  {
   "cell_type": "code",
   "execution_count": 44,
   "metadata": {},
   "outputs": [],
   "source": [
    "prob_3 = prob_3.collect()"
   ]
  },
  {
   "cell_type": "code",
   "execution_count": 66,
   "metadata": {},
   "outputs": [],
   "source": [
    "new_prob_3 = pre_3.select(['_c0', '_c1', 'probability'])"
   ]
  },
  {
   "cell_type": "code",
   "execution_count": 100,
   "metadata": {},
   "outputs": [
    {
     "name": "stdout",
     "output_type": "stream",
     "text": [
      "+---+---+--------------------+\n",
      "|_c0|_c1|         probability|\n",
      "+---+---+--------------------+\n",
      "|5.1|3.5|[0.00157155276833...|\n",
      "|4.9|3.0|[0.00215601550463...|\n",
      "|4.7|3.2|[0.00184854030564...|\n",
      "|4.6|3.1|[0.00201701076712...|\n",
      "|5.0|3.6|[0.00144326216378...|\n",
      "+---+---+--------------------+\n",
      "only showing top 5 rows\n",
      "\n"
     ]
    }
   ],
   "source": [
    "new_prob_3.show(5)"
   ]
  },
  {
   "cell_type": "code",
   "execution_count": 101,
   "metadata": {},
   "outputs": [
    {
     "data": {
      "text/plain": [
       "DataFrame[_c0: double, _c1: double, probability: vector]"
      ]
     },
     "execution_count": 101,
     "metadata": {},
     "output_type": "execute_result"
    }
   ],
   "source": [
    "new_prob_3"
   ]
  },
  {
   "cell_type": "code",
   "execution_count": 103,
   "metadata": {},
   "outputs": [
    {
     "ename": "TypeError",
     "evalue": "'Column' object is not callable",
     "output_type": "error",
     "traceback": [
      "\u001b[1;31m---------------------------------------------------------------------------\u001b[0m",
      "\u001b[1;31mTypeError\u001b[0m                                 Traceback (most recent call last)",
      "\u001b[1;32m<ipython-input-103-ade9b705799b>\u001b[0m in \u001b[0;36m<module>\u001b[1;34m()\u001b[0m\n\u001b[1;32m----> 1\u001b[1;33m \u001b[0mnew_prob_3\u001b[0m\u001b[1;33m.\u001b[0m\u001b[0mprobability\u001b[0m\u001b[1;33m[\u001b[0m\u001b[1;36m0\u001b[0m\u001b[1;33m]\u001b[0m\u001b[1;33m.\u001b[0m\u001b[0mtoArray\u001b[0m\u001b[1;33m(\u001b[0m\u001b[1;33m)\u001b[0m\u001b[1;33m\u001b[0m\u001b[0m\n\u001b[0m",
      "\u001b[1;31mTypeError\u001b[0m: 'Column' object is not callable"
     ]
    }
   ],
   "source": [
    "new_prob_3.probability.toArray()"
   ]
  },
  {
   "cell_type": "code",
   "execution_count": null,
   "metadata": {},
   "outputs": [],
   "source": []
  },
  {
   "cell_type": "code",
   "execution_count": null,
   "metadata": {},
   "outputs": [],
   "source": []
  },
  {
   "cell_type": "code",
   "execution_count": 90,
   "metadata": {},
   "outputs": [
    {
     "ename": "IllegalArgumentException",
     "evalue": "\"requirement failed: The number of columns doesn't match.\\nOld column names (3): _c0, _c1, probability\\nNew column names (0): \"",
     "output_type": "error",
     "traceback": [
      "\u001b[1;31m---------------------------------------------------------------------------\u001b[0m",
      "\u001b[1;31mPy4JJavaError\u001b[0m                             Traceback (most recent call last)",
      "\u001b[1;32mC:\\spark\\python\\pyspark\\sql\\utils.py\u001b[0m in \u001b[0;36mdeco\u001b[1;34m(*a, **kw)\u001b[0m\n\u001b[0;32m     62\u001b[0m         \u001b[1;32mtry\u001b[0m\u001b[1;33m:\u001b[0m\u001b[1;33m\u001b[0m\u001b[0m\n\u001b[1;32m---> 63\u001b[1;33m             \u001b[1;32mreturn\u001b[0m \u001b[0mf\u001b[0m\u001b[1;33m(\u001b[0m\u001b[1;33m*\u001b[0m\u001b[0ma\u001b[0m\u001b[1;33m,\u001b[0m \u001b[1;33m**\u001b[0m\u001b[0mkw\u001b[0m\u001b[1;33m)\u001b[0m\u001b[1;33m\u001b[0m\u001b[0m\n\u001b[0m\u001b[0;32m     64\u001b[0m         \u001b[1;32mexcept\u001b[0m \u001b[0mpy4j\u001b[0m\u001b[1;33m.\u001b[0m\u001b[0mprotocol\u001b[0m\u001b[1;33m.\u001b[0m\u001b[0mPy4JJavaError\u001b[0m \u001b[1;32mas\u001b[0m \u001b[0me\u001b[0m\u001b[1;33m:\u001b[0m\u001b[1;33m\u001b[0m\u001b[0m\n",
      "\u001b[1;32mC:\\spark\\python\\lib\\py4j-0.10.7-src.zip\\py4j\\protocol.py\u001b[0m in \u001b[0;36mget_return_value\u001b[1;34m(answer, gateway_client, target_id, name)\u001b[0m\n\u001b[0;32m    327\u001b[0m                     \u001b[1;34m\"An error occurred while calling {0}{1}{2}.\\n\"\u001b[0m\u001b[1;33m.\u001b[0m\u001b[1;33m\u001b[0m\u001b[0m\n\u001b[1;32m--> 328\u001b[1;33m                     format(target_id, \".\", name), value)\n\u001b[0m\u001b[0;32m    329\u001b[0m             \u001b[1;32melse\u001b[0m\u001b[1;33m:\u001b[0m\u001b[1;33m\u001b[0m\u001b[0m\n",
      "\u001b[1;31mPy4JJavaError\u001b[0m: An error occurred while calling o695.toDF.\n: java.lang.IllegalArgumentException: requirement failed: The number of columns doesn't match.\nOld column names (3): _c0, _c1, probability\nNew column names (0): \r\n\tat scala.Predef$.require(Predef.scala:224)\r\n\tat org.apache.spark.sql.Dataset.toDF(Dataset.scala:435)\r\n\tat sun.reflect.NativeMethodAccessorImpl.invoke0(Native Method)\r\n\tat sun.reflect.NativeMethodAccessorImpl.invoke(NativeMethodAccessorImpl.java:62)\r\n\tat sun.reflect.DelegatingMethodAccessorImpl.invoke(DelegatingMethodAccessorImpl.java:43)\r\n\tat java.lang.reflect.Method.invoke(Method.java:498)\r\n\tat py4j.reflection.MethodInvoker.invoke(MethodInvoker.java:244)\r\n\tat py4j.reflection.ReflectionEngine.invoke(ReflectionEngine.java:357)\r\n\tat py4j.Gateway.invoke(Gateway.java:282)\r\n\tat py4j.commands.AbstractCommand.invokeMethod(AbstractCommand.java:132)\r\n\tat py4j.commands.CallCommand.execute(CallCommand.java:79)\r\n\tat py4j.GatewayConnection.run(GatewayConnection.java:238)\r\n\tat java.lang.Thread.run(Thread.java:748)\r\n",
      "\nDuring handling of the above exception, another exception occurred:\n",
      "\u001b[1;31mIllegalArgumentException\u001b[0m                  Traceback (most recent call last)",
      "\u001b[1;32m<ipython-input-90-8dc97e993a56>\u001b[0m in \u001b[0;36m<module>\u001b[1;34m()\u001b[0m\n\u001b[1;32m----> 1\u001b[1;33m \u001b[0mnew_prob_3\u001b[0m \u001b[1;33m=\u001b[0m \u001b[0mnew_prob_3\u001b[0m\u001b[1;33m.\u001b[0m\u001b[0mwithColumn\u001b[0m\u001b[1;33m(\u001b[0m\u001b[1;34m'probability'\u001b[0m\u001b[1;33m,\u001b[0m \u001b[0mnew_prob_3\u001b[0m\u001b[1;33m.\u001b[0m\u001b[0mtoDF\u001b[0m\u001b[1;33m(\u001b[0m\u001b[1;33m)\u001b[0m\u001b[1;33m.\u001b[0m\u001b[0mprobability\u001b[0m\u001b[1;33m.\u001b[0m\u001b[0mgetItem\u001b[0m\u001b[1;33m(\u001b[0m\u001b[1;36m0\u001b[0m\u001b[1;33m)\u001b[0m\u001b[1;33m)\u001b[0m\u001b[1;33m\u001b[0m\u001b[0m\n\u001b[0m",
      "\u001b[1;32mC:\\spark\\python\\pyspark\\sql\\dataframe.py\u001b[0m in \u001b[0;36mtoDF\u001b[1;34m(self, *cols)\u001b[0m\n\u001b[0;32m   1912\u001b[0m         \u001b[1;33m[\u001b[0m\u001b[0mRow\u001b[0m\u001b[1;33m(\u001b[0m\u001b[0mf1\u001b[0m\u001b[1;33m=\u001b[0m\u001b[1;36m2\u001b[0m\u001b[1;33m,\u001b[0m \u001b[0mf2\u001b[0m\u001b[1;33m=\u001b[0m\u001b[1;34mu'Alice'\u001b[0m\u001b[1;33m)\u001b[0m\u001b[1;33m,\u001b[0m \u001b[0mRow\u001b[0m\u001b[1;33m(\u001b[0m\u001b[0mf1\u001b[0m\u001b[1;33m=\u001b[0m\u001b[1;36m5\u001b[0m\u001b[1;33m,\u001b[0m \u001b[0mf2\u001b[0m\u001b[1;33m=\u001b[0m\u001b[1;34mu'Bob'\u001b[0m\u001b[1;33m)\u001b[0m\u001b[1;33m]\u001b[0m\u001b[1;33m\u001b[0m\u001b[0m\n\u001b[0;32m   1913\u001b[0m         \"\"\"\n\u001b[1;32m-> 1914\u001b[1;33m         \u001b[0mjdf\u001b[0m \u001b[1;33m=\u001b[0m \u001b[0mself\u001b[0m\u001b[1;33m.\u001b[0m\u001b[0m_jdf\u001b[0m\u001b[1;33m.\u001b[0m\u001b[0mtoDF\u001b[0m\u001b[1;33m(\u001b[0m\u001b[0mself\u001b[0m\u001b[1;33m.\u001b[0m\u001b[0m_jseq\u001b[0m\u001b[1;33m(\u001b[0m\u001b[0mcols\u001b[0m\u001b[1;33m)\u001b[0m\u001b[1;33m)\u001b[0m\u001b[1;33m\u001b[0m\u001b[0m\n\u001b[0m\u001b[0;32m   1915\u001b[0m         \u001b[1;32mreturn\u001b[0m \u001b[0mDataFrame\u001b[0m\u001b[1;33m(\u001b[0m\u001b[0mjdf\u001b[0m\u001b[1;33m,\u001b[0m \u001b[0mself\u001b[0m\u001b[1;33m.\u001b[0m\u001b[0msql_ctx\u001b[0m\u001b[1;33m)\u001b[0m\u001b[1;33m\u001b[0m\u001b[0m\n\u001b[0;32m   1916\u001b[0m \u001b[1;33m\u001b[0m\u001b[0m\n",
      "\u001b[1;32mC:\\spark\\python\\lib\\py4j-0.10.7-src.zip\\py4j\\java_gateway.py\u001b[0m in \u001b[0;36m__call__\u001b[1;34m(self, *args)\u001b[0m\n\u001b[0;32m   1255\u001b[0m         \u001b[0manswer\u001b[0m \u001b[1;33m=\u001b[0m \u001b[0mself\u001b[0m\u001b[1;33m.\u001b[0m\u001b[0mgateway_client\u001b[0m\u001b[1;33m.\u001b[0m\u001b[0msend_command\u001b[0m\u001b[1;33m(\u001b[0m\u001b[0mcommand\u001b[0m\u001b[1;33m)\u001b[0m\u001b[1;33m\u001b[0m\u001b[0m\n\u001b[0;32m   1256\u001b[0m         return_value = get_return_value(\n\u001b[1;32m-> 1257\u001b[1;33m             answer, self.gateway_client, self.target_id, self.name)\n\u001b[0m\u001b[0;32m   1258\u001b[0m \u001b[1;33m\u001b[0m\u001b[0m\n\u001b[0;32m   1259\u001b[0m         \u001b[1;32mfor\u001b[0m \u001b[0mtemp_arg\u001b[0m \u001b[1;32min\u001b[0m \u001b[0mtemp_args\u001b[0m\u001b[1;33m:\u001b[0m\u001b[1;33m\u001b[0m\u001b[0m\n",
      "\u001b[1;32mC:\\spark\\python\\pyspark\\sql\\utils.py\u001b[0m in \u001b[0;36mdeco\u001b[1;34m(*a, **kw)\u001b[0m\n\u001b[0;32m     77\u001b[0m                 \u001b[1;32mraise\u001b[0m \u001b[0mQueryExecutionException\u001b[0m\u001b[1;33m(\u001b[0m\u001b[0ms\u001b[0m\u001b[1;33m.\u001b[0m\u001b[0msplit\u001b[0m\u001b[1;33m(\u001b[0m\u001b[1;34m': '\u001b[0m\u001b[1;33m,\u001b[0m \u001b[1;36m1\u001b[0m\u001b[1;33m)\u001b[0m\u001b[1;33m[\u001b[0m\u001b[1;36m1\u001b[0m\u001b[1;33m]\u001b[0m\u001b[1;33m,\u001b[0m \u001b[0mstackTrace\u001b[0m\u001b[1;33m)\u001b[0m\u001b[1;33m\u001b[0m\u001b[0m\n\u001b[0;32m     78\u001b[0m             \u001b[1;32mif\u001b[0m \u001b[0ms\u001b[0m\u001b[1;33m.\u001b[0m\u001b[0mstartswith\u001b[0m\u001b[1;33m(\u001b[0m\u001b[1;34m'java.lang.IllegalArgumentException: '\u001b[0m\u001b[1;33m)\u001b[0m\u001b[1;33m:\u001b[0m\u001b[1;33m\u001b[0m\u001b[0m\n\u001b[1;32m---> 79\u001b[1;33m                 \u001b[1;32mraise\u001b[0m \u001b[0mIllegalArgumentException\u001b[0m\u001b[1;33m(\u001b[0m\u001b[0ms\u001b[0m\u001b[1;33m.\u001b[0m\u001b[0msplit\u001b[0m\u001b[1;33m(\u001b[0m\u001b[1;34m': '\u001b[0m\u001b[1;33m,\u001b[0m \u001b[1;36m1\u001b[0m\u001b[1;33m)\u001b[0m\u001b[1;33m[\u001b[0m\u001b[1;36m1\u001b[0m\u001b[1;33m]\u001b[0m\u001b[1;33m,\u001b[0m \u001b[0mstackTrace\u001b[0m\u001b[1;33m)\u001b[0m\u001b[1;33m\u001b[0m\u001b[0m\n\u001b[0m\u001b[0;32m     80\u001b[0m             \u001b[1;32mraise\u001b[0m\u001b[1;33m\u001b[0m\u001b[0m\n\u001b[0;32m     81\u001b[0m     \u001b[1;32mreturn\u001b[0m \u001b[0mdeco\u001b[0m\u001b[1;33m\u001b[0m\u001b[0m\n",
      "\u001b[1;31mIllegalArgumentException\u001b[0m: \"requirement failed: The number of columns doesn't match.\\nOld column names (3): _c0, _c1, probability\\nNew column names (0): \""
     ]
    }
   ],
   "source": [
    "new_prob_3 = new_prob_3.withColumn('probability', new_prob_3.probability.getItem(0))"
   ]
  },
  {
   "cell_type": "code",
   "execution_count": null,
   "metadata": {},
   "outputs": [],
   "source": []
  },
  {
   "cell_type": "code",
   "execution_count": 54,
   "metadata": {},
   "outputs": [],
   "source": [
    "prob_df = new_prob_3.select('probability')"
   ]
  },
  {
   "cell_type": "code",
   "execution_count": 71,
   "metadata": {},
   "outputs": [
    {
     "name": "stdout",
     "output_type": "stream",
     "text": [
      "+---+\n",
      "|_c2|\n",
      "+---+\n",
      "|1.4|\n",
      "|1.4|\n",
      "|1.3|\n",
      "|1.5|\n",
      "|1.4|\n",
      "+---+\n",
      "only showing top 5 rows\n",
      "\n"
     ]
    }
   ],
   "source": [
    "prob_c2 = pre_3.select('_c2')\n",
    "prob_c2.show(5)"
   ]
  },
  {
   "cell_type": "code",
   "execution_count": 74,
   "metadata": {},
   "outputs": [
    {
     "ename": "AttributeError",
     "evalue": "'DataFrame' object has no attribute 'getItem'",
     "output_type": "error",
     "traceback": [
      "\u001b[1;31m---------------------------------------------------------------------------\u001b[0m",
      "\u001b[1;31mAttributeError\u001b[0m                            Traceback (most recent call last)",
      "\u001b[1;32m<ipython-input-74-522cad091777>\u001b[0m in \u001b[0;36m<module>\u001b[1;34m()\u001b[0m\n\u001b[1;32m----> 1\u001b[1;33m \u001b[0mnew_prob_3\u001b[0m \u001b[1;33m=\u001b[0m \u001b[0mnew_prob_3\u001b[0m\u001b[1;33m.\u001b[0m\u001b[0mwithColumn\u001b[0m\u001b[1;33m(\u001b[0m\u001b[1;34m'new_c2'\u001b[0m\u001b[1;33m,\u001b[0m \u001b[0mprob_c2\u001b[0m\u001b[1;33m.\u001b[0m\u001b[0mgetItem\u001b[0m\u001b[1;33m(\u001b[0m\u001b[1;36m0\u001b[0m\u001b[1;33m)\u001b[0m\u001b[1;33m)\u001b[0m\u001b[1;33m\u001b[0m\u001b[0m\n\u001b[0m",
      "\u001b[1;32mC:\\spark\\python\\pyspark\\sql\\dataframe.py\u001b[0m in \u001b[0;36m__getattr__\u001b[1;34m(self, name)\u001b[0m\n\u001b[0;32m   1180\u001b[0m         \u001b[1;32mif\u001b[0m \u001b[0mname\u001b[0m \u001b[1;32mnot\u001b[0m \u001b[1;32min\u001b[0m \u001b[0mself\u001b[0m\u001b[1;33m.\u001b[0m\u001b[0mcolumns\u001b[0m\u001b[1;33m:\u001b[0m\u001b[1;33m\u001b[0m\u001b[0m\n\u001b[0;32m   1181\u001b[0m             raise AttributeError(\n\u001b[1;32m-> 1182\u001b[1;33m                 \"'%s' object has no attribute '%s'\" % (self.__class__.__name__, name))\n\u001b[0m\u001b[0;32m   1183\u001b[0m         \u001b[0mjc\u001b[0m \u001b[1;33m=\u001b[0m \u001b[0mself\u001b[0m\u001b[1;33m.\u001b[0m\u001b[0m_jdf\u001b[0m\u001b[1;33m.\u001b[0m\u001b[0mapply\u001b[0m\u001b[1;33m(\u001b[0m\u001b[0mname\u001b[0m\u001b[1;33m)\u001b[0m\u001b[1;33m\u001b[0m\u001b[0m\n\u001b[0;32m   1184\u001b[0m         \u001b[1;32mreturn\u001b[0m \u001b[0mColumn\u001b[0m\u001b[1;33m(\u001b[0m\u001b[0mjc\u001b[0m\u001b[1;33m)\u001b[0m\u001b[1;33m\u001b[0m\u001b[0m\n",
      "\u001b[1;31mAttributeError\u001b[0m: 'DataFrame' object has no attribute 'getItem'"
     ]
    }
   ],
   "source": [
    "new_prob_3 = new_prob_3.withColumn('new_c2', prob_c2.getItem(0))"
   ]
  },
  {
   "cell_type": "code",
   "execution_count": 55,
   "metadata": {},
   "outputs": [
    {
     "name": "stdout",
     "output_type": "stream",
     "text": [
      "+--------------------+\n",
      "|         probability|\n",
      "+--------------------+\n",
      "|[0.00157155276833...|\n",
      "|[0.00215601550463...|\n",
      "|[0.00184854030564...|\n",
      "|[0.00201701076712...|\n",
      "|[0.00144326216378...|\n",
      "+--------------------+\n",
      "only showing top 5 rows\n",
      "\n"
     ]
    }
   ],
   "source": [
    "prob_df.show(5)"
   ]
  },
  {
   "cell_type": "code",
   "execution_count": 58,
   "metadata": {},
   "outputs": [
    {
     "data": {
      "text/plain": [
       "Column<b'probability[0]'>"
      ]
     },
     "execution_count": 58,
     "metadata": {},
     "output_type": "execute_result"
    }
   ],
   "source": [
    "prob_df[0][0]"
   ]
  },
  {
   "cell_type": "code",
   "execution_count": 75,
   "metadata": {},
   "outputs": [
    {
     "ename": "AttributeError",
     "evalue": "'DataFrame' object has no attribute 'getItem'",
     "output_type": "error",
     "traceback": [
      "\u001b[1;31m---------------------------------------------------------------------------\u001b[0m",
      "\u001b[1;31mAttributeError\u001b[0m                            Traceback (most recent call last)",
      "\u001b[1;32m<ipython-input-75-db7fa1c02141>\u001b[0m in \u001b[0;36m<module>\u001b[1;34m()\u001b[0m\n\u001b[1;32m----> 1\u001b[1;33m \u001b[0mnew_prob_3\u001b[0m\u001b[1;33m.\u001b[0m\u001b[0mwithColumn\u001b[0m\u001b[1;33m(\u001b[0m\u001b[1;34m'probability'\u001b[0m\u001b[1;33m,\u001b[0m \u001b[0mprob_df\u001b[0m\u001b[1;33m.\u001b[0m\u001b[0mgetItem\u001b[0m\u001b[1;33m(\u001b[0m\u001b[1;36m0\u001b[0m\u001b[1;33m)\u001b[0m\u001b[1;33m)\u001b[0m\u001b[1;33m\u001b[0m\u001b[0m\n\u001b[0m",
      "\u001b[1;32mC:\\spark\\python\\pyspark\\sql\\dataframe.py\u001b[0m in \u001b[0;36m__getattr__\u001b[1;34m(self, name)\u001b[0m\n\u001b[0;32m   1180\u001b[0m         \u001b[1;32mif\u001b[0m \u001b[0mname\u001b[0m \u001b[1;32mnot\u001b[0m \u001b[1;32min\u001b[0m \u001b[0mself\u001b[0m\u001b[1;33m.\u001b[0m\u001b[0mcolumns\u001b[0m\u001b[1;33m:\u001b[0m\u001b[1;33m\u001b[0m\u001b[0m\n\u001b[0;32m   1181\u001b[0m             raise AttributeError(\n\u001b[1;32m-> 1182\u001b[1;33m                 \"'%s' object has no attribute '%s'\" % (self.__class__.__name__, name))\n\u001b[0m\u001b[0;32m   1183\u001b[0m         \u001b[0mjc\u001b[0m \u001b[1;33m=\u001b[0m \u001b[0mself\u001b[0m\u001b[1;33m.\u001b[0m\u001b[0m_jdf\u001b[0m\u001b[1;33m.\u001b[0m\u001b[0mapply\u001b[0m\u001b[1;33m(\u001b[0m\u001b[0mname\u001b[0m\u001b[1;33m)\u001b[0m\u001b[1;33m\u001b[0m\u001b[0m\n\u001b[0;32m   1184\u001b[0m         \u001b[1;32mreturn\u001b[0m \u001b[0mColumn\u001b[0m\u001b[1;33m(\u001b[0m\u001b[0mjc\u001b[0m\u001b[1;33m)\u001b[0m\u001b[1;33m\u001b[0m\u001b[0m\n",
      "\u001b[1;31mAttributeError\u001b[0m: 'DataFrame' object has no attribute 'getItem'"
     ]
    }
   ],
   "source": [
    "new_prob_3.withColumn('probability', prob_df.getItem(0))"
   ]
  },
  {
   "cell_type": "code",
   "execution_count": null,
   "metadata": {},
   "outputs": [],
   "source": []
  },
  {
   "cell_type": "code",
   "execution_count": null,
   "metadata": {},
   "outputs": [],
   "source": []
  },
  {
   "cell_type": "code",
   "execution_count": 15,
   "metadata": {},
   "outputs": [
    {
     "data": {
      "text/plain": [
       "DataFrame[_c0: double, _c1: double]"
      ]
     },
     "execution_count": 15,
     "metadata": {},
     "output_type": "execute_result"
    }
   ],
   "source": [
    "tra_df = train_data.select(['_c0', '_c1'])\n",
    "tra_df"
   ]
  },
  {
   "cell_type": "code",
   "execution_count": 16,
   "metadata": {},
   "outputs": [
    {
     "ename": "NameError",
     "evalue": "name 'dataset' is not defined",
     "output_type": "error",
     "traceback": [
      "\u001b[1;31m---------------------------------------------------------------------------\u001b[0m",
      "\u001b[1;31mNameError\u001b[0m                                 Traceback (most recent call last)",
      "\u001b[1;32m<ipython-input-16-c45d64f08afc>\u001b[0m in \u001b[0;36m<module>\u001b[1;34m()\u001b[0m\n\u001b[1;32m----> 1\u001b[1;33m \u001b[0mdataset\u001b[0m\u001b[1;33m.\u001b[0m\u001b[0mshow\u001b[0m\u001b[1;33m(\u001b[0m\u001b[1;36m10\u001b[0m\u001b[1;33m)\u001b[0m\u001b[1;33m\u001b[0m\u001b[0m\n\u001b[0m",
      "\u001b[1;31mNameError\u001b[0m: name 'dataset' is not defined"
     ]
    }
   ],
   "source": [
    "dataset.show(10)"
   ]
  },
  {
   "cell_type": "code",
   "execution_count": 14,
   "metadata": {},
   "outputs": [
    {
     "data": {
      "text/plain": [
       "DataFrame[_c0: double]"
      ]
     },
     "execution_count": 14,
     "metadata": {},
     "output_type": "execute_result"
    }
   ],
   "source": [
    "dataset.select('_c0')"
   ]
  },
  {
   "cell_type": "code",
   "execution_count": 15,
   "metadata": {},
   "outputs": [
    {
     "data": {
      "text/plain": [
       "DataFrame[_c0: double, _c1: double, _c2: double, _c3: double, _c4: string, features: vector, label: double]"
      ]
     },
     "execution_count": 15,
     "metadata": {},
     "output_type": "execute_result"
    }
   ],
   "source": [
    "dataset"
   ]
  },
  {
   "cell_type": "code",
   "execution_count": 99,
   "metadata": {},
   "outputs": [
    {
     "data": {
      "text/plain": [
       "DataFrame[label: double]"
      ]
     },
     "execution_count": 99,
     "metadata": {},
     "output_type": "execute_result"
    }
   ],
   "source": [
    "dataset.select('label')"
   ]
  },
  {
   "cell_type": "code",
   "execution_count": 16,
   "metadata": {},
   "outputs": [
    {
     "data": {
      "text/plain": [
       "Column<b'_c0'>"
      ]
     },
     "execution_count": 16,
     "metadata": {},
     "output_type": "execute_result"
    }
   ],
   "source": [
    "c_1 = dataset['_c0']\n",
    "c_1"
   ]
  },
  {
   "cell_type": "code",
   "execution_count": 17,
   "metadata": {},
   "outputs": [
    {
     "data": {
      "text/plain": [
       "Column<b'_c0'>"
      ]
     },
     "execution_count": 17,
     "metadata": {},
     "output_type": "execute_result"
    }
   ],
   "source": [
    "col_v1 = dataset._c0\n",
    "col_v1"
   ]
  },
  {
   "cell_type": "code",
   "execution_count": 18,
   "metadata": {},
   "outputs": [
    {
     "data": {
      "text/plain": [
       "Column<b'_c1'>"
      ]
     },
     "execution_count": 18,
     "metadata": {},
     "output_type": "execute_result"
    }
   ],
   "source": [
    "col_v2 = dataset._c1\n",
    "col_v2"
   ]
  },
  {
   "cell_type": "code",
   "execution_count": 19,
   "metadata": {},
   "outputs": [
    {
     "data": {
      "text/plain": [
       "Column<b'(_c0 * _c1)'>"
      ]
     },
     "execution_count": 19,
     "metadata": {},
     "output_type": "execute_result"
    }
   ],
   "source": [
    "col_v12 = col_v1 * col_v2\n",
    "col_v12"
   ]
  },
  {
   "cell_type": "code",
   "execution_count": 20,
   "metadata": {},
   "outputs": [],
   "source": [
    "new_dataset = dataset.withColumn('col_v12', col_v12)"
   ]
  },
  {
   "cell_type": "code",
   "execution_count": 21,
   "metadata": {},
   "outputs": [
    {
     "name": "stdout",
     "output_type": "stream",
     "text": [
      "+---+---+---+---+---+-----------------+-----+------------------+\n",
      "|_c0|_c1|_c2|_c3|_c4|         features|label|           col_v12|\n",
      "+---+---+---+---+---+-----------------+-----+------------------+\n",
      "|5.1|3.5|1.4|0.2|1.0|[5.1,3.5,1.4,0.2]|  0.0|17.849999999999998|\n",
      "|4.9|3.0|1.4|0.2|1.0|[4.9,3.0,1.4,0.2]|  0.0|14.700000000000001|\n",
      "|4.7|3.2|1.3|0.2|1.0|[4.7,3.2,1.3,0.2]|  0.0|15.040000000000001|\n",
      "|4.6|3.1|1.5|0.2|1.0|[4.6,3.1,1.5,0.2]|  0.0|             14.26|\n",
      "|5.0|3.6|1.4|0.2|1.0|[5.0,3.6,1.4,0.2]|  0.0|              18.0|\n",
      "|5.4|3.9|1.7|0.4|1.0|[5.4,3.9,1.7,0.4]|  0.0|21.060000000000002|\n",
      "|4.6|3.4|1.4|0.3|1.0|[4.6,3.4,1.4,0.3]|  0.0|15.639999999999999|\n",
      "|5.0|3.4|1.5|0.2|1.0|[5.0,3.4,1.5,0.2]|  0.0|              17.0|\n",
      "|4.4|2.9|1.4|0.2|1.0|[4.4,2.9,1.4,0.2]|  0.0|             12.76|\n",
      "|4.9|3.1|1.5|0.1|1.0|[4.9,3.1,1.5,0.1]|  0.0|15.190000000000001|\n",
      "+---+---+---+---+---+-----------------+-----+------------------+\n",
      "only showing top 10 rows\n",
      "\n"
     ]
    }
   ],
   "source": [
    "new_dataset.show(10)"
   ]
  },
  {
   "cell_type": "code",
   "execution_count": null,
   "metadata": {},
   "outputs": [],
   "source": []
  },
  {
   "cell_type": "code",
   "execution_count": 22,
   "metadata": {
    "scrolled": true
   },
   "outputs": [
    {
     "data": {
      "text/plain": [
       "array([[5.1],\n",
       "       [4.9],\n",
       "       [4.7],\n",
       "       [4.6],\n",
       "       [5. ],\n",
       "       [5.4],\n",
       "       [4.6],\n",
       "       [5. ],\n",
       "       [4.4],\n",
       "       [4.9],\n",
       "       [5.4],\n",
       "       [4.8],\n",
       "       [4.8],\n",
       "       [4.3],\n",
       "       [5.8],\n",
       "       [5.7],\n",
       "       [5.4],\n",
       "       [5.1],\n",
       "       [5.7],\n",
       "       [5.1],\n",
       "       [5.4],\n",
       "       [5.1],\n",
       "       [4.6],\n",
       "       [5.1],\n",
       "       [4.8],\n",
       "       [5. ],\n",
       "       [5. ],\n",
       "       [5.2],\n",
       "       [5.2],\n",
       "       [4.7],\n",
       "       [4.8],\n",
       "       [5.4],\n",
       "       [5.2],\n",
       "       [5.5],\n",
       "       [4.9],\n",
       "       [5. ],\n",
       "       [5.5],\n",
       "       [4.9],\n",
       "       [4.4],\n",
       "       [5.1],\n",
       "       [5. ],\n",
       "       [4.5],\n",
       "       [4.4],\n",
       "       [5. ],\n",
       "       [5.1],\n",
       "       [4.8],\n",
       "       [5.1],\n",
       "       [4.6],\n",
       "       [5.3],\n",
       "       [5. ],\n",
       "       [7. ],\n",
       "       [6.4],\n",
       "       [6.9],\n",
       "       [5.5],\n",
       "       [6.5],\n",
       "       [5.7],\n",
       "       [6.3],\n",
       "       [4.9],\n",
       "       [6.6],\n",
       "       [5.2],\n",
       "       [5. ],\n",
       "       [5.9],\n",
       "       [6. ],\n",
       "       [6.1],\n",
       "       [5.6],\n",
       "       [6.7],\n",
       "       [5.6],\n",
       "       [5.8],\n",
       "       [6.2],\n",
       "       [5.6],\n",
       "       [5.9],\n",
       "       [6.1],\n",
       "       [6.3],\n",
       "       [6.1],\n",
       "       [6.4],\n",
       "       [6.6],\n",
       "       [6.8],\n",
       "       [6.7],\n",
       "       [6. ],\n",
       "       [5.7],\n",
       "       [5.5],\n",
       "       [5.5],\n",
       "       [5.8],\n",
       "       [6. ],\n",
       "       [5.4],\n",
       "       [6. ],\n",
       "       [6.7],\n",
       "       [6.3],\n",
       "       [5.6],\n",
       "       [5.5],\n",
       "       [5.5],\n",
       "       [6.1],\n",
       "       [5.8],\n",
       "       [5. ],\n",
       "       [5.6],\n",
       "       [5.7],\n",
       "       [5.7],\n",
       "       [6.2],\n",
       "       [5.1],\n",
       "       [5.7],\n",
       "       [6.3],\n",
       "       [5.8],\n",
       "       [7.1],\n",
       "       [6.3],\n",
       "       [6.5],\n",
       "       [7.6],\n",
       "       [4.9],\n",
       "       [7.3],\n",
       "       [6.7],\n",
       "       [7.2],\n",
       "       [6.5],\n",
       "       [6.4],\n",
       "       [6.8],\n",
       "       [5.7],\n",
       "       [5.8],\n",
       "       [6.4],\n",
       "       [6.5],\n",
       "       [7.7],\n",
       "       [7.7],\n",
       "       [6. ],\n",
       "       [6.9],\n",
       "       [5.6],\n",
       "       [7.7],\n",
       "       [6.3],\n",
       "       [6.7],\n",
       "       [7.2],\n",
       "       [6.2],\n",
       "       [6.1],\n",
       "       [6.4],\n",
       "       [7.2],\n",
       "       [7.4],\n",
       "       [7.9],\n",
       "       [6.4],\n",
       "       [6.3],\n",
       "       [6.1],\n",
       "       [7.7],\n",
       "       [6.3],\n",
       "       [6.4],\n",
       "       [6. ],\n",
       "       [6.9],\n",
       "       [6.7],\n",
       "       [6.9],\n",
       "       [5.8],\n",
       "       [6.8],\n",
       "       [6.7],\n",
       "       [6.7],\n",
       "       [6.3],\n",
       "       [6.5],\n",
       "       [6.2],\n",
       "       [5.9]])"
      ]
     },
     "execution_count": 22,
     "metadata": {},
     "output_type": "execute_result"
    }
   ],
   "source": [
    "col1 = dataset.select('_c0')\n",
    "col1_pd = col1.toPandas()\n",
    "col1_ar = col1_pd.values\n",
    "col1_ar"
   ]
  },
  {
   "cell_type": "code",
   "execution_count": 23,
   "metadata": {
    "scrolled": true
   },
   "outputs": [
    {
     "data": {
      "text/plain": [
       "array([[3.5],\n",
       "       [3. ],\n",
       "       [3.2],\n",
       "       [3.1],\n",
       "       [3.6],\n",
       "       [3.9],\n",
       "       [3.4],\n",
       "       [3.4],\n",
       "       [2.9],\n",
       "       [3.1],\n",
       "       [3.7],\n",
       "       [3.4],\n",
       "       [3. ],\n",
       "       [3. ],\n",
       "       [4. ],\n",
       "       [4.4],\n",
       "       [3.9],\n",
       "       [3.5],\n",
       "       [3.8],\n",
       "       [3.8],\n",
       "       [3.4],\n",
       "       [3.7],\n",
       "       [3.6],\n",
       "       [3.3],\n",
       "       [3.4],\n",
       "       [3. ],\n",
       "       [3.4],\n",
       "       [3.5],\n",
       "       [3.4],\n",
       "       [3.2],\n",
       "       [3.1],\n",
       "       [3.4],\n",
       "       [4.1],\n",
       "       [4.2],\n",
       "       [3.1],\n",
       "       [3.2],\n",
       "       [3.5],\n",
       "       [3.1],\n",
       "       [3. ],\n",
       "       [3.4],\n",
       "       [3.5],\n",
       "       [2.3],\n",
       "       [3.2],\n",
       "       [3.5],\n",
       "       [3.8],\n",
       "       [3. ],\n",
       "       [3.8],\n",
       "       [3.2],\n",
       "       [3.7],\n",
       "       [3.3],\n",
       "       [3.2],\n",
       "       [3.2],\n",
       "       [3.1],\n",
       "       [2.3],\n",
       "       [2.8],\n",
       "       [2.8],\n",
       "       [3.3],\n",
       "       [2.4],\n",
       "       [2.9],\n",
       "       [2.7],\n",
       "       [2. ],\n",
       "       [3. ],\n",
       "       [2.2],\n",
       "       [2.9],\n",
       "       [2.9],\n",
       "       [3.1],\n",
       "       [3. ],\n",
       "       [2.7],\n",
       "       [2.2],\n",
       "       [2.5],\n",
       "       [3.2],\n",
       "       [2.8],\n",
       "       [2.5],\n",
       "       [2.8],\n",
       "       [2.9],\n",
       "       [3. ],\n",
       "       [2.8],\n",
       "       [3. ],\n",
       "       [2.9],\n",
       "       [2.6],\n",
       "       [2.4],\n",
       "       [2.4],\n",
       "       [2.7],\n",
       "       [2.7],\n",
       "       [3. ],\n",
       "       [3.4],\n",
       "       [3.1],\n",
       "       [2.3],\n",
       "       [3. ],\n",
       "       [2.5],\n",
       "       [2.6],\n",
       "       [3. ],\n",
       "       [2.6],\n",
       "       [2.3],\n",
       "       [2.7],\n",
       "       [3. ],\n",
       "       [2.9],\n",
       "       [2.9],\n",
       "       [2.5],\n",
       "       [2.8],\n",
       "       [3.3],\n",
       "       [2.7],\n",
       "       [3. ],\n",
       "       [2.9],\n",
       "       [3. ],\n",
       "       [3. ],\n",
       "       [2.5],\n",
       "       [2.9],\n",
       "       [2.5],\n",
       "       [3.6],\n",
       "       [3.2],\n",
       "       [2.7],\n",
       "       [3. ],\n",
       "       [2.5],\n",
       "       [2.8],\n",
       "       [3.2],\n",
       "       [3. ],\n",
       "       [3.8],\n",
       "       [2.6],\n",
       "       [2.2],\n",
       "       [3.2],\n",
       "       [2.8],\n",
       "       [2.8],\n",
       "       [2.7],\n",
       "       [3.3],\n",
       "       [3.2],\n",
       "       [2.8],\n",
       "       [3. ],\n",
       "       [2.8],\n",
       "       [3. ],\n",
       "       [2.8],\n",
       "       [3.8],\n",
       "       [2.8],\n",
       "       [2.8],\n",
       "       [2.6],\n",
       "       [3. ],\n",
       "       [3.4],\n",
       "       [3.1],\n",
       "       [3. ],\n",
       "       [3.1],\n",
       "       [3.1],\n",
       "       [3.1],\n",
       "       [2.7],\n",
       "       [3.2],\n",
       "       [3.3],\n",
       "       [3. ],\n",
       "       [2.5],\n",
       "       [3. ],\n",
       "       [3.4],\n",
       "       [3. ]])"
      ]
     },
     "execution_count": 23,
     "metadata": {},
     "output_type": "execute_result"
    }
   ],
   "source": [
    "col2 = dataset.select('_c1')\n",
    "col2_pd = col2.toPandas()\n",
    "col2_ar = col2_pd.values\n",
    "col2_ar"
   ]
  },
  {
   "cell_type": "code",
   "execution_count": null,
   "metadata": {},
   "outputs": [],
   "source": []
  },
  {
   "cell_type": "code",
   "execution_count": null,
   "metadata": {},
   "outputs": [],
   "source": []
  },
  {
   "cell_type": "code",
   "execution_count": 24,
   "metadata": {
    "scrolled": true
   },
   "outputs": [
    {
     "data": {
      "text/plain": [
       "array([[17.85],\n",
       "       [14.7 ],\n",
       "       [15.04],\n",
       "       [14.26],\n",
       "       [18.  ],\n",
       "       [21.06],\n",
       "       [15.64],\n",
       "       [17.  ],\n",
       "       [12.76],\n",
       "       [15.19],\n",
       "       [19.98],\n",
       "       [16.32],\n",
       "       [14.4 ],\n",
       "       [12.9 ],\n",
       "       [23.2 ],\n",
       "       [25.08],\n",
       "       [21.06],\n",
       "       [17.85],\n",
       "       [21.66],\n",
       "       [19.38],\n",
       "       [18.36],\n",
       "       [18.87],\n",
       "       [16.56],\n",
       "       [16.83],\n",
       "       [16.32],\n",
       "       [15.  ],\n",
       "       [17.  ],\n",
       "       [18.2 ],\n",
       "       [17.68],\n",
       "       [15.04],\n",
       "       [14.88],\n",
       "       [18.36],\n",
       "       [21.32],\n",
       "       [23.1 ],\n",
       "       [15.19],\n",
       "       [16.  ],\n",
       "       [19.25],\n",
       "       [15.19],\n",
       "       [13.2 ],\n",
       "       [17.34],\n",
       "       [17.5 ],\n",
       "       [10.35],\n",
       "       [14.08],\n",
       "       [17.5 ],\n",
       "       [19.38],\n",
       "       [14.4 ],\n",
       "       [19.38],\n",
       "       [14.72],\n",
       "       [19.61],\n",
       "       [16.5 ],\n",
       "       [22.4 ],\n",
       "       [20.48],\n",
       "       [21.39],\n",
       "       [12.65],\n",
       "       [18.2 ],\n",
       "       [15.96],\n",
       "       [20.79],\n",
       "       [11.76],\n",
       "       [19.14],\n",
       "       [14.04],\n",
       "       [10.  ],\n",
       "       [17.7 ],\n",
       "       [13.2 ],\n",
       "       [17.69],\n",
       "       [16.24],\n",
       "       [20.77],\n",
       "       [16.8 ],\n",
       "       [15.66],\n",
       "       [13.64],\n",
       "       [14.  ],\n",
       "       [18.88],\n",
       "       [17.08],\n",
       "       [15.75],\n",
       "       [17.08],\n",
       "       [18.56],\n",
       "       [19.8 ],\n",
       "       [19.04],\n",
       "       [20.1 ],\n",
       "       [17.4 ],\n",
       "       [14.82],\n",
       "       [13.2 ],\n",
       "       [13.2 ],\n",
       "       [15.66],\n",
       "       [16.2 ],\n",
       "       [16.2 ],\n",
       "       [20.4 ],\n",
       "       [20.77],\n",
       "       [14.49],\n",
       "       [16.8 ],\n",
       "       [13.75],\n",
       "       [14.3 ],\n",
       "       [18.3 ],\n",
       "       [15.08],\n",
       "       [11.5 ],\n",
       "       [15.12],\n",
       "       [17.1 ],\n",
       "       [16.53],\n",
       "       [17.98],\n",
       "       [12.75],\n",
       "       [15.96],\n",
       "       [20.79],\n",
       "       [15.66],\n",
       "       [21.3 ],\n",
       "       [18.27],\n",
       "       [19.5 ],\n",
       "       [22.8 ],\n",
       "       [12.25],\n",
       "       [21.17],\n",
       "       [16.75],\n",
       "       [25.92],\n",
       "       [20.8 ],\n",
       "       [17.28],\n",
       "       [20.4 ],\n",
       "       [14.25],\n",
       "       [16.24],\n",
       "       [20.48],\n",
       "       [19.5 ],\n",
       "       [29.26],\n",
       "       [20.02],\n",
       "       [13.2 ],\n",
       "       [22.08],\n",
       "       [15.68],\n",
       "       [21.56],\n",
       "       [17.01],\n",
       "       [22.11],\n",
       "       [23.04],\n",
       "       [17.36],\n",
       "       [18.3 ],\n",
       "       [17.92],\n",
       "       [21.6 ],\n",
       "       [20.72],\n",
       "       [30.02],\n",
       "       [17.92],\n",
       "       [17.64],\n",
       "       [15.86],\n",
       "       [23.1 ],\n",
       "       [21.42],\n",
       "       [19.84],\n",
       "       [18.  ],\n",
       "       [21.39],\n",
       "       [20.77],\n",
       "       [21.39],\n",
       "       [15.66],\n",
       "       [21.76],\n",
       "       [22.11],\n",
       "       [20.1 ],\n",
       "       [15.75],\n",
       "       [19.5 ],\n",
       "       [21.08],\n",
       "       [17.7 ]])"
      ]
     },
     "execution_count": 24,
     "metadata": {},
     "output_type": "execute_result"
    }
   ],
   "source": [
    "coll = col1_ar * col2_ar\n",
    "coll"
   ]
  },
  {
   "cell_type": "code",
   "execution_count": 25,
   "metadata": {},
   "outputs": [],
   "source": [
    "coll_df = pd.DataFrame(coll)"
   ]
  },
  {
   "cell_type": "code",
   "execution_count": 26,
   "metadata": {
    "scrolled": true
   },
   "outputs": [
    {
     "data": {
      "text/plain": [
       "pandas.core.frame.DataFrame"
      ]
     },
     "execution_count": 26,
     "metadata": {},
     "output_type": "execute_result"
    }
   ],
   "source": [
    "type(coll_df)"
   ]
  },
  {
   "cell_type": "code",
   "execution_count": 27,
   "metadata": {},
   "outputs": [],
   "source": [
    "coll_spark_df = spark.createDataFrame(coll_df)"
   ]
  },
  {
   "cell_type": "code",
   "execution_count": 28,
   "metadata": {},
   "outputs": [
    {
     "data": {
      "text/plain": [
       "DataFrame[0: double]"
      ]
     },
     "execution_count": 28,
     "metadata": {},
     "output_type": "execute_result"
    }
   ],
   "source": [
    "coll_spark_df"
   ]
  },
  {
   "cell_type": "code",
   "execution_count": 29,
   "metadata": {},
   "outputs": [
    {
     "data": {
      "text/plain": [
       "pyspark.sql.dataframe.DataFrame"
      ]
     },
     "execution_count": 29,
     "metadata": {},
     "output_type": "execute_result"
    }
   ],
   "source": [
    "type(coll_spark_df)"
   ]
  },
  {
   "cell_type": "code",
   "execution_count": 30,
   "metadata": {},
   "outputs": [],
   "source": [
    "coll_cl = coll_spark_df.collect()"
   ]
  },
  {
   "cell_type": "code",
   "execution_count": 31,
   "metadata": {},
   "outputs": [
    {
     "data": {
      "text/plain": [
       "[Row(0=17.849999999999998),\n",
       " Row(0=14.700000000000001),\n",
       " Row(0=15.040000000000001),\n",
       " Row(0=14.26),\n",
       " Row(0=18.0),\n",
       " Row(0=21.060000000000002),\n",
       " Row(0=15.639999999999999),\n",
       " Row(0=17.0),\n",
       " Row(0=12.76),\n",
       " Row(0=15.190000000000001),\n",
       " Row(0=19.980000000000004),\n",
       " Row(0=16.32),\n",
       " Row(0=14.399999999999999),\n",
       " Row(0=12.899999999999999),\n",
       " Row(0=23.2),\n",
       " Row(0=25.080000000000002),\n",
       " Row(0=21.060000000000002),\n",
       " Row(0=17.849999999999998),\n",
       " Row(0=21.66),\n",
       " Row(0=19.38),\n",
       " Row(0=18.36),\n",
       " Row(0=18.87),\n",
       " Row(0=16.56),\n",
       " Row(0=16.83),\n",
       " Row(0=16.32),\n",
       " Row(0=15.0),\n",
       " Row(0=17.0),\n",
       " Row(0=18.2),\n",
       " Row(0=17.68),\n",
       " Row(0=15.040000000000001),\n",
       " Row(0=14.879999999999999),\n",
       " Row(0=18.36),\n",
       " Row(0=21.32),\n",
       " Row(0=23.1),\n",
       " Row(0=15.190000000000001),\n",
       " Row(0=16.0),\n",
       " Row(0=19.25),\n",
       " Row(0=15.190000000000001),\n",
       " Row(0=13.200000000000001),\n",
       " Row(0=17.34),\n",
       " Row(0=17.5),\n",
       " Row(0=10.35),\n",
       " Row(0=14.080000000000002),\n",
       " Row(0=17.5),\n",
       " Row(0=19.38),\n",
       " Row(0=14.399999999999999),\n",
       " Row(0=19.38),\n",
       " Row(0=14.719999999999999),\n",
       " Row(0=19.61),\n",
       " Row(0=16.5),\n",
       " Row(0=22.400000000000002),\n",
       " Row(0=20.480000000000004),\n",
       " Row(0=21.39),\n",
       " Row(0=12.649999999999999),\n",
       " Row(0=18.2),\n",
       " Row(0=15.959999999999999),\n",
       " Row(0=20.79),\n",
       " Row(0=11.76),\n",
       " Row(0=19.139999999999997),\n",
       " Row(0=14.040000000000001),\n",
       " Row(0=10.0),\n",
       " Row(0=17.700000000000003),\n",
       " Row(0=13.200000000000001),\n",
       " Row(0=17.689999999999998),\n",
       " Row(0=16.24),\n",
       " Row(0=20.77),\n",
       " Row(0=16.799999999999997),\n",
       " Row(0=15.66),\n",
       " Row(0=13.640000000000002),\n",
       " Row(0=14.0),\n",
       " Row(0=18.880000000000003),\n",
       " Row(0=17.08),\n",
       " Row(0=15.75),\n",
       " Row(0=17.08),\n",
       " Row(0=18.56),\n",
       " Row(0=19.799999999999997),\n",
       " Row(0=19.04),\n",
       " Row(0=20.1),\n",
       " Row(0=17.4),\n",
       " Row(0=14.82),\n",
       " Row(0=13.2),\n",
       " Row(0=13.2),\n",
       " Row(0=15.66),\n",
       " Row(0=16.200000000000003),\n",
       " Row(0=16.200000000000003),\n",
       " Row(0=20.4),\n",
       " Row(0=20.77),\n",
       " Row(0=14.489999999999998),\n",
       " Row(0=16.799999999999997),\n",
       " Row(0=13.75),\n",
       " Row(0=14.3),\n",
       " Row(0=18.299999999999997),\n",
       " Row(0=15.08),\n",
       " Row(0=11.5),\n",
       " Row(0=15.12),\n",
       " Row(0=17.1),\n",
       " Row(0=16.53),\n",
       " Row(0=17.98),\n",
       " Row(0=12.75),\n",
       " Row(0=15.959999999999999),\n",
       " Row(0=20.79),\n",
       " Row(0=15.66),\n",
       " Row(0=21.299999999999997),\n",
       " Row(0=18.27),\n",
       " Row(0=19.5),\n",
       " Row(0=22.799999999999997),\n",
       " Row(0=12.25),\n",
       " Row(0=21.169999999999998),\n",
       " Row(0=16.75),\n",
       " Row(0=25.92),\n",
       " Row(0=20.8),\n",
       " Row(0=17.28),\n",
       " Row(0=20.4),\n",
       " Row(0=14.25),\n",
       " Row(0=16.24),\n",
       " Row(0=20.480000000000004),\n",
       " Row(0=19.5),\n",
       " Row(0=29.259999999999998),\n",
       " Row(0=20.02),\n",
       " Row(0=13.200000000000001),\n",
       " Row(0=22.080000000000002),\n",
       " Row(0=15.679999999999998),\n",
       " Row(0=21.56),\n",
       " Row(0=17.01),\n",
       " Row(0=22.11),\n",
       " Row(0=23.040000000000003),\n",
       " Row(0=17.36),\n",
       " Row(0=18.299999999999997),\n",
       " Row(0=17.919999999999998),\n",
       " Row(0=21.6),\n",
       " Row(0=20.72),\n",
       " Row(0=30.02),\n",
       " Row(0=17.919999999999998),\n",
       " Row(0=17.639999999999997),\n",
       " Row(0=15.86),\n",
       " Row(0=23.1),\n",
       " Row(0=21.419999999999998),\n",
       " Row(0=19.840000000000003),\n",
       " Row(0=18.0),\n",
       " Row(0=21.39),\n",
       " Row(0=20.77),\n",
       " Row(0=21.39),\n",
       " Row(0=15.66),\n",
       " Row(0=21.76),\n",
       " Row(0=22.11),\n",
       " Row(0=20.1),\n",
       " Row(0=15.75),\n",
       " Row(0=19.5),\n",
       " Row(0=21.08),\n",
       " Row(0=17.700000000000003)]"
      ]
     },
     "execution_count": 31,
     "metadata": {},
     "output_type": "execute_result"
    }
   ],
   "source": [
    "coll_cl"
   ]
  },
  {
   "cell_type": "code",
   "execution_count": 32,
   "metadata": {},
   "outputs": [],
   "source": [
    "coll_list = [i[0] for i in coll_cl]"
   ]
  },
  {
   "cell_type": "code",
   "execution_count": 33,
   "metadata": {},
   "outputs": [
    {
     "data": {
      "text/plain": [
       "[17.849999999999998,\n",
       " 14.700000000000001,\n",
       " 15.040000000000001,\n",
       " 14.26,\n",
       " 18.0,\n",
       " 21.060000000000002,\n",
       " 15.639999999999999,\n",
       " 17.0,\n",
       " 12.76,\n",
       " 15.190000000000001,\n",
       " 19.980000000000004,\n",
       " 16.32,\n",
       " 14.399999999999999,\n",
       " 12.899999999999999,\n",
       " 23.2,\n",
       " 25.080000000000002,\n",
       " 21.060000000000002,\n",
       " 17.849999999999998,\n",
       " 21.66,\n",
       " 19.38,\n",
       " 18.36,\n",
       " 18.87,\n",
       " 16.56,\n",
       " 16.83,\n",
       " 16.32,\n",
       " 15.0,\n",
       " 17.0,\n",
       " 18.2,\n",
       " 17.68,\n",
       " 15.040000000000001,\n",
       " 14.879999999999999,\n",
       " 18.36,\n",
       " 21.32,\n",
       " 23.1,\n",
       " 15.190000000000001,\n",
       " 16.0,\n",
       " 19.25,\n",
       " 15.190000000000001,\n",
       " 13.200000000000001,\n",
       " 17.34,\n",
       " 17.5,\n",
       " 10.35,\n",
       " 14.080000000000002,\n",
       " 17.5,\n",
       " 19.38,\n",
       " 14.399999999999999,\n",
       " 19.38,\n",
       " 14.719999999999999,\n",
       " 19.61,\n",
       " 16.5,\n",
       " 22.400000000000002,\n",
       " 20.480000000000004,\n",
       " 21.39,\n",
       " 12.649999999999999,\n",
       " 18.2,\n",
       " 15.959999999999999,\n",
       " 20.79,\n",
       " 11.76,\n",
       " 19.139999999999997,\n",
       " 14.040000000000001,\n",
       " 10.0,\n",
       " 17.700000000000003,\n",
       " 13.200000000000001,\n",
       " 17.689999999999998,\n",
       " 16.24,\n",
       " 20.77,\n",
       " 16.799999999999997,\n",
       " 15.66,\n",
       " 13.640000000000002,\n",
       " 14.0,\n",
       " 18.880000000000003,\n",
       " 17.08,\n",
       " 15.75,\n",
       " 17.08,\n",
       " 18.56,\n",
       " 19.799999999999997,\n",
       " 19.04,\n",
       " 20.1,\n",
       " 17.4,\n",
       " 14.82,\n",
       " 13.2,\n",
       " 13.2,\n",
       " 15.66,\n",
       " 16.200000000000003,\n",
       " 16.200000000000003,\n",
       " 20.4,\n",
       " 20.77,\n",
       " 14.489999999999998,\n",
       " 16.799999999999997,\n",
       " 13.75,\n",
       " 14.3,\n",
       " 18.299999999999997,\n",
       " 15.08,\n",
       " 11.5,\n",
       " 15.12,\n",
       " 17.1,\n",
       " 16.53,\n",
       " 17.98,\n",
       " 12.75,\n",
       " 15.959999999999999,\n",
       " 20.79,\n",
       " 15.66,\n",
       " 21.299999999999997,\n",
       " 18.27,\n",
       " 19.5,\n",
       " 22.799999999999997,\n",
       " 12.25,\n",
       " 21.169999999999998,\n",
       " 16.75,\n",
       " 25.92,\n",
       " 20.8,\n",
       " 17.28,\n",
       " 20.4,\n",
       " 14.25,\n",
       " 16.24,\n",
       " 20.480000000000004,\n",
       " 19.5,\n",
       " 29.259999999999998,\n",
       " 20.02,\n",
       " 13.200000000000001,\n",
       " 22.080000000000002,\n",
       " 15.679999999999998,\n",
       " 21.56,\n",
       " 17.01,\n",
       " 22.11,\n",
       " 23.040000000000003,\n",
       " 17.36,\n",
       " 18.299999999999997,\n",
       " 17.919999999999998,\n",
       " 21.6,\n",
       " 20.72,\n",
       " 30.02,\n",
       " 17.919999999999998,\n",
       " 17.639999999999997,\n",
       " 15.86,\n",
       " 23.1,\n",
       " 21.419999999999998,\n",
       " 19.840000000000003,\n",
       " 18.0,\n",
       " 21.39,\n",
       " 20.77,\n",
       " 21.39,\n",
       " 15.66,\n",
       " 21.76,\n",
       " 22.11,\n",
       " 20.1,\n",
       " 15.75,\n",
       " 19.5,\n",
       " 21.08,\n",
       " 17.700000000000003]"
      ]
     },
     "execution_count": 33,
     "metadata": {},
     "output_type": "execute_result"
    }
   ],
   "source": [
    "coll_list"
   ]
  },
  {
   "cell_type": "code",
   "execution_count": 34,
   "metadata": {},
   "outputs": [
    {
     "data": {
      "text/plain": [
       "Column<b'0'>"
      ]
     },
     "execution_count": 34,
     "metadata": {},
     "output_type": "execute_result"
    }
   ],
   "source": [
    "lit(0)"
   ]
  },
  {
   "cell_type": "code",
   "execution_count": null,
   "metadata": {},
   "outputs": [],
   "source": []
  },
  {
   "cell_type": "code",
   "execution_count": null,
   "metadata": {},
   "outputs": [],
   "source": []
  },
  {
   "cell_type": "code",
   "execution_count": 35,
   "metadata": {},
   "outputs": [
    {
     "data": {
      "text/plain": [
       "['_c0', '_c1', '_c2', '_c3', '_c4', 'features', 'label']"
      ]
     },
     "execution_count": 35,
     "metadata": {},
     "output_type": "execute_result"
    }
   ],
   "source": [
    "dataset.columns"
   ]
  },
  {
   "cell_type": "code",
   "execution_count": 36,
   "metadata": {},
   "outputs": [
    {
     "name": "stdout",
     "output_type": "stream",
     "text": [
      "+---+---+\n",
      "|_c0|_c1|\n",
      "+---+---+\n",
      "|5.1|3.5|\n",
      "|4.9|3.0|\n",
      "|4.7|3.2|\n",
      "|4.6|3.1|\n",
      "|5.0|3.6|\n",
      "+---+---+\n",
      "only showing top 5 rows\n",
      "\n"
     ]
    }
   ],
   "source": [
    "dataset.select(['_c0', '_c1']).show(5)"
   ]
  },
  {
   "cell_type": "code",
   "execution_count": 37,
   "metadata": {},
   "outputs": [],
   "source": [
    "dataset_delete = dataset.select([i for i in dataset.columns if i != 'label'])"
   ]
  },
  {
   "cell_type": "code",
   "execution_count": 38,
   "metadata": {},
   "outputs": [
    {
     "name": "stdout",
     "output_type": "stream",
     "text": [
      "+---+---+---+---+---+-----------------+\n",
      "|_c0|_c1|_c2|_c3|_c4|         features|\n",
      "+---+---+---+---+---+-----------------+\n",
      "|5.1|3.5|1.4|0.2|1.0|[5.1,3.5,1.4,0.2]|\n",
      "|4.9|3.0|1.4|0.2|1.0|[4.9,3.0,1.4,0.2]|\n",
      "|4.7|3.2|1.3|0.2|1.0|[4.7,3.2,1.3,0.2]|\n",
      "|4.6|3.1|1.5|0.2|1.0|[4.6,3.1,1.5,0.2]|\n",
      "|5.0|3.6|1.4|0.2|1.0|[5.0,3.6,1.4,0.2]|\n",
      "+---+---+---+---+---+-----------------+\n",
      "only showing top 5 rows\n",
      "\n"
     ]
    }
   ],
   "source": [
    "dataset_delete.show(5)"
   ]
  },
  {
   "cell_type": "code",
   "execution_count": null,
   "metadata": {},
   "outputs": [],
   "source": []
  },
  {
   "cell_type": "code",
   "execution_count": null,
   "metadata": {},
   "outputs": [],
   "source": []
  },
  {
   "cell_type": "code",
   "execution_count": 39,
   "metadata": {},
   "outputs": [
    {
     "data": {
      "text/plain": [
       "Column<b'_c0'>"
      ]
     },
     "execution_count": 39,
     "metadata": {},
     "output_type": "execute_result"
    }
   ],
   "source": [
    "dataset._c0"
   ]
  },
  {
   "cell_type": "code",
   "execution_count": 40,
   "metadata": {},
   "outputs": [],
   "source": [
    "new_dataset = dataset.withColumn('_c00', dataset['_c0'] + 2)"
   ]
  },
  {
   "cell_type": "code",
   "execution_count": 41,
   "metadata": {},
   "outputs": [
    {
     "data": {
      "text/plain": [
       "DataFrame[_c0: double, _c1: double, _c2: double, _c3: double, _c4: string, features: vector, label: double, _c00: double]"
      ]
     },
     "execution_count": 41,
     "metadata": {},
     "output_type": "execute_result"
    }
   ],
   "source": [
    "new_dataset"
   ]
  },
  {
   "cell_type": "code",
   "execution_count": 42,
   "metadata": {
    "scrolled": true
   },
   "outputs": [
    {
     "name": "stdout",
     "output_type": "stream",
     "text": [
      "+---+---+---+---+---+-----------------+-----+----+\n",
      "|_c0|_c1|_c2|_c3|_c4|         features|label|_c00|\n",
      "+---+---+---+---+---+-----------------+-----+----+\n",
      "|5.1|3.5|1.4|0.2|1.0|[5.1,3.5,1.4,0.2]|  0.0| 7.1|\n",
      "|4.9|3.0|1.4|0.2|1.0|[4.9,3.0,1.4,0.2]|  0.0| 6.9|\n",
      "|4.7|3.2|1.3|0.2|1.0|[4.7,3.2,1.3,0.2]|  0.0| 6.7|\n",
      "|4.6|3.1|1.5|0.2|1.0|[4.6,3.1,1.5,0.2]|  0.0| 6.6|\n",
      "|5.0|3.6|1.4|0.2|1.0|[5.0,3.6,1.4,0.2]|  0.0| 7.0|\n",
      "|5.4|3.9|1.7|0.4|1.0|[5.4,3.9,1.7,0.4]|  0.0| 7.4|\n",
      "|4.6|3.4|1.4|0.3|1.0|[4.6,3.4,1.4,0.3]|  0.0| 6.6|\n",
      "|5.0|3.4|1.5|0.2|1.0|[5.0,3.4,1.5,0.2]|  0.0| 7.0|\n",
      "|4.4|2.9|1.4|0.2|1.0|[4.4,2.9,1.4,0.2]|  0.0| 6.4|\n",
      "|4.9|3.1|1.5|0.1|1.0|[4.9,3.1,1.5,0.1]|  0.0| 6.9|\n",
      "|5.4|3.7|1.5|0.2|1.0|[5.4,3.7,1.5,0.2]|  0.0| 7.4|\n",
      "|4.8|3.4|1.6|0.2|1.0|[4.8,3.4,1.6,0.2]|  0.0| 6.8|\n",
      "|4.8|3.0|1.4|0.1|1.0|[4.8,3.0,1.4,0.1]|  0.0| 6.8|\n",
      "|4.3|3.0|1.1|0.1|1.0|[4.3,3.0,1.1,0.1]|  0.0| 6.3|\n",
      "|5.8|4.0|1.2|0.2|1.0|[5.8,4.0,1.2,0.2]|  0.0| 7.8|\n",
      "|5.7|4.4|1.5|0.4|1.0|[5.7,4.4,1.5,0.4]|  0.0| 7.7|\n",
      "|5.4|3.9|1.3|0.4|1.0|[5.4,3.9,1.3,0.4]|  0.0| 7.4|\n",
      "|5.1|3.5|1.4|0.3|1.0|[5.1,3.5,1.4,0.3]|  0.0| 7.1|\n",
      "|5.7|3.8|1.7|0.3|1.0|[5.7,3.8,1.7,0.3]|  0.0| 7.7|\n",
      "|5.1|3.8|1.5|0.3|1.0|[5.1,3.8,1.5,0.3]|  0.0| 7.1|\n",
      "+---+---+---+---+---+-----------------+-----+----+\n",
      "only showing top 20 rows\n",
      "\n"
     ]
    }
   ],
   "source": [
    "new_dataset.show()"
   ]
  },
  {
   "cell_type": "code",
   "execution_count": 43,
   "metadata": {},
   "outputs": [
    {
     "data": {
      "text/plain": [
       "pyspark.sql.dataframe.DataFrame"
      ]
     },
     "execution_count": 43,
     "metadata": {},
     "output_type": "execute_result"
    }
   ],
   "source": [
    "type(dataset.select('_c0'))"
   ]
  },
  {
   "cell_type": "code",
   "execution_count": 44,
   "metadata": {
    "scrolled": true
   },
   "outputs": [],
   "source": [
    "dataset_cl= dataset.select('_c0').collect()"
   ]
  },
  {
   "cell_type": "code",
   "execution_count": 45,
   "metadata": {},
   "outputs": [
    {
     "data": {
      "text/plain": [
       "[Row(_c0=5.1),\n",
       " Row(_c0=4.9),\n",
       " Row(_c0=4.7),\n",
       " Row(_c0=4.6),\n",
       " Row(_c0=5.0),\n",
       " Row(_c0=5.4),\n",
       " Row(_c0=4.6),\n",
       " Row(_c0=5.0),\n",
       " Row(_c0=4.4),\n",
       " Row(_c0=4.9),\n",
       " Row(_c0=5.4),\n",
       " Row(_c0=4.8),\n",
       " Row(_c0=4.8),\n",
       " Row(_c0=4.3),\n",
       " Row(_c0=5.8),\n",
       " Row(_c0=5.7),\n",
       " Row(_c0=5.4),\n",
       " Row(_c0=5.1),\n",
       " Row(_c0=5.7),\n",
       " Row(_c0=5.1),\n",
       " Row(_c0=5.4),\n",
       " Row(_c0=5.1),\n",
       " Row(_c0=4.6),\n",
       " Row(_c0=5.1),\n",
       " Row(_c0=4.8),\n",
       " Row(_c0=5.0),\n",
       " Row(_c0=5.0),\n",
       " Row(_c0=5.2),\n",
       " Row(_c0=5.2),\n",
       " Row(_c0=4.7),\n",
       " Row(_c0=4.8),\n",
       " Row(_c0=5.4),\n",
       " Row(_c0=5.2),\n",
       " Row(_c0=5.5),\n",
       " Row(_c0=4.9),\n",
       " Row(_c0=5.0),\n",
       " Row(_c0=5.5),\n",
       " Row(_c0=4.9),\n",
       " Row(_c0=4.4),\n",
       " Row(_c0=5.1),\n",
       " Row(_c0=5.0),\n",
       " Row(_c0=4.5),\n",
       " Row(_c0=4.4),\n",
       " Row(_c0=5.0),\n",
       " Row(_c0=5.1),\n",
       " Row(_c0=4.8),\n",
       " Row(_c0=5.1),\n",
       " Row(_c0=4.6),\n",
       " Row(_c0=5.3),\n",
       " Row(_c0=5.0),\n",
       " Row(_c0=7.0),\n",
       " Row(_c0=6.4),\n",
       " Row(_c0=6.9),\n",
       " Row(_c0=5.5),\n",
       " Row(_c0=6.5),\n",
       " Row(_c0=5.7),\n",
       " Row(_c0=6.3),\n",
       " Row(_c0=4.9),\n",
       " Row(_c0=6.6),\n",
       " Row(_c0=5.2),\n",
       " Row(_c0=5.0),\n",
       " Row(_c0=5.9),\n",
       " Row(_c0=6.0),\n",
       " Row(_c0=6.1),\n",
       " Row(_c0=5.6),\n",
       " Row(_c0=6.7),\n",
       " Row(_c0=5.6),\n",
       " Row(_c0=5.8),\n",
       " Row(_c0=6.2),\n",
       " Row(_c0=5.6),\n",
       " Row(_c0=5.9),\n",
       " Row(_c0=6.1),\n",
       " Row(_c0=6.3),\n",
       " Row(_c0=6.1),\n",
       " Row(_c0=6.4),\n",
       " Row(_c0=6.6),\n",
       " Row(_c0=6.8),\n",
       " Row(_c0=6.7),\n",
       " Row(_c0=6.0),\n",
       " Row(_c0=5.7),\n",
       " Row(_c0=5.5),\n",
       " Row(_c0=5.5),\n",
       " Row(_c0=5.8),\n",
       " Row(_c0=6.0),\n",
       " Row(_c0=5.4),\n",
       " Row(_c0=6.0),\n",
       " Row(_c0=6.7),\n",
       " Row(_c0=6.3),\n",
       " Row(_c0=5.6),\n",
       " Row(_c0=5.5),\n",
       " Row(_c0=5.5),\n",
       " Row(_c0=6.1),\n",
       " Row(_c0=5.8),\n",
       " Row(_c0=5.0),\n",
       " Row(_c0=5.6),\n",
       " Row(_c0=5.7),\n",
       " Row(_c0=5.7),\n",
       " Row(_c0=6.2),\n",
       " Row(_c0=5.1),\n",
       " Row(_c0=5.7),\n",
       " Row(_c0=6.3),\n",
       " Row(_c0=5.8),\n",
       " Row(_c0=7.1),\n",
       " Row(_c0=6.3),\n",
       " Row(_c0=6.5),\n",
       " Row(_c0=7.6),\n",
       " Row(_c0=4.9),\n",
       " Row(_c0=7.3),\n",
       " Row(_c0=6.7),\n",
       " Row(_c0=7.2),\n",
       " Row(_c0=6.5),\n",
       " Row(_c0=6.4),\n",
       " Row(_c0=6.8),\n",
       " Row(_c0=5.7),\n",
       " Row(_c0=5.8),\n",
       " Row(_c0=6.4),\n",
       " Row(_c0=6.5),\n",
       " Row(_c0=7.7),\n",
       " Row(_c0=7.7),\n",
       " Row(_c0=6.0),\n",
       " Row(_c0=6.9),\n",
       " Row(_c0=5.6),\n",
       " Row(_c0=7.7),\n",
       " Row(_c0=6.3),\n",
       " Row(_c0=6.7),\n",
       " Row(_c0=7.2),\n",
       " Row(_c0=6.2),\n",
       " Row(_c0=6.1),\n",
       " Row(_c0=6.4),\n",
       " Row(_c0=7.2),\n",
       " Row(_c0=7.4),\n",
       " Row(_c0=7.9),\n",
       " Row(_c0=6.4),\n",
       " Row(_c0=6.3),\n",
       " Row(_c0=6.1),\n",
       " Row(_c0=7.7),\n",
       " Row(_c0=6.3),\n",
       " Row(_c0=6.4),\n",
       " Row(_c0=6.0),\n",
       " Row(_c0=6.9),\n",
       " Row(_c0=6.7),\n",
       " Row(_c0=6.9),\n",
       " Row(_c0=5.8),\n",
       " Row(_c0=6.8),\n",
       " Row(_c0=6.7),\n",
       " Row(_c0=6.7),\n",
       " Row(_c0=6.3),\n",
       " Row(_c0=6.5),\n",
       " Row(_c0=6.2),\n",
       " Row(_c0=5.9)]"
      ]
     },
     "execution_count": 45,
     "metadata": {},
     "output_type": "execute_result"
    }
   ],
   "source": [
    "dataset_cl"
   ]
  },
  {
   "cell_type": "code",
   "execution_count": 46,
   "metadata": {},
   "outputs": [],
   "source": [
    "# dataset_list = [i[0] for i in dataset_cl]  # OK\n",
    "dataset_list = [i['_c0'] for i in dataset_cl]  # OK"
   ]
  },
  {
   "cell_type": "code",
   "execution_count": 47,
   "metadata": {},
   "outputs": [
    {
     "data": {
      "text/plain": [
       "[5.1,\n",
       " 4.9,\n",
       " 4.7,\n",
       " 4.6,\n",
       " 5.0,\n",
       " 5.4,\n",
       " 4.6,\n",
       " 5.0,\n",
       " 4.4,\n",
       " 4.9,\n",
       " 5.4,\n",
       " 4.8,\n",
       " 4.8,\n",
       " 4.3,\n",
       " 5.8,\n",
       " 5.7,\n",
       " 5.4,\n",
       " 5.1,\n",
       " 5.7,\n",
       " 5.1,\n",
       " 5.4,\n",
       " 5.1,\n",
       " 4.6,\n",
       " 5.1,\n",
       " 4.8,\n",
       " 5.0,\n",
       " 5.0,\n",
       " 5.2,\n",
       " 5.2,\n",
       " 4.7,\n",
       " 4.8,\n",
       " 5.4,\n",
       " 5.2,\n",
       " 5.5,\n",
       " 4.9,\n",
       " 5.0,\n",
       " 5.5,\n",
       " 4.9,\n",
       " 4.4,\n",
       " 5.1,\n",
       " 5.0,\n",
       " 4.5,\n",
       " 4.4,\n",
       " 5.0,\n",
       " 5.1,\n",
       " 4.8,\n",
       " 5.1,\n",
       " 4.6,\n",
       " 5.3,\n",
       " 5.0,\n",
       " 7.0,\n",
       " 6.4,\n",
       " 6.9,\n",
       " 5.5,\n",
       " 6.5,\n",
       " 5.7,\n",
       " 6.3,\n",
       " 4.9,\n",
       " 6.6,\n",
       " 5.2,\n",
       " 5.0,\n",
       " 5.9,\n",
       " 6.0,\n",
       " 6.1,\n",
       " 5.6,\n",
       " 6.7,\n",
       " 5.6,\n",
       " 5.8,\n",
       " 6.2,\n",
       " 5.6,\n",
       " 5.9,\n",
       " 6.1,\n",
       " 6.3,\n",
       " 6.1,\n",
       " 6.4,\n",
       " 6.6,\n",
       " 6.8,\n",
       " 6.7,\n",
       " 6.0,\n",
       " 5.7,\n",
       " 5.5,\n",
       " 5.5,\n",
       " 5.8,\n",
       " 6.0,\n",
       " 5.4,\n",
       " 6.0,\n",
       " 6.7,\n",
       " 6.3,\n",
       " 5.6,\n",
       " 5.5,\n",
       " 5.5,\n",
       " 6.1,\n",
       " 5.8,\n",
       " 5.0,\n",
       " 5.6,\n",
       " 5.7,\n",
       " 5.7,\n",
       " 6.2,\n",
       " 5.1,\n",
       " 5.7,\n",
       " 6.3,\n",
       " 5.8,\n",
       " 7.1,\n",
       " 6.3,\n",
       " 6.5,\n",
       " 7.6,\n",
       " 4.9,\n",
       " 7.3,\n",
       " 6.7,\n",
       " 7.2,\n",
       " 6.5,\n",
       " 6.4,\n",
       " 6.8,\n",
       " 5.7,\n",
       " 5.8,\n",
       " 6.4,\n",
       " 6.5,\n",
       " 7.7,\n",
       " 7.7,\n",
       " 6.0,\n",
       " 6.9,\n",
       " 5.6,\n",
       " 7.7,\n",
       " 6.3,\n",
       " 6.7,\n",
       " 7.2,\n",
       " 6.2,\n",
       " 6.1,\n",
       " 6.4,\n",
       " 7.2,\n",
       " 7.4,\n",
       " 7.9,\n",
       " 6.4,\n",
       " 6.3,\n",
       " 6.1,\n",
       " 7.7,\n",
       " 6.3,\n",
       " 6.4,\n",
       " 6.0,\n",
       " 6.9,\n",
       " 6.7,\n",
       " 6.9,\n",
       " 5.8,\n",
       " 6.8,\n",
       " 6.7,\n",
       " 6.7,\n",
       " 6.3,\n",
       " 6.5,\n",
       " 6.2,\n",
       " 5.9]"
      ]
     },
     "execution_count": 47,
     "metadata": {},
     "output_type": "execute_result"
    }
   ],
   "source": [
    "dataset_list"
   ]
  },
  {
   "cell_type": "code",
   "execution_count": 48,
   "metadata": {},
   "outputs": [
    {
     "data": {
      "text/plain": [
       "float"
      ]
     },
     "execution_count": 48,
     "metadata": {},
     "output_type": "execute_result"
    }
   ],
   "source": [
    "type(dataset_list[0])"
   ]
  },
  {
   "cell_type": "code",
   "execution_count": null,
   "metadata": {},
   "outputs": [],
   "source": []
  },
  {
   "cell_type": "code",
   "execution_count": 49,
   "metadata": {},
   "outputs": [],
   "source": [
    "# 删除某些无用列\n",
    "new_dataset = dataset.drop('_c0', '_c1', '_c2', '_c3', '_c4')"
   ]
  },
  {
   "cell_type": "code",
   "execution_count": 50,
   "metadata": {},
   "outputs": [
    {
     "name": "stdout",
     "output_type": "stream",
     "text": [
      "+-----------------+-----+\n",
      "|         features|label|\n",
      "+-----------------+-----+\n",
      "|[5.1,3.5,1.4,0.2]|  0.0|\n",
      "|[4.9,3.0,1.4,0.2]|  0.0|\n",
      "|[4.7,3.2,1.3,0.2]|  0.0|\n",
      "|[4.6,3.1,1.5,0.2]|  0.0|\n",
      "|[5.0,3.6,1.4,0.2]|  0.0|\n",
      "+-----------------+-----+\n",
      "only showing top 5 rows\n",
      "\n"
     ]
    }
   ],
   "source": [
    "new_dataset.show(5)"
   ]
  },
  {
   "cell_type": "code",
   "execution_count": 51,
   "metadata": {},
   "outputs": [],
   "source": [
    "# 新_模型训练\n",
    "lr_2 = LogisticRegression(maxIter=20, regParam=0.3, elasticNetParam=0)\n",
    "lrModel_2 = lr_2.fit(new_dataset)"
   ]
  },
  {
   "cell_type": "code",
   "execution_count": 52,
   "metadata": {},
   "outputs": [
    {
     "ename": "Py4JJavaError",
     "evalue": "An error occurred while calling o368.save.\n: java.io.IOException: Path C:\\Wang Hanmo\\scripts\\spark\\lr already exists. To overwrite it, please use write.overwrite().save(path) for Scala and use write().overwrite().save(path) for Java and Python.\r\n\tat org.apache.spark.ml.util.FileSystemOverwrite.handleOverwrite(ReadWrite.scala:503)\r\n\tat org.apache.spark.ml.util.MLWriter.save(ReadWrite.scala:102)\r\n\tat sun.reflect.NativeMethodAccessorImpl.invoke0(Native Method)\r\n\tat sun.reflect.NativeMethodAccessorImpl.invoke(NativeMethodAccessorImpl.java:62)\r\n\tat sun.reflect.DelegatingMethodAccessorImpl.invoke(DelegatingMethodAccessorImpl.java:43)\r\n\tat java.lang.reflect.Method.invoke(Method.java:498)\r\n\tat py4j.reflection.MethodInvoker.invoke(MethodInvoker.java:244)\r\n\tat py4j.reflection.ReflectionEngine.invoke(ReflectionEngine.java:357)\r\n\tat py4j.Gateway.invoke(Gateway.java:282)\r\n\tat py4j.commands.AbstractCommand.invokeMethod(AbstractCommand.java:132)\r\n\tat py4j.commands.CallCommand.execute(CallCommand.java:79)\r\n\tat py4j.GatewayConnection.run(GatewayConnection.java:238)\r\n\tat java.lang.Thread.run(Thread.java:748)\r\n",
     "output_type": "error",
     "traceback": [
      "\u001b[1;31m---------------------------------------------------------------------------\u001b[0m",
      "\u001b[1;31mPy4JJavaError\u001b[0m                             Traceback (most recent call last)",
      "\u001b[1;32m<ipython-input-52-0b7c0e538ebb>\u001b[0m in \u001b[0;36m<module>\u001b[1;34m()\u001b[0m\n\u001b[1;32m----> 1\u001b[1;33m \u001b[0mlrModel_2\u001b[0m\u001b[1;33m.\u001b[0m\u001b[0msave\u001b[0m\u001b[1;33m(\u001b[0m\u001b[1;34m'C:\\Wang Hanmo\\scripts\\spark\\lr'\u001b[0m\u001b[1;33m)\u001b[0m\u001b[1;33m\u001b[0m\u001b[0m\n\u001b[0m",
      "\u001b[1;32mC:\\spark\\python\\pyspark\\ml\\util.py\u001b[0m in \u001b[0;36msave\u001b[1;34m(self, path)\u001b[0m\n\u001b[0;32m    202\u001b[0m     \u001b[1;32mdef\u001b[0m \u001b[0msave\u001b[0m\u001b[1;33m(\u001b[0m\u001b[0mself\u001b[0m\u001b[1;33m,\u001b[0m \u001b[0mpath\u001b[0m\u001b[1;33m)\u001b[0m\u001b[1;33m:\u001b[0m\u001b[1;33m\u001b[0m\u001b[0m\n\u001b[0;32m    203\u001b[0m         \u001b[1;34m\"\"\"Save this ML instance to the given path, a shortcut of 'write().save(path)'.\"\"\"\u001b[0m\u001b[1;33m\u001b[0m\u001b[0m\n\u001b[1;32m--> 204\u001b[1;33m         \u001b[0mself\u001b[0m\u001b[1;33m.\u001b[0m\u001b[0mwrite\u001b[0m\u001b[1;33m(\u001b[0m\u001b[1;33m)\u001b[0m\u001b[1;33m.\u001b[0m\u001b[0msave\u001b[0m\u001b[1;33m(\u001b[0m\u001b[0mpath\u001b[0m\u001b[1;33m)\u001b[0m\u001b[1;33m\u001b[0m\u001b[0m\n\u001b[0m\u001b[0;32m    205\u001b[0m \u001b[1;33m\u001b[0m\u001b[0m\n\u001b[0;32m    206\u001b[0m \u001b[1;33m\u001b[0m\u001b[0m\n",
      "\u001b[1;32mC:\\spark\\python\\pyspark\\ml\\util.py\u001b[0m in \u001b[0;36msave\u001b[1;34m(self, path)\u001b[0m\n\u001b[0;32m    163\u001b[0m         \u001b[1;32mif\u001b[0m \u001b[1;32mnot\u001b[0m \u001b[0misinstance\u001b[0m\u001b[1;33m(\u001b[0m\u001b[0mpath\u001b[0m\u001b[1;33m,\u001b[0m \u001b[0mbasestring\u001b[0m\u001b[1;33m)\u001b[0m\u001b[1;33m:\u001b[0m\u001b[1;33m\u001b[0m\u001b[0m\n\u001b[0;32m    164\u001b[0m             \u001b[1;32mraise\u001b[0m \u001b[0mTypeError\u001b[0m\u001b[1;33m(\u001b[0m\u001b[1;34m\"path should be a basestring, got type %s\"\u001b[0m \u001b[1;33m%\u001b[0m \u001b[0mtype\u001b[0m\u001b[1;33m(\u001b[0m\u001b[0mpath\u001b[0m\u001b[1;33m)\u001b[0m\u001b[1;33m)\u001b[0m\u001b[1;33m\u001b[0m\u001b[0m\n\u001b[1;32m--> 165\u001b[1;33m         \u001b[0mself\u001b[0m\u001b[1;33m.\u001b[0m\u001b[0m_jwrite\u001b[0m\u001b[1;33m.\u001b[0m\u001b[0msave\u001b[0m\u001b[1;33m(\u001b[0m\u001b[0mpath\u001b[0m\u001b[1;33m)\u001b[0m\u001b[1;33m\u001b[0m\u001b[0m\n\u001b[0m\u001b[0;32m    166\u001b[0m \u001b[1;33m\u001b[0m\u001b[0m\n\u001b[0;32m    167\u001b[0m     \u001b[1;32mdef\u001b[0m \u001b[0moverwrite\u001b[0m\u001b[1;33m(\u001b[0m\u001b[0mself\u001b[0m\u001b[1;33m)\u001b[0m\u001b[1;33m:\u001b[0m\u001b[1;33m\u001b[0m\u001b[0m\n",
      "\u001b[1;32mC:\\spark\\python\\lib\\py4j-0.10.7-src.zip\\py4j\\java_gateway.py\u001b[0m in \u001b[0;36m__call__\u001b[1;34m(self, *args)\u001b[0m\n\u001b[0;32m   1255\u001b[0m         \u001b[0manswer\u001b[0m \u001b[1;33m=\u001b[0m \u001b[0mself\u001b[0m\u001b[1;33m.\u001b[0m\u001b[0mgateway_client\u001b[0m\u001b[1;33m.\u001b[0m\u001b[0msend_command\u001b[0m\u001b[1;33m(\u001b[0m\u001b[0mcommand\u001b[0m\u001b[1;33m)\u001b[0m\u001b[1;33m\u001b[0m\u001b[0m\n\u001b[0;32m   1256\u001b[0m         return_value = get_return_value(\n\u001b[1;32m-> 1257\u001b[1;33m             answer, self.gateway_client, self.target_id, self.name)\n\u001b[0m\u001b[0;32m   1258\u001b[0m \u001b[1;33m\u001b[0m\u001b[0m\n\u001b[0;32m   1259\u001b[0m         \u001b[1;32mfor\u001b[0m \u001b[0mtemp_arg\u001b[0m \u001b[1;32min\u001b[0m \u001b[0mtemp_args\u001b[0m\u001b[1;33m:\u001b[0m\u001b[1;33m\u001b[0m\u001b[0m\n",
      "\u001b[1;32mC:\\spark\\python\\pyspark\\sql\\utils.py\u001b[0m in \u001b[0;36mdeco\u001b[1;34m(*a, **kw)\u001b[0m\n\u001b[0;32m     61\u001b[0m     \u001b[1;32mdef\u001b[0m \u001b[0mdeco\u001b[0m\u001b[1;33m(\u001b[0m\u001b[1;33m*\u001b[0m\u001b[0ma\u001b[0m\u001b[1;33m,\u001b[0m \u001b[1;33m**\u001b[0m\u001b[0mkw\u001b[0m\u001b[1;33m)\u001b[0m\u001b[1;33m:\u001b[0m\u001b[1;33m\u001b[0m\u001b[0m\n\u001b[0;32m     62\u001b[0m         \u001b[1;32mtry\u001b[0m\u001b[1;33m:\u001b[0m\u001b[1;33m\u001b[0m\u001b[0m\n\u001b[1;32m---> 63\u001b[1;33m             \u001b[1;32mreturn\u001b[0m \u001b[0mf\u001b[0m\u001b[1;33m(\u001b[0m\u001b[1;33m*\u001b[0m\u001b[0ma\u001b[0m\u001b[1;33m,\u001b[0m \u001b[1;33m**\u001b[0m\u001b[0mkw\u001b[0m\u001b[1;33m)\u001b[0m\u001b[1;33m\u001b[0m\u001b[0m\n\u001b[0m\u001b[0;32m     64\u001b[0m         \u001b[1;32mexcept\u001b[0m \u001b[0mpy4j\u001b[0m\u001b[1;33m.\u001b[0m\u001b[0mprotocol\u001b[0m\u001b[1;33m.\u001b[0m\u001b[0mPy4JJavaError\u001b[0m \u001b[1;32mas\u001b[0m \u001b[0me\u001b[0m\u001b[1;33m:\u001b[0m\u001b[1;33m\u001b[0m\u001b[0m\n\u001b[0;32m     65\u001b[0m             \u001b[0ms\u001b[0m \u001b[1;33m=\u001b[0m \u001b[0me\u001b[0m\u001b[1;33m.\u001b[0m\u001b[0mjava_exception\u001b[0m\u001b[1;33m.\u001b[0m\u001b[0mtoString\u001b[0m\u001b[1;33m(\u001b[0m\u001b[1;33m)\u001b[0m\u001b[1;33m\u001b[0m\u001b[0m\n",
      "\u001b[1;32mC:\\spark\\python\\lib\\py4j-0.10.7-src.zip\\py4j\\protocol.py\u001b[0m in \u001b[0;36mget_return_value\u001b[1;34m(answer, gateway_client, target_id, name)\u001b[0m\n\u001b[0;32m    326\u001b[0m                 raise Py4JJavaError(\n\u001b[0;32m    327\u001b[0m                     \u001b[1;34m\"An error occurred while calling {0}{1}{2}.\\n\"\u001b[0m\u001b[1;33m.\u001b[0m\u001b[1;33m\u001b[0m\u001b[0m\n\u001b[1;32m--> 328\u001b[1;33m                     format(target_id, \".\", name), value)\n\u001b[0m\u001b[0;32m    329\u001b[0m             \u001b[1;32melse\u001b[0m\u001b[1;33m:\u001b[0m\u001b[1;33m\u001b[0m\u001b[0m\n\u001b[0;32m    330\u001b[0m                 raise Py4JError(\n",
      "\u001b[1;31mPy4JJavaError\u001b[0m: An error occurred while calling o368.save.\n: java.io.IOException: Path C:\\Wang Hanmo\\scripts\\spark\\lr already exists. To overwrite it, please use write.overwrite().save(path) for Scala and use write().overwrite().save(path) for Java and Python.\r\n\tat org.apache.spark.ml.util.FileSystemOverwrite.handleOverwrite(ReadWrite.scala:503)\r\n\tat org.apache.spark.ml.util.MLWriter.save(ReadWrite.scala:102)\r\n\tat sun.reflect.NativeMethodAccessorImpl.invoke0(Native Method)\r\n\tat sun.reflect.NativeMethodAccessorImpl.invoke(NativeMethodAccessorImpl.java:62)\r\n\tat sun.reflect.DelegatingMethodAccessorImpl.invoke(DelegatingMethodAccessorImpl.java:43)\r\n\tat java.lang.reflect.Method.invoke(Method.java:498)\r\n\tat py4j.reflection.MethodInvoker.invoke(MethodInvoker.java:244)\r\n\tat py4j.reflection.ReflectionEngine.invoke(ReflectionEngine.java:357)\r\n\tat py4j.Gateway.invoke(Gateway.java:282)\r\n\tat py4j.commands.AbstractCommand.invokeMethod(AbstractCommand.java:132)\r\n\tat py4j.commands.CallCommand.execute(CallCommand.java:79)\r\n\tat py4j.GatewayConnection.run(GatewayConnection.java:238)\r\n\tat java.lang.Thread.run(Thread.java:748)\r\n"
     ]
    }
   ],
   "source": [
    "lrModel_2.save('C:\\Wang Hanmo\\scripts\\spark\\lr')"
   ]
  },
  {
   "cell_type": "code",
   "execution_count": 53,
   "metadata": {},
   "outputs": [
    {
     "ename": "Py4JJavaError",
     "evalue": "An error occurred while calling o384.load.\n: java.lang.NoSuchMethodException: org.apache.spark.ml.classification.LogisticRegressionModel.<init>(java.lang.String)\r\n\tat java.lang.Class.getConstructor0(Class.java:3082)\r\n\tat java.lang.Class.getConstructor(Class.java:1825)\r\n\tat org.apache.spark.ml.util.DefaultParamsReader.load(ReadWrite.scala:333)\r\n\tat sun.reflect.NativeMethodAccessorImpl.invoke0(Native Method)\r\n\tat sun.reflect.NativeMethodAccessorImpl.invoke(NativeMethodAccessorImpl.java:62)\r\n\tat sun.reflect.DelegatingMethodAccessorImpl.invoke(DelegatingMethodAccessorImpl.java:43)\r\n\tat java.lang.reflect.Method.invoke(Method.java:498)\r\n\tat py4j.reflection.MethodInvoker.invoke(MethodInvoker.java:244)\r\n\tat py4j.reflection.ReflectionEngine.invoke(ReflectionEngine.java:357)\r\n\tat py4j.Gateway.invoke(Gateway.java:282)\r\n\tat py4j.commands.AbstractCommand.invokeMethod(AbstractCommand.java:132)\r\n\tat py4j.commands.CallCommand.execute(CallCommand.java:79)\r\n\tat py4j.GatewayConnection.run(GatewayConnection.java:238)\r\n\tat java.lang.Thread.run(Thread.java:748)\r\n",
     "output_type": "error",
     "traceback": [
      "\u001b[1;31m---------------------------------------------------------------------------\u001b[0m",
      "\u001b[1;31mPy4JJavaError\u001b[0m                             Traceback (most recent call last)",
      "\u001b[1;32m<ipython-input-53-1d2a2db8ccfb>\u001b[0m in \u001b[0;36m<module>\u001b[1;34m()\u001b[0m\n\u001b[1;32m----> 1\u001b[1;33m \u001b[0mlr_model\u001b[0m \u001b[1;33m=\u001b[0m \u001b[0mLogisticRegression\u001b[0m\u001b[1;33m.\u001b[0m\u001b[0mload\u001b[0m\u001b[1;33m(\u001b[0m\u001b[1;34m'C:\\Wang Hanmo\\scripts\\spark\\lr'\u001b[0m\u001b[1;33m)\u001b[0m\u001b[1;33m\u001b[0m\u001b[0m\n\u001b[0m",
      "\u001b[1;32mC:\\spark\\python\\pyspark\\ml\\util.py\u001b[0m in \u001b[0;36mload\u001b[1;34m(cls, path)\u001b[0m\n\u001b[0;32m    309\u001b[0m     \u001b[1;32mdef\u001b[0m \u001b[0mload\u001b[0m\u001b[1;33m(\u001b[0m\u001b[0mcls\u001b[0m\u001b[1;33m,\u001b[0m \u001b[0mpath\u001b[0m\u001b[1;33m)\u001b[0m\u001b[1;33m:\u001b[0m\u001b[1;33m\u001b[0m\u001b[0m\n\u001b[0;32m    310\u001b[0m         \u001b[1;34m\"\"\"Reads an ML instance from the input path, a shortcut of `read().load(path)`.\"\"\"\u001b[0m\u001b[1;33m\u001b[0m\u001b[0m\n\u001b[1;32m--> 311\u001b[1;33m         \u001b[1;32mreturn\u001b[0m \u001b[0mcls\u001b[0m\u001b[1;33m.\u001b[0m\u001b[0mread\u001b[0m\u001b[1;33m(\u001b[0m\u001b[1;33m)\u001b[0m\u001b[1;33m.\u001b[0m\u001b[0mload\u001b[0m\u001b[1;33m(\u001b[0m\u001b[0mpath\u001b[0m\u001b[1;33m)\u001b[0m\u001b[1;33m\u001b[0m\u001b[0m\n\u001b[0m\u001b[0;32m    312\u001b[0m \u001b[1;33m\u001b[0m\u001b[0m\n\u001b[0;32m    313\u001b[0m \u001b[1;33m\u001b[0m\u001b[0m\n",
      "\u001b[1;32mC:\\spark\\python\\pyspark\\ml\\util.py\u001b[0m in \u001b[0;36mload\u001b[1;34m(self, path)\u001b[0m\n\u001b[0;32m    247\u001b[0m         \u001b[1;32mif\u001b[0m \u001b[1;32mnot\u001b[0m \u001b[0misinstance\u001b[0m\u001b[1;33m(\u001b[0m\u001b[0mpath\u001b[0m\u001b[1;33m,\u001b[0m \u001b[0mbasestring\u001b[0m\u001b[1;33m)\u001b[0m\u001b[1;33m:\u001b[0m\u001b[1;33m\u001b[0m\u001b[0m\n\u001b[0;32m    248\u001b[0m             \u001b[1;32mraise\u001b[0m \u001b[0mTypeError\u001b[0m\u001b[1;33m(\u001b[0m\u001b[1;34m\"path should be a basestring, got type %s\"\u001b[0m \u001b[1;33m%\u001b[0m \u001b[0mtype\u001b[0m\u001b[1;33m(\u001b[0m\u001b[0mpath\u001b[0m\u001b[1;33m)\u001b[0m\u001b[1;33m)\u001b[0m\u001b[1;33m\u001b[0m\u001b[0m\n\u001b[1;32m--> 249\u001b[1;33m         \u001b[0mjava_obj\u001b[0m \u001b[1;33m=\u001b[0m \u001b[0mself\u001b[0m\u001b[1;33m.\u001b[0m\u001b[0m_jread\u001b[0m\u001b[1;33m.\u001b[0m\u001b[0mload\u001b[0m\u001b[1;33m(\u001b[0m\u001b[0mpath\u001b[0m\u001b[1;33m)\u001b[0m\u001b[1;33m\u001b[0m\u001b[0m\n\u001b[0m\u001b[0;32m    250\u001b[0m         \u001b[1;32mif\u001b[0m \u001b[1;32mnot\u001b[0m \u001b[0mhasattr\u001b[0m\u001b[1;33m(\u001b[0m\u001b[0mself\u001b[0m\u001b[1;33m.\u001b[0m\u001b[0m_clazz\u001b[0m\u001b[1;33m,\u001b[0m \u001b[1;34m\"_from_java\"\u001b[0m\u001b[1;33m)\u001b[0m\u001b[1;33m:\u001b[0m\u001b[1;33m\u001b[0m\u001b[0m\n\u001b[0;32m    251\u001b[0m             raise NotImplementedError(\"This Java ML type cannot be loaded into Python currently: %r\"\n",
      "\u001b[1;32mC:\\spark\\python\\lib\\py4j-0.10.7-src.zip\\py4j\\java_gateway.py\u001b[0m in \u001b[0;36m__call__\u001b[1;34m(self, *args)\u001b[0m\n\u001b[0;32m   1255\u001b[0m         \u001b[0manswer\u001b[0m \u001b[1;33m=\u001b[0m \u001b[0mself\u001b[0m\u001b[1;33m.\u001b[0m\u001b[0mgateway_client\u001b[0m\u001b[1;33m.\u001b[0m\u001b[0msend_command\u001b[0m\u001b[1;33m(\u001b[0m\u001b[0mcommand\u001b[0m\u001b[1;33m)\u001b[0m\u001b[1;33m\u001b[0m\u001b[0m\n\u001b[0;32m   1256\u001b[0m         return_value = get_return_value(\n\u001b[1;32m-> 1257\u001b[1;33m             answer, self.gateway_client, self.target_id, self.name)\n\u001b[0m\u001b[0;32m   1258\u001b[0m \u001b[1;33m\u001b[0m\u001b[0m\n\u001b[0;32m   1259\u001b[0m         \u001b[1;32mfor\u001b[0m \u001b[0mtemp_arg\u001b[0m \u001b[1;32min\u001b[0m \u001b[0mtemp_args\u001b[0m\u001b[1;33m:\u001b[0m\u001b[1;33m\u001b[0m\u001b[0m\n",
      "\u001b[1;32mC:\\spark\\python\\pyspark\\sql\\utils.py\u001b[0m in \u001b[0;36mdeco\u001b[1;34m(*a, **kw)\u001b[0m\n\u001b[0;32m     61\u001b[0m     \u001b[1;32mdef\u001b[0m \u001b[0mdeco\u001b[0m\u001b[1;33m(\u001b[0m\u001b[1;33m*\u001b[0m\u001b[0ma\u001b[0m\u001b[1;33m,\u001b[0m \u001b[1;33m**\u001b[0m\u001b[0mkw\u001b[0m\u001b[1;33m)\u001b[0m\u001b[1;33m:\u001b[0m\u001b[1;33m\u001b[0m\u001b[0m\n\u001b[0;32m     62\u001b[0m         \u001b[1;32mtry\u001b[0m\u001b[1;33m:\u001b[0m\u001b[1;33m\u001b[0m\u001b[0m\n\u001b[1;32m---> 63\u001b[1;33m             \u001b[1;32mreturn\u001b[0m \u001b[0mf\u001b[0m\u001b[1;33m(\u001b[0m\u001b[1;33m*\u001b[0m\u001b[0ma\u001b[0m\u001b[1;33m,\u001b[0m \u001b[1;33m**\u001b[0m\u001b[0mkw\u001b[0m\u001b[1;33m)\u001b[0m\u001b[1;33m\u001b[0m\u001b[0m\n\u001b[0m\u001b[0;32m     64\u001b[0m         \u001b[1;32mexcept\u001b[0m \u001b[0mpy4j\u001b[0m\u001b[1;33m.\u001b[0m\u001b[0mprotocol\u001b[0m\u001b[1;33m.\u001b[0m\u001b[0mPy4JJavaError\u001b[0m \u001b[1;32mas\u001b[0m \u001b[0me\u001b[0m\u001b[1;33m:\u001b[0m\u001b[1;33m\u001b[0m\u001b[0m\n\u001b[0;32m     65\u001b[0m             \u001b[0ms\u001b[0m \u001b[1;33m=\u001b[0m \u001b[0me\u001b[0m\u001b[1;33m.\u001b[0m\u001b[0mjava_exception\u001b[0m\u001b[1;33m.\u001b[0m\u001b[0mtoString\u001b[0m\u001b[1;33m(\u001b[0m\u001b[1;33m)\u001b[0m\u001b[1;33m\u001b[0m\u001b[0m\n",
      "\u001b[1;32mC:\\spark\\python\\lib\\py4j-0.10.7-src.zip\\py4j\\protocol.py\u001b[0m in \u001b[0;36mget_return_value\u001b[1;34m(answer, gateway_client, target_id, name)\u001b[0m\n\u001b[0;32m    326\u001b[0m                 raise Py4JJavaError(\n\u001b[0;32m    327\u001b[0m                     \u001b[1;34m\"An error occurred while calling {0}{1}{2}.\\n\"\u001b[0m\u001b[1;33m.\u001b[0m\u001b[1;33m\u001b[0m\u001b[0m\n\u001b[1;32m--> 328\u001b[1;33m                     format(target_id, \".\", name), value)\n\u001b[0m\u001b[0;32m    329\u001b[0m             \u001b[1;32melse\u001b[0m\u001b[1;33m:\u001b[0m\u001b[1;33m\u001b[0m\u001b[0m\n\u001b[0;32m    330\u001b[0m                 raise Py4JError(\n",
      "\u001b[1;31mPy4JJavaError\u001b[0m: An error occurred while calling o384.load.\n: java.lang.NoSuchMethodException: org.apache.spark.ml.classification.LogisticRegressionModel.<init>(java.lang.String)\r\n\tat java.lang.Class.getConstructor0(Class.java:3082)\r\n\tat java.lang.Class.getConstructor(Class.java:1825)\r\n\tat org.apache.spark.ml.util.DefaultParamsReader.load(ReadWrite.scala:333)\r\n\tat sun.reflect.NativeMethodAccessorImpl.invoke0(Native Method)\r\n\tat sun.reflect.NativeMethodAccessorImpl.invoke(NativeMethodAccessorImpl.java:62)\r\n\tat sun.reflect.DelegatingMethodAccessorImpl.invoke(DelegatingMethodAccessorImpl.java:43)\r\n\tat java.lang.reflect.Method.invoke(Method.java:498)\r\n\tat py4j.reflection.MethodInvoker.invoke(MethodInvoker.java:244)\r\n\tat py4j.reflection.ReflectionEngine.invoke(ReflectionEngine.java:357)\r\n\tat py4j.Gateway.invoke(Gateway.java:282)\r\n\tat py4j.commands.AbstractCommand.invokeMethod(AbstractCommand.java:132)\r\n\tat py4j.commands.CallCommand.execute(CallCommand.java:79)\r\n\tat py4j.GatewayConnection.run(GatewayConnection.java:238)\r\n\tat java.lang.Thread.run(Thread.java:748)\r\n"
     ]
    }
   ],
   "source": [
    "lr_model = LogisticRegression.load('C:\\Wang Hanmo\\scripts\\spark\\lr')"
   ]
  },
  {
   "cell_type": "code",
   "execution_count": 54,
   "metadata": {},
   "outputs": [
    {
     "ename": "Py4JJavaError",
     "evalue": "An error occurred while calling o401.load.\n: java.lang.NoSuchMethodException: org.apache.spark.ml.classification.LogisticRegressionModel.<init>(java.lang.String)\r\n\tat java.lang.Class.getConstructor0(Class.java:3082)\r\n\tat java.lang.Class.getConstructor(Class.java:1825)\r\n\tat org.apache.spark.ml.util.DefaultParamsReader.load(ReadWrite.scala:333)\r\n\tat sun.reflect.NativeMethodAccessorImpl.invoke0(Native Method)\r\n\tat sun.reflect.NativeMethodAccessorImpl.invoke(NativeMethodAccessorImpl.java:62)\r\n\tat sun.reflect.DelegatingMethodAccessorImpl.invoke(DelegatingMethodAccessorImpl.java:43)\r\n\tat java.lang.reflect.Method.invoke(Method.java:498)\r\n\tat py4j.reflection.MethodInvoker.invoke(MethodInvoker.java:244)\r\n\tat py4j.reflection.ReflectionEngine.invoke(ReflectionEngine.java:357)\r\n\tat py4j.Gateway.invoke(Gateway.java:282)\r\n\tat py4j.commands.AbstractCommand.invokeMethod(AbstractCommand.java:132)\r\n\tat py4j.commands.CallCommand.execute(CallCommand.java:79)\r\n\tat py4j.GatewayConnection.run(GatewayConnection.java:238)\r\n\tat java.lang.Thread.run(Thread.java:748)\r\n",
     "output_type": "error",
     "traceback": [
      "\u001b[1;31m---------------------------------------------------------------------------\u001b[0m",
      "\u001b[1;31mPy4JJavaError\u001b[0m                             Traceback (most recent call last)",
      "\u001b[1;32m<ipython-input-54-1d2a2db8ccfb>\u001b[0m in \u001b[0;36m<module>\u001b[1;34m()\u001b[0m\n\u001b[1;32m----> 1\u001b[1;33m \u001b[0mlr_model\u001b[0m \u001b[1;33m=\u001b[0m \u001b[0mLogisticRegression\u001b[0m\u001b[1;33m.\u001b[0m\u001b[0mload\u001b[0m\u001b[1;33m(\u001b[0m\u001b[1;34m'C:\\Wang Hanmo\\scripts\\spark\\lr'\u001b[0m\u001b[1;33m)\u001b[0m\u001b[1;33m\u001b[0m\u001b[0m\n\u001b[0m",
      "\u001b[1;32mC:\\spark\\python\\pyspark\\ml\\util.py\u001b[0m in \u001b[0;36mload\u001b[1;34m(cls, path)\u001b[0m\n\u001b[0;32m    309\u001b[0m     \u001b[1;32mdef\u001b[0m \u001b[0mload\u001b[0m\u001b[1;33m(\u001b[0m\u001b[0mcls\u001b[0m\u001b[1;33m,\u001b[0m \u001b[0mpath\u001b[0m\u001b[1;33m)\u001b[0m\u001b[1;33m:\u001b[0m\u001b[1;33m\u001b[0m\u001b[0m\n\u001b[0;32m    310\u001b[0m         \u001b[1;34m\"\"\"Reads an ML instance from the input path, a shortcut of `read().load(path)`.\"\"\"\u001b[0m\u001b[1;33m\u001b[0m\u001b[0m\n\u001b[1;32m--> 311\u001b[1;33m         \u001b[1;32mreturn\u001b[0m \u001b[0mcls\u001b[0m\u001b[1;33m.\u001b[0m\u001b[0mread\u001b[0m\u001b[1;33m(\u001b[0m\u001b[1;33m)\u001b[0m\u001b[1;33m.\u001b[0m\u001b[0mload\u001b[0m\u001b[1;33m(\u001b[0m\u001b[0mpath\u001b[0m\u001b[1;33m)\u001b[0m\u001b[1;33m\u001b[0m\u001b[0m\n\u001b[0m\u001b[0;32m    312\u001b[0m \u001b[1;33m\u001b[0m\u001b[0m\n\u001b[0;32m    313\u001b[0m \u001b[1;33m\u001b[0m\u001b[0m\n",
      "\u001b[1;32mC:\\spark\\python\\pyspark\\ml\\util.py\u001b[0m in \u001b[0;36mload\u001b[1;34m(self, path)\u001b[0m\n\u001b[0;32m    247\u001b[0m         \u001b[1;32mif\u001b[0m \u001b[1;32mnot\u001b[0m \u001b[0misinstance\u001b[0m\u001b[1;33m(\u001b[0m\u001b[0mpath\u001b[0m\u001b[1;33m,\u001b[0m \u001b[0mbasestring\u001b[0m\u001b[1;33m)\u001b[0m\u001b[1;33m:\u001b[0m\u001b[1;33m\u001b[0m\u001b[0m\n\u001b[0;32m    248\u001b[0m             \u001b[1;32mraise\u001b[0m \u001b[0mTypeError\u001b[0m\u001b[1;33m(\u001b[0m\u001b[1;34m\"path should be a basestring, got type %s\"\u001b[0m \u001b[1;33m%\u001b[0m \u001b[0mtype\u001b[0m\u001b[1;33m(\u001b[0m\u001b[0mpath\u001b[0m\u001b[1;33m)\u001b[0m\u001b[1;33m)\u001b[0m\u001b[1;33m\u001b[0m\u001b[0m\n\u001b[1;32m--> 249\u001b[1;33m         \u001b[0mjava_obj\u001b[0m \u001b[1;33m=\u001b[0m \u001b[0mself\u001b[0m\u001b[1;33m.\u001b[0m\u001b[0m_jread\u001b[0m\u001b[1;33m.\u001b[0m\u001b[0mload\u001b[0m\u001b[1;33m(\u001b[0m\u001b[0mpath\u001b[0m\u001b[1;33m)\u001b[0m\u001b[1;33m\u001b[0m\u001b[0m\n\u001b[0m\u001b[0;32m    250\u001b[0m         \u001b[1;32mif\u001b[0m \u001b[1;32mnot\u001b[0m \u001b[0mhasattr\u001b[0m\u001b[1;33m(\u001b[0m\u001b[0mself\u001b[0m\u001b[1;33m.\u001b[0m\u001b[0m_clazz\u001b[0m\u001b[1;33m,\u001b[0m \u001b[1;34m\"_from_java\"\u001b[0m\u001b[1;33m)\u001b[0m\u001b[1;33m:\u001b[0m\u001b[1;33m\u001b[0m\u001b[0m\n\u001b[0;32m    251\u001b[0m             raise NotImplementedError(\"This Java ML type cannot be loaded into Python currently: %r\"\n",
      "\u001b[1;32mC:\\spark\\python\\lib\\py4j-0.10.7-src.zip\\py4j\\java_gateway.py\u001b[0m in \u001b[0;36m__call__\u001b[1;34m(self, *args)\u001b[0m\n\u001b[0;32m   1255\u001b[0m         \u001b[0manswer\u001b[0m \u001b[1;33m=\u001b[0m \u001b[0mself\u001b[0m\u001b[1;33m.\u001b[0m\u001b[0mgateway_client\u001b[0m\u001b[1;33m.\u001b[0m\u001b[0msend_command\u001b[0m\u001b[1;33m(\u001b[0m\u001b[0mcommand\u001b[0m\u001b[1;33m)\u001b[0m\u001b[1;33m\u001b[0m\u001b[0m\n\u001b[0;32m   1256\u001b[0m         return_value = get_return_value(\n\u001b[1;32m-> 1257\u001b[1;33m             answer, self.gateway_client, self.target_id, self.name)\n\u001b[0m\u001b[0;32m   1258\u001b[0m \u001b[1;33m\u001b[0m\u001b[0m\n\u001b[0;32m   1259\u001b[0m         \u001b[1;32mfor\u001b[0m \u001b[0mtemp_arg\u001b[0m \u001b[1;32min\u001b[0m \u001b[0mtemp_args\u001b[0m\u001b[1;33m:\u001b[0m\u001b[1;33m\u001b[0m\u001b[0m\n",
      "\u001b[1;32mC:\\spark\\python\\pyspark\\sql\\utils.py\u001b[0m in \u001b[0;36mdeco\u001b[1;34m(*a, **kw)\u001b[0m\n\u001b[0;32m     61\u001b[0m     \u001b[1;32mdef\u001b[0m \u001b[0mdeco\u001b[0m\u001b[1;33m(\u001b[0m\u001b[1;33m*\u001b[0m\u001b[0ma\u001b[0m\u001b[1;33m,\u001b[0m \u001b[1;33m**\u001b[0m\u001b[0mkw\u001b[0m\u001b[1;33m)\u001b[0m\u001b[1;33m:\u001b[0m\u001b[1;33m\u001b[0m\u001b[0m\n\u001b[0;32m     62\u001b[0m         \u001b[1;32mtry\u001b[0m\u001b[1;33m:\u001b[0m\u001b[1;33m\u001b[0m\u001b[0m\n\u001b[1;32m---> 63\u001b[1;33m             \u001b[1;32mreturn\u001b[0m \u001b[0mf\u001b[0m\u001b[1;33m(\u001b[0m\u001b[1;33m*\u001b[0m\u001b[0ma\u001b[0m\u001b[1;33m,\u001b[0m \u001b[1;33m**\u001b[0m\u001b[0mkw\u001b[0m\u001b[1;33m)\u001b[0m\u001b[1;33m\u001b[0m\u001b[0m\n\u001b[0m\u001b[0;32m     64\u001b[0m         \u001b[1;32mexcept\u001b[0m \u001b[0mpy4j\u001b[0m\u001b[1;33m.\u001b[0m\u001b[0mprotocol\u001b[0m\u001b[1;33m.\u001b[0m\u001b[0mPy4JJavaError\u001b[0m \u001b[1;32mas\u001b[0m \u001b[0me\u001b[0m\u001b[1;33m:\u001b[0m\u001b[1;33m\u001b[0m\u001b[0m\n\u001b[0;32m     65\u001b[0m             \u001b[0ms\u001b[0m \u001b[1;33m=\u001b[0m \u001b[0me\u001b[0m\u001b[1;33m.\u001b[0m\u001b[0mjava_exception\u001b[0m\u001b[1;33m.\u001b[0m\u001b[0mtoString\u001b[0m\u001b[1;33m(\u001b[0m\u001b[1;33m)\u001b[0m\u001b[1;33m\u001b[0m\u001b[0m\n",
      "\u001b[1;32mC:\\spark\\python\\lib\\py4j-0.10.7-src.zip\\py4j\\protocol.py\u001b[0m in \u001b[0;36mget_return_value\u001b[1;34m(answer, gateway_client, target_id, name)\u001b[0m\n\u001b[0;32m    326\u001b[0m                 raise Py4JJavaError(\n\u001b[0;32m    327\u001b[0m                     \u001b[1;34m\"An error occurred while calling {0}{1}{2}.\\n\"\u001b[0m\u001b[1;33m.\u001b[0m\u001b[1;33m\u001b[0m\u001b[0m\n\u001b[1;32m--> 328\u001b[1;33m                     format(target_id, \".\", name), value)\n\u001b[0m\u001b[0;32m    329\u001b[0m             \u001b[1;32melse\u001b[0m\u001b[1;33m:\u001b[0m\u001b[1;33m\u001b[0m\u001b[0m\n\u001b[0;32m    330\u001b[0m                 raise Py4JError(\n",
      "\u001b[1;31mPy4JJavaError\u001b[0m: An error occurred while calling o401.load.\n: java.lang.NoSuchMethodException: org.apache.spark.ml.classification.LogisticRegressionModel.<init>(java.lang.String)\r\n\tat java.lang.Class.getConstructor0(Class.java:3082)\r\n\tat java.lang.Class.getConstructor(Class.java:1825)\r\n\tat org.apache.spark.ml.util.DefaultParamsReader.load(ReadWrite.scala:333)\r\n\tat sun.reflect.NativeMethodAccessorImpl.invoke0(Native Method)\r\n\tat sun.reflect.NativeMethodAccessorImpl.invoke(NativeMethodAccessorImpl.java:62)\r\n\tat sun.reflect.DelegatingMethodAccessorImpl.invoke(DelegatingMethodAccessorImpl.java:43)\r\n\tat java.lang.reflect.Method.invoke(Method.java:498)\r\n\tat py4j.reflection.MethodInvoker.invoke(MethodInvoker.java:244)\r\n\tat py4j.reflection.ReflectionEngine.invoke(ReflectionEngine.java:357)\r\n\tat py4j.Gateway.invoke(Gateway.java:282)\r\n\tat py4j.commands.AbstractCommand.invokeMethod(AbstractCommand.java:132)\r\n\tat py4j.commands.CallCommand.execute(CallCommand.java:79)\r\n\tat py4j.GatewayConnection.run(GatewayConnection.java:238)\r\n\tat java.lang.Thread.run(Thread.java:748)\r\n"
     ]
    }
   ],
   "source": [
    "lr_model = LogisticRegression.load('C:\\Wang Hanmo\\scripts\\spark\\lr')"
   ]
  },
  {
   "cell_type": "code",
   "execution_count": 55,
   "metadata": {},
   "outputs": [],
   "source": [
    "lr_model = LogisticRegressionModel.load('C:\\Wang Hanmo\\scripts\\spark\\lr')"
   ]
  },
  {
   "cell_type": "code",
   "execution_count": 56,
   "metadata": {},
   "outputs": [
    {
     "ename": "TypeError",
     "evalue": "transform() got an unexpected keyword argument 'thresholds'",
     "output_type": "error",
     "traceback": [
      "\u001b[1;31m---------------------------------------------------------------------------\u001b[0m",
      "\u001b[1;31mTypeError\u001b[0m                                 Traceback (most recent call last)",
      "\u001b[1;32m<ipython-input-56-a992eafe3c78>\u001b[0m in \u001b[0;36m<module>\u001b[1;34m()\u001b[0m\n\u001b[1;32m----> 1\u001b[1;33m \u001b[0mpredictions4\u001b[0m \u001b[1;33m=\u001b[0m \u001b[0mlr_model\u001b[0m\u001b[1;33m.\u001b[0m\u001b[0mtransform\u001b[0m\u001b[1;33m(\u001b[0m\u001b[0mnew_dataset\u001b[0m\u001b[1;33m,\u001b[0m \u001b[0mthresholds\u001b[0m\u001b[1;33m=\u001b[0m\u001b[1;36m0.6\u001b[0m\u001b[1;33m)\u001b[0m\u001b[1;33m\u001b[0m\u001b[0m\n\u001b[0m",
      "\u001b[1;31mTypeError\u001b[0m: transform() got an unexpected keyword argument 'thresholds'"
     ]
    }
   ],
   "source": [
    "predictions4 = lr_model.transform(new_dataset, thresholds=0.6)"
   ]
  },
  {
   "cell_type": "code",
   "execution_count": null,
   "metadata": {},
   "outputs": [],
   "source": [
    "predictions4.show(5)"
   ]
  },
  {
   "cell_type": "code",
   "execution_count": 57,
   "metadata": {},
   "outputs": [
    {
     "data": {
      "text/plain": [
       "[Param(parent='LogisticRegression_4e52a129ba750364bdcf', name='aggregationDepth', doc='suggested depth for treeAggregate (>= 2)'),\n",
       " Param(parent='LogisticRegression_4e52a129ba750364bdcf', name='elasticNetParam', doc='the ElasticNet mixing parameter, in range [0, 1]. For alpha = 0, the penalty is an L2 penalty. For alpha = 1, it is an L1 penalty'),\n",
       " Param(parent='LogisticRegression_4e52a129ba750364bdcf', name='family', doc='The name of family which is a description of the label distribution to be used in the model. Supported options: auto, binomial, multinomial.'),\n",
       " Param(parent='LogisticRegression_4e52a129ba750364bdcf', name='featuresCol', doc='features column name'),\n",
       " Param(parent='LogisticRegression_4e52a129ba750364bdcf', name='fitIntercept', doc='whether to fit an intercept term'),\n",
       " Param(parent='LogisticRegression_4e52a129ba750364bdcf', name='labelCol', doc='label column name'),\n",
       " Param(parent='LogisticRegression_4e52a129ba750364bdcf', name='lowerBoundsOnCoefficients', doc='The lower bounds on coefficients if fitting under bound constrained optimization.'),\n",
       " Param(parent='LogisticRegression_4e52a129ba750364bdcf', name='lowerBoundsOnIntercepts', doc='The lower bounds on intercepts if fitting under bound constrained optimization.'),\n",
       " Param(parent='LogisticRegression_4e52a129ba750364bdcf', name='maxIter', doc='maximum number of iterations (>= 0)'),\n",
       " Param(parent='LogisticRegression_4e52a129ba750364bdcf', name='predictionCol', doc='prediction column name'),\n",
       " Param(parent='LogisticRegression_4e52a129ba750364bdcf', name='probabilityCol', doc='Column name for predicted class conditional probabilities. Note: Not all models output well-calibrated probability estimates! These probabilities should be treated as confidences, not precise probabilities'),\n",
       " Param(parent='LogisticRegression_4e52a129ba750364bdcf', name='rawPredictionCol', doc='raw prediction (a.k.a. confidence) column name'),\n",
       " Param(parent='LogisticRegression_4e52a129ba750364bdcf', name='regParam', doc='regularization parameter (>= 0)'),\n",
       " Param(parent='LogisticRegression_4e52a129ba750364bdcf', name='standardization', doc='whether to standardize the training features before fitting the model'),\n",
       " Param(parent='LogisticRegression_4e52a129ba750364bdcf', name='threshold', doc='threshold in binary classification prediction, in range [0, 1]'),\n",
       " Param(parent='LogisticRegression_4e52a129ba750364bdcf', name='thresholds', doc=\"Thresholds in multi-class classification to adjust the probability of predicting each class. Array must have length equal to the number of classes, with values > 0 excepting that at most one value may be 0. The class with largest value p/t is predicted, where p is the original probability of that class and t is the class's threshold\"),\n",
       " Param(parent='LogisticRegression_4e52a129ba750364bdcf', name='tol', doc='the convergence tolerance for iterative algorithms (>= 0)'),\n",
       " Param(parent='LogisticRegression_4e52a129ba750364bdcf', name='upperBoundsOnCoefficients', doc='The upper bounds on coefficients if fitting under bound constrained optimization.'),\n",
       " Param(parent='LogisticRegression_4e52a129ba750364bdcf', name='upperBoundsOnIntercepts', doc='The upper bounds on intercepts if fitting under bound constrained optimization.'),\n",
       " Param(parent='LogisticRegression_4e52a129ba750364bdcf', name='weightCol', doc='weight column name. If this is not set or empty, we treat all instance weights as 1.0')]"
      ]
     },
     "execution_count": 57,
     "metadata": {},
     "output_type": "execute_result"
    }
   ],
   "source": [
    "# 修改阈值\n",
    "lr_model.params"
   ]
  },
  {
   "cell_type": "code",
   "execution_count": 58,
   "metadata": {},
   "outputs": [
    {
     "data": {
      "text/plain": [
       "Param(parent='LogisticRegression_4e52a129ba750364bdcf', name='threshold', doc='threshold in binary classification prediction, in range [0, 1]')"
      ]
     },
     "execution_count": 58,
     "metadata": {},
     "output_type": "execute_result"
    }
   ],
   "source": [
    "lr_model.getParam('threshold')"
   ]
  },
  {
   "cell_type": "code",
   "execution_count": 59,
   "metadata": {},
   "outputs": [
    {
     "data": {
      "text/plain": [
       "Param(parent='LogisticRegression_4e52a129ba750364bdcf', name='thresholds', doc=\"Thresholds in multi-class classification to adjust the probability of predicting each class. Array must have length equal to the number of classes, with values > 0 excepting that at most one value may be 0. The class with largest value p/t is predicted, where p is the original probability of that class and t is the class's threshold\")"
      ]
     },
     "execution_count": 59,
     "metadata": {},
     "output_type": "execute_result"
    }
   ],
   "source": [
    "lr_model.getParam('thresholds')"
   ]
  },
  {
   "cell_type": "code",
   "execution_count": 60,
   "metadata": {},
   "outputs": [
    {
     "data": {
      "text/plain": [
       "False"
      ]
     },
     "execution_count": 60,
     "metadata": {},
     "output_type": "execute_result"
    }
   ],
   "source": [
    "lr_model.isDefined('thresholds')"
   ]
  },
  {
   "cell_type": "code",
   "execution_count": 61,
   "metadata": {},
   "outputs": [
    {
     "data": {
      "text/plain": [
       "False"
      ]
     },
     "execution_count": 61,
     "metadata": {},
     "output_type": "execute_result"
    }
   ],
   "source": [
    "lr_model.isSet('thresholds')"
   ]
  },
  {
   "cell_type": "code",
   "execution_count": 62,
   "metadata": {},
   "outputs": [],
   "source": [
    "lr_model_read = lr_model.read()"
   ]
  },
  {
   "cell_type": "code",
   "execution_count": 63,
   "metadata": {},
   "outputs": [
    {
     "data": {
      "text/plain": [
       "<pyspark.ml.util.JavaMLReader at 0x18e42b09b70>"
      ]
     },
     "execution_count": 63,
     "metadata": {},
     "output_type": "execute_result"
    }
   ],
   "source": [
    "lr_model_read"
   ]
  },
  {
   "cell_type": "code",
   "execution_count": 64,
   "metadata": {},
   "outputs": [
    {
     "ename": "AttributeError",
     "evalue": "'JavaMLReader' object has no attribute 'set'",
     "output_type": "error",
     "traceback": [
      "\u001b[1;31m---------------------------------------------------------------------------\u001b[0m",
      "\u001b[1;31mAttributeError\u001b[0m                            Traceback (most recent call last)",
      "\u001b[1;32m<ipython-input-64-201ff07f8840>\u001b[0m in \u001b[0;36m<module>\u001b[1;34m()\u001b[0m\n\u001b[1;32m----> 1\u001b[1;33m \u001b[0mlr_model_read\u001b[0m\u001b[1;33m.\u001b[0m\u001b[0mset\u001b[0m\u001b[1;33m(\u001b[0m\u001b[1;34m'threshold'\u001b[0m\u001b[1;33m,\u001b[0m \u001b[1;36m0.6\u001b[0m\u001b[1;33m)\u001b[0m\u001b[1;33m\u001b[0m\u001b[0m\n\u001b[0m",
      "\u001b[1;31mAttributeError\u001b[0m: 'JavaMLReader' object has no attribute 'set'"
     ]
    }
   ],
   "source": [
    "lr_model_read.set('threshold', 0.6)"
   ]
  },
  {
   "cell_type": "code",
   "execution_count": 65,
   "metadata": {},
   "outputs": [
    {
     "ename": "NameError",
     "evalue": "name 'threshold' is not defined",
     "output_type": "error",
     "traceback": [
      "\u001b[1;31m---------------------------------------------------------------------------\u001b[0m",
      "\u001b[1;31mNameError\u001b[0m                                 Traceback (most recent call last)",
      "\u001b[1;32m<ipython-input-65-91eb870a5773>\u001b[0m in \u001b[0;36m<module>\u001b[1;34m()\u001b[0m\n\u001b[1;32m----> 1\u001b[1;33m \u001b[0mlr_model\u001b[0m\u001b[1;33m.\u001b[0m\u001b[0mset\u001b[0m\u001b[1;33m(\u001b[0m\u001b[0mthreshold\u001b[0m\u001b[1;33m,\u001b[0m \u001b[1;36m0.6\u001b[0m\u001b[1;33m)\u001b[0m\u001b[1;33m\u001b[0m\u001b[0m\n\u001b[0m",
      "\u001b[1;31mNameError\u001b[0m: name 'threshold' is not defined"
     ]
    }
   ],
   "source": [
    "lr_model.set(threshold, 0.6)"
   ]
  },
  {
   "cell_type": "code",
   "execution_count": null,
   "metadata": {},
   "outputs": [],
   "source": []
  },
  {
   "cell_type": "code",
   "execution_count": null,
   "metadata": {},
   "outputs": [],
   "source": []
  },
  {
   "cell_type": "code",
   "execution_count": null,
   "metadata": {},
   "outputs": [],
   "source": []
  },
  {
   "cell_type": "code",
   "execution_count": 66,
   "metadata": {},
   "outputs": [
    {
     "data": {
      "text/plain": [
       "LogisticRegression_4e52a129ba750364bdcf"
      ]
     },
     "execution_count": 66,
     "metadata": {},
     "output_type": "execute_result"
    }
   ],
   "source": [
    "lr_model"
   ]
  },
  {
   "cell_type": "code",
   "execution_count": 67,
   "metadata": {},
   "outputs": [],
   "source": [
    "prediction_3 = lr_model.transform(new_dataset)"
   ]
  },
  {
   "cell_type": "code",
   "execution_count": 68,
   "metadata": {},
   "outputs": [
    {
     "name": "stdout",
     "output_type": "stream",
     "text": [
      "+-----------------+-----+--------------------+--------------------+----------+\n",
      "|         features|label|       rawPrediction|         probability|prediction|\n",
      "+-----------------+-----+--------------------+--------------------+----------+\n",
      "|[5.1,3.5,1.4,0.2]|  0.0|[1.50553010141029...|[0.80168217364268...|       0.0|\n",
      "|[4.9,3.0,1.4,0.2]|  0.0|[1.20141808462763...|[0.69508498886403...|       0.0|\n",
      "|[4.7,3.2,1.3,0.2]|  0.0|[1.43534662127354...|[0.76732997443658...|       0.0|\n",
      "|[4.6,3.1,1.5,0.2]|  0.0|[1.34214957417624...|[0.73710671332729...|       0.0|\n",
      "|[5.0,3.6,1.4,0.2]|  0.0|[1.60975088260149...|[0.82670286305514...|       0.0|\n",
      "|[5.4,3.9,1.7,0.4]|  0.0|[1.52181555631473...|[0.82246378795528...|       0.0|\n",
      "|[4.6,3.4,1.4,0.3]|  0.0|[1.53372993913371...|[0.80131748475294...|       0.0|\n",
      "|[5.0,3.4,1.5,0.2]|  0.0|[1.43782002857652...|[0.78118697494117...|       0.0|\n",
      "|[4.4,2.9,1.4,0.2]|  0.0|[1.28319035129927...|[0.70504407252594...|       0.0|\n",
      "|[4.9,3.1,1.5,0.1]|  0.0|[1.30272547919305...|[0.72757103130925...|       0.0|\n",
      "|[5.4,3.7,1.5,0.2]|  0.0|[1.53349048297679...|[0.81710060154532...|       0.0|\n",
      "|[4.8,3.4,1.6,0.2]|  0.0|[1.47433073693393...|[0.78814553005028...|       0.0|\n",
      "|[4.8,3.0,1.4,0.1]|  0.0|[1.28598935488632...|[0.71514240464876...|       0.0|\n",
      "|[4.3,3.0,1.1,0.1]|  0.0|[1.51744448422927...|[0.76835479192800...|       0.0|\n",
      "|[5.8,4.0,1.2,0.2]|  0.0|[1.70562186016765...|[0.85922433078574...|       0.0|\n",
      "|[5.7,4.4,1.5,0.4]|  0.0|[1.84590268031398...|[0.88750881043155...|       0.0|\n",
      "|[5.4,3.9,1.3,0.4]|  0.0|[1.62376345336884...|[0.84248345736381...|       0.0|\n",
      "|[5.1,3.5,1.4,0.3]|  0.0|[1.45195767246207...|[0.79119729821658...|       0.0|\n",
      "|[5.7,3.8,1.7,0.3]|  0.0|[1.40916952145082...|[0.79551826206730...|       0.0|\n",
      "|[5.1,3.8,1.5,0.3]|  0.0|[1.64613651784071...|[0.84200120748797...|       0.0|\n",
      "+-----------------+-----+--------------------+--------------------+----------+\n",
      "only showing top 20 rows\n",
      "\n"
     ]
    }
   ],
   "source": [
    "prediction_3.show()"
   ]
  },
  {
   "cell_type": "code",
   "execution_count": null,
   "metadata": {},
   "outputs": [],
   "source": []
  },
  {
   "cell_type": "code",
   "execution_count": 69,
   "metadata": {},
   "outputs": [],
   "source": [
    "prediction_2 = lrModel_2.transform(new_dataset)"
   ]
  },
  {
   "cell_type": "code",
   "execution_count": 70,
   "metadata": {
    "scrolled": true
   },
   "outputs": [
    {
     "name": "stdout",
     "output_type": "stream",
     "text": [
      "+-----------------+-----+--------------------+--------------------+----------+\n",
      "|         features|label|       rawPrediction|         probability|prediction|\n",
      "+-----------------+-----+--------------------+--------------------+----------+\n",
      "|[5.1,3.5,1.4,0.2]|  0.0|[1.50553010141029...|[0.80168217364268...|       0.0|\n",
      "|[4.9,3.0,1.4,0.2]|  0.0|[1.20141808462763...|[0.69508498886403...|       0.0|\n",
      "|[4.7,3.2,1.3,0.2]|  0.0|[1.43534662127354...|[0.76732997443658...|       0.0|\n",
      "|[4.6,3.1,1.5,0.2]|  0.0|[1.34214957417624...|[0.73710671332729...|       0.0|\n",
      "|[5.0,3.6,1.4,0.2]|  0.0|[1.60975088260149...|[0.82670286305514...|       0.0|\n",
      "|[5.4,3.9,1.7,0.4]|  0.0|[1.52181555631473...|[0.82246378795528...|       0.0|\n",
      "|[4.6,3.4,1.4,0.3]|  0.0|[1.53372993913371...|[0.80131748475294...|       0.0|\n",
      "|[5.0,3.4,1.5,0.2]|  0.0|[1.43782002857652...|[0.78118697494117...|       0.0|\n",
      "|[4.4,2.9,1.4,0.2]|  0.0|[1.28319035129927...|[0.70504407252594...|       0.0|\n",
      "|[4.9,3.1,1.5,0.1]|  0.0|[1.30272547919305...|[0.72757103130925...|       0.0|\n",
      "|[5.4,3.7,1.5,0.2]|  0.0|[1.53349048297679...|[0.81710060154532...|       0.0|\n",
      "|[4.8,3.4,1.6,0.2]|  0.0|[1.47433073693393...|[0.78814553005028...|       0.0|\n",
      "|[4.8,3.0,1.4,0.1]|  0.0|[1.28598935488632...|[0.71514240464876...|       0.0|\n",
      "|[4.3,3.0,1.1,0.1]|  0.0|[1.51744448422927...|[0.76835479192800...|       0.0|\n",
      "|[5.8,4.0,1.2,0.2]|  0.0|[1.70562186016765...|[0.85922433078574...|       0.0|\n",
      "|[5.7,4.4,1.5,0.4]|  0.0|[1.84590268031398...|[0.88750881043155...|       0.0|\n",
      "|[5.4,3.9,1.3,0.4]|  0.0|[1.62376345336884...|[0.84248345736381...|       0.0|\n",
      "|[5.1,3.5,1.4,0.3]|  0.0|[1.45195767246207...|[0.79119729821658...|       0.0|\n",
      "|[5.7,3.8,1.7,0.3]|  0.0|[1.40916952145082...|[0.79551826206730...|       0.0|\n",
      "|[5.1,3.8,1.5,0.3]|  0.0|[1.64613651784071...|[0.84200120748797...|       0.0|\n",
      "|[5.4,3.4,1.7,0.2]|  0.0|[1.26285071480757...|[0.74083371155570...|       0.0|\n",
      "|[5.1,3.7,1.5,0.4]|  0.0|[1.51934214901176...|[0.81483665815034...|       0.0|\n",
      "|[4.6,3.6,1.0,0.2]|  0.0|[1.83569414489749...|[0.86441663995448...|       0.0|\n",
      "|[5.1,3.3,1.7,0.5]|  0.0|[1.12190801201359...|[0.69941376389204...|       0.0|\n",
      "|[4.8,3.4,1.9,0.2]|  0.0|[1.39786981414335...|[0.77043847554054...|       0.0|\n",
      "|[5.0,3.0,1.6,0.2]|  0.0|[1.11944529479010...|[0.67257479870408...|       0.0|\n",
      "|[5.0,3.4,1.6,0.4]|  0.0|[1.30518819641654...|[0.75206458154122...|       0.0|\n",
      "|[5.2,3.5,1.5,0.2]|  0.0|[1.44904428583629...|[0.78980475833068...|       0.0|\n",
      "|[5.2,3.4,1.4,0.2]|  0.0|[1.40130932021910...|[0.77399797728321...|       0.0|\n",
      "|[4.7,3.2,1.6,0.2]|  0.0|[1.35888569848296...|[0.74868518142508...|       0.0|\n",
      "|[4.8,3.1,1.6,0.2]|  0.0|[1.25466491729177...|[0.71588253453754...|       0.0|\n",
      "|[5.4,3.4,1.5,0.4]|  0.0|[1.20667980543817...|[0.7288584357658,...|       0.0|\n",
      "|[5.2,4.1,1.5,0.1]|  0.0|[1.94194835406886...|[0.89463218634897...|       0.0|\n",
      "|[5.5,4.2,1.4,0.2]|  0.0|[1.89408831533346...|[0.89109480265897...|       0.0|\n",
      "|[4.9,3.1,1.5,0.1]|  0.0|[1.30272547919305...|[0.72757103130925...|       0.0|\n",
      "|[5.0,3.2,1.2,0.2]|  0.0|[1.36783707160565...|[0.75337197851920...|       0.0|\n",
      "|[5.5,3.5,1.3,0.2]|  0.0|[1.40702171043193...|[0.78194745153597...|       0.0|\n",
      "|[4.9,3.1,1.5,0.1]|  0.0|[1.30272547919305...|[0.72757103130925...|       0.0|\n",
      "|[4.4,3.0,1.3,0.2]|  0.0|[1.38189926544352...|[0.73845835656118...|       0.0|\n",
      "|[5.1,3.4,1.5,0.2]|  0.0|[1.40682118726604...|[0.77462811321158...|       0.0|\n",
      "|[5.0,3.5,1.3,0.3]|  0.0|[1.50844348803607...|[0.80303550606892...|       0.0|\n",
      "|[4.5,2.3,1.3,0.3]|  0.0|[0.78477441601976...|[0.50113644033621...|       0.0|\n",
      "|[4.4,3.2,1.3,0.2]|  0.0|[1.52834314520496...|[0.78629023720106...|       0.0|\n",
      "|[5.0,3.5,1.6,0.6]|  0.0|[1.27126527840081...|[0.75088975346302...|       0.0|\n",
      "|[5.1,3.8,1.9,0.4]|  0.0|[1.49061619183837...|[0.81202321627955...|       0.0|\n",
      "|[4.8,3.0,1.4,0.3]|  0.0|[1.17884449698987...|[0.68991642474207...|       0.0|\n",
      "|[5.1,3.8,1.6,0.2]|  0.0|[1.67422197252541...|[0.84620466855872...|       0.0|\n",
      "|[4.6,3.2,1.4,0.2]|  0.0|[1.44085848832049...|[0.76782909806598...|       0.0|\n",
      "|[5.3,3.7,1.5,0.2]|  0.0|[1.56448932428727...|[0.82294530171189...|       0.0|\n",
      "|[5.0,3.3,1.4,0.2]|  0.0|[1.39008506295932...|[0.76461242479160...|       0.0|\n",
      "|[7.0,3.2,4.7,1.4]|  2.0|[-0.7870530012059...|[0.13127979126422...|       1.0|\n",
      "|[6.4,3.2,4.5,1.5]|  2.0|[-0.6036584337643...|[0.16742227704028...|       1.0|\n",
      "|[6.9,3.1,4.9,1.5]|  2.0|[-0.9338224772515...|[0.10822077755760...|       1.0|\n",
      "|[5.5,2.3,4.0,1.3]|  2.0|[-0.7490865916824...|[0.12968570686714...|       2.0|\n",
      "|[6.5,2.8,4.6,1.5]|  2.0|[-0.9530320088612...|[0.10690904353112...|       2.0|\n",
      "|[5.7,2.8,4.5,1.3]|  2.0|[-0.5724094462174...|[0.17213991109377...|       2.0|\n",
      "|[6.3,3.3,4.7,1.6]|  2.0|[-0.6039840300483...|[0.16622147319710...|       1.0|\n",
      "|[4.9,2.4,3.3,1.0]|  2.0|[-0.1507454972495...|[0.24974451028974...|       2.0|\n",
      "|[6.6,2.9,4.6,1.3]|  2.0|[-0.8036640523944...|[0.13024537886387...|       2.0|\n",
      "|[5.2,2.7,3.9,1.4]|  2.0|[-0.3912877629128...|[0.20936461446765...|       2.0|\n",
      "|[5.0,2.0,3.5,1.0]|  2.0|[-0.5256060466099...|[0.15159199190892...|       2.0|\n",
      "|[5.9,3.0,4.2,1.5]|  2.0|[-0.5186471841828...|[0.18651092939940...|       2.0|\n",
      "|[6.0,2.2,4.0,1.0]|  2.0|[-0.8165854512708...|[0.11667303239943...|       2.0|\n",
      "|[6.1,2.9,4.7,1.4]|  2.0|[-0.7277292490538...|[0.14351984552186...|       2.0|\n",
      "|[5.6,2.9,3.6,1.3]|  2.0|[-0.2388058966544...|[0.25361105669765...|       2.0|\n",
      "|[6.7,3.1,4.4,1.4]|  2.0|[-0.6908174943646...|[0.15025861728473...|       1.0|\n",
      "|[5.6,3.0,4.5,1.5]|  2.0|[-0.5021115830419...|[0.19002414049403...|       2.0|\n",
      "|[5.8,2.7,4.1,1.0]|  2.0|[-0.4139650435098...|[0.20306535368861...|       2.0|\n",
      "|[6.2,2.2,4.5,1.5]|  2.0|[-1.2738801499505...|[0.06684809997753...|       2.0|\n",
      "|[5.6,2.5,3.9,1.1]|  2.0|[-0.5010097210715...|[0.17857846663552...|       2.0|\n",
      "|[5.9,3.2,4.8,1.8]|  2.0|[-0.6858424368472...|[0.15041656531651...|       1.0|\n",
      "|[6.1,2.8,4.0,1.3]|  2.0|[-0.5689699401416...|[0.17357057936037...|       2.0|\n",
      "|[6.3,2.5,4.9,1.5]|  2.0|[-1.1871610686730...|[0.07724516734243...|       2.0|\n",
      "|[6.1,2.8,4.7,1.2]|  2.0|[-0.6938063310381...|[0.14867920945268...|       2.0|\n",
      "|[6.4,2.9,4.3,1.3]|  2.0|[-0.6652054469829...|[0.15534523063505...|       2.0|\n",
      "|[6.6,3.0,4.4,1.4]|  2.0|[-0.7330405929349...|[0.14267861926150...|       1.0|\n",
      "|[6.8,2.8,4.8,1.4]|  2.0|[-1.0434300523714...|[0.09461170100425...|       1.0|\n",
      "|[6.7,3.0,5.0,1.7]|  2.0|[-1.0776785666712...|[0.08904118300178...|       1.0|\n",
      "|[6.0,2.9,4.5,1.5]|  2.0|[-0.6993288881645...|[0.14884360130181...|       2.0|\n",
      "|[5.7,2.6,3.5,1.0]|  2.0|[-0.3032662964989...|[0.22566804490502...|       2.0|\n",
      "|[5.5,2.4,3.8,1.1]|  2.0|[-0.5177458453782...|[0.17169592175088...|       2.0|\n",
      "|[5.5,2.4,3.7,1.0]|  2.0|[-0.4386864421664...|[0.18671180440181...|       2.0|\n",
      "|[5.8,2.7,3.9,1.2]|  2.0|[-0.4701359528792...|[0.19188779751671...|       2.0|\n",
      "|[6.0,2.7,5.1,1.6]|  2.0|[-1.0522670424554...|[0.09339798952756...|       2.0|\n",
      "|[5.4,3.0,4.5,1.5]|  2.0|[-0.4401139004210...|[0.20425862647089...|       2.0|\n",
      "|[6.0,3.4,4.5,1.6]|  2.0|[-0.3867916177091...|[0.21706529297772...|       1.0|\n",
      "|[6.7,3.1,4.7,1.5]|  2.0|[-0.8208508461035...|[0.12642973072972...|       1.0|\n",
      "|[6.3,2.3,4.4,1.3]|  2.0|[-1.0990252192203...|[0.08481494149007...|       2.0|\n",
      "|[5.6,3.0,4.1,1.3]|  2.0|[-0.2930188280914...|[0.24098813629994...|       2.0|\n",
      "|[5.5,2.5,4.0,1.3]|  2.0|[-0.6026427119210...|[0.15980393550187...|       2.0|\n",
      "|[5.5,2.6,4.4,1.2]|  2.0|[-0.5777962401461...|[0.16624379422789...|       2.0|\n",
      "|[6.1,3.0,4.6,1.4]|  2.0|[-0.6290203349096...|[0.16285269595099...|       2.0|\n",
      "|[5.8,2.6,4.0,1.2]|  2.0|[-0.5688448670234...|[0.16891605811800...|       2.0|\n",
      "|[5.0,2.3,3.3,1.0]|  2.0|[-0.2549662784407...|[0.21993050330500...|       2.0|\n",
      "|[5.6,2.7,4.2,1.3]|  2.0|[-0.5381716219971...|[0.17732494021701...|       2.0|\n",
      "|[5.7,3.0,4.2,1.2]|  2.0|[-0.2959322147171...|[0.23994199543836...|       2.0|\n",
      "|[5.7,2.9,4.2,1.3]|  2.0|[-0.4227265835461...|[0.20690114649529...|       2.0|\n",
      "|[6.2,2.9,4.3,1.3]|  2.0|[-0.6032077643620...|[0.16758685327665...|       2.0|\n",
      "|[5.1,2.5,3.0,1.1]|  2.0|[-0.1166327461474...|[0.26686979337481...|       2.0|\n",
      "|[5.7,2.8,4.1,1.3]|  2.0|[-0.4704615491633...|[0.19416052514379...|       2.0|\n",
      "|[6.3,3.3,6.0,2.5]|  1.0|[-1.4174665560082...|[0.04973003923505...|       1.0|\n",
      "|[5.8,2.7,5.1,1.9]|  1.0|[-1.1509866466791...|[0.08168552552334...|       1.0|\n",
      "|[7.1,3.0,5.9,2.1]|  1.0|[-1.6453464160778...|[0.03743916094097...|       1.0|\n",
      "|[6.3,2.9,5.6,1.8]|  1.0|[-1.2333994158394...|[0.07208057693714...|       1.0|\n",
      "|[6.5,3.0,5.8,2.2]|  1.0|[-1.4874388228996...|[0.04811689292160...|       1.0|\n",
      "|[7.6,3.0,6.6,2.1]|  1.0|[-1.9787494424748...|[0.02182776979854...|       1.0|\n",
      "|[4.9,2.5,4.5,1.7]|  1.0|[-0.7583742511687...|[0.13311065298249...|       2.0|\n",
      "|[7.3,2.9,6.3,1.8]|  1.0|[-1.7217966487889...|[0.03430232194283...|       1.0|\n",
      "|[6.7,2.5,5.8,1.8]|  1.0|[-1.7012564891313...|[0.03733264344188...|       1.0|\n",
      "|[7.2,3.6,6.1,2.5]|  1.0|[-1.5022772824238...|[0.03861427908573...|       1.0|\n",
      "|[6.5,3.2,5.1,2.0]|  1.0|[-1.0554412653970...|[0.08919837772865...|       1.0|\n",
      "|[6.4,2.7,5.3,1.9]|  1.0|[-1.3879536430690...|[0.05832992263784...|       1.0|\n",
      "|[6.8,3.0,5.5,2.1]|  1.0|[-1.4504019950922...|[0.05079894108268...|       1.0|\n",
      "|[5.7,2.5,5.0,2.0]|  1.0|[-1.2945171398148...|[0.06684844690413...|       2.0|\n",
      "|[5.8,2.8,5.1,2.4]|  1.0|[-1.3456268515395...|[0.06124322177893...|       1.0|\n",
      "|[6.4,3.2,5.3,2.3]|  1.0|[-1.2361336594583...|[0.06758458105536...|       1.0|\n",
      "|[6.5,3.0,5.5,1.8]|  1.0|[-1.1966881843161...|[0.07513720005386...|       1.0|\n",
      "|[7.7,3.8,6.7,2.2]|  1.0|[-1.5030321679513...|[0.03632167497759...|       1.0|\n",
      "|[7.7,2.6,6.9,2.3]|  1.0|[-2.4862418239952...|[0.01049293988233...|       1.0|\n",
      "|[6.0,2.2,5.0,1.5]|  1.0|[-1.3393173386472...|[0.06102878223480...|       2.0|\n",
      "|[6.9,3.2,5.7,2.3]|  1.0|[-1.4930757630648...|[0.04506798249299...|       1.0|\n",
      "|[5.6,2.8,4.9,2.0]|  1.0|[-1.0183655045986...|[0.09787509750460...|       1.0|\n",
      "|[7.7,2.8,6.7,2.0]|  1.0|[-2.1281067088620...|[0.01812495192590...|       1.0|\n",
      "|[6.3,2.7,4.9,1.8]|  1.0|[-1.2014344757562...|[0.07612823652432...|       1.0|\n",
      "|[6.7,3.3,5.7,2.1]|  1.0|[-1.2507112826666...|[0.06509649361249...|       1.0|\n",
      "|[7.2,3.2,6.0,1.8]|  1.0|[-1.3946710650456...|[0.05365351985044...|       1.0|\n",
      "|[6.2,2.8,4.8,1.8]|  1.0|[-1.0717267203015...|[0.09094974172948...|       1.0|\n",
      "|[6.1,3.0,4.9,1.8]|  1.0|[-0.9197709734931...|[0.11117839011574...|       1.0|\n",
      "|[6.4,2.8,5.6,2.1]|  1.0|[-1.4983374838753...|[0.04897741289051...|       1.0|\n",
      "|[7.2,3.0,5.8,1.6]|  1.0|[-1.3829961383836...|[0.05699967018533...|       1.0|\n",
      "|[7.4,2.8,6.1,1.9]|  1.0|[-1.8286159104012...|[0.02938493970873...|       1.0|\n",
      "|[7.9,3.8,6.4,2.0]|  1.0|[-1.3814240698852...|[0.04470179089826...|       1.0|\n",
      "|[6.4,2.8,5.6,2.2]|  1.0|[-1.5519099128235...|[0.04506073217582...|       1.0|\n",
      "|[6.3,2.8,5.1,1.5]|  1.0|[-1.0184691975578...|[0.09789345687840...|       2.0|\n",
      "|[6.1,2.6,5.6,1.4]|  1.0|[-1.1767778370678...|[0.07851247644805...|       2.0|\n",
      "|[7.7,3.0,6.1,2.3]|  1.0|[-1.9894582703641...|[0.02105007322245...|       1.0|\n",
      "|[6.3,3.4,5.6,2.4]|  1.0|[-1.1887242901252...|[0.06942360921325...|       1.0|\n",
      "|[6.4,3.1,5.5,1.8]|  1.0|[-1.0924674031249...|[0.08644810682314...|       1.0|\n",
      "|[6.0,3.0,4.8,1.8]|  1.0|[-0.8632851579191...|[0.12005928104553...|       1.0|\n",
      "|[6.9,3.1,5.4,2.1]|  1.0|[-1.3826919222584...|[0.05516359495375...|       1.0|\n",
      "|[6.7,3.1,5.6,2.4]|  1.0|[-1.5323854750092...|[0.04333785069632...|       1.0|\n",
      "|[6.9,3.1,5.1,2.3]|  1.0|[-1.4133758573643...|[0.05205594317810...|       1.0|\n",
      "|[5.8,2.7,5.1,1.9]|  1.0|[-1.1509866466791...|[0.08168552552334...|       1.0|\n",
      "|[6.8,3.2,5.9,2.3]|  1.0|[-1.5130508702813...|[0.04382822366770...|       1.0|\n",
      "|[6.7,3.3,5.7,2.5]|  1.0|[-1.4650009984595...|[0.04558144913313...|       1.0|\n",
      "|[6.7,3.0,5.2,2.3]|  1.0|[-1.4500870888876...|[0.05042237172049...|       1.0|\n",
      "|[6.3,2.5,5.0,1.9]|  1.0|[-1.4269377587294...|[0.05553362920471...|       1.0|\n",
      "|[6.5,3.0,5.2,2.0]|  1.0|[-1.2273721194220...|[0.07140525400201...|       1.0|\n",
      "|[6.2,3.4,5.4,2.3]|  1.0|[-1.0531790713394...|[0.08576014186805...|       1.0|\n",
      "|[5.9,3.0,5.1,1.8]|  1.0|[-0.9087472393992...|[0.11299348421800...|       1.0|\n",
      "+-----------------+-----+--------------------+--------------------+----------+\n",
      "\n"
     ]
    }
   ],
   "source": [
    "prediction_2.show(150)"
   ]
  },
  {
   "cell_type": "code",
   "execution_count": 71,
   "metadata": {},
   "outputs": [],
   "source": [
    "label_list = prediction_2.select('label').collect()"
   ]
  },
  {
   "cell_type": "code",
   "execution_count": 72,
   "metadata": {},
   "outputs": [],
   "source": [
    "prob_list = prediction_2.select('probability').collect()"
   ]
  },
  {
   "cell_type": "code",
   "execution_count": 73,
   "metadata": {},
   "outputs": [
    {
     "data": {
      "text/plain": [
       "list"
      ]
     },
     "execution_count": 73,
     "metadata": {},
     "output_type": "execute_result"
    }
   ],
   "source": [
    "type(label_list)"
   ]
  },
  {
   "cell_type": "code",
   "execution_count": 75,
   "metadata": {},
   "outputs": [
    {
     "data": {
      "text/plain": [
       "float"
      ]
     },
     "execution_count": 75,
     "metadata": {},
     "output_type": "execute_result"
    }
   ],
   "source": [
    "type(label_list[0][0])"
   ]
  },
  {
   "cell_type": "code",
   "execution_count": 76,
   "metadata": {},
   "outputs": [
    {
     "data": {
      "text/plain": [
       "0.0"
      ]
     },
     "execution_count": 76,
     "metadata": {},
     "output_type": "execute_result"
    }
   ],
   "source": [
    "label_list[0][0]"
   ]
  },
  {
   "cell_type": "code",
   "execution_count": 77,
   "metadata": {},
   "outputs": [],
   "source": [
    "label_list = [label_list[i][0] for i in range(0, len(label_list))]"
   ]
  },
  {
   "cell_type": "code",
   "execution_count": 78,
   "metadata": {},
   "outputs": [],
   "source": [
    "prob_list = prediction_2.select('probability').collect()"
   ]
  },
  {
   "cell_type": "code",
   "execution_count": 79,
   "metadata": {},
   "outputs": [
    {
     "data": {
      "text/plain": [
       "DenseVector([0.8017, 0.0461, 0.1522])"
      ]
     },
     "execution_count": 79,
     "metadata": {},
     "output_type": "execute_result"
    }
   ],
   "source": [
    "prob_list[0][0]"
   ]
  },
  {
   "cell_type": "code",
   "execution_count": null,
   "metadata": {},
   "outputs": [],
   "source": []
  },
  {
   "cell_type": "code",
   "execution_count": null,
   "metadata": {},
   "outputs": [],
   "source": []
  },
  {
   "cell_type": "code",
   "execution_count": 80,
   "metadata": {},
   "outputs": [],
   "source": [
    "prob_list = [prob_list[i][0] for i in range(0, len(prob_list))]"
   ]
  },
  {
   "cell_type": "code",
   "execution_count": 81,
   "metadata": {},
   "outputs": [
    {
     "data": {
      "text/plain": [
       "[DenseVector([0.8017, 0.0461, 0.1522]),\n",
       " DenseVector([0.6951, 0.052, 0.2529]),\n",
       " DenseVector([0.7673, 0.0415, 0.1911]),\n",
       " DenseVector([0.7371, 0.0443, 0.2185]),\n",
       " DenseVector([0.8267, 0.0414, 0.1319]),\n",
       " DenseVector([0.8225, 0.0598, 0.1178]),\n",
       " DenseVector([0.8013, 0.0408, 0.1578]),\n",
       " DenseVector([0.7812, 0.0478, 0.1711]),\n",
       " DenseVector([0.705, 0.0418, 0.2532]),\n",
       " DenseVector([0.7276, 0.0472, 0.2252]),\n",
       " DenseVector([0.8171, 0.0508, 0.1321]),\n",
       " DenseVector([0.7881, 0.0445, 0.1673]),\n",
       " DenseVector([0.7151, 0.045, 0.2398]),\n",
       " DenseVector([0.7684, 0.031, 0.2006]),\n",
       " DenseVector([0.8592, 0.0474, 0.0934]),\n",
       " DenseVector([0.8875, 0.0483, 0.0642]),\n",
       " DenseVector([0.8425, 0.0511, 0.1064]),\n",
       " DenseVector([0.7912, 0.0509, 0.1579]),\n",
       " DenseVector([0.7955, 0.0673, 0.1372]),\n",
       " DenseVector([0.842, 0.0449, 0.1131]),\n",
       " DenseVector([0.7408, 0.0635, 0.1957]),\n",
       " DenseVector([0.8148, 0.0524, 0.1327]),\n",
       " DenseVector([0.8644, 0.0282, 0.1073]),\n",
       " DenseVector([0.6994, 0.0748, 0.2257]),\n",
       " DenseVector([0.7704, 0.0498, 0.1797]),\n",
       " DenseVector([0.6726, 0.0585, 0.2689]),\n",
       " DenseVector([0.7521, 0.06, 0.188]),\n",
       " DenseVector([0.7898, 0.0506, 0.1596]),\n",
       " DenseVector([0.774, 0.0512, 0.1748]),\n",
       " DenseVector([0.7487, 0.0464, 0.2049]),\n",
       " DenseVector([0.7159, 0.051, 0.2331]),\n",
       " DenseVector([0.7289, 0.0711, 0.2]),\n",
       " DenseVector([0.8946, 0.0323, 0.073]),\n",
       " DenseVector([0.8911, 0.0383, 0.0706]),\n",
       " DenseVector([0.7276, 0.0472, 0.2252]),\n",
       " DenseVector([0.7534, 0.0469, 0.1997]),\n",
       " DenseVector([0.7819, 0.0551, 0.163]),\n",
       " DenseVector([0.7276, 0.0472, 0.2252]),\n",
       " DenseVector([0.7385, 0.0388, 0.2228]),\n",
       " DenseVector([0.7746, 0.0504, 0.175]),\n",
       " DenseVector([0.803, 0.0464, 0.1506]),\n",
       " DenseVector([0.5011, 0.0536, 0.4453]),\n",
       " DenseVector([0.7863, 0.0354, 0.1783]),\n",
       " DenseVector([0.7509, 0.0691, 0.18]),\n",
       " DenseVector([0.812, 0.0579, 0.13]),\n",
       " DenseVector([0.6899, 0.0541, 0.2559]),\n",
       " DenseVector([0.8462, 0.0423, 0.1115]),\n",
       " DenseVector([0.7678, 0.0409, 0.1913]),\n",
       " DenseVector([0.8229, 0.0481, 0.129]),\n",
       " DenseVector([0.7646, 0.0483, 0.1871]),\n",
       " DenseVector([0.1313, 0.5114, 0.3574]),\n",
       " DenseVector([0.1674, 0.4593, 0.3733]),\n",
       " DenseVector([0.1082, 0.523, 0.3688]),\n",
       " DenseVector([0.1297, 0.2613, 0.609]),\n",
       " DenseVector([0.1069, 0.4441, 0.449]),\n",
       " DenseVector([0.1721, 0.3345, 0.4934]),\n",
       " DenseVector([0.1662, 0.485, 0.3488]),\n",
       " DenseVector([0.2497, 0.1685, 0.5817]),\n",
       " DenseVector([0.1302, 0.4274, 0.4424]),\n",
       " DenseVector([0.2094, 0.2749, 0.5157]),\n",
       " DenseVector([0.1516, 0.162, 0.6864]),\n",
       " DenseVector([0.1865, 0.3829, 0.4306]),\n",
       " DenseVector([0.1167, 0.2484, 0.6349]),\n",
       " DenseVector([0.1435, 0.4039, 0.4526]),\n",
       " DenseVector([0.2536, 0.286, 0.4604]),\n",
       " DenseVector([0.1503, 0.4588, 0.3909]),\n",
       " DenseVector([0.19, 0.371, 0.439]),\n",
       " DenseVector([0.2031, 0.2719, 0.525]),\n",
       " DenseVector([0.0668, 0.3501, 0.5831]),\n",
       " DenseVector([0.1786, 0.2516, 0.5699]),\n",
       " DenseVector([0.1504, 0.4828, 0.3667]),\n",
       " DenseVector([0.1736, 0.3447, 0.4817]),\n",
       " DenseVector([0.0772, 0.409, 0.5138]),\n",
       " DenseVector([0.1487, 0.3625, 0.4888]),\n",
       " DenseVector([0.1553, 0.3936, 0.4511]),\n",
       " DenseVector([0.1427, 0.4423, 0.415]),\n",
       " DenseVector([0.0946, 0.4636, 0.4418]),\n",
       " DenseVector([0.089, 0.5356, 0.3753]),\n",
       " DenseVector([0.1488, 0.4018, 0.4493]),\n",
       " DenseVector([0.2257, 0.2342, 0.5402]),\n",
       " DenseVector([0.1717, 0.2348, 0.5935]),\n",
       " DenseVector([0.1867, 0.2186, 0.5947]),\n",
       " DenseVector([0.1919, 0.2928, 0.5153]),\n",
       " DenseVector([0.0934, 0.4303, 0.4763]),\n",
       " DenseVector([0.2043, 0.3524, 0.4433]),\n",
       " DenseVector([0.2171, 0.4452, 0.3377]),\n",
       " DenseVector([0.1264, 0.4934, 0.3801]),\n",
       " DenseVector([0.0848, 0.3354, 0.5798]),\n",
       " DenseVector([0.241, 0.3151, 0.4439]),\n",
       " DenseVector([0.1598, 0.276, 0.5642]),\n",
       " DenseVector([0.1662, 0.2851, 0.5487]),\n",
       " DenseVector([0.1629, 0.4057, 0.4315]),\n",
       " DenseVector([0.1689, 0.2912, 0.5399]),\n",
       " DenseVector([0.2199, 0.1705, 0.6096]),\n",
       " DenseVector([0.1773, 0.3056, 0.5171]),\n",
       " DenseVector([0.2399, 0.3127, 0.4474]),\n",
       " DenseVector([0.2069, 0.3252, 0.4679]),\n",
       " DenseVector([0.1676, 0.3752, 0.4572]),\n",
       " DenseVector([0.2669, 0.184, 0.5491]),\n",
       " DenseVector([0.1942, 0.3151, 0.4908]),\n",
       " DenseVector([0.0497, 0.7031, 0.2472]),\n",
       " DenseVector([0.0817, 0.463, 0.4553]),\n",
       " DenseVector([0.0374, 0.6723, 0.2903]),\n",
       " DenseVector([0.0721, 0.5352, 0.3928]),\n",
       " DenseVector([0.0481, 0.6366, 0.3153]),\n",
       " DenseVector([0.0218, 0.7317, 0.2465]),\n",
       " DenseVector([0.1331, 0.309, 0.5579]),\n",
       " DenseVector([0.0343, 0.6475, 0.3182]),\n",
       " DenseVector([0.0373, 0.5284, 0.4342]),\n",
       " DenseVector([0.0386, 0.7904, 0.171]),\n",
       " DenseVector([0.0892, 0.592, 0.3188]),\n",
       " DenseVector([0.0583, 0.5242, 0.4175]),\n",
       " DenseVector([0.0508, 0.6329, 0.3163]),\n",
       " DenseVector([0.0668, 0.4436, 0.4896]),\n",
       " DenseVector([0.0612, 0.5579, 0.3808]),\n",
       " DenseVector([0.0676, 0.6424, 0.29]),\n",
       " DenseVector([0.0751, 0.5587, 0.3662]),\n",
       " DenseVector([0.0363, 0.817, 0.1467]),\n",
       " DenseVector([0.0105, 0.7266, 0.2629]),\n",
       " DenseVector([0.061, 0.3538, 0.5852]),\n",
       " DenseVector([0.0451, 0.6986, 0.2563]),\n",
       " DenseVector([0.0979, 0.4633, 0.4389]),\n",
       " DenseVector([0.0181, 0.7063, 0.2756]),\n",
       " DenseVector([0.0761, 0.481, 0.4428]),\n",
       " DenseVector([0.0651, 0.6622, 0.2727]),\n",
       " DenseVector([0.0537, 0.6602, 0.2862]),\n",
       " DenseVector([0.0909, 0.4782, 0.4309]),\n",
       " DenseVector([0.1112, 0.4928, 0.396]),\n",
       " DenseVector([0.049, 0.5816, 0.3694]),\n",
       " DenseVector([0.057, 0.5997, 0.3433]),\n",
       " DenseVector([0.0294, 0.6503, 0.3204]),\n",
       " DenseVector([0.0447, 0.7972, 0.1581]),\n",
       " DenseVector([0.0451, 0.5975, 0.3575]),\n",
       " DenseVector([0.0979, 0.4502, 0.4519]),\n",
       " DenseVector([0.0785, 0.4175, 0.504]),\n",
       " DenseVector([0.0211, 0.7471, 0.2318]),\n",
       " DenseVector([0.0694, 0.6797, 0.2509]),\n",
       " DenseVector([0.0864, 0.5595, 0.3541]),\n",
       " DenseVector([0.1201, 0.4782, 0.4017]),\n",
       " DenseVector([0.0552, 0.6471, 0.2977]),\n",
       " DenseVector([0.0433, 0.6844, 0.2722]),\n",
       " DenseVector([0.0521, 0.6651, 0.2828]),\n",
       " DenseVector([0.0817, 0.463, 0.4553]),\n",
       " DenseVector([0.0438, 0.6989, 0.2573]),\n",
       " DenseVector([0.0456, 0.7208, 0.2336]),\n",
       " DenseVector([0.0504, 0.6433, 0.3063]),\n",
       " DenseVector([0.0555, 0.4781, 0.4664]),\n",
       " DenseVector([0.0714, 0.5783, 0.3503]),\n",
       " DenseVector([0.0858, 0.646, 0.2682]),\n",
       " DenseVector([0.113, 0.4843, 0.4027])]"
      ]
     },
     "execution_count": 81,
     "metadata": {},
     "output_type": "execute_result"
    }
   ],
   "source": [
    "prob_list\n"
   ]
  },
  {
   "cell_type": "code",
   "execution_count": 82,
   "metadata": {},
   "outputs": [
    {
     "data": {
      "text/plain": [
       "True"
      ]
     },
     "execution_count": 82,
     "metadata": {},
     "output_type": "execute_result"
    }
   ],
   "source": [
    "label_list[0] >= 0.0"
   ]
  },
  {
   "cell_type": "code",
   "execution_count": 83,
   "metadata": {},
   "outputs": [
    {
     "name": "stdout",
     "output_type": "stream",
     "text": [
      "<class 'float'>\n",
      "<class 'float'>\n",
      "<class 'float'>\n",
      "<class 'float'>\n",
      "<class 'float'>\n",
      "<class 'float'>\n",
      "<class 'float'>\n",
      "<class 'float'>\n",
      "<class 'float'>\n",
      "<class 'float'>\n",
      "<class 'float'>\n",
      "<class 'float'>\n",
      "<class 'float'>\n",
      "<class 'float'>\n",
      "<class 'float'>\n",
      "<class 'float'>\n",
      "<class 'float'>\n",
      "<class 'float'>\n",
      "<class 'float'>\n",
      "<class 'float'>\n",
      "<class 'float'>\n",
      "<class 'float'>\n",
      "<class 'float'>\n",
      "<class 'float'>\n",
      "<class 'float'>\n",
      "<class 'float'>\n",
      "<class 'float'>\n",
      "<class 'float'>\n",
      "<class 'float'>\n",
      "<class 'float'>\n",
      "<class 'float'>\n",
      "<class 'float'>\n",
      "<class 'float'>\n",
      "<class 'float'>\n",
      "<class 'float'>\n",
      "<class 'float'>\n",
      "<class 'float'>\n",
      "<class 'float'>\n",
      "<class 'float'>\n",
      "<class 'float'>\n",
      "<class 'float'>\n",
      "<class 'float'>\n",
      "<class 'float'>\n",
      "<class 'float'>\n",
      "<class 'float'>\n",
      "<class 'float'>\n",
      "<class 'float'>\n",
      "<class 'float'>\n",
      "<class 'float'>\n",
      "<class 'float'>\n",
      "<class 'float'>\n",
      "<class 'float'>\n",
      "<class 'float'>\n",
      "<class 'float'>\n",
      "<class 'float'>\n",
      "<class 'float'>\n",
      "<class 'float'>\n",
      "<class 'float'>\n",
      "<class 'float'>\n",
      "<class 'float'>\n",
      "<class 'float'>\n",
      "<class 'float'>\n",
      "<class 'float'>\n",
      "<class 'float'>\n",
      "<class 'float'>\n",
      "<class 'float'>\n",
      "<class 'float'>\n",
      "<class 'float'>\n",
      "<class 'float'>\n",
      "<class 'float'>\n",
      "<class 'float'>\n",
      "<class 'float'>\n",
      "<class 'float'>\n",
      "<class 'float'>\n",
      "<class 'float'>\n",
      "<class 'float'>\n",
      "<class 'float'>\n",
      "<class 'float'>\n",
      "<class 'float'>\n",
      "<class 'float'>\n",
      "<class 'float'>\n",
      "<class 'float'>\n",
      "<class 'float'>\n",
      "<class 'float'>\n",
      "<class 'float'>\n",
      "<class 'float'>\n",
      "<class 'float'>\n",
      "<class 'float'>\n",
      "<class 'float'>\n",
      "<class 'float'>\n",
      "<class 'float'>\n",
      "<class 'float'>\n",
      "<class 'float'>\n",
      "<class 'float'>\n",
      "<class 'float'>\n",
      "<class 'float'>\n",
      "<class 'float'>\n",
      "<class 'float'>\n",
      "<class 'float'>\n",
      "<class 'float'>\n",
      "<class 'float'>\n",
      "<class 'float'>\n",
      "<class 'float'>\n",
      "<class 'float'>\n",
      "<class 'float'>\n",
      "<class 'float'>\n",
      "<class 'float'>\n",
      "<class 'float'>\n",
      "<class 'float'>\n",
      "<class 'float'>\n",
      "<class 'float'>\n",
      "<class 'float'>\n",
      "<class 'float'>\n",
      "<class 'float'>\n",
      "<class 'float'>\n",
      "<class 'float'>\n",
      "<class 'float'>\n",
      "<class 'float'>\n",
      "<class 'float'>\n",
      "<class 'float'>\n",
      "<class 'float'>\n",
      "<class 'float'>\n",
      "<class 'float'>\n",
      "<class 'float'>\n",
      "<class 'float'>\n",
      "<class 'float'>\n",
      "<class 'float'>\n",
      "<class 'float'>\n",
      "<class 'float'>\n",
      "<class 'float'>\n",
      "<class 'float'>\n",
      "<class 'float'>\n",
      "<class 'float'>\n",
      "<class 'float'>\n",
      "<class 'float'>\n",
      "<class 'float'>\n",
      "<class 'float'>\n",
      "<class 'float'>\n",
      "<class 'float'>\n",
      "<class 'float'>\n",
      "<class 'float'>\n",
      "<class 'float'>\n",
      "<class 'float'>\n",
      "<class 'float'>\n",
      "<class 'float'>\n",
      "<class 'float'>\n",
      "<class 'float'>\n",
      "<class 'float'>\n",
      "<class 'float'>\n",
      "<class 'float'>\n"
     ]
    }
   ],
   "source": [
    "for i in label_list:\n",
    "    print(type(i))"
   ]
  },
  {
   "cell_type": "code",
   "execution_count": null,
   "metadata": {},
   "outputs": [],
   "source": []
  },
  {
   "cell_type": "code",
   "execution_count": 84,
   "metadata": {},
   "outputs": [
    {
     "data": {
      "text/plain": [
       "<pyspark.ml.classification.LogisticRegressionTrainingSummary at 0x18e42b4bf60>"
      ]
     },
     "execution_count": 84,
     "metadata": {},
     "output_type": "execute_result"
    }
   ],
   "source": [
    "trainingSummary = lrModel_2.summary\n",
    "trainingSummary"
   ]
  },
  {
   "cell_type": "code",
   "execution_count": 85,
   "metadata": {},
   "outputs": [
    {
     "data": {
      "text/plain": [
       "[0.0, 0.11, 0.05]"
      ]
     },
     "execution_count": 85,
     "metadata": {},
     "output_type": "execute_result"
    }
   ],
   "source": [
    "trainingSummary.falsePositiveRateByLabel"
   ]
  },
  {
   "cell_type": "code",
   "execution_count": 86,
   "metadata": {},
   "outputs": [
    {
     "data": {
      "text/plain": [
       "0.8933333333333333"
      ]
     },
     "execution_count": 86,
     "metadata": {},
     "output_type": "execute_result"
    }
   ],
   "source": [
    "trainingSummary.accuracy"
   ]
  },
  {
   "cell_type": "code",
   "execution_count": 87,
   "metadata": {},
   "outputs": [
    {
     "data": {
      "text/plain": [
       "[1.0, 0.8035714285714286, 0.8863636363636364]"
      ]
     },
     "execution_count": 87,
     "metadata": {},
     "output_type": "execute_result"
    }
   ],
   "source": [
    "trainingSummary.precisionByLabel    # 按照0,1,2"
   ]
  },
  {
   "cell_type": "code",
   "execution_count": 88,
   "metadata": {},
   "outputs": [
    {
     "data": {
      "text/plain": [
       "[0.0, 1.0, 2.0]"
      ]
     },
     "execution_count": 88,
     "metadata": {},
     "output_type": "execute_result"
    }
   ],
   "source": [
    "trainingSummary.labels"
   ]
  },
  {
   "cell_type": "code",
   "execution_count": null,
   "metadata": {},
   "outputs": [],
   "source": []
  },
  {
   "cell_type": "code",
   "execution_count": null,
   "metadata": {},
   "outputs": [],
   "source": []
  },
  {
   "cell_type": "code",
   "execution_count": 89,
   "metadata": {},
   "outputs": [
    {
     "name": "stdout",
     "output_type": "stream",
     "text": [
      "objectiveHistory:\n",
      "1.098612288668108\n",
      "1.0216272508645472\n",
      "0.9098834909238206\n",
      "0.7232617195708845\n",
      "0.7134175932240653\n",
      "0.71174618304454\n",
      "0.7094361506077577\n",
      "0.7051591389710494\n",
      "0.7037641889472712\n",
      "0.7028953520885549\n",
      "0.7020092343060929\n",
      "0.6971842530498781\n",
      "0.6953614017395369\n",
      "0.6843212905397233\n",
      "0.6736512616220666\n",
      "0.6661461231730135\n",
      "0.6660124737236053\n",
      "0.6646324729420506\n",
      "0.6644255265375019\n",
      "0.6643910980727231\n",
      "0.6643372451822104\n"
     ]
    }
   ],
   "source": [
    "objectiveHistory = trainingSummary.objectiveHistory\n",
    "print(\"objectiveHistory:\")\n",
    "for objective in objectiveHistory:\n",
    "    print(objective)"
   ]
  },
  {
   "cell_type": "code",
   "execution_count": 90,
   "metadata": {},
   "outputs": [
    {
     "data": {
      "text/plain": [
       "1.0"
      ]
     },
     "execution_count": 90,
     "metadata": {},
     "output_type": "execute_result"
    }
   ],
   "source": [
    "float(1)"
   ]
  },
  {
   "cell_type": "code",
   "execution_count": null,
   "metadata": {},
   "outputs": [],
   "source": []
  },
  {
   "cell_type": "code",
   "execution_count": 91,
   "metadata": {},
   "outputs": [
    {
     "ename": "AttributeError",
     "evalue": "'LogisticRegressionTrainingSummary' object has no attribute 'roc'",
     "output_type": "error",
     "traceback": [
      "\u001b[1;31m---------------------------------------------------------------------------\u001b[0m",
      "\u001b[1;31mAttributeError\u001b[0m                            Traceback (most recent call last)",
      "\u001b[1;32m<ipython-input-91-346cf2c6102f>\u001b[0m in \u001b[0;36m<module>\u001b[1;34m()\u001b[0m\n\u001b[1;32m----> 1\u001b[1;33m \u001b[0mtrainingSummary\u001b[0m\u001b[1;33m.\u001b[0m\u001b[0mroc\u001b[0m\u001b[1;33m.\u001b[0m\u001b[0mshow\u001b[0m\u001b[1;33m(\u001b[0m\u001b[1;33m)\u001b[0m\u001b[1;33m\u001b[0m\u001b[0m\n\u001b[0m\u001b[0;32m      2\u001b[0m \u001b[0mprint\u001b[0m\u001b[1;33m(\u001b[0m\u001b[1;34m\"areaUnderROC: \"\u001b[0m \u001b[1;33m+\u001b[0m \u001b[0mstr\u001b[0m\u001b[1;33m(\u001b[0m\u001b[0mtrainingSummary\u001b[0m\u001b[1;33m.\u001b[0m\u001b[0mareaUnderROC\u001b[0m\u001b[1;33m)\u001b[0m\u001b[1;33m)\u001b[0m\u001b[1;33m\u001b[0m\u001b[0m\n",
      "\u001b[1;31mAttributeError\u001b[0m: 'LogisticRegressionTrainingSummary' object has no attribute 'roc'"
     ]
    }
   ],
   "source": [
    "trainingSummary.roc.show()\n",
    "print(\"areaUnderROC: \" + str(trainingSummary.areaUnderROC))\n"
   ]
  },
  {
   "cell_type": "code",
   "execution_count": null,
   "metadata": {},
   "outputs": [],
   "source": []
  },
  {
   "cell_type": "code",
   "execution_count": null,
   "metadata": {},
   "outputs": [],
   "source": []
  },
  {
   "cell_type": "code",
   "execution_count": 92,
   "metadata": {},
   "outputs": [
    {
     "name": "stdout",
     "output_type": "stream",
     "text": [
      "+---+---+---+---+---+-----------------+-----+\n",
      "|_c0|_c1|_c2|_c3|_c4|         features|label|\n",
      "+---+---+---+---+---+-----------------+-----+\n",
      "|4.4|2.9|1.4|0.2|1.0|[4.4,2.9,1.4,0.2]|  0.0|\n",
      "|4.4|3.0|1.3|0.2|1.0|[4.4,3.0,1.3,0.2]|  0.0|\n",
      "|4.4|3.2|1.3|0.2|1.0|[4.4,3.2,1.3,0.2]|  0.0|\n",
      "|4.6|3.6|1.0|0.2|1.0|[4.6,3.6,1.0,0.2]|  0.0|\n",
      "|4.7|3.2|1.6|0.2|1.0|[4.7,3.2,1.6,0.2]|  0.0|\n",
      "+---+---+---+---+---+-----------------+-----+\n",
      "only showing top 5 rows\n",
      "\n"
     ]
    }
   ],
   "source": [
    "(trainingData, testData) = dataset.randomSplit([0.8, 0.2], 123)\n",
    "# print(\"Training Dataset Count: \" + str(trainingData.count()))\n",
    "# print(\"Test Dataset Count: \" + str(testData.count()))\n",
    "# trainingData.show(10)\n",
    "testData.show(5)"
   ]
  },
  {
   "cell_type": "code",
   "execution_count": 93,
   "metadata": {},
   "outputs": [
    {
     "name": "stdout",
     "output_type": "stream",
     "text": [
      "+---+---+---+---+---+-----------------+-----+\n",
      "|_c0|_c1|_c2|_c3|_c4|         features|label|\n",
      "+---+---+---+---+---+-----------------+-----+\n",
      "|4.3|3.0|1.1|0.1|1.0|[4.3,3.0,1.1,0.1]|  0.0|\n",
      "|4.5|2.3|1.3|0.3|1.0|[4.5,2.3,1.3,0.3]|  0.0|\n",
      "|4.6|3.1|1.5|0.2|1.0|[4.6,3.1,1.5,0.2]|  0.0|\n",
      "|4.6|3.2|1.4|0.2|1.0|[4.6,3.2,1.4,0.2]|  0.0|\n",
      "|4.6|3.4|1.4|0.3|1.0|[4.6,3.4,1.4,0.3]|  0.0|\n",
      "+---+---+---+---+---+-----------------+-----+\n",
      "only showing top 5 rows\n",
      "\n"
     ]
    }
   ],
   "source": [
    "trainingData.show(5)"
   ]
  },
  {
   "cell_type": "code",
   "execution_count": 94,
   "metadata": {},
   "outputs": [],
   "source": [
    "# 模型训练\n",
    "lr = LogisticRegression(maxIter=20, regParam=0.3, elasticNetParam=0)\n",
    "lrModel = lr.fit(trainingData)"
   ]
  },
  {
   "cell_type": "code",
   "execution_count": 95,
   "metadata": {},
   "outputs": [
    {
     "name": "stdout",
     "output_type": "stream",
     "text": [
      "+---+---+---+---+---+-----------------+-----+--------------------+--------------------+----------+\n",
      "|_c0|_c1|_c2|_c3|_c4|         features|label|       rawPrediction|         probability|prediction|\n",
      "+---+---+---+---+---+-----------------+-----+--------------------+--------------------+----------+\n",
      "|4.4|2.9|1.4|0.2|1.0|[4.4,2.9,1.4,0.2]|  0.0|[0.97587696525420...|[0.66435501880071...|       0.0|\n",
      "|4.4|3.0|1.3|0.2|1.0|[4.4,3.0,1.3,0.2]|  0.0|[1.07468573243426...|[0.69738164615681...|       0.0|\n",
      "|4.4|3.2|1.3|0.2|1.0|[4.4,3.2,1.3,0.2]|  0.0|[1.22655912321016...|[0.74546466374773...|       0.0|\n",
      "|4.6|3.6|1.0|0.2|1.0|[4.6,3.6,1.0,0.2]|  0.0|[1.55117580808555...|[0.82793089816996...|       0.0|\n",
      "|4.7|3.2|1.6|0.2|1.0|[4.7,3.2,1.6,0.2]|  0.0|[1.08632343975477...|[0.70280652702730...|       0.0|\n",
      "|4.9|2.4|3.3|1.0|2.0|[4.9,2.4,3.3,1.0]|  2.0|[-0.3580763884417...|[0.22319947512485...|       2.0|\n",
      "|5.0|3.0|1.6|0.2|1.0|[5.0,3.0,1.6,0.2]|  0.0|[0.86283058089978...|[0.62295572416110...|       0.0|\n",
      "|5.0|3.4|1.5|0.2|1.0|[5.0,3.4,1.5,0.2]|  0.0|[1.18944943424369...|[0.73394827350204...|       0.0|\n",
      "|5.0|3.5|1.3|0.3|1.0|[5.0,3.5,1.3,0.3]|  0.0|[1.26108843164403...|[0.75676483825205...|       0.0|\n",
      "|5.1|2.5|3.0|1.1|2.0|[5.1,2.5,3.0,1.1]|  2.0|[-0.3113116313020...|[0.23596481996335...|       2.0|\n",
      "+---+---+---+---+---+-----------------+-----+--------------------+--------------------+----------+\n",
      "only showing top 10 rows\n",
      "\n"
     ]
    }
   ],
   "source": [
    "# 模型预测\n",
    "predictions = lrModel.transform(testData)\n",
    "# print(prediction)\n",
    "predictions.show(10)\n",
    "\n",
    "# ROC score\n",
    "# evaluator = BinaryClassificationEvaluator()\n",
    "# evaluator.evaluate(prediction)"
   ]
  },
  {
   "cell_type": "code",
   "execution_count": 96,
   "metadata": {},
   "outputs": [],
   "source": [
    "evaluator = MulticlassClassificationEvaluator(\n",
    "    labelCol=\"label\", predictionCol=\"prediction\", metricName=\"accuracy\")\n",
    "accuracy = evaluator.evaluate(predictions)"
   ]
  },
  {
   "cell_type": "code",
   "execution_count": 97,
   "metadata": {},
   "outputs": [
    {
     "data": {
      "text/plain": [
       "0.8857142857142857"
      ]
     },
     "execution_count": 97,
     "metadata": {},
     "output_type": "execute_result"
    }
   ],
   "source": [
    "accuracy"
   ]
  },
  {
   "cell_type": "code",
   "execution_count": null,
   "metadata": {},
   "outputs": [],
   "source": []
  },
  {
   "cell_type": "code",
   "execution_count": 98,
   "metadata": {},
   "outputs": [
    {
     "ename": "NameError",
     "evalue": "name 'prediction' is not defined",
     "output_type": "error",
     "traceback": [
      "\u001b[1;31m---------------------------------------------------------------------------\u001b[0m",
      "\u001b[1;31mNameError\u001b[0m                                 Traceback (most recent call last)",
      "\u001b[1;32m<ipython-input-98-45553d37aaf8>\u001b[0m in \u001b[0;36m<module>\u001b[1;34m()\u001b[0m\n\u001b[1;32m----> 1\u001b[1;33m \u001b[0mpreSummary\u001b[0m \u001b[1;33m=\u001b[0m \u001b[0mprediction\u001b[0m\u001b[1;33m.\u001b[0m\u001b[0msummary\u001b[0m\u001b[1;33m\u001b[0m\u001b[0m\n\u001b[0m\u001b[0;32m      2\u001b[0m \u001b[0mpreSummary\u001b[0m\u001b[1;33m\u001b[0m\u001b[0m\n",
      "\u001b[1;31mNameError\u001b[0m: name 'prediction' is not defined"
     ]
    }
   ],
   "source": [
    "preSummary = prediction.summary\n",
    "preSummary"
   ]
  },
  {
   "cell_type": "code",
   "execution_count": null,
   "metadata": {},
   "outputs": [],
   "source": [
    "preSummary.accuracy"
   ]
  },
  {
   "cell_type": "code",
   "execution_count": null,
   "metadata": {},
   "outputs": [],
   "source": [
    "preSummary.weightedRecall"
   ]
  },
  {
   "cell_type": "code",
   "execution_count": null,
   "metadata": {},
   "outputs": [],
   "source": []
  },
  {
   "cell_type": "code",
   "execution_count": null,
   "metadata": {},
   "outputs": [],
   "source": []
  }
 ],
 "metadata": {
  "kernelspec": {
   "display_name": "Python 3",
   "language": "python",
   "name": "python3"
  },
  "language_info": {
   "codemirror_mode": {
    "name": "ipython",
    "version": 3
   },
   "file_extension": ".py",
   "mimetype": "text/x-python",
   "name": "python",
   "nbconvert_exporter": "python",
   "pygments_lexer": "ipython3",
   "version": "3.6.4"
  }
 },
 "nbformat": 4,
 "nbformat_minor": 2
}
