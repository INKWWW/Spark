{
 "cells": [
  {
   "cell_type": "markdown",
   "metadata": {},
   "source": [
    "# LR"
   ]
  },
  {
   "cell_type": "code",
   "execution_count": 49,
   "metadata": {},
   "outputs": [],
   "source": [
    "from pyspark.ml.classification import LogisticRegression\n",
    "\n",
    "from pyspark.sql import SparkSession\n",
    "from pyspark.ml.feature import StringIndexer\n",
    "from pyspark.ml.classification import LogisticRegression\n",
    "from pyspark.ml import Pipeline\n",
    "from pyspark.ml.feature import VectorAssembler\n",
    "from pyspark.ml.evaluation import BinaryClassificationEvaluator\n",
    "from pyspark import SparkContext, SparkConf"
   ]
  },
  {
   "cell_type": "code",
   "execution_count": 26,
   "metadata": {},
   "outputs": [
    {
     "data": {
      "text/plain": [
       "[Row(value='5.1,3.5,1.4,0.2,Iris-setosa'),\n",
       " Row(value='4.9,3.0,1.4,0.2,Iris-setosa'),\n",
       " Row(value='4.7,3.2,1.3,0.2,Iris-setosa'),\n",
       " Row(value='4.6,3.1,1.5,0.2,Iris-setosa'),\n",
       " Row(value='5.0,3.6,1.4,0.2,Iris-setosa')]"
      ]
     },
     "execution_count": 26,
     "metadata": {},
     "output_type": "execute_result"
    }
   ],
   "source": [
    "train_data = spark.read.text('C:\\spark\\data\\my_data\\iris_data.txt')\n",
    "train_data.head(5)\n",
    "# type(train_data)\n"
   ]
  },
  {
   "cell_type": "code",
   "execution_count": 27,
   "metadata": {},
   "outputs": [
    {
     "data": {
      "text/plain": [
       "[Row(value='5.1,3.5,1.4,0.2,Iris-setosa'),\n",
       " Row(value='4.9,3.0,1.4,0.2,Iris-setosa'),\n",
       " Row(value='4.7,3.2,1.3,0.2,Iris-setosa'),\n",
       " Row(value='4.6,3.1,1.5,0.2,Iris-setosa'),\n",
       " Row(value='5.0,3.6,1.4,0.2,Iris-setosa'),\n",
       " Row(value='5.4,3.9,1.7,0.4,Iris-setosa'),\n",
       " Row(value='4.6,3.4,1.4,0.3,Iris-setosa'),\n",
       " Row(value='5.0,3.4,1.5,0.2,Iris-setosa'),\n",
       " Row(value='4.4,2.9,1.4,0.2,Iris-setosa'),\n",
       " Row(value='4.9,3.1,1.5,0.1,Iris-setosa'),\n",
       " Row(value='5.4,3.7,1.5,0.2,Iris-setosa'),\n",
       " Row(value='4.8,3.4,1.6,0.2,Iris-setosa'),\n",
       " Row(value='4.8,3.0,1.4,0.1,Iris-setosa'),\n",
       " Row(value='4.3,3.0,1.1,0.1,Iris-setosa'),\n",
       " Row(value='5.8,4.0,1.2,0.2,Iris-setosa'),\n",
       " Row(value='5.7,4.4,1.5,0.4,Iris-setosa'),\n",
       " Row(value='5.4,3.9,1.3,0.4,Iris-setosa'),\n",
       " Row(value='5.1,3.5,1.4,0.3,Iris-setosa'),\n",
       " Row(value='5.7,3.8,1.7,0.3,Iris-setosa'),\n",
       " Row(value='5.1,3.8,1.5,0.3,Iris-setosa'),\n",
       " Row(value='5.4,3.4,1.7,0.2,Iris-setosa'),\n",
       " Row(value='5.1,3.7,1.5,0.4,Iris-setosa'),\n",
       " Row(value='4.6,3.6,1.0,0.2,Iris-setosa'),\n",
       " Row(value='5.1,3.3,1.7,0.5,Iris-setosa'),\n",
       " Row(value='4.8,3.4,1.9,0.2,Iris-setosa'),\n",
       " Row(value='5.0,3.0,1.6,0.2,Iris-setosa'),\n",
       " Row(value='5.0,3.4,1.6,0.4,Iris-setosa'),\n",
       " Row(value='5.2,3.5,1.5,0.2,Iris-setosa'),\n",
       " Row(value='5.2,3.4,1.4,0.2,Iris-setosa'),\n",
       " Row(value='4.7,3.2,1.6,0.2,Iris-setosa'),\n",
       " Row(value='4.8,3.1,1.6,0.2,Iris-setosa'),\n",
       " Row(value='5.4,3.4,1.5,0.4,Iris-setosa'),\n",
       " Row(value='5.2,4.1,1.5,0.1,Iris-setosa'),\n",
       " Row(value='5.5,4.2,1.4,0.2,Iris-setosa'),\n",
       " Row(value='4.9,3.1,1.5,0.1,Iris-setosa'),\n",
       " Row(value='5.0,3.2,1.2,0.2,Iris-setosa'),\n",
       " Row(value='5.5,3.5,1.3,0.2,Iris-setosa'),\n",
       " Row(value='4.9,3.1,1.5,0.1,Iris-setosa'),\n",
       " Row(value='4.4,3.0,1.3,0.2,Iris-setosa'),\n",
       " Row(value='5.1,3.4,1.5,0.2,Iris-setosa'),\n",
       " Row(value='5.0,3.5,1.3,0.3,Iris-setosa'),\n",
       " Row(value='4.5,2.3,1.3,0.3,Iris-setosa'),\n",
       " Row(value='4.4,3.2,1.3,0.2,Iris-setosa'),\n",
       " Row(value='5.0,3.5,1.6,0.6,Iris-setosa'),\n",
       " Row(value='5.1,3.8,1.9,0.4,Iris-setosa'),\n",
       " Row(value='4.8,3.0,1.4,0.3,Iris-setosa'),\n",
       " Row(value='5.1,3.8,1.6,0.2,Iris-setosa'),\n",
       " Row(value='4.6,3.2,1.4,0.2,Iris-setosa'),\n",
       " Row(value='5.3,3.7,1.5,0.2,Iris-setosa'),\n",
       " Row(value='5.0,3.3,1.4,0.2,Iris-setosa'),\n",
       " Row(value='7.0,3.2,4.7,1.4,Iris-versicolor'),\n",
       " Row(value='6.4,3.2,4.5,1.5,Iris-versicolor'),\n",
       " Row(value='6.9,3.1,4.9,1.5,Iris-versicolor'),\n",
       " Row(value='5.5,2.3,4.0,1.3,Iris-versicolor'),\n",
       " Row(value='6.5,2.8,4.6,1.5,Iris-versicolor'),\n",
       " Row(value='5.7,2.8,4.5,1.3,Iris-versicolor'),\n",
       " Row(value='6.3,3.3,4.7,1.6,Iris-versicolor'),\n",
       " Row(value='4.9,2.4,3.3,1.0,Iris-versicolor'),\n",
       " Row(value='6.6,2.9,4.6,1.3,Iris-versicolor'),\n",
       " Row(value='5.2,2.7,3.9,1.4,Iris-versicolor'),\n",
       " Row(value='5.0,2.0,3.5,1.0,Iris-versicolor'),\n",
       " Row(value='5.9,3.0,4.2,1.5,Iris-versicolor'),\n",
       " Row(value='6.0,2.2,4.0,1.0,Iris-versicolor'),\n",
       " Row(value='6.1,2.9,4.7,1.4,Iris-versicolor'),\n",
       " Row(value='5.6,2.9,3.6,1.3,Iris-versicolor'),\n",
       " Row(value='6.7,3.1,4.4,1.4,Iris-versicolor'),\n",
       " Row(value='5.6,3.0,4.5,1.5,Iris-versicolor'),\n",
       " Row(value='5.8,2.7,4.1,1.0,Iris-versicolor'),\n",
       " Row(value='6.2,2.2,4.5,1.5,Iris-versicolor'),\n",
       " Row(value='5.6,2.5,3.9,1.1,Iris-versicolor'),\n",
       " Row(value='5.9,3.2,4.8,1.8,Iris-versicolor'),\n",
       " Row(value='6.1,2.8,4.0,1.3,Iris-versicolor'),\n",
       " Row(value='6.3,2.5,4.9,1.5,Iris-versicolor'),\n",
       " Row(value='6.1,2.8,4.7,1.2,Iris-versicolor'),\n",
       " Row(value='6.4,2.9,4.3,1.3,Iris-versicolor'),\n",
       " Row(value='6.6,3.0,4.4,1.4,Iris-versicolor'),\n",
       " Row(value='6.8,2.8,4.8,1.4,Iris-versicolor'),\n",
       " Row(value='6.7,3.0,5.0,1.7,Iris-versicolor'),\n",
       " Row(value='6.0,2.9,4.5,1.5,Iris-versicolor'),\n",
       " Row(value='5.7,2.6,3.5,1.0,Iris-versicolor'),\n",
       " Row(value='5.5,2.4,3.8,1.1,Iris-versicolor'),\n",
       " Row(value='5.5,2.4,3.7,1.0,Iris-versicolor'),\n",
       " Row(value='5.8,2.7,3.9,1.2,Iris-versicolor'),\n",
       " Row(value='6.0,2.7,5.1,1.6,Iris-versicolor'),\n",
       " Row(value='5.4,3.0,4.5,1.5,Iris-versicolor'),\n",
       " Row(value='6.0,3.4,4.5,1.6,Iris-versicolor'),\n",
       " Row(value='6.7,3.1,4.7,1.5,Iris-versicolor'),\n",
       " Row(value='6.3,2.3,4.4,1.3,Iris-versicolor'),\n",
       " Row(value='5.6,3.0,4.1,1.3,Iris-versicolor'),\n",
       " Row(value='5.5,2.5,4.0,1.3,Iris-versicolor'),\n",
       " Row(value='5.5,2.6,4.4,1.2,Iris-versicolor'),\n",
       " Row(value='6.1,3.0,4.6,1.4,Iris-versicolor'),\n",
       " Row(value='5.8,2.6,4.0,1.2,Iris-versicolor'),\n",
       " Row(value='5.0,2.3,3.3,1.0,Iris-versicolor'),\n",
       " Row(value='5.6,2.7,4.2,1.3,Iris-versicolor'),\n",
       " Row(value='5.7,3.0,4.2,1.2,Iris-versicolor'),\n",
       " Row(value='5.7,2.9,4.2,1.3,Iris-versicolor'),\n",
       " Row(value='6.2,2.9,4.3,1.3,Iris-versicolor'),\n",
       " Row(value='5.1,2.5,3.0,1.1,Iris-versicolor'),\n",
       " Row(value='5.7,2.8,4.1,1.3,Iris-versicolor'),\n",
       " Row(value='6.3,3.3,6.0,2.5,Iris-virginica'),\n",
       " Row(value='5.8,2.7,5.1,1.9,Iris-virginica'),\n",
       " Row(value='7.1,3.0,5.9,2.1,Iris-virginica'),\n",
       " Row(value='6.3,2.9,5.6,1.8,Iris-virginica'),\n",
       " Row(value='6.5,3.0,5.8,2.2,Iris-virginica'),\n",
       " Row(value='7.6,3.0,6.6,2.1,Iris-virginica'),\n",
       " Row(value='4.9,2.5,4.5,1.7,Iris-virginica'),\n",
       " Row(value='7.3,2.9,6.3,1.8,Iris-virginica'),\n",
       " Row(value='6.7,2.5,5.8,1.8,Iris-virginica'),\n",
       " Row(value='7.2,3.6,6.1,2.5,Iris-virginica'),\n",
       " Row(value='6.5,3.2,5.1,2.0,Iris-virginica'),\n",
       " Row(value='6.4,2.7,5.3,1.9,Iris-virginica'),\n",
       " Row(value='6.8,3.0,5.5,2.1,Iris-virginica'),\n",
       " Row(value='5.7,2.5,5.0,2.0,Iris-virginica'),\n",
       " Row(value='5.8,2.8,5.1,2.4,Iris-virginica'),\n",
       " Row(value='6.4,3.2,5.3,2.3,Iris-virginica'),\n",
       " Row(value='6.5,3.0,5.5,1.8,Iris-virginica'),\n",
       " Row(value='7.7,3.8,6.7,2.2,Iris-virginica'),\n",
       " Row(value='7.7,2.6,6.9,2.3,Iris-virginica'),\n",
       " Row(value='6.0,2.2,5.0,1.5,Iris-virginica'),\n",
       " Row(value='6.9,3.2,5.7,2.3,Iris-virginica'),\n",
       " Row(value='5.6,2.8,4.9,2.0,Iris-virginica'),\n",
       " Row(value='7.7,2.8,6.7,2.0,Iris-virginica'),\n",
       " Row(value='6.3,2.7,4.9,1.8,Iris-virginica'),\n",
       " Row(value='6.7,3.3,5.7,2.1,Iris-virginica'),\n",
       " Row(value='7.2,3.2,6.0,1.8,Iris-virginica'),\n",
       " Row(value='6.2,2.8,4.8,1.8,Iris-virginica'),\n",
       " Row(value='6.1,3.0,4.9,1.8,Iris-virginica'),\n",
       " Row(value='6.4,2.8,5.6,2.1,Iris-virginica'),\n",
       " Row(value='7.2,3.0,5.8,1.6,Iris-virginica'),\n",
       " Row(value='7.4,2.8,6.1,1.9,Iris-virginica'),\n",
       " Row(value='7.9,3.8,6.4,2.0,Iris-virginica'),\n",
       " Row(value='6.4,2.8,5.6,2.2,Iris-virginica'),\n",
       " Row(value='6.3,2.8,5.1,1.5,Iris-virginica'),\n",
       " Row(value='6.1,2.6,5.6,1.4,Iris-virginica'),\n",
       " Row(value='7.7,3.0,6.1,2.3,Iris-virginica'),\n",
       " Row(value='6.3,3.4,5.6,2.4,Iris-virginica'),\n",
       " Row(value='6.4,3.1,5.5,1.8,Iris-virginica'),\n",
       " Row(value='6.0,3.0,4.8,1.8,Iris-virginica'),\n",
       " Row(value='6.9,3.1,5.4,2.1,Iris-virginica'),\n",
       " Row(value='6.7,3.1,5.6,2.4,Iris-virginica'),\n",
       " Row(value='6.9,3.1,5.1,2.3,Iris-virginica'),\n",
       " Row(value='5.8,2.7,5.1,1.9,Iris-virginica'),\n",
       " Row(value='6.8,3.2,5.9,2.3,Iris-virginica'),\n",
       " Row(value='6.7,3.3,5.7,2.5,Iris-virginica'),\n",
       " Row(value='6.7,3.0,5.2,2.3,Iris-virginica'),\n",
       " Row(value='6.3,2.5,5.0,1.9,Iris-virginica'),\n",
       " Row(value='6.5,3.0,5.2,2.0,Iris-virginica'),\n",
       " Row(value='6.2,3.4,5.4,2.3,Iris-virginica'),\n",
       " Row(value='5.9,3.0,5.1,1.8,Iris-virginica')]"
      ]
     },
     "execution_count": 27,
     "metadata": {},
     "output_type": "execute_result"
    }
   ],
   "source": [
    "train_data.collect()"
   ]
  },
  {
   "cell_type": "code",
   "execution_count": 34,
   "metadata": {},
   "outputs": [
    {
     "data": {
      "text/plain": [
       "[Row(_c0='5.1', _c1='3.5', _c2='1.4', _c3='0.2', _c4='1.0'),\n",
       " Row(_c0='4.9', _c1='3.0', _c2='1.4', _c3='0.2', _c4='1.0'),\n",
       " Row(_c0='4.7', _c1='3.2', _c2='1.3', _c3='0.2', _c4='1.0'),\n",
       " Row(_c0='4.6', _c1='3.1', _c2='1.5', _c3='0.2', _c4='1.0'),\n",
       " Row(_c0='5.0', _c1='3.6', _c2='1.4', _c3='0.2', _c4='1.0')]"
      ]
     },
     "execution_count": 34,
     "metadata": {},
     "output_type": "execute_result"
    }
   ],
   "source": [
    "train_data = spark.read.csv('C:\\spark\\data\\my_data\\iris_data.csv', header=False)\n",
    "train_data.head(5)"
   ]
  },
  {
   "cell_type": "code",
   "execution_count": 35,
   "metadata": {},
   "outputs": [
    {
     "name": "stdout",
     "output_type": "stream",
     "text": [
      "+---+---+---+---+---+\n",
      "|_c0|_c1|_c2|_c3|_c4|\n",
      "+---+---+---+---+---+\n",
      "|5.1|3.5|1.4|0.2|1.0|\n",
      "|4.9|3.0|1.4|0.2|1.0|\n",
      "|4.7|3.2|1.3|0.2|1.0|\n",
      "|4.6|3.1|1.5|0.2|1.0|\n",
      "|5.0|3.6|1.4|0.2|1.0|\n",
      "+---+---+---+---+---+\n",
      "only showing top 5 rows\n",
      "\n"
     ]
    }
   ],
   "source": [
    "train_data.show(5)"
   ]
  },
  {
   "cell_type": "code",
   "execution_count": 42,
   "metadata": {},
   "outputs": [
    {
     "data": {
      "text/plain": [
       "['_c0', '_c1', '_c2', '_c3', '_c4']"
      ]
     },
     "execution_count": 42,
     "metadata": {},
     "output_type": "execute_result"
    }
   ],
   "source": [
    "train_data.columns"
   ]
  },
  {
   "cell_type": "code",
   "execution_count": 46,
   "metadata": {},
   "outputs": [
    {
     "name": "stdout",
     "output_type": "stream",
     "text": [
      "+---+\n",
      "|_c0|\n",
      "+---+\n",
      "|5.1|\n",
      "|4.9|\n",
      "|4.7|\n",
      "|4.6|\n",
      "|5.0|\n",
      "|5.4|\n",
      "|4.6|\n",
      "|5.0|\n",
      "|4.4|\n",
      "|4.9|\n",
      "+---+\n",
      "only showing top 10 rows\n",
      "\n"
     ]
    }
   ],
   "source": [
    "train_data.select('_c0').show(10)"
   ]
  },
  {
   "cell_type": "code",
   "execution_count": 51,
   "metadata": {},
   "outputs": [],
   "source": [
    "\n",
    "train_data = train_data.withColumn('_c0', train_data['_c0'].cast('double'))\\\n",
    "       .withColumn('_c1', train_data['_c1'].cast('double'))\\\n",
    "       .withColumn('_c2', train_data['_c2'].cast('double'))\\\n",
    "       .withColumn('_c3', train_data['_c3'].cast('double'))\n",
    "input_col = ['_c0', '_c1', '_c2', '_c3']\n",
    "vecAssembler = VectorAssembler(inputCols=input_col, outputCol=\"features\")\n",
    "stringIndexer = StringIndexer(inputCol=\"_c4\", outputCol=\"label\")\n",
    "pipeline = Pipeline(stages=[vecAssembler, stringIndexer])\n",
    "pipelineFit = pipeline.fit(train_data)\n",
    "dataset = pipelineFit.transform(train_data)"
   ]
  },
  {
   "cell_type": "code",
   "execution_count": 52,
   "metadata": {},
   "outputs": [
    {
     "name": "stdout",
     "output_type": "stream",
     "text": [
      "+---+---+---+---+---+-----------------+-----+\n",
      "|_c0|_c1|_c2|_c3|_c4|         features|label|\n",
      "+---+---+---+---+---+-----------------+-----+\n",
      "|5.1|3.5|1.4|0.2|1.0|[5.1,3.5,1.4,0.2]|  0.0|\n",
      "|4.9|3.0|1.4|0.2|1.0|[4.9,3.0,1.4,0.2]|  0.0|\n",
      "|4.7|3.2|1.3|0.2|1.0|[4.7,3.2,1.3,0.2]|  0.0|\n",
      "|4.6|3.1|1.5|0.2|1.0|[4.6,3.1,1.5,0.2]|  0.0|\n",
      "|5.0|3.6|1.4|0.2|1.0|[5.0,3.6,1.4,0.2]|  0.0|\n",
      "|5.4|3.9|1.7|0.4|1.0|[5.4,3.9,1.7,0.4]|  0.0|\n",
      "|4.6|3.4|1.4|0.3|1.0|[4.6,3.4,1.4,0.3]|  0.0|\n",
      "|5.0|3.4|1.5|0.2|1.0|[5.0,3.4,1.5,0.2]|  0.0|\n",
      "|4.4|2.9|1.4|0.2|1.0|[4.4,2.9,1.4,0.2]|  0.0|\n",
      "|4.9|3.1|1.5|0.1|1.0|[4.9,3.1,1.5,0.1]|  0.0|\n",
      "+---+---+---+---+---+-----------------+-----+\n",
      "only showing top 10 rows\n",
      "\n"
     ]
    }
   ],
   "source": [
    "dataset.show(10)"
   ]
  },
  {
   "cell_type": "code",
   "execution_count": 59,
   "metadata": {},
   "outputs": [
    {
     "name": "stdout",
     "output_type": "stream",
     "text": [
      "+---+---+---+---+---+-----------------+-----+\n",
      "|_c0|_c1|_c2|_c3|_c4|         features|label|\n",
      "+---+---+---+---+---+-----------------+-----+\n",
      "|4.4|2.9|1.4|0.2|1.0|[4.4,2.9,1.4,0.2]|  0.0|\n",
      "|4.4|3.0|1.3|0.2|1.0|[4.4,3.0,1.3,0.2]|  0.0|\n",
      "|4.4|3.2|1.3|0.2|1.0|[4.4,3.2,1.3,0.2]|  0.0|\n",
      "|4.6|3.6|1.0|0.2|1.0|[4.6,3.6,1.0,0.2]|  0.0|\n",
      "|4.7|3.2|1.6|0.2|1.0|[4.7,3.2,1.6,0.2]|  0.0|\n",
      "+---+---+---+---+---+-----------------+-----+\n",
      "only showing top 5 rows\n",
      "\n"
     ]
    }
   ],
   "source": [
    "(trainingData, testData) = dataset.randomSplit([0.7, 0.3], 123)\n",
    "# print(\"Training Dataset Count: \" + str(trainingData.count()))\n",
    "# print(\"Test Dataset Count: \" + str(testData.count()))\n",
    "# trainingData.show(10)\n",
    "testData.show(5)"
   ]
  },
  {
   "cell_type": "code",
   "execution_count": 60,
   "metadata": {},
   "outputs": [],
   "source": [
    "# 模型训练\n",
    "lr = LogisticRegression(maxIter=20, regParam=0.3, elasticNetParam=0)\n",
    "lrModel = lr.fit(trainingData)"
   ]
  },
  {
   "cell_type": "code",
   "execution_count": 65,
   "metadata": {},
   "outputs": [
    {
     "name": "stdout",
     "output_type": "stream",
     "text": [
      "+---+---+---+---+---+-----------------+-----+--------------------+--------------------+----------+\n",
      "|_c0|_c1|_c2|_c3|_c4|         features|label|       rawPrediction|         probability|prediction|\n",
      "+---+---+---+---+---+-----------------+-----+--------------------+--------------------+----------+\n",
      "|4.4|2.9|1.4|0.2|1.0|[4.4,2.9,1.4,0.2]|  0.0|[1.30664484657282...|[0.67995421362373...|       0.0|\n",
      "|4.4|3.0|1.3|0.2|1.0|[4.4,3.0,1.3,0.2]|  0.0|[1.39731716698503...|[0.71396015787355...|       0.0|\n",
      "|4.4|3.2|1.3|0.2|1.0|[4.4,3.2,1.3,0.2]|  0.0|[1.52494277187147...|[0.76272842921241...|       0.0|\n",
      "|4.6|3.6|1.0|0.2|1.0|[4.6,3.6,1.0,0.2]|  0.0|[1.79985279430816...|[0.84562541401100...|       0.0|\n",
      "|4.7|3.2|1.6|0.2|1.0|[4.7,3.2,1.6,0.2]|  0.0|[1.35298460609976...|[0.72411714329220...|       0.0|\n",
      "|4.8|3.4|1.9|0.2|1.0|[4.8,3.4,1.9,0.2]|  0.0|[1.36957178645764...|[0.74528271277142...|       0.0|\n",
      "|4.9|2.4|3.3|1.0|2.0|[4.9,2.4,3.3,1.0]|  2.0|[-0.1386447846071...|[0.22747624038719...|       2.0|\n",
      "|4.9|2.5|4.5|1.7|3.0|[4.9,2.5,4.5,1.7]|  1.0|[-0.8027921941813...|[0.11650166224460...|       2.0|\n",
      "|5.0|3.0|1.6|0.2|1.0|[5.0,3.0,1.6,0.2]|  0.0|[1.13397938934858...|[0.64904292207736...|       0.0|\n",
      "|5.0|3.4|1.5|0.2|1.0|[5.0,3.4,1.5,0.2]|  0.0|[1.41609011709045...|[0.75836952436759...|       0.0|\n",
      "+---+---+---+---+---+-----------------+-----+--------------------+--------------------+----------+\n",
      "only showing top 10 rows\n",
      "\n"
     ]
    }
   ],
   "source": [
    "# 模型预测\n",
    "prediction = lrModel.transform(testData)\n",
    "# print(prediction)\n",
    "prediction.show(10)\n",
    "\n",
    "# ROC score\n",
    "# evaluator = BinaryClassificationEvaluator()\n",
    "# evaluator.evaluate(prediction)"
   ]
  },
  {
   "cell_type": "code",
   "execution_count": null,
   "metadata": {},
   "outputs": [],
   "source": []
  },
  {
   "cell_type": "code",
   "execution_count": null,
   "metadata": {},
   "outputs": [],
   "source": []
  },
  {
   "cell_type": "code",
   "execution_count": null,
   "metadata": {},
   "outputs": [],
   "source": []
  },
  {
   "cell_type": "code",
   "execution_count": null,
   "metadata": {},
   "outputs": [],
   "source": []
  },
  {
   "cell_type": "code",
   "execution_count": null,
   "metadata": {},
   "outputs": [],
   "source": []
  }
 ],
 "metadata": {
  "kernelspec": {
   "display_name": "Python 3",
   "language": "python",
   "name": "python3"
  },
  "language_info": {
   "codemirror_mode": {
    "name": "ipython",
    "version": 3
   },
   "file_extension": ".py",
   "mimetype": "text/x-python",
   "name": "python",
   "nbconvert_exporter": "python",
   "pygments_lexer": "ipython3",
   "version": "3.6.4"
  }
 },
 "nbformat": 4,
 "nbformat_minor": 2
}
