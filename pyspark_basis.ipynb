{
 "cells": [
  {
   "cell_type": "code",
   "execution_count": 3,
   "metadata": {
    "scrolled": true
   },
   "outputs": [
    {
     "data": {
      "text/html": [
       "\n",
       "        <div>\n",
       "            <p><b>SparkContext</b></p>\n",
       "\n",
       "            <p><a href=\"http://BR-IT-A00803:4041\">Spark UI</a></p>\n",
       "\n",
       "            <dl>\n",
       "              <dt>Version</dt>\n",
       "                <dd><code>v2.3.1</code></dd>\n",
       "              <dt>Master</dt>\n",
       "                <dd><code>local[*]</code></dd>\n",
       "              <dt>AppName</dt>\n",
       "                <dd><code>PySparkShell</code></dd>\n",
       "            </dl>\n",
       "        </div>\n",
       "        "
      ],
      "text/plain": [
       "<SparkContext master=local[*] appName=PySparkShell>"
      ]
     },
     "execution_count": 3,
     "metadata": {},
     "output_type": "execute_result"
    }
   ],
   "source": [
    "sc"
   ]
  },
  {
   "cell_type": "code",
   "execution_count": 4,
   "metadata": {
    "scrolled": true
   },
   "outputs": [
    {
     "data": {
      "text/html": [
       "\n",
       "            <div>\n",
       "                <p><b>SparkSession - hive</b></p>\n",
       "                \n",
       "        <div>\n",
       "            <p><b>SparkContext</b></p>\n",
       "\n",
       "            <p><a href=\"http://BR-IT-A00803:4041\">Spark UI</a></p>\n",
       "\n",
       "            <dl>\n",
       "              <dt>Version</dt>\n",
       "                <dd><code>v2.3.1</code></dd>\n",
       "              <dt>Master</dt>\n",
       "                <dd><code>local[*]</code></dd>\n",
       "              <dt>AppName</dt>\n",
       "                <dd><code>PySparkShell</code></dd>\n",
       "            </dl>\n",
       "        </div>\n",
       "        \n",
       "            </div>\n",
       "        "
      ],
      "text/plain": [
       "<pyspark.sql.session.SparkSession at 0x23c462bb6d8>"
      ]
     },
     "execution_count": 4,
     "metadata": {},
     "output_type": "execute_result"
    }
   ],
   "source": [
    "spark\n"
   ]
  },
  {
   "cell_type": "code",
   "execution_count": 7,
   "metadata": {},
   "outputs": [],
   "source": [
    "textFile_1 = spark.read.text('sample_libsvm_data.txt')"
   ]
  },
  {
   "cell_type": "code",
   "execution_count": 8,
   "metadata": {},
   "outputs": [
    {
     "data": {
      "text/plain": [
       "DataFrame[value: string]"
      ]
     },
     "execution_count": 8,
     "metadata": {},
     "output_type": "execute_result"
    }
   ],
   "source": [
    "textFile_1"
   ]
  },
  {
   "cell_type": "code",
   "execution_count": 5,
   "metadata": {},
   "outputs": [],
   "source": [
    "# import pandas as pd\n",
    "# textFile = pd.read_table('test.txt')\n",
    "# print(textFile)"
   ]
  },
  {
   "cell_type": "code",
   "execution_count": 10,
   "metadata": {},
   "outputs": [],
   "source": [
    "textFile_2 = spark.read.text('test.txt')"
   ]
  },
  {
   "cell_type": "code",
   "execution_count": 11,
   "metadata": {},
   "outputs": [
    {
     "name": "stdout",
     "output_type": "stream",
     "text": [
      "DataFrame[value: string]\n"
     ]
    }
   ],
   "source": [
    "print(textFile_2)"
   ]
  },
  {
   "cell_type": "code",
   "execution_count": 52,
   "metadata": {},
   "outputs": [
    {
     "data": {
      "text/plain": [
       "4"
      ]
     },
     "execution_count": 52,
     "metadata": {},
     "output_type": "execute_result"
    }
   ],
   "source": [
    "textFile.count()  # num of rows in this DataFrame"
   ]
  },
  {
   "cell_type": "code",
   "execution_count": 53,
   "metadata": {},
   "outputs": [
    {
     "data": {
      "text/plain": [
       "Row(value='hello world')"
      ]
     },
     "execution_count": 53,
     "metadata": {},
     "output_type": "execute_result"
    }
   ],
   "source": [
    "textFile.first() # first row in this DataFrame"
   ]
  },
  {
   "cell_type": "code",
   "execution_count": 11,
   "metadata": {},
   "outputs": [],
   "source": [
    "line_with_world = textFile.filter(textFile.value.contains('world'))"
   ]
  },
  {
   "cell_type": "code",
   "execution_count": 12,
   "metadata": {},
   "outputs": [
    {
     "name": "stdout",
     "output_type": "stream",
     "text": [
      "DataFrame[value: string]\n"
     ]
    }
   ],
   "source": [
    "print(line_with_world)"
   ]
  },
  {
   "cell_type": "code",
   "execution_count": 13,
   "metadata": {},
   "outputs": [
    {
     "data": {
      "text/plain": [
       "Row(value='hello world')"
      ]
     },
     "execution_count": 13,
     "metadata": {},
     "output_type": "execute_result"
    }
   ],
   "source": [
    "line_with_world.first()"
   ]
  },
  {
   "cell_type": "code",
   "execution_count": 14,
   "metadata": {},
   "outputs": [
    {
     "data": {
      "text/plain": [
       "4"
      ]
     },
     "execution_count": 14,
     "metadata": {},
     "output_type": "execute_result"
    }
   ],
   "source": [
    "textFile.filter(textFile.value.contains('hello')).count()"
   ]
  },
  {
   "cell_type": "code",
   "execution_count": null,
   "metadata": {},
   "outputs": [],
   "source": []
  },
  {
   "cell_type": "markdown",
   "metadata": {},
   "source": [
    "# [Example_1: Estimator, Transformer, and Param]('http://spark.apache.org/docs/latest/ml-pipeline.html')\n",
    "\n"
   ]
  },
  {
   "cell_type": "code",
   "execution_count": 22,
   "metadata": {},
   "outputs": [],
   "source": [
    "from pyspark.ml.linalg import Vectors\n",
    "from pyspark.ml.classification import LogisticRegression\n",
    "from pprint import pprint"
   ]
  },
  {
   "cell_type": "code",
   "execution_count": 23,
   "metadata": {},
   "outputs": [
    {
     "name": "stdout",
     "output_type": "stream",
     "text": [
      "('LR param:\\n'\n",
      " 'aggregationDepth: suggested depth for treeAggregate (>= 2). (default: 2)\\n'\n",
      " 'elasticNetParam: the ElasticNet mixing parameter, in range [0, 1]. For alpha '\n",
      " '= 0, the penalty is an L2 penalty. For alpha = 1, it is an L1 penalty. '\n",
      " '(default: 0.0)\\n'\n",
      " 'family: The name of family which is a description of the label distribution '\n",
      " 'to be used in the model. Supported options: auto, binomial, multinomial '\n",
      " '(default: auto)\\n'\n",
      " 'featuresCol: features column name. (default: features)\\n'\n",
      " 'fitIntercept: whether to fit an intercept term. (default: True)\\n'\n",
      " 'labelCol: label column name. (default: label)\\n'\n",
      " 'lowerBoundsOnCoefficients: The lower bounds on coefficients if fitting under '\n",
      " 'bound constrained optimization. The bound matrix must be compatible with the '\n",
      " 'shape (1, number of features) for binomial regression, or (number of '\n",
      " 'classes, number of features) for multinomial regression. (undefined)\\n'\n",
      " 'lowerBoundsOnIntercepts: The lower bounds on intercepts if fitting under '\n",
      " 'bound constrained optimization. The bounds vector size must beequal with 1 '\n",
      " 'for binomial regression, or the number oflasses for multinomial regression. '\n",
      " '(undefined)\\n'\n",
      " 'maxIter: max number of iterations (>= 0). (default: 100, current: 10)\\n'\n",
      " 'predictionCol: prediction column name. (default: prediction)\\n'\n",
      " 'probabilityCol: Column name for predicted class conditional probabilities. '\n",
      " 'Note: Not all models output well-calibrated probability estimates! These '\n",
      " 'probabilities should be treated as confidences, not precise probabilities. '\n",
      " '(default: probability)\\n'\n",
      " 'rawPredictionCol: raw prediction (a.k.a. confidence) column name. (default: '\n",
      " 'rawPrediction)\\n'\n",
      " 'regParam: regularization parameter (>= 0). (default: 0.0, current: 0.01)\\n'\n",
      " 'standardization: whether to standardize the training features before fitting '\n",
      " 'the model. (default: True)\\n'\n",
      " 'threshold: Threshold in binary classification prediction, in range [0, 1]. '\n",
      " 'If threshold and thresholds are both set, they must match.e.g. if threshold '\n",
      " 'is p, then thresholds must be equal to [1-p, p]. (default: 0.5)\\n'\n",
      " 'thresholds: Thresholds in multi-class classification to adjust the '\n",
      " 'probability of predicting each class. Array must have length equal to the '\n",
      " 'number of classes, with values > 0, excepting that at most one value may be '\n",
      " '0. The class with largest value p/t is predicted, where p is the original '\n",
      " \"probability of that class and t is the class's threshold. (undefined)\\n\"\n",
      " 'tol: the convergence tolerance for iterative algorithms (>= 0). (default: '\n",
      " '1e-06)\\n'\n",
      " 'upperBoundsOnCoefficients: The upper bounds on coefficients if fitting under '\n",
      " 'bound constrained optimization. The bound matrix must be compatible with the '\n",
      " 'shape (1, number of features) for binomial regression, or (number of '\n",
      " 'classes, number of features) for multinomial regression. (undefined)\\n'\n",
      " 'upperBoundsOnIntercepts: The upper bounds on intercepts if fitting under '\n",
      " 'bound constrained optimization. The bound vector size must be equal with 1 '\n",
      " 'for binomial regression, or the number of classes for multinomial '\n",
      " 'regression. (undefined)\\n'\n",
      " 'weightCol: weight column name. If this is not set or empty, we treat all '\n",
      " 'instance weights as 1.0. (undefined)\\n')\n"
     ]
    }
   ],
   "source": [
    "# prepare training data from a list of (label, features) tuples.\n",
    "training = spark.createDataFrame([\n",
    "    (1.0, Vectors.dense([0.0, 1.1, 0.1])),\n",
    "    (0.0, Vectors.dense([2.0, 1.0, -1.0])),\n",
    "    (0.0, Vectors.dense([2.0, 1.3, 1.0])),\n",
    "    (1.0, Vectors.dense([0.0, 1.2, -0.5]))], [\"label\", \"features\"])\n",
    "\n",
    "# Create a LR instance. This instance is an Estimator.\n",
    "lr = LogisticRegression(maxIter=10, regParam=0.01)\n",
    "\n",
    "# print out the parameters, documentations, and ant default values.\n",
    "pprint('LR param:\\n' + lr.explainParams() + '\\n')\n"
   ]
  },
  {
   "cell_type": "code",
   "execution_count": 19,
   "metadata": {},
   "outputs": [],
   "source": [
    "# Learn a LR model. This uses the parameters stored in lr.\n",
    "model1 = lr.fit(training)"
   ]
  },
  {
   "cell_type": "code",
   "execution_count": 24,
   "metadata": {},
   "outputs": [
    {
     "name": "stdout",
     "output_type": "stream",
     "text": [
      "Model 1 was fit using params: \n",
      "{Param(parent='LogisticRegression_42649ca88ea1827dd408', name='aggregationDepth', doc='suggested depth for treeAggregate (>= 2)'): 2,\n",
      " Param(parent='LogisticRegression_42649ca88ea1827dd408', name='elasticNetParam', doc='the ElasticNet mixing parameter, in range [0, 1]. For alpha = 0, the penalty is an L2 penalty. For alpha = 1, it is an L1 penalty'): 0.0,\n",
      " Param(parent='LogisticRegression_42649ca88ea1827dd408', name='family', doc='The name of family which is a description of the label distribution to be used in the model. Supported options: auto, binomial, multinomial.'): 'auto',\n",
      " Param(parent='LogisticRegression_42649ca88ea1827dd408', name='featuresCol', doc='features column name'): 'features',\n",
      " Param(parent='LogisticRegression_42649ca88ea1827dd408', name='fitIntercept', doc='whether to fit an intercept term'): True,\n",
      " Param(parent='LogisticRegression_42649ca88ea1827dd408', name='labelCol', doc='label column name'): 'label',\n",
      " Param(parent='LogisticRegression_42649ca88ea1827dd408', name='maxIter', doc='maximum number of iterations (>= 0)'): 10,\n",
      " Param(parent='LogisticRegression_42649ca88ea1827dd408', name='predictionCol', doc='prediction column name'): 'prediction',\n",
      " Param(parent='LogisticRegression_42649ca88ea1827dd408', name='probabilityCol', doc='Column name for predicted class conditional probabilities. Note: Not all models output well-calibrated probability estimates! These probabilities should be treated as confidences, not precise probabilities'): 'probability',\n",
      " Param(parent='LogisticRegression_42649ca88ea1827dd408', name='rawPredictionCol', doc='raw prediction (a.k.a. confidence) column name'): 'rawPrediction',\n",
      " Param(parent='LogisticRegression_42649ca88ea1827dd408', name='regParam', doc='regularization parameter (>= 0)'): 0.01,\n",
      " Param(parent='LogisticRegression_42649ca88ea1827dd408', name='standardization', doc='whether to standardize the training features before fitting the model'): True,\n",
      " Param(parent='LogisticRegression_42649ca88ea1827dd408', name='threshold', doc='threshold in binary classification prediction, in range [0, 1]'): 0.5,\n",
      " Param(parent='LogisticRegression_42649ca88ea1827dd408', name='tol', doc='the convergence tolerance for iterative algorithms (>= 0)'): 1e-06}\n"
     ]
    }
   ],
   "source": [
    "print('Model 1 was fit using params: ')\n",
    "pprint(model1.extractParamMap())"
   ]
  },
  {
   "cell_type": "code",
   "execution_count": 25,
   "metadata": {},
   "outputs": [],
   "source": [
    "# we may alternatively specify parameteres using a Python dictionary as a paramMap\n",
    "# 3 different methods\n",
    "\n",
    "paramMap = {lr.maxIter: 20}\n",
    "paramMap[lr.maxIter] = 30  # specify 1 param, overwriting the original maxIter.\n",
    "paramMap.update({lr.regParam: 0.1, lr.threshold: 0.55})  # specify multiple params"
   ]
  },
  {
   "cell_type": "code",
   "execution_count": 26,
   "metadata": {},
   "outputs": [
    {
     "name": "stdout",
     "output_type": "stream",
     "text": [
      "Model 2 was fit using parameters: \n",
      "{Param(parent='LogisticRegression_4fa5bd460623221dc8d1', name='elasticNetParam', doc='the ElasticNet mixing parameter, in range [0, 1]. For alpha = 0, the penalty is an L2 penalty. For alpha = 1, it is an L1 penalty'): 0.0,\n",
      " Param(parent='LogisticRegression_4fa5bd460623221dc8d1', name='aggregationDepth', doc='suggested depth for treeAggregate (>= 2)'): 2,\n",
      " Param(parent='LogisticRegression_4fa5bd460623221dc8d1', name='family', doc='The name of family which is a description of the label distribution to be used in the model. Supported options: auto, binomial, multinomial.'): 'auto',\n",
      " Param(parent='LogisticRegression_4fa5bd460623221dc8d1', name='featuresCol', doc='features column name'): 'features',\n",
      " Param(parent='LogisticRegression_4fa5bd460623221dc8d1', name='labelCol', doc='label column name'): 'label',\n",
      " Param(parent='LogisticRegression_4fa5bd460623221dc8d1', name='fitIntercept', doc='whether to fit an intercept term'): True,\n",
      " Param(parent='LogisticRegression_4fa5bd460623221dc8d1', name='tol', doc='the convergence tolerance for iterative algorithms (>= 0)'): 1e-06,\n",
      " Param(parent='LogisticRegression_4fa5bd460623221dc8d1', name='threshold', doc='threshold in binary classification prediction, in range [0, 1]'): 0.55,\n",
      " Param(parent='LogisticRegression_4fa5bd460623221dc8d1', name='standardization', doc='whether to standardize the training features before fitting the model'): True,\n",
      " Param(parent='LogisticRegression_4fa5bd460623221dc8d1', name='regParam', doc='regularization parameter (>= 0)'): 0.1,\n",
      " Param(parent='LogisticRegression_4fa5bd460623221dc8d1', name='rawPredictionCol', doc='raw prediction (a.k.a. confidence) column name'): 'rawPrediction',\n",
      " Param(parent='LogisticRegression_4fa5bd460623221dc8d1', name='predictionCol', doc='prediction column name'): 'prediction',\n",
      " Param(parent='LogisticRegression_4fa5bd460623221dc8d1', name='probabilityCol', doc='Column name for predicted class conditional probabilities. Note: Not all models output well-calibrated probability estimates! These probabilities should be treated as confidences, not precise probabilities'): 'myProbability',\n",
      " Param(parent='LogisticRegression_4fa5bd460623221dc8d1', name='maxIter', doc='maximum number of iterations (>= 0)'): 30}\n"
     ]
    }
   ],
   "source": [
    "# You can combine paramMaps, which are python dictionaries.\n",
    "paramMap2 = {lr.probabilityCol: \"myProbability\"}  # Change output column name\n",
    "paramMapCombined = paramMap.copy()\n",
    "paramMapCombined.update(paramMap2)\n",
    "\n",
    "# Now learn a new model using the paramMapCombined parameters.\n",
    "# paramMapCombined overrides all parameters set earlier via lr.set* methods.\n",
    "model2 = lr.fit(training, paramMapCombined)\n",
    "print(\"Model 2 was fit using parameters: \")\n",
    "pprint(model2.extractParamMap())\n"
   ]
  },
  {
   "cell_type": "code",
   "execution_count": 27,
   "metadata": {},
   "outputs": [],
   "source": [
    "# Prepare test data\n",
    "test = spark.createDataFrame([\n",
    "    (1.0, Vectors.dense([-1.0, 1.5, 1.3])),\n",
    "    (0.0, Vectors.dense([3.0, 2.0, -0.1])),\n",
    "    (1.0, Vectors.dense([0.0, 2.2, -1.5]))], [\"label\", \"features\"])"
   ]
  },
  {
   "cell_type": "code",
   "execution_count": 32,
   "metadata": {},
   "outputs": [
    {
     "name": "stdout",
     "output_type": "stream",
     "text": [
      "DataFrame[label: double, features: vector, rawPrediction: vector, myProbability: vector, prediction: double]\n"
     ]
    },
    {
     "data": {
      "text/plain": [
       "Row(label=1.0, features=DenseVector([-1.0, 1.5, 1.3]), rawPrediction=DenseVector([-2.8047, 2.8047]), myProbability=DenseVector([0.0571, 0.9429]), prediction=1.0)"
      ]
     },
     "execution_count": 32,
     "metadata": {},
     "output_type": "execute_result"
    }
   ],
   "source": [
    "# Make predictions on test data using the Transformer.transform() method.\n",
    "# LogisticRegression.transform will only use the 'features' column.\n",
    "# Note that model2.transform() outputs a \"myProbability\" column instead of the usual\n",
    "# 'probability' column since we renamed the lr.probabilityCol parameter previously.\n",
    "\n",
    "prediction = model2.transform(test)\n",
    "pprint(prediction)\n",
    "prediction.first()\n"
   ]
  },
  {
   "cell_type": "code",
   "execution_count": 33,
   "metadata": {},
   "outputs": [
    {
     "name": "stdout",
     "output_type": "stream",
     "text": [
      "features=[-1.0,1.5,1.3], label=1.0 -> prob=[0.057073041710340174,0.9429269582896599], prediction=1.0\n",
      "features=[3.0,2.0,-0.1], label=0.0 -> prob=[0.9238522311704104,0.07614776882958973], prediction=0.0\n",
      "features=[0.0,2.2,-1.5], label=1.0 -> prob=[0.10972776114779419,0.8902722388522057], prediction=1.0\n"
     ]
    }
   ],
   "source": [
    "result = prediction.select(\"features\", \"label\", \"myProbability\", \"prediction\").collect()\n",
    "\n",
    "for row in result:\n",
    "    print(\"features=%s, label=%s -> prob=%s, prediction=%s\"\n",
    "          % (row.features, row.label, row.myProbability, row.prediction))"
   ]
  },
  {
   "cell_type": "code",
   "execution_count": null,
   "metadata": {},
   "outputs": [],
   "source": []
  },
  {
   "cell_type": "markdown",
   "metadata": {},
   "source": [
    "# [Example_2: Pipeline]('http://spark.apache.org/docs/latest/ml-pipeline.html#example-pipeline')"
   ]
  },
  {
   "cell_type": "code",
   "execution_count": 44,
   "metadata": {},
   "outputs": [],
   "source": [
    "from pyspark.ml import Pipeline\n",
    "from pyspark.ml.classification import LogisticRegression\n",
    "from pyspark.ml.feature import HashingTF, Tokenizer\n"
   ]
  },
  {
   "cell_type": "code",
   "execution_count": 45,
   "metadata": {},
   "outputs": [],
   "source": [
    "# Prepare training documents from a list of (id, text, label) tuples.\n",
    "training = spark.createDataFrame([\n",
    "    (0, \"a b c d e spark\", 1.0),\n",
    "    (1, \"b d\", 0.0),\n",
    "    (2, \"spark f g h\", 1.0),\n",
    "    (3, \"hadoop mapreduce\", 0.0)\n",
    "], [\"id\", \"text\", \"label\"])"
   ]
  },
  {
   "cell_type": "code",
   "execution_count": 46,
   "metadata": {},
   "outputs": [],
   "source": [
    "# configure an ML pipeline, which consists of three stages: tokenizer, hashingTF and lr\n",
    "tokenizer = Tokenizer(inputCol='text', outputCol='words')\n",
    "hashingTF = HashingTF(inputCol=tokenizer.getOutputCol(), outputCol='features')\n",
    "lr = LogisticRegression(maxIter=10, regParam=0.001)\n",
    "pipeline = Pipeline(stages=[tokenizer, hashingTF, lr])"
   ]
  },
  {
   "cell_type": "code",
   "execution_count": 47,
   "metadata": {},
   "outputs": [],
   "source": [
    "# Fit the pipeline to training documents\n",
    "model = pipeline.fit(training)"
   ]
  },
  {
   "cell_type": "code",
   "execution_count": 48,
   "metadata": {},
   "outputs": [],
   "source": [
    "# Prepare test documents, which are unlabeled (id, text) tuples.\n",
    "test = spark.createDataFrame([\n",
    "    (4, \"spark i j k\"),\n",
    "    (5, \"l m n\"),\n",
    "    (6, \"spark hadoop spark\"),\n",
    "    (7, \"apache hadoop\")\n",
    "], [\"id\", \"text\"])"
   ]
  },
  {
   "cell_type": "code",
   "execution_count": 49,
   "metadata": {},
   "outputs": [
    {
     "name": "stdout",
     "output_type": "stream",
     "text": [
      "(4, spark i j k) --> prob=[0.1596407738787475,0.8403592261212525], prediction=1.000000\n",
      "(5, l m n) --> prob=[0.8378325685476744,0.16216743145232562], prediction=0.000000\n",
      "(6, spark hadoop spark) --> prob=[0.06926633132976037,0.9307336686702395], prediction=1.000000\n",
      "(7, apache hadoop) --> prob=[0.9821575333444218,0.01784246665557808], prediction=0.000000\n"
     ]
    }
   ],
   "source": [
    "# predict\n",
    "prediction = model.transform(test)\n",
    "selected = prediction.select('id', 'text', 'probability', 'prediction')\n",
    "for row in selected.collect():\n",
    "    rid, text, prob, prediction = row\n",
    "    print(\"(%d, %s) --> prob=%s, prediction=%f\" % (rid, text, str(prob), prediction))"
   ]
  },
  {
   "cell_type": "code",
   "execution_count": null,
   "metadata": {},
   "outputs": [],
   "source": []
  },
  {
   "cell_type": "code",
   "execution_count": null,
   "metadata": {},
   "outputs": [],
   "source": []
  }
 ],
 "metadata": {
  "kernelspec": {
   "display_name": "Python 3",
   "language": "python",
   "name": "python3"
  },
  "language_info": {
   "codemirror_mode": {
    "name": "ipython",
    "version": 3
   },
   "file_extension": ".py",
   "mimetype": "text/x-python",
   "name": "python",
   "nbconvert_exporter": "python",
   "pygments_lexer": "ipython3",
   "version": "3.6.4"
  }
 },
 "nbformat": 4,
 "nbformat_minor": 2
}
